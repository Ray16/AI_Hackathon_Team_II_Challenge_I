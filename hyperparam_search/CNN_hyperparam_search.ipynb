{
 "cells": [
  {
   "cell_type": "code",
   "execution_count": 1,
   "id": "6f601b1c",
   "metadata": {},
   "outputs": [],
   "source": [
    "from sklearn.datasets import load_boston\n",
    "from keras.models import Sequential\n",
    "from keras import Model# input\n",
    "from tensorflow.keras.optimizers import Adam\n",
    "from keras.layers import Dense, Conv1D, Flatten, Concatenate, Input\n",
    "import keras\n",
    "from sklearn.model_selection import train_test_split\n",
    "from sklearn.metrics import mean_squared_error\n",
    "import matplotlib.pyplot as plt\n",
    "import numpy as np\n",
    "import pandas as pd\n",
    "import datetime\n",
    "import tensorflow as tf"
   ]
  },
  {
   "cell_type": "code",
   "execution_count": 2,
   "id": "83aaa2cb",
   "metadata": {},
   "outputs": [
    {
     "name": "stderr",
     "output_type": "stream",
     "text": [
      "/lus/theta-fs0/software/thetagpu/conda/2021-11-30/mconda3/lib/python3.8/site-packages/pandas/util/_decorators.py:311: ParserWarning: Falling back to the 'python' engine because the 'c' engine does not support regex separators (separators > 1 char and different from '\\s+' are interpreted as regex); you can avoid this warning by specifying engine='python'.\n",
      "  return func(*args, **kwargs)\n"
     ]
    }
   ],
   "source": [
    "'''\n",
    "GLOBAL: data\n",
    "Get the data, store it globally\n",
    "'''\n",
    "data = None\n",
    "globalDasetName = 'dataSetD'  # CHANGE ME HERE!!\n",
    "np.random.seed(42)\n",
    "\n",
    "\n",
    "# default param is global param\n",
    "def load_data(dataset=globalDasetName): \n",
    "    global data\n",
    "    data = pd.read_csv(f'data/{dataset}', delimiter='  ', header = None) # NO HEADER\n",
    "    data = data.rename(columns={33: 'target', 0: 'mag'})\n",
    "    # data # 0 is magnitude, and 32 of them are binary.\n",
    "\n",
    "# pandas data fetch. No splitting.\n",
    "def get_pandas_data():\n",
    "  \"\"\"\n",
    "  y_target_gene = string of name\n",
    "  return: X (PANDAS), y_arr (np array)\n",
    "  \"\"\"\n",
    "  load_data()\n",
    "\n",
    "  y_train = data[\"target\"].to_numpy()\n",
    "  magParam = data.loc[:, data.columns == \"mag\"]\n",
    "  magParam = magParam.to_numpy()\n",
    "  del data[\"mag\"]\n",
    "  X_train = data.loc[:, data.columns != \"target\"]\n",
    "\n",
    "  \n",
    "  X_train = X_train.to_numpy()\n",
    "\n",
    "  return X_train, y_train, magParam\n",
    "\n",
    "\n",
    "x, y, magParam = get_pandas_data()\n",
    "\n",
    "# get indexes of split\n",
    "fullDatasetIdxs = np.arange(len(y))\n",
    "trainidx, testidx = train_test_split(fullDatasetIdxs, test_size=0.15)\n",
    "\n",
    "xtrain = x[trainidx]\n",
    "xtest = x[testidx]\n",
    "xtrain = xtrain.reshape(xtrain.shape[0], xtrain.shape[1], 1)\n",
    "\n",
    "ytrain = y[trainidx]\n",
    "ytest = y[testidx]\n",
    "\n",
    "magtrain = magParam[trainidx]\n",
    "magtest = magParam[testidx]"
   ]
  },
  {
   "cell_type": "code",
   "execution_count": 4,
   "id": "60bd2f9f",
   "metadata": {},
   "outputs": [],
   "source": [
    "# hyperparam tuning\n",
    "from tensorboard.plugins.hparams import api as hp\n",
    "\n",
    "logdir = \"logs/hparamas\"\n",
    "\n",
    "HP_NUM_UNITS = hp.HParam('dense_size', hp.Discrete([100, 500, 920]))\n",
    "HP_DENSE_SIZE_SMALLER = hp.HParam('dense_size_smaller', hp.Discrete([32, 64, 122]))\n",
    "HP_CONV_SIZE = hp.HParam('conv_dim', hp.Discrete([10, 32, 64]))\n",
    "HP_FILTER_SIZE = hp.HParam('filter_size', hp.Discrete([2, 3, 4, 5]))\n",
    "# HP_OPTIMIZER = hp.HParam('optimizer', hp.Discrete(['adam', 'sgd']))\n",
    "# HP_DROPOUT = hp.HParam('dropout', hp.RealInterval(0.1,0.2))\n",
    "\n",
    "METRIC_ACCURACY = 'mse'\n",
    "epochs = 500\n",
    "\n",
    "with tf.summary.create_file_writer(logdir).as_default():\n",
    "    hp.hparams_config(\n",
    "        hparams=[HP_NUM_UNITS, HP_DENSE_SIZE_SMALLER, HP_CONV_SIZE, HP_FILTER_SIZE],\n",
    "        metrics=[hp.Metric(METRIC_ACCURACY, display_name='MSE')],)\n",
    "\n",
    "def create_model(hparams):\n",
    "    # auxilary inputs to ONLY FC layers\n",
    "    global auxInputDim \n",
    "    auxInputDim = 1\n",
    "    input_b = Input(shape=(auxInputDim))\n",
    "\n",
    "    # Standard 32-length vec input\n",
    "    input = Input(shape =(32,1)) # 1st Conv Block\n",
    "\n",
    "    # Model definition\n",
    "    x = Conv1D(hparams[HP_CONV_SIZE], hparams[HP_FILTER_SIZE], strides=1, activation=\"relu\", input_shape=(32,1))(input)\n",
    "    x = Conv1D(hparams[HP_CONV_SIZE], hparams[HP_FILTER_SIZE], strides=1, activation=\"relu\")(x)\n",
    "    # x = Conv1D(16, 2, activation=\"relu\")(x)\n",
    "    x = Flatten()(x)\n",
    "\n",
    "    # add inputs to FC layers\n",
    "    x = Concatenate()([x,input_b])\n",
    "\n",
    "    # x = Dense(units = 993, activation ='relu')(x)\n",
    "    x = Dense(units = hparams[HP_NUM_UNITS], activation ='relu')(x)\n",
    "    x = Dense(units = hparams[HP_DENSE_SIZE_SMALLER], activation ='relu')(x)\n",
    "\n",
    "    regression = Dense(units = 1, activation='relu', name='regression')(x)\n",
    "\n",
    "    # final model\n",
    "    model = Model(inputs=[input,input_b], outputs=regression) # {'regression':regression}\n",
    "    model.compile(loss='mse', optimizer=Adam(), metrics=['mse'])\n",
    "    \n",
    "    # Fit\n",
    "    model.fit([xtrain, magtrain], ytrain, batch_size=12,epochs=epochs, verbose=0, callbacks=[hp.KerasCallback(logdir, hparams)])\n",
    "\n",
    "    # eval\n",
    "#     loss, accuracy = model.evaluate([xtrain, magtrain], ytrain)\n",
    "    ypred_test = model.predict([xtest, magtest])\n",
    "    model_mse = mean_squared_error( ytest, ypred_test)\n",
    "    print(\"MSE: %.4f\" % model_mse)\n",
    "    \n",
    "    # calc R^2\n",
    "    correlation_matrix = np.corrcoef(ypred_test.flatten(), ytest)\n",
    "    correlation_xy = correlation_matrix[0,1]\n",
    "    r_squared = correlation_xy**2\n",
    "    print(\"R^2: %.4f\" % r_squared)\n",
    "\n",
    "    return model_mse"
   ]
  },
  {
   "cell_type": "code",
   "execution_count": null,
   "id": "05868861",
   "metadata": {},
   "outputs": [
    {
     "name": "stdout",
     "output_type": "stream",
     "text": [
      "Starting Experiment: Experiment 0\n",
      "{'dense_size': 100, 'filter_size': 2, 'conv_dim': 10, 'dense_size_smaller': 32}\n"
     ]
    },
    {
     "name": "stderr",
     "output_type": "stream",
     "text": [
      "2022-01-28 20:06:03.899304: I tensorflow/stream_executor/cuda/cuda_dnn.cc:368] Loaded cuDNN version 8204\n",
      "2022-01-28 20:06:07.994995: I tensorflow/stream_executor/cuda/cuda_blas.cc:1774] TensorFloat-32 will be used for the matrix multiplication. This will only be logged once.\n"
     ]
    }
   ],
   "source": [
    "%%time\n",
    "\n",
    "def experiment(experiment_dir, hparams):\n",
    "\n",
    "    with tf.summary.create_file_writer(experiment_dir).as_default():\n",
    "        hp.hparams(hparams)\n",
    "        accuracy = create_model(hparams)\n",
    "        tf.summary.scalar(METRIC_ACCURACY, accuracy, step=1)\n",
    "\n",
    "experiment_no = 0\n",
    "\n",
    "for num_units in HP_NUM_UNITS.domain.values:\n",
    "    for conv_size in HP_CONV_SIZE.domain.values:\n",
    "#         for optimizer in HP_OPTIMIZER.domain.values:\n",
    "        for filter_size in HP_FILTER_SIZE.domain.values:\n",
    "            for dense_size_smaller in HP_DENSE_SIZE_SMALLER.domain.values:\n",
    "                hparams = {\n",
    "                    HP_NUM_UNITS: num_units,\n",
    "                    HP_FILTER_SIZE: filter_size,\n",
    "                    HP_CONV_SIZE: conv_size,\n",
    "                    HP_DENSE_SIZE_SMALLER: dense_size_smaller,}\n",
    "\n",
    "                experiment_name = f'Experiment {experiment_no}'\n",
    "                print(f'Starting Experiment: {experiment_name}')\n",
    "                print({h.name: hparams[h] for h in hparams})\n",
    "                experiment(logdir + experiment_name, hparams)\n",
    "                experiment_no += 1"
   ]
  },
  {
   "cell_type": "code",
   "execution_count": 20,
   "id": "5cf3d7eb",
   "metadata": {},
   "outputs": [],
   "source": []
  },
  {
   "cell_type": "code",
   "execution_count": null,
   "id": "23336c9d",
   "metadata": {
    "scrolled": false
   },
   "outputs": [],
   "source": []
  },
  {
   "cell_type": "code",
   "execution_count": 21,
   "id": "4f695bd5",
   "metadata": {},
   "outputs": [],
   "source": [
    "\n",
    "\n",
    "\n",
    "# xtrain_before, xtest, ytrain, ytest, magtrain, magtrain=train_test_split(x, y, magParam, test_size=0.15)\n",
    "# xtrain_before = xtrain_before.reshape(xtrain_before.shape[0], xtrain_before.shape[1], 1)"
   ]
  },
  {
   "cell_type": "code",
   "execution_count": null,
   "id": "a7c63dee",
   "metadata": {
    "scrolled": true
   },
   "outputs": [],
   "source": []
  },
  {
   "cell_type": "code",
   "execution_count": 13,
   "id": "00c6c5a4",
   "metadata": {},
   "outputs": [
    {
     "ename": "ModuleNotFoundError",
     "evalue": "No module named 'keras.optimizers.schedules'; 'keras.optimizers' is not a package",
     "output_type": "error",
     "traceback": [
      "\u001b[0;31m---------------------------------------------------------------------------\u001b[0m",
      "\u001b[0;31mModuleNotFoundError\u001b[0m                       Traceback (most recent call last)",
      "\u001b[0;32m/tmp/ipykernel_5723/1243841922.py\u001b[0m in \u001b[0;36m<module>\u001b[0;34m\u001b[0m\n\u001b[0;32m----> 1\u001b[0;31m \u001b[0;32mfrom\u001b[0m \u001b[0mkeras\u001b[0m\u001b[0;34m.\u001b[0m\u001b[0moptimizers\u001b[0m\u001b[0;34m.\u001b[0m\u001b[0mschedules\u001b[0m \u001b[0;32mimport\u001b[0m \u001b[0mExponentialDecay\u001b[0m\u001b[0;34m\u001b[0m\u001b[0;34m\u001b[0m\u001b[0m\n\u001b[0m\u001b[1;32m      2\u001b[0m lr_schedule = ExponentialDecay(\n\u001b[1;32m      3\u001b[0m     \u001b[0minitial_learning_rate\u001b[0m\u001b[0;34m=\u001b[0m\u001b[0;36m1e-2\u001b[0m\u001b[0;34m,\u001b[0m\u001b[0;34m\u001b[0m\u001b[0;34m\u001b[0m\u001b[0m\n\u001b[1;32m      4\u001b[0m     \u001b[0mdecay_steps\u001b[0m\u001b[0;34m=\u001b[0m\u001b[0;36m10000\u001b[0m\u001b[0;34m,\u001b[0m\u001b[0;34m\u001b[0m\u001b[0;34m\u001b[0m\u001b[0m\n\u001b[1;32m      5\u001b[0m     decay_rate=0.9)\n",
      "\u001b[0;31mModuleNotFoundError\u001b[0m: No module named 'keras.optimizers.schedules'; 'keras.optimizers' is not a package"
     ]
    }
   ],
   "source": [
    "# from keras.optimizers.schedules import ExponentialDecay\n",
    "\n",
    "# lr_schedule = ExponentialDecay(\n",
    "#     initial_learning_rate=1e-2,\n",
    "#     decay_steps=10000,\n",
    "#     decay_rate=0.9)\n"
   ]
  },
  {
   "cell_type": "code",
   "execution_count": 5,
   "id": "76dc1ab5",
   "metadata": {},
   "outputs": [
    {
     "name": "stderr",
     "output_type": "stream",
     "text": [
      "2022-01-28 18:25:01.248827: I tensorflow/compiler/jit/xla_cpu_device.cc:41] Not creating XLA devices, tf_xla_enable_xla_devices not set\n",
      "2022-01-28 18:25:01.249788: I tensorflow/stream_executor/platform/default/dso_loader.cc:49] Successfully opened dynamic library libcuda.so.1\n",
      "2022-01-28 18:25:01.383988: I tensorflow/core/common_runtime/gpu/gpu_device.cc:1720] Found device 0 with properties: \n",
      "pciBusID: 0000:07:00.0 name: NVIDIA A100-SXM4-40GB computeCapability: 8.0\n",
      "coreClock: 1.41GHz coreCount: 108 deviceMemorySize: 39.59GiB deviceMemoryBandwidth: 1.41TiB/s\n",
      "2022-01-28 18:25:01.386172: I tensorflow/core/common_runtime/gpu/gpu_device.cc:1720] Found device 1 with properties: \n",
      "pciBusID: 0000:0f:00.0 name: NVIDIA A100-SXM4-40GB computeCapability: 8.0\n",
      "coreClock: 1.41GHz coreCount: 108 deviceMemorySize: 39.59GiB deviceMemoryBandwidth: 1.41TiB/s\n",
      "2022-01-28 18:25:01.388306: I tensorflow/core/common_runtime/gpu/gpu_device.cc:1720] Found device 2 with properties: \n",
      "pciBusID: 0000:47:00.0 name: NVIDIA A100-SXM4-40GB computeCapability: 8.0\n",
      "coreClock: 1.41GHz coreCount: 108 deviceMemorySize: 39.59GiB deviceMemoryBandwidth: 1.41TiB/s\n",
      "2022-01-28 18:25:01.390419: I tensorflow/core/common_runtime/gpu/gpu_device.cc:1720] Found device 3 with properties: \n",
      "pciBusID: 0000:4e:00.0 name: NVIDIA A100-SXM4-40GB computeCapability: 8.0\n",
      "coreClock: 1.41GHz coreCount: 108 deviceMemorySize: 39.59GiB deviceMemoryBandwidth: 1.41TiB/s\n",
      "2022-01-28 18:25:01.392543: I tensorflow/core/common_runtime/gpu/gpu_device.cc:1720] Found device 4 with properties: \n",
      "pciBusID: 0000:87:00.0 name: NVIDIA A100-SXM4-40GB computeCapability: 8.0\n",
      "coreClock: 1.41GHz coreCount: 108 deviceMemorySize: 39.59GiB deviceMemoryBandwidth: 1.41TiB/s\n",
      "2022-01-28 18:25:01.394658: I tensorflow/core/common_runtime/gpu/gpu_device.cc:1720] Found device 5 with properties: \n",
      "pciBusID: 0000:90:00.0 name: NVIDIA A100-SXM4-40GB computeCapability: 8.0\n",
      "coreClock: 1.41GHz coreCount: 108 deviceMemorySize: 39.59GiB deviceMemoryBandwidth: 1.41TiB/s\n",
      "2022-01-28 18:25:01.396780: I tensorflow/core/common_runtime/gpu/gpu_device.cc:1720] Found device 6 with properties: \n",
      "pciBusID: 0000:b7:00.0 name: NVIDIA A100-SXM4-40GB computeCapability: 8.0\n",
      "coreClock: 1.41GHz coreCount: 108 deviceMemorySize: 39.59GiB deviceMemoryBandwidth: 1.41TiB/s\n",
      "2022-01-28 18:25:01.398897: I tensorflow/core/common_runtime/gpu/gpu_device.cc:1720] Found device 7 with properties: \n",
      "pciBusID: 0000:bd:00.0 name: NVIDIA A100-SXM4-40GB computeCapability: 8.0\n",
      "coreClock: 1.41GHz coreCount: 108 deviceMemorySize: 39.59GiB deviceMemoryBandwidth: 1.41TiB/s\n",
      "2022-01-28 18:25:01.398916: I tensorflow/stream_executor/platform/default/dso_loader.cc:49] Successfully opened dynamic library libcudart.so.11.0\n",
      "2022-01-28 18:25:01.402607: I tensorflow/stream_executor/platform/default/dso_loader.cc:49] Successfully opened dynamic library libcublas.so.11\n",
      "2022-01-28 18:25:01.402641: I tensorflow/stream_executor/platform/default/dso_loader.cc:49] Successfully opened dynamic library libcublasLt.so.11\n",
      "2022-01-28 18:25:01.403515: I tensorflow/stream_executor/platform/default/dso_loader.cc:49] Successfully opened dynamic library libcufft.so.10\n",
      "2022-01-28 18:25:01.403734: I tensorflow/stream_executor/platform/default/dso_loader.cc:49] Successfully opened dynamic library libcurand.so.10\n",
      "2022-01-28 18:25:01.404158: I tensorflow/stream_executor/platform/default/dso_loader.cc:49] Successfully opened dynamic library libcusolver.so.11\n",
      "2022-01-28 18:25:01.404923: I tensorflow/stream_executor/platform/default/dso_loader.cc:49] Successfully opened dynamic library libcusparse.so.11\n",
      "2022-01-28 18:25:01.405459: I tensorflow/stream_executor/platform/default/dso_loader.cc:49] Successfully opened dynamic library libcudnn.so.8\n",
      "2022-01-28 18:25:01.439072: I tensorflow/core/common_runtime/gpu/gpu_device.cc:1862] Adding visible gpu devices: 0, 1, 2, 3, 4, 5, 6, 7\n",
      "2022-01-28 18:25:01.439575: I tensorflow/core/platform/cpu_feature_guard.cc:142] This TensorFlow binary is optimized with oneAPI Deep Neural Network Library (oneDNN) to use the following CPU instructions in performance-critical operations:  SSE3 SSE4.1 SSE4.2 AVX AVX2 FMA\n",
      "To enable them in other operations, rebuild TensorFlow with the appropriate compiler flags.\n",
      "2022-01-28 18:25:02.501921: I tensorflow/core/common_runtime/gpu/gpu_device.cc:1720] Found device 0 with properties: \n",
      "pciBusID: 0000:07:00.0 name: NVIDIA A100-SXM4-40GB computeCapability: 8.0\n",
      "coreClock: 1.41GHz coreCount: 108 deviceMemorySize: 39.59GiB deviceMemoryBandwidth: 1.41TiB/s\n",
      "2022-01-28 18:25:02.503998: I tensorflow/core/common_runtime/gpu/gpu_device.cc:1720] Found device 1 with properties: \n",
      "pciBusID: 0000:0f:00.0 name: NVIDIA A100-SXM4-40GB computeCapability: 8.0\n",
      "coreClock: 1.41GHz coreCount: 108 deviceMemorySize: 39.59GiB deviceMemoryBandwidth: 1.41TiB/s\n",
      "2022-01-28 18:25:02.506061: I tensorflow/core/common_runtime/gpu/gpu_device.cc:1720] Found device 2 with properties: \n",
      "pciBusID: 0000:47:00.0 name: NVIDIA A100-SXM4-40GB computeCapability: 8.0\n",
      "coreClock: 1.41GHz coreCount: 108 deviceMemorySize: 39.59GiB deviceMemoryBandwidth: 1.41TiB/s\n",
      "2022-01-28 18:25:02.508104: I tensorflow/core/common_runtime/gpu/gpu_device.cc:1720] Found device 3 with properties: \n",
      "pciBusID: 0000:4e:00.0 name: NVIDIA A100-SXM4-40GB computeCapability: 8.0\n",
      "coreClock: 1.41GHz coreCount: 108 deviceMemorySize: 39.59GiB deviceMemoryBandwidth: 1.41TiB/s\n",
      "2022-01-28 18:25:02.510172: I tensorflow/core/common_runtime/gpu/gpu_device.cc:1720] Found device 4 with properties: \n",
      "pciBusID: 0000:87:00.0 name: NVIDIA A100-SXM4-40GB computeCapability: 8.0\n",
      "coreClock: 1.41GHz coreCount: 108 deviceMemorySize: 39.59GiB deviceMemoryBandwidth: 1.41TiB/s\n",
      "2022-01-28 18:25:02.512230: I tensorflow/core/common_runtime/gpu/gpu_device.cc:1720] Found device 5 with properties: \n",
      "pciBusID: 0000:90:00.0 name: NVIDIA A100-SXM4-40GB computeCapability: 8.0\n",
      "coreClock: 1.41GHz coreCount: 108 deviceMemorySize: 39.59GiB deviceMemoryBandwidth: 1.41TiB/s\n",
      "2022-01-28 18:25:02.514281: I tensorflow/core/common_runtime/gpu/gpu_device.cc:1720] Found device 6 with properties: \n",
      "pciBusID: 0000:b7:00.0 name: NVIDIA A100-SXM4-40GB computeCapability: 8.0\n",
      "coreClock: 1.41GHz coreCount: 108 deviceMemorySize: 39.59GiB deviceMemoryBandwidth: 1.41TiB/s\n",
      "2022-01-28 18:25:02.516329: I tensorflow/core/common_runtime/gpu/gpu_device.cc:1720] Found device 7 with properties: \n",
      "pciBusID: 0000:bd:00.0 name: NVIDIA A100-SXM4-40GB computeCapability: 8.0\n",
      "coreClock: 1.41GHz coreCount: 108 deviceMemorySize: 39.59GiB deviceMemoryBandwidth: 1.41TiB/s\n",
      "2022-01-28 18:25:02.516377: I tensorflow/stream_executor/platform/default/dso_loader.cc:49] Successfully opened dynamic library libcudart.so.11.0\n",
      "2022-01-28 18:25:02.516400: I tensorflow/stream_executor/platform/default/dso_loader.cc:49] Successfully opened dynamic library libcublas.so.11\n",
      "2022-01-28 18:25:02.516410: I tensorflow/stream_executor/platform/default/dso_loader.cc:49] Successfully opened dynamic library libcublasLt.so.11\n",
      "2022-01-28 18:25:02.516420: I tensorflow/stream_executor/platform/default/dso_loader.cc:49] Successfully opened dynamic library libcufft.so.10\n",
      "2022-01-28 18:25:02.516430: I tensorflow/stream_executor/platform/default/dso_loader.cc:49] Successfully opened dynamic library libcurand.so.10\n",
      "2022-01-28 18:25:02.516440: I tensorflow/stream_executor/platform/default/dso_loader.cc:49] Successfully opened dynamic library libcusolver.so.11\n",
      "2022-01-28 18:25:02.516449: I tensorflow/stream_executor/platform/default/dso_loader.cc:49] Successfully opened dynamic library libcusparse.so.11\n",
      "2022-01-28 18:25:02.516459: I tensorflow/stream_executor/platform/default/dso_loader.cc:49] Successfully opened dynamic library libcudnn.so.8\n",
      "2022-01-28 18:25:02.548900: I tensorflow/core/common_runtime/gpu/gpu_device.cc:1862] Adding visible gpu devices: 0, 1, 2, 3, 4, 5, 6, 7\n",
      "2022-01-28 18:25:02.548953: I tensorflow/stream_executor/platform/default/dso_loader.cc:49] Successfully opened dynamic library libcudart.so.11.0\n",
      "2022-01-28 18:25:04.670623: I tensorflow/core/common_runtime/gpu/gpu_device.cc:1261] Device interconnect StreamExecutor with strength 1 edge matrix:\n",
      "2022-01-28 18:25:04.670690: I tensorflow/core/common_runtime/gpu/gpu_device.cc:1267]      0 1 2 3 4 5 6 7 \n",
      "2022-01-28 18:25:04.670699: I tensorflow/core/common_runtime/gpu/gpu_device.cc:1280] 0:   N Y Y Y Y Y Y Y \n",
      "2022-01-28 18:25:04.670703: I tensorflow/core/common_runtime/gpu/gpu_device.cc:1280] 1:   Y N Y Y Y Y Y Y \n",
      "2022-01-28 18:25:04.670708: I tensorflow/core/common_runtime/gpu/gpu_device.cc:1280] 2:   Y Y N Y Y Y Y Y \n",
      "2022-01-28 18:25:04.670712: I tensorflow/core/common_runtime/gpu/gpu_device.cc:1280] 3:   Y Y Y N Y Y Y Y \n",
      "2022-01-28 18:25:04.670716: I tensorflow/core/common_runtime/gpu/gpu_device.cc:1280] 4:   Y Y Y Y N Y Y Y \n",
      "2022-01-28 18:25:04.670719: I tensorflow/core/common_runtime/gpu/gpu_device.cc:1280] 5:   Y Y Y Y Y N Y Y \n",
      "2022-01-28 18:25:04.670722: I tensorflow/core/common_runtime/gpu/gpu_device.cc:1280] 6:   Y Y Y Y Y Y N Y \n",
      "2022-01-28 18:25:04.670726: I tensorflow/core/common_runtime/gpu/gpu_device.cc:1280] 7:   Y Y Y Y Y Y Y N \n",
      "2022-01-28 18:25:04.692338: I tensorflow/core/common_runtime/gpu/gpu_device.cc:1406] Created TensorFlow device (/job:localhost/replica:0/task:0/device:GPU:0 with 37097 MB memory) -> physical GPU (device: 0, name: NVIDIA A100-SXM4-40GB, pci bus id: 0000:07:00.0, compute capability: 8.0)\n",
      "2022-01-28 18:25:04.697296: I tensorflow/core/common_runtime/gpu/gpu_device.cc:1406] Created TensorFlow device (/job:localhost/replica:0/task:0/device:GPU:1 with 37588 MB memory) -> physical GPU (device: 1, name: NVIDIA A100-SXM4-40GB, pci bus id: 0000:0f:00.0, compute capability: 8.0)\n",
      "2022-01-28 18:25:04.702002: I tensorflow/core/common_runtime/gpu/gpu_device.cc:1406] Created TensorFlow device (/job:localhost/replica:0/task:0/device:GPU:2 with 37588 MB memory) -> physical GPU (device: 2, name: NVIDIA A100-SXM4-40GB, pci bus id: 0000:47:00.0, compute capability: 8.0)\n",
      "2022-01-28 18:25:04.706730: I tensorflow/core/common_runtime/gpu/gpu_device.cc:1406] Created TensorFlow device (/job:localhost/replica:0/task:0/device:GPU:3 with 37588 MB memory) -> physical GPU (device: 3, name: NVIDIA A100-SXM4-40GB, pci bus id: 0000:4e:00.0, compute capability: 8.0)\n",
      "2022-01-28 18:25:04.711414: I tensorflow/core/common_runtime/gpu/gpu_device.cc:1406] Created TensorFlow device (/job:localhost/replica:0/task:0/device:GPU:4 with 37588 MB memory) -> physical GPU (device: 4, name: NVIDIA A100-SXM4-40GB, pci bus id: 0000:87:00.0, compute capability: 8.0)\n",
      "2022-01-28 18:25:04.716104: I tensorflow/core/common_runtime/gpu/gpu_device.cc:1406] Created TensorFlow device (/job:localhost/replica:0/task:0/device:GPU:5 with 37588 MB memory) -> physical GPU (device: 5, name: NVIDIA A100-SXM4-40GB, pci bus id: 0000:90:00.0, compute capability: 8.0)\n",
      "2022-01-28 18:25:04.720820: I tensorflow/core/common_runtime/gpu/gpu_device.cc:1406] Created TensorFlow device (/job:localhost/replica:0/task:0/device:GPU:6 with 37588 MB memory) -> physical GPU (device: 6, name: NVIDIA A100-SXM4-40GB, pci bus id: 0000:b7:00.0, compute capability: 8.0)\n",
      "2022-01-28 18:25:04.725505: I tensorflow/core/common_runtime/gpu/gpu_device.cc:1406] Created TensorFlow device (/job:localhost/replica:0/task:0/device:GPU:7 with 37588 MB memory) -> physical GPU (device: 7, name: NVIDIA A100-SXM4-40GB, pci bus id: 0000:bd:00.0, compute capability: 8.0)\n",
      "2022-01-28 18:25:04.726061: I tensorflow/compiler/jit/xla_gpu_device.cc:99] Not creating XLA devices, tf_xla_enable_xla_devices not set\n"
     ]
    },
    {
     "name": "stdout",
     "output_type": "stream",
     "text": [
      "Model: \"model\"\n",
      "__________________________________________________________________________________________________\n",
      "Layer (type)                    Output Shape         Param #     Connected to                     \n",
      "==================================================================================================\n",
      "input_2 (InputLayer)            [(None, 32, 1)]      0                                            \n",
      "__________________________________________________________________________________________________\n",
      "conv1d (Conv1D)                 (None, 31, 32)       96          input_2[0][0]                    \n",
      "__________________________________________________________________________________________________\n",
      "conv1d_1 (Conv1D)               (None, 30, 32)       2080        conv1d[0][0]                     \n",
      "__________________________________________________________________________________________________\n",
      "flatten (Flatten)               (None, 960)          0           conv1d_1[0][0]                   \n",
      "__________________________________________________________________________________________________\n",
      "input_1 (InputLayer)            [(None, 1)]          0                                            \n",
      "__________________________________________________________________________________________________\n",
      "concatenate (Concatenate)       (None, 961)          0           flatten[0][0]                    \n",
      "                                                                 input_1[0][0]                    \n",
      "__________________________________________________________________________________________________\n",
      "dense (Dense)                   (None, 500)          481000      concatenate[0][0]                \n",
      "__________________________________________________________________________________________________\n",
      "dense_1 (Dense)                 (None, 64)           32064       dense[0][0]                      \n",
      "__________________________________________________________________________________________________\n",
      "regression (Dense)              (None, 1)            65          dense_1[0][0]                    \n",
      "==================================================================================================\n",
      "Total params: 515,305\n",
      "Trainable params: 515,305\n",
      "Non-trainable params: 0\n",
      "__________________________________________________________________________________________________\n"
     ]
    }
   ],
   "source": [
    "# Functional API version (for concat)\n",
    "\n",
    "# auxilary inputs to ONLY FC layers\n",
    "global auxInputDim \n",
    "auxInputDim = 1\n",
    "input_b = Input(shape=(auxInputDim))\n",
    "\n",
    "# Standard 32-length vec input\n",
    "input = Input(shape =(32,1)) # 1st Conv Block\n",
    "\n",
    "# Model definition\n",
    "x = Conv1D(32, 2, strides=1, activation=\"relu\", input_shape=(32,1))(input)\n",
    "x = Conv1D(32, 2, strides=1, activation=\"relu\")(x)\n",
    "# x = Conv1D(16, 2, activation=\"relu\")(x)\n",
    "x = Flatten()(x)\n",
    "\n",
    "# add inputs to FC layers\n",
    "x = Concatenate()([x,input_b])\n",
    "# x = Flatten()(x)\n",
    "\n",
    "# x = Dense(units = 993, activation ='relu')(x)\n",
    "x = Dense(units = 500, activation ='relu')(x)\n",
    "x = Dense(units = 64, activation ='relu')(x)\n",
    "\n",
    "regression = Dense(units = 1, activation='relu', name='regression')(x)\n",
    "\n",
    "# final model\n",
    "model = Model(inputs=[input,input_b], outputs=regression) # {'regression':regression}\n",
    "\n",
    "model.compile(loss='mse', optimizer=Adam(learning_rate=lr_schedule), metrics=['mse'])\n",
    "model.summary()"
   ]
  },
  {
   "cell_type": "code",
   "execution_count": 5,
   "id": "d0099ca2",
   "metadata": {},
   "outputs": [],
   "source": []
  },
  {
   "cell_type": "code",
   "execution_count": 6,
   "id": "d7c02f8f",
   "metadata": {},
   "outputs": [
    {
     "name": "stdout",
     "output_type": "stream",
     "text": [
      "logs/fit/20220128-182530\n"
     ]
    },
    {
     "name": "stderr",
     "output_type": "stream",
     "text": [
      "2022-01-28 18:25:30.552290: I tensorflow/core/profiler/lib/profiler_session.cc:136] Profiler session initializing.\n",
      "2022-01-28 18:25:30.552333: I tensorflow/core/profiler/lib/profiler_session.cc:155] Profiler session started.\n",
      "2022-01-28 18:25:30.552360: I tensorflow/core/profiler/internal/gpu/cupti_tracer.cc:1365] Profiler found 8 GPUs\n",
      "2022-01-28 18:25:30.553191: I tensorflow/stream_executor/platform/default/dso_loader.cc:49] Successfully opened dynamic library libcupti.so.11.3\n",
      "2022-01-28 18:25:31.548342: I tensorflow/core/profiler/lib/profiler_session.cc:172] Profiler session tear down.\n",
      "2022-01-28 18:25:31.548519: I tensorflow/core/profiler/internal/gpu/cupti_tracer.cc:1487] CUPTI activity buffer flushed\n"
     ]
    }
   ],
   "source": [
    "log_dir = \"logs/fit/\" + datetime.datetime.now().strftime(\"%Y%m%d-%H%M%S\")\n",
    "print(log_dir)\n",
    "tensorboard_callback = tf.keras.callbacks.TensorBoard(log_dir=log_dir, histogram_freq=1, write_images=True, )"
   ]
  },
  {
   "cell_type": "code",
   "execution_count": 7,
   "id": "c07f2f11",
   "metadata": {},
   "outputs": [
    {
     "name": "stderr",
     "output_type": "stream",
     "text": [
      "2022-01-28 18:25:36.515144: I tensorflow/compiler/mlir/mlir_graph_optimization_pass.cc:116] None of the MLIR optimization passes are enabled (registered 2)\n",
      "2022-01-28 18:25:36.536296: I tensorflow/core/platform/profile_utils/cpu_utils.cc:112] CPU Frequency: 2245915000 Hz\n",
      "2022-01-28 18:25:36.899625: I tensorflow/stream_executor/platform/default/dso_loader.cc:49] Successfully opened dynamic library libcublas.so.11\n",
      "2022-01-28 18:25:37.550707: I tensorflow/stream_executor/platform/default/dso_loader.cc:49] Successfully opened dynamic library libcublasLt.so.11\n",
      "2022-01-28 18:25:37.552236: I tensorflow/stream_executor/platform/default/dso_loader.cc:49] Successfully opened dynamic library libcudnn.so.8\n",
      "2022-01-28 18:25:39.982495: I tensorflow/stream_executor/cuda/cuda_blas.cc:1838] TensorFloat-32 will be used for the matrix multiplication. This will only be logged once.\n",
      "2022-01-28 18:25:40.013292: I tensorflow/core/profiler/lib/profiler_session.cc:136] Profiler session initializing.\n",
      "2022-01-28 18:25:40.013351: I tensorflow/core/profiler/lib/profiler_session.cc:155] Profiler session started.\n",
      "2022-01-28 18:25:41.172228: I tensorflow/core/profiler/lib/profiler_session.cc:71] Profiler session collecting data.\n",
      "2022-01-28 18:25:41.172670: I tensorflow/core/profiler/internal/gpu/cupti_tracer.cc:1487] CUPTI activity buffer flushed\n",
      "2022-01-28 18:25:41.376328: I tensorflow/core/profiler/internal/gpu/cupti_collector.cc:228]  GpuTracer has collected 95 callback api events and 91 activity events. \n",
      "2022-01-28 18:25:41.394872: I tensorflow/core/profiler/lib/profiler_session.cc:172] Profiler session tear down.\n",
      "2022-01-28 18:25:41.401662: I tensorflow/core/profiler/rpc/client/save_profile.cc:137] Creating directory: logs/fit/20220128-182530/train/plugins/profile/2022_01_28_18_25_41\n",
      "2022-01-28 18:25:41.403835: I tensorflow/core/profiler/rpc/client/save_profile.cc:143] Dumped gzipped tool data for trace.json.gz to logs/fit/20220128-182530/train/plugins/profile/2022_01_28_18_25_41/thetagpu02.trace.json.gz\n",
      "2022-01-28 18:25:41.408684: I tensorflow/core/profiler/rpc/client/save_profile.cc:137] Creating directory: logs/fit/20220128-182530/train/plugins/profile/2022_01_28_18_25_41\n",
      "2022-01-28 18:25:41.409362: I tensorflow/core/profiler/rpc/client/save_profile.cc:143] Dumped gzipped tool data for memory_profile.json.gz to logs/fit/20220128-182530/train/plugins/profile/2022_01_28_18_25_41/thetagpu02.memory_profile.json.gz\n",
      "2022-01-28 18:25:41.412418: I tensorflow/core/profiler/rpc/client/capture_profile.cc:251] Creating directory: logs/fit/20220128-182530/train/plugins/profile/2022_01_28_18_25_41Dumped tool data for xplane.pb to logs/fit/20220128-182530/train/plugins/profile/2022_01_28_18_25_41/thetagpu02.xplane.pb\n",
      "Dumped tool data for overview_page.pb to logs/fit/20220128-182530/train/plugins/profile/2022_01_28_18_25_41/thetagpu02.overview_page.pb\n",
      "Dumped tool data for input_pipeline.pb to logs/fit/20220128-182530/train/plugins/profile/2022_01_28_18_25_41/thetagpu02.input_pipeline.pb\n",
      "Dumped tool data for tensorflow_stats.pb to logs/fit/20220128-182530/train/plugins/profile/2022_01_28_18_25_41/thetagpu02.tensorflow_stats.pb\n",
      "Dumped tool data for kernel_stats.pb to logs/fit/20220128-182530/train/plugins/profile/2022_01_28_18_25_41/thetagpu02.kernel_stats.pb\n",
      "\n"
     ]
    },
    {
     "name": "stdout",
     "output_type": "stream",
     "text": [
      "CPU times: user 5min 26s, sys: 8.14 s, total: 5min 34s\n",
      "Wall time: 4min 54s\n"
     ]
    },
    {
     "data": {
      "text/plain": [
       "<tensorflow.python.keras.callbacks.History at 0x7f9d50041970>"
      ]
     },
     "execution_count": 7,
     "metadata": {},
     "output_type": "execute_result"
    }
   ],
   "source": [
    "%%time\n",
    "epochs = 1000\n",
    "# model.fit([xtrain, magtrain], ytrain, batch_size=12,epochs=epochs, verbose=0)\n",
    "model.fit([xtrain, magtrain], ytrain, batch_size=12,epochs=epochs, verbose=0, callbacks=[tensorboard_callback])"
   ]
  },
  {
   "cell_type": "code",
   "execution_count": 8,
   "id": "5955ebd3",
   "metadata": {},
   "outputs": [],
   "source": [
    "# save model weights\n",
    "# model.save('model_1000_epochs') # path to model\n",
    "\n",
    "# load tensorboard\n",
    "# %load_ext tensorboard"
   ]
  },
  {
   "cell_type": "code",
   "execution_count": 9,
   "id": "29c755ca",
   "metadata": {
    "scrolled": true
   },
   "outputs": [
    {
     "data": {
      "text/html": [
       "\n",
       "      <iframe id=\"tensorboard-frame-3ec149435677eb27\" width=\"100%\" height=\"800\" frameborder=\"0\">\n",
       "      </iframe>\n",
       "      <script>\n",
       "        (function() {\n",
       "          const frame = document.getElementById(\"tensorboard-frame-3ec149435677eb27\");\n",
       "          const url = new URL(\"/\", window.location);\n",
       "          const port = 6006;\n",
       "          if (port) {\n",
       "            url.port = port;\n",
       "          }\n",
       "          frame.src = url;\n",
       "        })();\n",
       "      </script>\n",
       "    "
      ],
      "text/plain": [
       "<IPython.core.display.HTML object>"
      ]
     },
     "metadata": {},
     "output_type": "display_data"
    }
   ],
   "source": [
    "dirrrr = \"logs/fit/20220125-211307/train/events.out.tfevents.1643166801.thetagpu11.432630.0.v2\"\n",
    "\n",
    "%tensorboard --logdir logs/fit"
   ]
  },
  {
   "cell_type": "code",
   "execution_count": 30,
   "id": "69d77c93",
   "metadata": {
    "scrolled": true
   },
   "outputs": [
    {
     "name": "stdout",
     "output_type": "stream",
     "text": [
      "39/39 [==============================] - 0s 972us/step - loss: 0.0074 - mse: 0.0074\n",
      "[0.007369927130639553, 0.007369927130639553]\n",
      "MSE: 0.1935\n"
     ]
    }
   ],
   "source": [
    "print(model.evaluate([xtrain, magtrain], ytrain))\n",
    "\n",
    "ypred_test = model.predict([xtest, magtest])\n",
    "model_mse = mean_squared_error( ytest, ypred_test)\n",
    "print(\"MSE: %.4f\" % model_mse)"
   ]
  },
  {
   "cell_type": "code",
   "execution_count": 31,
   "id": "9f9563c0",
   "metadata": {},
   "outputs": [],
   "source": [
    "# calc R^2\n",
    "correlation_matrix = np.corrcoef(ypred_test.flatten(), ytest)\n",
    "correlation_xy = correlation_matrix[0,1]\n",
    "r_squared = correlation_xy**2"
   ]
  },
  {
   "cell_type": "code",
   "execution_count": 32,
   "id": "1dc4b79f",
   "metadata": {
    "scrolled": false
   },
   "outputs": [
    {
     "data": {
      "text/plain": [
       "(13.248645162582397, 16.82939496040344)"
      ]
     },
     "execution_count": 32,
     "metadata": {},
     "output_type": "execute_result"
    },
    {
     "data": {
      "image/png": "[encoded data removed]",
      "text/plain": [
       "<Figure size 432x288 with 1 Axes>"
      ]
     },
     "metadata": {},
     "output_type": "display_data"
    }
   ],
   "source": [
    "fig = plt.figure()\n",
    "fig.patch.set_facecolor('white')\n",
    "fig.patch.set_alpha(1)\n",
    "ax = fig.add_subplot(111)\n",
    "\n",
    "plt.suptitle(globalDasetName) # global name\n",
    "plt.title(f'MSE = {model_mse:.4f}.  Epochs = {epochs}.  R^2 = {r_squared:.4f}') # MSE\n",
    "plt.scatter(ypred_test, ytest, s=5, color=\"blue\") # x_axis, y_axis, ...\n",
    "plt.xlabel(\"Predicted\")\n",
    "plt.ylabel(\"Actual\")\n",
    "\n",
    "# plot y = x\n",
    "lims = [\n",
    "    np.min([ax.get_xlim(), ax.get_ylim()]),  # min of both axes\n",
    "    np.max([ax.get_xlim(), ax.get_ylim()]),  # max of both axes\n",
    "]\n",
    "plt.plot(lims, lims, 'k-', alpha=0.75, zorder=0)\n",
    "# plt.aspect('equal')\n",
    "plt.xlim(lims)\n",
    "plt.ylim(lims)"
   ]
  },
  {
   "cell_type": "code",
   "execution_count": null,
   "id": "4c66fd68",
   "metadata": {},
   "outputs": [],
   "source": []
  },
  {
   "cell_type": "code",
   "execution_count": null,
   "id": "0175489d",
   "metadata": {},
   "outputs": [],
   "source": []
  },
  {
   "cell_type": "code",
   "execution_count": null,
   "id": "aab860f2",
   "metadata": {},
   "outputs": [],
   "source": []
  },
  {
   "cell_type": "code",
   "execution_count": null,
   "id": "96a1e689",
   "metadata": {},
   "outputs": [],
   "source": []
  },
  {
   "cell_type": "code",
   "execution_count": null,
   "id": "5617e4f9",
   "metadata": {},
   "outputs": [],
   "source": []
  },
  {
   "cell_type": "code",
   "execution_count": 81,
   "id": "3e99efab",
   "metadata": {},
   "outputs": [
    {
     "ename": "UFuncTypeError",
     "evalue": "ufunc 'subtract' did not contain a loop with signature matching types (dtype('<U32'), dtype('<U32')) -> dtype('<U32')",
     "output_type": "error",
     "traceback": [
      "\u001b[0;31m---------------------------------------------------------------------------\u001b[0m",
      "\u001b[0;31mUFuncTypeError\u001b[0m                            Traceback (most recent call last)",
      "\u001b[0;32m/tmp/ipykernel_432630/2564593234.py\u001b[0m in \u001b[0;36m<module>\u001b[0;34m\u001b[0m\n\u001b[1;32m      3\u001b[0m \u001b[0;32mfor\u001b[0m \u001b[0mpred\u001b[0m\u001b[0;34m,\u001b[0m \u001b[0mactual\u001b[0m \u001b[0;32min\u001b[0m \u001b[0mzip\u001b[0m\u001b[0;34m(\u001b[0m\u001b[0mypred\u001b[0m\u001b[0;34m,\u001b[0m \u001b[0mytest\u001b[0m\u001b[0;34m)\u001b[0m\u001b[0;34m:\u001b[0m\u001b[0;34m\u001b[0m\u001b[0;34m\u001b[0m\u001b[0m\n\u001b[1;32m      4\u001b[0m \u001b[0;31m#     print(pred-actual)\u001b[0m\u001b[0;34m\u001b[0m\u001b[0;34m\u001b[0m\u001b[0;34m\u001b[0m\u001b[0m\n\u001b[0;32m----> 5\u001b[0;31m     \u001b[0mdifflst\u001b[0m\u001b[0;34m.\u001b[0m\u001b[0mappend\u001b[0m\u001b[0;34m(\u001b[0m\u001b[0mpred\u001b[0m \u001b[0;34m-\u001b[0m \u001b[0mactual\u001b[0m\u001b[0;34m)\u001b[0m\u001b[0;34m\u001b[0m\u001b[0;34m\u001b[0m\u001b[0m\n\u001b[0m\u001b[1;32m      6\u001b[0m \u001b[0;34m\u001b[0m\u001b[0m\n\u001b[1;32m      7\u001b[0m \u001b[0mdifflst\u001b[0m \u001b[0;34m=\u001b[0m \u001b[0mnp\u001b[0m\u001b[0;34m.\u001b[0m\u001b[0marray\u001b[0m\u001b[0;34m(\u001b[0m\u001b[0mdifflst\u001b[0m\u001b[0;34m)\u001b[0m\u001b[0;34m\u001b[0m\u001b[0;34m\u001b[0m\u001b[0m\n",
      "\u001b[0;31mUFuncTypeError\u001b[0m: ufunc 'subtract' did not contain a loop with signature matching types (dtype('<U32'), dtype('<U32')) -> dtype('<U32')"
     ]
    }
   ],
   "source": [
    "# eval\n",
    "difflst = []\n",
    "for pred, actual in zip(ypred, ytest):\n",
    "#     print(pred-actual)\n",
    "    difflst.append(pred - actual)\n",
    "\n",
    "difflst = np.array(difflst)\n",
    "\n",
    "idx = np.arange(len(difflst))"
   ]
  },
  {
   "cell_type": "code",
   "execution_count": 82,
   "id": "6a9944b7",
   "metadata": {
    "scrolled": true
   },
   "outputs": [
    {
     "ename": "NameError",
     "evalue": "name 'idx' is not defined",
     "output_type": "error",
     "traceback": [
      "\u001b[0;31m---------------------------------------------------------------------------\u001b[0m",
      "\u001b[0;31mNameError\u001b[0m                                 Traceback (most recent call last)",
      "\u001b[0;32m/tmp/ipykernel_432630/242063682.py\u001b[0m in \u001b[0;36m<module>\u001b[0;34m\u001b[0m\n\u001b[1;32m     22\u001b[0m \u001b[0;34m\u001b[0m\u001b[0m\n\u001b[1;32m     23\u001b[0m \u001b[0;31m# add labels for each datapoint\u001b[0m\u001b[0;34m\u001b[0m\u001b[0;34m\u001b[0m\u001b[0;34m\u001b[0m\u001b[0m\n\u001b[0;32m---> 24\u001b[0;31m \u001b[0;32mfor\u001b[0m \u001b[0mi\u001b[0m\u001b[0;34m,\u001b[0m \u001b[0mtxt\u001b[0m \u001b[0;32min\u001b[0m \u001b[0menumerate\u001b[0m\u001b[0;34m(\u001b[0m\u001b[0midx\u001b[0m\u001b[0;34m)\u001b[0m\u001b[0;34m:\u001b[0m\u001b[0;34m\u001b[0m\u001b[0;34m\u001b[0m\u001b[0m\n\u001b[0m\u001b[1;32m     25\u001b[0m     \u001b[0max\u001b[0m\u001b[0;34m.\u001b[0m\u001b[0mannotate\u001b[0m\u001b[0;34m(\u001b[0m\u001b[0mtxt\u001b[0m\u001b[0;34m,\u001b[0m \u001b[0;34m(\u001b[0m\u001b[0mx_vals\u001b[0m\u001b[0;34m[\u001b[0m\u001b[0mi\u001b[0m\u001b[0;34m]\u001b[0m\u001b[0;34m,\u001b[0m \u001b[0mdifflst\u001b[0m\u001b[0;34m[\u001b[0m\u001b[0mi\u001b[0m\u001b[0;34m]\u001b[0m\u001b[0;34m)\u001b[0m\u001b[0;34m)\u001b[0m\u001b[0;34m\u001b[0m\u001b[0;34m\u001b[0m\u001b[0m\n",
      "\u001b[0;31mNameError\u001b[0m: name 'idx' is not defined"
     ]
    },
    {
     "data": {
      "image/png": "[encoded data removed]",
      "text/plain": [
       "<Figure size 432x288 with 1 Axes>"
      ]
     },
     "metadata": {},
     "output_type": "display_data"
    }
   ],
   "source": [
    "fig = plt.figure()\n",
    "\n",
    "fig.patch.set_facecolor('white')\n",
    "fig.patch.set_alpha(1)\n",
    "\n",
    "ax = fig.add_subplot(111)\n",
    "\n",
    "\n",
    "\n",
    "x_vals = np.arange(len(difflst))\n",
    "\n",
    "\n",
    "\n",
    "\n",
    "plt.suptitle(F'{globalDasetName} -- Residuals') # global name\n",
    "plt.title(f'MSE = {model_mse:.4f}.  Epochs = {epochs}') # MSE\n",
    "plt.scatter(x_vals, difflst, s=5, color=\"red\") # x_axis, y_axis, ...\n",
    "plt.axhline(y=0, color='black', linestyle='-')\n",
    "plt.xlabel(\"Datapoint idx\")\n",
    "plt.ylabel(\"Predicted - Actual (difference)\")\n",
    "\n",
    "\n",
    "# add labels for each datapoint\n",
    "for i, txt in enumerate(idx):\n",
    "    ax.annotate(txt, (x_vals[i], difflst[i]))"
   ]
  },
  {
   "cell_type": "code",
   "execution_count": null,
   "id": "0e2b0183",
   "metadata": {},
   "outputs": [],
   "source": []
  },
  {
   "cell_type": "code",
   "execution_count": null,
   "id": "ad217ba4",
   "metadata": {},
   "outputs": [],
   "source": [
    "# find r_2\n",
    "\n",
    "correlation_matrix = np.corrcoef(ypred.flatten(), ytest)\n",
    "correlation_xy = correlation_matrix[0,1]\n",
    "r_squared = correlation_xy**2\n",
    "r_squared"
   ]
  },
  {
   "cell_type": "code",
   "execution_count": 37,
   "id": "bbcc9bba",
   "metadata": {},
   "outputs": [],
   "source": [
    "# find reliable outliers..."
   ]
  },
  {
   "cell_type": "code",
   "execution_count": 161,
   "id": "5fd2d805",
   "metadata": {},
   "outputs": [
    {
     "data": {
      "text/plain": [
       "{14: -0.7060299,\n",
       " 47: -0.5574045,\n",
       " 49: -0.9893217,\n",
       " 52: -1.3355742,\n",
       " 70: -0.9470024,\n",
       " 79: -1.0496731,\n",
       " 91: -0.5910349,\n",
       " 118: -0.59140396,\n",
       " 123: -0.84061337,\n",
       " 135: -1.6438999,\n",
       " 141: -0.85076904,\n",
       " 162: -0.83248043,\n",
       " 166: -1.143404,\n",
       " 174: -0.9715328,\n",
       " 181: -0.51934814,\n",
       " 189: -1.0088711,\n",
       " 200: -0.91478443,\n",
       " 205: -0.886055,\n",
       " 206: -0.84465027}"
      ]
     },
     "execution_count": 161,
     "metadata": {},
     "output_type": "execute_result"
    }
   ],
   "source": [
    "# too hard to then find indexes... \n",
    "# majorDiff = difflst[difflst < -0.5]\n",
    "# difflst = majorDiff\n",
    "\n",
    "outliersOverPointFive = {}\n",
    "\n",
    "for idx, val in enumerate(difflst):\n",
    "    val = val[0]\n",
    "#     print(val)\n",
    "    if val < -0.5:\n",
    "        outliersOverPointFive[idx] = val\n",
    "\n",
    "outliersOverPointFive"
   ]
  },
  {
   "cell_type": "code",
   "execution_count": 177,
   "id": "eb394fef",
   "metadata": {},
   "outputs": [
    {
     "name": "stdout",
     "output_type": "stream",
     "text": [
      "Difference, predicted, actual\n"
     ]
    },
    {
     "data": {
      "text/plain": [
       "{14: [-0.706, 14.9721, 15.6781],\n",
       " 47: [-0.5574, 15.1756, 15.733],\n",
       " 49: [-0.9893, 15.0209, 16.0102],\n",
       " 52: [-1.3356, 13.9842, 15.3198],\n",
       " 70: [-0.947, 14.1316, 15.0786],\n",
       " 79: [-1.0497, 13.9822, 15.0319],\n",
       " 91: [-0.591, 14.1803, 14.7713],\n",
       " 118: [-0.5914, 14.218, 14.8094],\n",
       " 123: [-0.8406, 14.9282, 15.7688],\n",
       " 135: [-1.6439, 14.4562, 16.1001],\n",
       " 141: [-0.8508, 14.7885, 15.6392],\n",
       " 162: [-0.8325, 14.2495, 15.082],\n",
       " 166: [-1.1434, 14.4101, 15.5535],\n",
       " 174: [-0.9715, 13.8538, 14.8253],\n",
       " 181: [-0.5193, 14.3603, 14.8797],\n",
       " 189: [-1.0089, 15.1337, 16.1426],\n",
       " 200: [-0.9148, 14.7447, 15.6595],\n",
       " 205: [-0.8861, 14.0191, 14.9051],\n",
       " 206: [-0.8447, 14.2858, 15.1305]}"
      ]
     },
     "execution_count": 177,
     "metadata": {},
     "output_type": "execute_result"
    }
   ],
   "source": [
    "# get diff, ypred and y_actual (ytest)\n",
    "\n",
    "for idx in outliersOverPointFive.keys():\n",
    "    outliersOverPointFive[idx] = [round(float(difflst[idx]), 4), round(float(ypred[idx]), 4), round(float(ytest[idx]), 4)]\n",
    "print(f\"Difference, predicted, actual\")\n",
    "outliersOverPointFive"
   ]
  },
  {
   "cell_type": "code",
   "execution_count": 163,
   "id": "1875cbf5",
   "metadata": {},
   "outputs": [],
   "source": [
    "x_train, y_train = get_pandas_data()"
   ]
  },
  {
   "cell_type": "code",
   "execution_count": 168,
   "id": "028c2e9b",
   "metadata": {},
   "outputs": [
    {
     "name": "stdout",
     "output_type": "stream",
     "text": [
      "14.5221865908\n",
      "[1.77006915 1.         0.         1.         0.         0.\n",
      " 0.         1.         0.         0.         0.         0.\n",
      " 1.         0.         0.         0.         0.         1.\n",
      " 0.         1.         0.         1.         0.         0.\n",
      " 1.         0.         1.         0.         1.         0.\n",
      " 1.         1.         0.        ]\n"
     ]
    }
   ],
   "source": [
    "here = 14\n",
    "print(y_train[here])\n",
    "print(x_train[here])"
   ]
  },
  {
   "cell_type": "code",
   "execution_count": 169,
   "id": "ffd75610",
   "metadata": {},
   "outputs": [
    {
     "name": "stdout",
     "output_type": "stream",
     "text": [
      "14.3242551806\n",
      "[2.00706683 1.         1.         0.         1.         0.\n",
      " 0.         1.         1.         0.         1.         0.\n",
      " 1.         0.         0.         1.         1.         0.\n",
      " 0.         0.         1.         0.         1.         1.\n",
      " 0.         1.         1.         0.         1.         0.\n",
      " 1.         0.         1.        ]\n"
     ]
    }
   ],
   "source": [
    "there = 13\n",
    "print(y_train[there])\n",
    "print(x_train[there])"
   ]
  },
  {
   "cell_type": "code",
   "execution_count": 150,
   "id": "3690ec3f",
   "metadata": {},
   "outputs": [
    {
     "name": "stdout",
     "output_type": "stream",
     "text": [
      "# packages in environment at /lus/theta-fs0/software/thetagpu/conda/2021-11-30/mconda3:\r\n",
      "#\r\n",
      "# Name                    Version                   Build  Channel\r\n",
      "_libgcc_mutex             0.1                        main  \r\n",
      "_openmp_mutex             4.5                       1_gnu  \r\n",
      "absl-py                   1.0.0                    pypi_0    pypi\r\n",
      "aiohttp                   3.8.1                    pypi_0    pypi\r\n",
      "aiohttp-cors              0.7.0                    pypi_0    pypi\r\n",
      "aioredis                  1.3.1                    pypi_0    pypi\r\n",
      "aiosignal                 1.2.0                    pypi_0    pypi\r\n",
      "altair                    4.1.0                    pypi_0    pypi\r\n",
      "argon2-cffi               21.1.0                   pypi_0    pypi\r\n",
      "asgiref                   3.4.1                    pypi_0    pypi\r\n",
      "astor                     0.8.1                    pypi_0    pypi\r\n",
      "astunparse                1.6.3                    pypi_0    pypi\r\n",
      "async-timeout             4.0.1                    pypi_0    pypi\r\n",
      "attrs                     21.2.0                   pypi_0    pypi\r\n",
      "backcall                  0.2.0                    pypi_0    pypi\r\n",
      "backports-zoneinfo        0.2.1                    pypi_0    pypi\r\n",
      "base58                    2.1.1                    pypi_0    pypi\r\n",
      "blas                      1.0                         mkl  \r\n",
      "bleach                    4.1.0                    pypi_0    pypi\r\n",
      "blessed                   1.19.0                   pypi_0    pypi\r\n",
      "blinker                   1.4                      pypi_0    pypi\r\n",
      "brotlipy                  0.7.0           py38h27cfd23_1003  \r\n",
      "bzip2                     1.0.8                h7b6447c_0  \r\n",
      "c-ares                    1.17.1               h27cfd23_0  \r\n",
      "ca-certificates           2021.10.26           h06a4308_2  \r\n",
      "cachetools                4.2.4                    pypi_0    pypi\r\n",
      "cairo                     1.14.12              h7636065_2  \r\n",
      "certifi                   2021.10.8        py38h06a4308_0  \r\n",
      "cffi                      1.15.0                   pypi_0    pypi\r\n",
      "charset-normalizer        2.0.4              pyhd3eb1b0_0  \r\n",
      "click                     7.1.2                    pypi_0    pypi\r\n",
      "cloudpickle               2.0.0                    pypi_0    pypi\r\n",
      "cmake                     3.19.6               h973ab73_0  \r\n",
      "colorful                  0.5.4                    pypi_0    pypi\r\n",
      "conda                     4.11.0           py38h06a4308_0  \r\n",
      "conda-package-handling    1.7.3            py38h27cfd23_1  \r\n",
      "configspace               0.4.20                   pypi_0    pypi\r\n",
      "cryptography              35.0.0           py38hd23ed53_0  \r\n",
      "cupy-cuda114              10.0.0                   pypi_0    pypi\r\n",
      "cycler                    0.11.0                   pypi_0    pypi\r\n",
      "cython                    0.29.24                  pypi_0    pypi\r\n",
      "dataclasses               0.8                pyh6d0b6a4_7  \r\n",
      "debugpy                   1.5.1                    pypi_0    pypi\r\n",
      "decorator                 5.1.0                    pypi_0    pypi\r\n",
      "deephyper                 0.3.3                    pypi_0    pypi\r\n",
      "deepspace                 0.0.6                    pypi_0    pypi\r\n",
      "defusedxml                0.7.1                    pypi_0    pypi\r\n",
      "deprecated                1.2.13                   pypi_0    pypi\r\n",
      "dh-scikit-optimize        0.9.5                    pypi_0    pypi\r\n",
      "django                    3.2.9                    pypi_0    pypi\r\n",
      "dm-tree                   0.1.6                    pypi_0    pypi\r\n",
      "entrypoints               0.3                      pypi_0    pypi\r\n",
      "expat                     2.4.1                h2531618_2  \r\n",
      "fastrlock                 0.8                      pypi_0    pypi\r\n",
      "filelock                  3.4.0                    pypi_0    pypi\r\n",
      "flatbuffers               2.0                      pypi_0    pypi\r\n",
      "fontconfig                2.12.6               h49f89f6_0  \r\n",
      "fonttools                 4.28.2                   pypi_0    pypi\r\n",
      "freetype                  2.8                  hab7d2ae_1  \r\n",
      "fribidi                   1.0.10               h7b6447c_0  \r\n",
      "frozenlist                1.2.0                    pypi_0    pypi\r\n",
      "future                    0.18.2                   py38_1  \r\n",
      "gast                      0.4.0                    pypi_0    pypi\r\n",
      "gitdb                     4.0.9                    pypi_0    pypi\r\n",
      "gitpython                 3.1.24                   pypi_0    pypi\r\n",
      "glib                      2.69.1               h5202010_0  \r\n",
      "google-api-core           2.2.2                    pypi_0    pypi\r\n",
      "google-auth               2.3.3                    pypi_0    pypi\r\n",
      "google-auth-oauthlib      0.4.6                    pypi_0    pypi\r\n",
      "google-pasta              0.2.0                    pypi_0    pypi\r\n",
      "googleapis-common-protos  1.53.0                   pypi_0    pypi\r\n",
      "gpustat                   1.0.0b1                  pypi_0    pypi\r\n",
      "graphite2                 1.3.14               h23475e2_0  \r\n",
      "graphviz                  2.40.1               h25d223c_0  \r\n",
      "grpcio                    1.42.0                   pypi_0    pypi\r\n",
      "gviz-api                  1.10.0                   pypi_0    pypi\r\n",
      "h5py                      3.6.0                    pypi_0    pypi\r\n",
      "harfbuzz                  1.7.6                h5f0a787_1  \r\n",
      "hiredis                   2.0.0                    pypi_0    pypi\r\n",
      "horovod                   0.23.0                   pypi_0    pypi\r\n",
      "icu                       58.2                 he6710b0_3  \r\n",
      "idna                      3.3                pyhd3eb1b0_0  \r\n",
      "importlib-metadata        4.8.2                    pypi_0    pypi\r\n",
      "importlib-resources       5.4.0                    pypi_0    pypi\r\n",
      "intel-openmp              2021.4.0          h06a4308_3561  \r\n",
      "ipykernel                 6.5.1                    pypi_0    pypi\r\n",
      "ipython                   7.30.0                   pypi_0    pypi\r\n",
      "ipython-genutils          0.2.0                    pypi_0    pypi\r\n",
      "ipywidgets                7.6.5                    pypi_0    pypi\r\n",
      "jedi                      0.18.1                   pypi_0    pypi\r\n",
      "jinja2                    3.0.3                    pypi_0    pypi\r\n",
      "joblib                    1.1.0                    pypi_0    pypi\r\n",
      "jpeg                      9d                   h7f8727e_0  \r\n",
      "jsonschema                4.2.1                    pypi_0    pypi\r\n",
      "jupyter                   1.0.0                    pypi_0    pypi\r\n",
      "jupyter-client            7.1.0                    pypi_0    pypi\r\n",
      "jupyter-console           6.4.0                    pypi_0    pypi\r\n",
      "jupyter-contrib-core      0.3.3                    pypi_0    pypi\r\n",
      "jupyter-contrib-nbextensions 0.5.1                    pypi_0    pypi\r\n",
      "jupyter-core              4.9.1                    pypi_0    pypi\r\n",
      "jupyter-highlight-selected-word 0.2.0                    pypi_0    pypi\r\n",
      "jupyter-latex-envs        1.4.6                    pypi_0    pypi\r\n",
      "jupyter-nbextensions-configurator 0.4.1                    pypi_0    pypi\r\n",
      "jupyterlab-widgets        1.0.2                    pypi_0    pypi\r\n",
      "keras                     2.7.0                    pypi_0    pypi\r\n",
      "keras-applications        1.0.8                    pypi_0    pypi\r\n",
      "keras-preprocessing       1.1.2                    pypi_0    pypi\r\n",
      "kiwisolver                1.3.2                    pypi_0    pypi\r\n",
      "krb5                      1.19.2               hac12032_0  \r\n",
      "ld_impl_linux-64          2.35.1               h7274673_9  \r\n",
      "liac-arff                 2.5.0                    pypi_0    pypi\r\n",
      "libarchive                3.5.1                h3f442fb_1    conda-forge\r\n",
      "libclang                  12.0.0                   pypi_0    pypi\r\n",
      "libcurl                   7.80.0               h0b77cf5_0  \r\n",
      "libedit                   3.1.20210910         h7f8727e_0  \r\n",
      "libev                     4.33                 h7f8727e_1  \r\n",
      "libffi                    3.3                  he6710b0_2  \r\n",
      "libgcc-ng                 9.3.0               h5101ec6_17  \r\n",
      "libgomp                   9.3.0               h5101ec6_17  \r\n",
      "libiconv                  1.16                 h516909a_0    conda-forge\r\n",
      "libllvm11                 11.1.0               h3826bc1_0  \r\n",
      "libnghttp2                1.46.0               hce63b2e_0  \r\n",
      "libpng                    1.6.37               hbc83047_0  \r\n",
      "libsolv                   0.7.19               h780b84a_5    conda-forge\r\n",
      "libssh2                   1.9.0                h1ba5d50_1  \r\n",
      "libstdcxx-ng              9.3.0               hd4cf53a_17  \r\n",
      "libtiff                   4.2.0                h85742a9_0  \r\n",
      "libtool                   2.4.6             h7b6447c_1005  \r\n",
      "libuv                     1.40.0               h7b6447c_0  \r\n",
      "libwebp-base              1.2.0                h27cfd23_0  \r\n",
      "libxcb                    1.14                 h7b6447c_0  \r\n",
      "libxml2                   2.9.12               h03d6c58_0  \r\n",
      "llvmlite                  0.37.0           py38h295c915_1  \r\n",
      "lxml                      4.6.4                    pypi_0    pypi\r\n",
      "lz4-c                     1.9.3                h295c915_1  \r\n",
      "lzo                       2.10                 h7b6447c_2  \r\n",
      "magma-cuda113             2.5.2                         1    pytorch\r\n",
      "mamba                     0.15.2           py38h2aa5da1_0    conda-forge\r\n",
      "markdown                  3.3.6                    pypi_0    pypi\r\n",
      "markupsafe                2.0.1                    pypi_0    pypi\r\n",
      "matplotlib                3.5.0                    pypi_0    pypi\r\n",
      "matplotlib-inline         0.1.3                    pypi_0    pypi\r\n",
      "minio                     7.1.2                    pypi_0    pypi\r\n",
      "mistune                   0.8.4                    pypi_0    pypi\r\n",
      "mkl                       2021.4.0           h06a4308_640  \r\n",
      "mkl-include               2021.4.0           h06a4308_640  \r\n",
      "mkl-service               2.4.0            py38h7f8727e_0  \r\n",
      "mkl_fft                   1.3.1            py38hd3c417c_0  \r\n",
      "mkl_random                1.2.2            py38h51133e4_0  \r\n",
      "mock                      4.0.3                    pypi_0    pypi\r\n",
      "msgpack                   1.0.3                    pypi_0    pypi\r\n",
      "multidict                 5.2.0                    pypi_0    pypi\r\n",
      "nbconvert                 5.6.1                    pypi_0    pypi\r\n",
      "nbformat                  5.1.3                    pypi_0    pypi\r\n",
      "ncurses                   6.3                  h7f8727e_2  \r\n",
      "nest-asyncio              1.5.1                    pypi_0    pypi\r\n",
      "networkx                  2.6.3                    pypi_0    pypi\r\n",
      "ninja                     1.10.2           py38hd09550d_3  \r\n",
      "notebook                  6.4.6                    pypi_0    pypi\r\n",
      "numba                     0.54.1           py38h51133e4_0  \r\n",
      "numpy                     1.19.5                   pypi_0    pypi\r\n",
      "numpy-base                1.20.3           py38h74d4b33_0  \r\n",
      "nvidia-ml-py3             7.352.0                  pypi_0    pypi\r\n",
      "oauthlib                  3.1.1                    pypi_0    pypi\r\n",
      "onnx                      1.10.2                   pypi_0    pypi\r\n",
      "onnxruntime               1.10.0                   pypi_0    pypi\r\n",
      "opencensus                0.8.0                    pypi_0    pypi\r\n",
      "opencensus-context        0.1.2                    pypi_0    pypi\r\n",
      "opencv-python-headless    4.5.4.60                 pypi_0    pypi\r\n",
      "openml                    0.12.2                   pypi_0    pypi\r\n",
      "openssl                   1.1.1l               h7f8727e_0  \r\n",
      "opt-einsum                3.3.0                    pypi_0    pypi\r\n",
      "packaging                 21.3                     pypi_0    pypi\r\n",
      "pandas                    1.3.4                    pypi_0    pypi\r\n",
      "pandocfilters             1.5.0                    pypi_0    pypi\r\n",
      "pango                     1.42.0               h377f3fa_0  \r\n",
      "parso                     0.8.3                    pypi_0    pypi\r\n",
      "pcre                      8.45                 h295c915_0  \r\n",
      "pexpect                   4.8.0                    pypi_0    pypi\r\n",
      "pickleshare               0.7.5                    pypi_0    pypi\r\n",
      "pillow                    8.4.0                    pypi_0    pypi\r\n",
      "pip                       21.3.1                   pypi_0    pypi\r\n",
      "pixman                    0.40.0               h7f8727e_1  \r\n",
      "portpicker                1.5.0                    pypi_0    pypi\r\n",
      "prometheus-client         0.12.0                   pypi_0    pypi\r\n",
      "prompt-toolkit            3.0.23                   pypi_0    pypi\r\n",
      "protobuf                  3.19.1                   pypi_0    pypi\r\n",
      "psutil                    5.8.0                    pypi_0    pypi\r\n",
      "ptyprocess                0.7.0                    pypi_0    pypi\r\n",
      "py-spy                    0.3.11                   pypi_0    pypi\r\n",
      "pyaml                     21.10.1                  pypi_0    pypi\r\n",
      "pyarrow                   6.0.1                    pypi_0    pypi\r\n",
      "pyasn1                    0.4.8                    pypi_0    pypi\r\n",
      "pyasn1-modules            0.2.8                    pypi_0    pypi\r\n",
      "pycosat                   0.6.3            py38h7b6447c_1  \r\n",
      "pycparser                 2.21               pyhd3eb1b0_0  \r\n",
      "pydeck                    0.7.1                    pypi_0    pypi\r\n",
      "pydot                     1.4.2                    pypi_0    pypi\r\n",
      "pygments                  2.10.0                   pypi_0    pypi\r\n",
      "pympler                   0.9                      pypi_0    pypi\r\n",
      "pyopenssl                 21.0.0             pyhd3eb1b0_1  \r\n",
      "pyparsing                 3.0.6                    pypi_0    pypi\r\n",
      "pyrsistent                0.18.0                   pypi_0    pypi\r\n",
      "pysocks                   1.7.1            py38h06a4308_0  \r\n",
      "python                    3.8.10               h12debd9_8  \r\n",
      "python-dateutil           2.8.2                    pypi_0    pypi\r\n",
      "python_abi                3.8                      2_cp38    conda-forge\r\n",
      "pytz                      2021.3                   pypi_0    pypi\r\n",
      "pytz-deprecation-shim     0.1.0.post0              pypi_0    pypi\r\n",
      "pyyaml                    6.0                      pypi_0    pypi\r\n",
      "pyzmq                     22.3.0                   pypi_0    pypi\r\n",
      "qtconsole                 5.2.1                    pypi_0    pypi\r\n",
      "qtpy                      1.11.2                   pypi_0    pypi\r\n",
      "ray                       1.8.0                    pypi_0    pypi\r\n",
      "readline                  8.1                  h27cfd23_0  \r\n",
      "redis                     4.0.2                    pypi_0    pypi\r\n",
      "reproc                    14.2.1               h36c2ea0_0    conda-forge\r\n",
      "reproc-cpp                14.2.1               h58526e2_0    conda-forge\r\n",
      "requests                  2.26.0             pyhd3eb1b0_0  \r\n",
      "requests-oauthlib         1.3.0                    pypi_0    pypi\r\n",
      "rhash                     1.4.1                h3c74f83_1  \r\n",
      "rsa                       4.8                      pypi_0    pypi\r\n",
      "ruamel_yaml               0.15.100         py38h27cfd23_0  \r\n",
      "scikit-learn              1.0.1                    pypi_0    pypi\r\n",
      "scipy                     1.7.3                    pypi_0    pypi\r\n",
      "seaborn                   0.11.2                   pypi_0    pypi\r\n",
      "send2trash                1.8.0                    pypi_0    pypi\r\n",
      "setuptools                59.4.0                   pypi_0    pypi\r\n",
      "setuptools-scm            6.3.2                    pypi_0    pypi\r\n",
      "six                       1.16.0             pyhd3eb1b0_0  \r\n",
      "smmap                     5.0.0                    pypi_0    pypi\r\n",
      "sqlite                    3.36.0               hc218d9a_0  \r\n",
      "sqlparse                  0.4.2                    pypi_0    pypi\r\n",
      "streamlit                 1.2.0                    pypi_0    pypi\r\n",
      "tbb                       2021.4.0             hd09550d_0  \r\n",
      "tensorboard               2.7.0                    pypi_0    pypi\r\n",
      "tensorboard-data-server   0.6.1                    pypi_0    pypi\r\n",
      "tensorboard-plugin-profile 2.5.0                    pypi_0    pypi\r\n",
      "tensorboard-plugin-wit    1.8.0                    pypi_0    pypi\r\n",
      "tensorflow                2.8.0                    pypi_0    pypi\r\n",
      "tensorflow-addons         0.15.0                   pypi_0    pypi\r\n",
      "tensorflow-estimator      2.7.0                    pypi_0    pypi\r\n",
      "tensorflow-io-gcs-filesystem 0.22.0                   pypi_0    pypi\r\n",
      "tensorflow-probability    0.14.0                   pypi_0    pypi\r\n",
      "termcolor                 1.1.0                    pypi_0    pypi\r\n",
      "terminado                 0.12.1                   pypi_0    pypi\r\n",
      "testpath                  0.5.0                    pypi_0    pypi\r\n",
      "tf2onnx                   1.9.3                    pypi_0    pypi\r\n",
      "threadpoolctl             3.0.0                    pypi_0    pypi\r\n",
      "timm                      0.4.12                   pypi_0    pypi\r\n",
      "tinydb                    4.5.2                    pypi_0    pypi\r\n",
      "tk                        8.6.11               h1ccaba5_0  \r\n",
      "toml                      0.10.2                   pypi_0    pypi\r\n",
      "tomli                     1.2.2                    pypi_0    pypi\r\n",
      "toolz                     0.11.2                   pypi_0    pypi\r\n",
      "torch                     1.10.0a0+git36449ea          pypi_0    pypi\r\n",
      "torchvision               0.11.1                   pypi_0    pypi\r\n",
      "tornado                   6.1                      pypi_0    pypi\r\n",
      "tqdm                      4.62.3             pyhd3eb1b0_1  \r\n",
      "traitlets                 5.1.1                    pypi_0    pypi\r\n",
      "typeguard                 2.13.2                   pypi_0    pypi\r\n",
      "typing-extensions         4.0.1                    pypi_0    pypi\r\n",
      "tzdata                    2021.5                   pypi_0    pypi\r\n",
      "tzlocal                   4.1                      pypi_0    pypi\r\n",
      "unzip                     6.0                  h611a1e1_0  \r\n",
      "urllib3                   1.26.7             pyhd3eb1b0_0  \r\n",
      "validators                0.18.2                   pypi_0    pypi\r\n",
      "watchdog                  2.1.6                    pypi_0    pypi\r\n",
      "wcwidth                   0.2.5                    pypi_0    pypi\r\n",
      "webencodings              0.5.1                    pypi_0    pypi\r\n",
      "werkzeug                  2.0.2                    pypi_0    pypi\r\n",
      "wheel                     0.37.0             pyhd3eb1b0_1  \r\n",
      "widgetsnbextension        3.5.2                    pypi_0    pypi\r\n",
      "wrapt                     1.13.3                   pypi_0    pypi\r\n",
      "xgboost                   1.5.1                    pypi_0    pypi\r\n",
      "xmltodict                 0.12.0                   pypi_0    pypi\r\n",
      "xz                        5.2.5                h7b6447c_0  \r\n",
      "yaml                      0.2.5                h7b6447c_0  \r\n",
      "yarl                      1.7.2                    pypi_0    pypi\r\n",
      "zip                       3.0                  h1adfe0e_0  \r\n",
      "zipp                      3.6.0                    pypi_0    pypi\r\n",
      "zlib                      1.2.11               h7b6447c_3  \r\n",
      "zstd                      1.4.9                haebb681_0  \r\n",
      "\n",
      "Note: you may need to restart the kernel to use updated packages.\n"
     ]
    }
   ],
   "source": [
    "conda list"
   ]
  },
  {
   "cell_type": "code",
   "execution_count": 152,
   "id": "2cd29cd2",
   "metadata": {},
   "outputs": [],
   "source": [
    "import tensorflow as tf\n",
    "import datetime"
   ]
  },
  {
   "cell_type": "code",
   "execution_count": 153,
   "id": "5ca65c11",
   "metadata": {},
   "outputs": [],
   "source": [
    "%load_ext tensorboard\n"
   ]
  },
  {
   "cell_type": "code",
   "execution_count": null,
   "id": "b5b2de8c",
   "metadata": {},
   "outputs": [],
   "source": []
  }
 ],
 "metadata": {
  "kernelspec": {
   "display_name": "conda/2021-11-30",
   "language": "python",
   "name": "conda-2021-11-30"
  },
  "language_info": {
   "codemirror_mode": {
    "name": "ipython",
    "version": 3
   },
   "file_extension": ".py",
   "mimetype": "text/x-python",
   "name": "python",
   "nbconvert_exporter": "python",
   "pygments_lexer": "ipython3",
   "version": "3.8.10"
  }
 },
 "nbformat": 4,
 "nbformat_minor": 5
}
