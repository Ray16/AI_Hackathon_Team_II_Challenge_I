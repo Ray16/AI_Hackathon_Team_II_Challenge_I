{
 "cells": [
  {
   "cell_type": "markdown",
   "metadata": {
    "collapsed": true,
    "pycharm": {
     "name": "#%% md\n"
    }
   },
   "source": [
    "# Variational Autoencoder (VAE)\n",
    "* #### Get reduced feature vectors (16-dimension) from monomer sequences (32-dimension) using VAE"
   ]
  },
  {
   "cell_type": "markdown",
   "source": [
    "### 1. Train VAE\n"
   ],
   "metadata": {
    "collapsed": false,
    "pycharm": {
     "name": "#%% md\n"
    }
   }
  },
  {
   "cell_type": "code",
   "execution_count": 15,
   "outputs": [],
   "source": [
    "# import\n",
    "import torch\n",
    "import pandas as pd\n",
    "import matplotlib.pyplot as plt\n",
    "\n",
    "from sklearn.model_selection import train_test_split\n",
    "from sklearn.preprocessing import StandardScaler\n",
    "from sklearn.decomposition import PCA\n",
    "\n",
    "from vae.encoder import Encoder\n",
    "from vae.decoder import Decoder\n",
    "from vae.train import train_model\n",
    "from vae.utils.torch import FullyConnectedNeuralNetwork, TrainedVAE\n",
    "from vae.utils.function import get_blockiness, plot_two_pairs_color_map"
   ],
   "metadata": {
    "collapsed": false,
    "pycharm": {
     "name": "#%%\n"
    }
   }
  },
  {
   "cell_type": "code",
   "execution_count": 16,
   "outputs": [
    {
     "name": "stdout",
     "output_type": "stream",
     "text": [
      "Data processing ...\n"
     ]
    }
   ],
   "source": [
    "# prepare data\n",
    "print(\"Data processing ...\", flush=True)\n",
    "df_a = pd.read_csv('./data/dataSetA.csv', sep='  ', engine='python', header=None)\n",
    "df_b = pd.read_csv('./data/dataSetB.csv', sep='  ', engine='python', header=None)\n",
    "df_c = pd.read_csv('./data/dataSetC.csv', sep='  ', engine='python', header=None)\n",
    "df_d = pd.read_csv('./data/dataSetD.csv', sep='  ', engine='python', header=None)\n",
    "\n",
    "df_total = pd.concat([df_a, df_b, df_c, df_d], axis=0)\n",
    "\n",
    "# get volume fraction and blockiness\n",
    "sequence_list = list()\n",
    "for idx, row in df_total.iterrows():\n",
    "    sequence = ''\n",
    "    modified_row = row[1: -1]\n",
    "    for num in modified_row:\n",
    "        sequence += str(int(num))\n",
    "    sequence_list.append(sequence)\n",
    "\n",
    "df_total['sequence'] = sequence_list\n",
    "df_total['0_fraction'] = df_total['sequence'].apply(lambda x: x.count('0') / 32.0)\n",
    "df_total['1_fraction'] = df_total['sequence'].apply(lambda x: x.count('1') / 32.0)\n",
    "df_total['blockiness'] = df_total['sequence'].apply(lambda x: get_blockiness(x))\n",
    "df_total['interaction_parameter'] = df_total[0]\n",
    "df_total['lamellar_period'] = df_total[33]\n",
    "df_total = df_total.drop(labels=['sequence', 0, 33], axis=1)"
   ],
   "metadata": {
    "collapsed": false,
    "pycharm": {
     "name": "#%%\n"
    }
   }
  },
  {
   "cell_type": "code",
   "execution_count": 17,
   "outputs": [],
   "source": [
    "# prepare train / test dataset\n",
    "dtype = torch.float32\n",
    "device = torch.device(\"cuda\" if torch.cuda.is_available() else \"cpu\")\n",
    "\n",
    "# preprocess sequence data\n",
    "sequence_arr = df_total.iloc[:, :32].values.tolist()\n",
    "x_data = torch.zeros(size=(len(sequence_arr), 32, 2), dtype=dtype, device=device)  # 32 (total) / only 2 beads\n",
    "# x_data.fill_(value=1.0 / (1.0 + np.exp(1.0)))\n",
    "for num in range(len(sequence_arr)):\n",
    "    for idx in range(32):  # total 32 monomers\n",
    "        if sequence_arr[num][idx] == 0:\n",
    "            # x_data[num, idx, 0] = np.exp(1.0) / (1.0 + np.exp(1.0))  # soft max\n",
    "            x_data[num, idx, 0] = 1.0\n",
    "        else:\n",
    "            # x_data[num, idx, 1] = np.exp(1.0) / (1.0 + np.exp(1.0))\n",
    "            x_data[num, idx, 1] = 1.0\n",
    "\n",
    "# preparation training data (target and features)\n",
    "y_with_feature = df_total.iloc[:, 32:]\n",
    "\n",
    "# set and fit the scalers\n",
    "scaler_list = [StandardScaler() for _ in range(y_with_feature.shape[1])]\n",
    "for idx, scaler in enumerate(scaler_list):\n",
    "    scaler.fit(y_with_feature.iloc[:, idx].values.reshape(-1, 1))\n",
    "\n",
    "x_train, x_test, y_with_feature_train, y_with_feature_test = train_test_split(x_data, y_with_feature, test_size=0.2)\n",
    "\n",
    "y_with_feature_train = torch.tensor(y_with_feature_train.values, dtype=dtype, device=device)\n",
    "y_with_feature_test = torch.tensor(y_with_feature_test.values, dtype=dtype, device=device)"
   ],
   "metadata": {
    "collapsed": false,
    "pycharm": {
     "name": "#%%\n"
    }
   }
  },
  {
   "cell_type": "code",
   "execution_count": 18,
   "outputs": [],
   "source": [
    "# set encoder, decoder, and property network\n",
    "encoder = Encoder(\n",
    "    in_dimension=64,  # 32 * 2\n",
    "    layer_1d=40,\n",
    "    layer_2d=32,\n",
    "    layer_3d=24,\n",
    "    latent_dimension=16\n",
    ").to(device)\n",
    "\n",
    "decoder = Decoder(\n",
    "    latent_dimension=16,\n",
    "    gru_neurons_num=16,\n",
    "    gru_stack_size=2,\n",
    "    out_dimension=2  # bead 0 or 1\n",
    ").to(device)\n",
    "\n",
    "property_network = FullyConnectedNeuralNetwork(\n",
    "    input_dim=16+4,  # latent dimension + feature dimension\n",
    "    hidden_sizes=[8],\n",
    "    output_dim=1\n",
    ").to(device)"
   ],
   "metadata": {
    "collapsed": false,
    "pycharm": {
     "name": "#%%\n"
    }
   }
  },
  {
   "cell_type": "code",
   "execution_count": 19,
   "outputs": [
    {
     "name": "stdout",
     "output_type": "stream",
     "text": [
      "start training\n",
      "num_epochs:  1\n"
     ]
    },
    {
     "name": "stderr",
     "output_type": "stream",
     "text": [
      "  0%|          | 0/80 [03:51<?, ?it/s]"
     ]
    },
    {
     "name": "stdout",
     "output_type": "stream",
     "text": [
      "===== EPOCH 1 =====\n",
      "Training ...\n"
     ]
    },
    {
     "name": "stderr",
     "output_type": "stream",
     "text": [
      "\n",
      "  0%|          | 0/80 [00:00<?, ?it/s]\u001B[A\n",
      "  0%|          | 0/80 [00:02<?, ?it/s, property_loss=0.95, vae_loss=0.72]\u001B[A\n",
      "  1%|▏         | 1/80 [00:02<02:40,  2.04s/it, property_loss=0.95, vae_loss=0.72]\u001B[A\n",
      "  2%|▎         | 2/80 [00:02<02:38,  2.04s/it, property_loss=1.71, vae_loss=0.71]\u001B[A\n",
      "  4%|▍         | 3/80 [00:02<02:36,  2.04s/it, property_loss=1.30, vae_loss=0.72]\u001B[A\n",
      "  5%|▌         | 4/80 [00:02<02:34,  2.04s/it, property_loss=1.51, vae_loss=0.70]\u001B[A\n",
      "  6%|▋         | 5/80 [00:02<02:32,  2.04s/it, property_loss=1.14, vae_loss=0.70]\u001B[A\n",
      "  8%|▊         | 6/80 [00:02<00:19,  3.71it/s, property_loss=1.14, vae_loss=0.70]\u001B[A\n",
      " 12%|█▎        | 10/80 [00:02<00:18,  3.71it/s, property_loss=1.36, vae_loss=0.71]\u001B[A\n",
      " 14%|█▍        | 11/80 [00:02<00:18,  3.71it/s, property_loss=1.20, vae_loss=0.71]\u001B[A\n",
      " 15%|█▌        | 12/80 [00:02<00:18,  3.71it/s, property_loss=1.18, vae_loss=0.73]\u001B[A\n",
      " 16%|█▋        | 13/80 [00:02<00:18,  3.71it/s, property_loss=1.18, vae_loss=0.72]\u001B[A\n",
      " 18%|█▊        | 14/80 [00:02<00:06, 10.15it/s, property_loss=1.18, vae_loss=0.72]\u001B[A\n",
      " 18%|█▊        | 14/80 [00:02<00:06, 10.15it/s, property_loss=1.27, vae_loss=0.71]\u001B[A\n",
      " 19%|█▉        | 15/80 [00:02<00:06, 10.15it/s, property_loss=1.24, vae_loss=0.72]\u001B[A\n",
      " 26%|██▋       | 21/80 [00:02<00:05, 10.15it/s, property_loss=1.30, vae_loss=0.70]\u001B[A\n",
      " 28%|██▊       | 22/80 [00:02<00:05, 10.15it/s, property_loss=1.55, vae_loss=0.70]\u001B[A\n",
      " 29%|██▉       | 23/80 [00:02<00:03, 18.61it/s, property_loss=1.55, vae_loss=0.70]\u001B[A\n",
      " 29%|██▉       | 23/80 [00:02<00:03, 18.61it/s, property_loss=1.48, vae_loss=0.71]\u001B[A\n",
      " 30%|███       | 24/80 [00:02<00:03, 18.61it/s, property_loss=0.64, vae_loss=0.71]\u001B[A\n",
      " 31%|███▏      | 25/80 [00:02<00:02, 18.61it/s, property_loss=1.79, vae_loss=0.71]\u001B[A\n",
      " 32%|███▎      | 26/80 [00:02<00:02, 18.61it/s, property_loss=1.17, vae_loss=0.71]\u001B[A\n",
      " 34%|███▍      | 27/80 [00:02<00:02, 18.61it/s, property_loss=0.91, vae_loss=0.72]\u001B[A\n",
      " 35%|███▌      | 28/80 [00:02<00:02, 18.61it/s, property_loss=1.71, vae_loss=0.71]\u001B[A\n",
      " 36%|███▋      | 29/80 [00:02<00:02, 18.61it/s, property_loss=0.77, vae_loss=0.71]\u001B[A\n",
      " 38%|███▊      | 30/80 [00:02<00:02, 22.66it/s, property_loss=0.77, vae_loss=0.71]\u001B[A\n",
      " 45%|████▌     | 36/80 [00:02<00:01, 22.66it/s, property_loss=0.69, vae_loss=0.72]\u001B[A\n",
      " 46%|████▋     | 37/80 [00:02<00:01, 22.66it/s, property_loss=1.38, vae_loss=0.71]\u001B[A\n",
      " 48%|████▊     | 38/80 [00:02<00:01, 22.66it/s, property_loss=0.95, vae_loss=0.70]\u001B[A\n",
      " 49%|████▉     | 39/80 [00:02<00:01, 22.66it/s, property_loss=0.84, vae_loss=0.72]\u001B[A\n",
      " 50%|█████     | 40/80 [00:02<00:01, 33.37it/s, property_loss=0.84, vae_loss=0.72]\u001B[A\n",
      " 50%|█████     | 40/80 [00:02<00:01, 33.37it/s, property_loss=0.99, vae_loss=0.72]\u001B[A\n",
      " 51%|█████▏    | 41/80 [00:02<00:01, 33.37it/s, property_loss=0.78, vae_loss=0.70]\u001B[A\n",
      " 52%|█████▎    | 42/80 [00:02<00:01, 33.37it/s, property_loss=0.93, vae_loss=0.70]\u001B[A\n",
      " 54%|█████▍    | 43/80 [00:02<00:01, 33.37it/s, property_loss=1.13, vae_loss=0.69]\u001B[A\n",
      " 55%|█████▌    | 44/80 [00:02<00:01, 33.37it/s, property_loss=0.89, vae_loss=0.70]\u001B[A\n",
      " 56%|█████▋    | 45/80 [00:02<00:01, 33.37it/s, property_loss=1.15, vae_loss=0.67]\u001B[A\n",
      " 57%|█████▊    | 46/80 [00:02<00:01, 33.37it/s, property_loss=0.84, vae_loss=0.70]\u001B[A\n",
      " 59%|█████▉    | 47/80 [00:02<00:00, 33.82it/s, property_loss=0.84, vae_loss=0.70]\u001B[A\n",
      " 59%|█████▉    | 47/80 [00:02<00:00, 33.82it/s, property_loss=0.72, vae_loss=0.71]\u001B[A\n",
      " 60%|██████    | 48/80 [00:02<00:00, 33.82it/s, property_loss=0.69, vae_loss=0.71]\u001B[A\n",
      " 61%|██████▏   | 49/80 [00:02<00:00, 33.82it/s, property_loss=0.92, vae_loss=0.71]\u001B[A\n",
      " 62%|██████▎   | 50/80 [00:02<00:00, 33.82it/s, property_loss=0.42, vae_loss=0.70]\u001B[A\n",
      " 64%|██████▍   | 51/80 [00:02<00:00, 33.82it/s, property_loss=0.62, vae_loss=0.72]\u001B[A\n",
      " 72%|███████▎  | 58/80 [00:02<00:00, 44.58it/s, property_loss=0.62, vae_loss=0.72]\u001B[A\n",
      " 72%|███████▎  | 58/80 [00:03<00:00, 44.58it/s, property_loss=1.71, vae_loss=0.72]\u001B[A\n",
      " 74%|███████▍  | 59/80 [00:03<00:00, 44.58it/s, property_loss=0.77, vae_loss=0.69]\u001B[A\n",
      " 75%|███████▌  | 60/80 [00:03<00:00, 44.58it/s, property_loss=1.48, vae_loss=0.71]\u001B[A\n",
      " 76%|███████▋  | 61/80 [00:03<00:00, 44.58it/s, property_loss=0.66, vae_loss=0.71]\u001B[A\n",
      " 78%|███████▊  | 62/80 [00:03<00:00, 44.58it/s, property_loss=0.88, vae_loss=0.69]\u001B[A\n",
      " 79%|███████▉  | 63/80 [00:03<00:00, 44.58it/s, property_loss=0.91, vae_loss=0.70]\u001B[A\n",
      " 80%|████████  | 64/80 [00:03<00:00, 44.58it/s, property_loss=0.65, vae_loss=0.71]\u001B[A\n",
      " 81%|████████▏ | 65/80 [00:03<00:00, 41.97it/s, property_loss=0.65, vae_loss=0.71]\u001B[A\n",
      " 81%|████████▏ | 65/80 [00:03<00:00, 41.97it/s, property_loss=0.66, vae_loss=0.71]\u001B[A\n",
      " 82%|████████▎ | 66/80 [00:03<00:00, 41.97it/s, property_loss=0.71, vae_loss=0.68]\u001B[A\n",
      " 84%|████████▍ | 67/80 [00:03<00:00, 41.97it/s, property_loss=0.46, vae_loss=0.72]\u001B[A\n",
      " 85%|████████▌ | 68/80 [00:03<00:00, 41.97it/s, property_loss=0.61, vae_loss=0.69]\u001B[A\n",
      " 86%|████████▋ | 69/80 [00:03<00:00, 41.97it/s, property_loss=1.27, vae_loss=0.69]\u001B[A\n",
      " 88%|████████▊ | 70/80 [00:03<00:00, 41.97it/s, property_loss=0.88, vae_loss=0.70]\u001B[A\n",
      " 89%|████████▉ | 71/80 [00:03<00:00, 39.77it/s, property_loss=0.88, vae_loss=0.70]\u001B[A\n",
      " 89%|████████▉ | 71/80 [00:03<00:00, 39.77it/s, property_loss=0.49, vae_loss=0.69]\u001B[A\n",
      " 90%|█████████ | 72/80 [00:03<00:00, 39.77it/s, property_loss=0.85, vae_loss=0.68]\u001B[A\n",
      " 91%|█████████▏| 73/80 [00:03<00:00, 39.77it/s, property_loss=0.64, vae_loss=0.68]\u001B[A\n",
      " 92%|█████████▎| 74/80 [00:03<00:00, 39.77it/s, property_loss=0.50, vae_loss=0.66]\u001B[A\n",
      " 94%|█████████▍| 75/80 [00:03<00:00, 39.77it/s, property_loss=0.49, vae_loss=0.67]\u001B[A\n",
      " 95%|█████████▌| 76/80 [00:03<00:00, 38.14it/s, property_loss=0.49, vae_loss=0.67]\u001B[A\n",
      " 95%|█████████▌| 76/80 [00:03<00:00, 38.14it/s, property_loss=0.47, vae_loss=0.68]\u001B[A\n",
      " 96%|█████████▋| 77/80 [00:03<00:00, 38.14it/s, property_loss=0.81, vae_loss=0.70]\u001B[A\n",
      " 98%|█████████▊| 78/80 [00:03<00:00, 38.14it/s, property_loss=0.45, vae_loss=0.68]\u001B[A\n",
      " 99%|█████████▉| 79/80 [00:03<00:00, 38.14it/s, property_loss=0.46, vae_loss=0.67]\u001B[A\n",
      "100%|██████████| 80/80 [00:03<00:00, 38.14it/s, property_loss=0.81, vae_loss=0.66]\u001B[A\n",
      "81it [00:03, 37.65it/s, property_loss=0.81, vae_loss=0.66]                        \u001B[A\n",
      "81it [00:03, 37.65it/s, property_loss=0.76, vae_loss=0.68]\u001B[A\n",
      "82it [00:03, 37.65it/s, property_loss=0.82, vae_loss=0.67]\u001B[A\n",
      "83it [00:03, 37.65it/s, property_loss=1.17, vae_loss=0.65]\u001B[A\n",
      "84it [00:03, 37.65it/s, property_loss=0.68, vae_loss=0.71]\u001B[A\n",
      "90it [00:03, 47.72it/s, property_loss=0.68, vae_loss=0.71]\u001B[A\n",
      "90it [00:03, 47.72it/s, property_loss=0.40, vae_loss=0.68]\u001B[A\n",
      "91it [00:03, 47.72it/s, property_loss=0.66, vae_loss=0.71]\u001B[A\n",
      "92it [00:03, 47.72it/s, property_loss=0.59, vae_loss=0.68]\u001B[A\n",
      "93it [00:03, 47.72it/s, property_loss=1.45, vae_loss=0.70]\u001B[A\n",
      "94it [00:03, 47.72it/s, property_loss=0.66, vae_loss=0.68]\u001B[A\n",
      "95it [00:03, 47.72it/s, property_loss=0.67, vae_loss=0.71]\u001B[A\n",
      "96it [00:03, 43.53it/s, property_loss=0.67, vae_loss=0.71]\u001B[A\n",
      "96it [00:03, 43.53it/s, property_loss=0.71, vae_loss=0.70]\u001B[A\n",
      "97it [00:03, 43.53it/s, property_loss=1.06, vae_loss=0.68]\u001B[A\n",
      "98it [00:04, 43.53it/s, property_loss=0.55, vae_loss=0.68]\u001B[A\n",
      "99it [00:04, 43.53it/s, property_loss=0.57, vae_loss=0.69]\u001B[A\n",
      "100it [00:04, 43.53it/s, property_loss=0.18, vae_loss=0.69]\u001B[A\n",
      "101it [00:04, 41.70it/s, property_loss=0.18, vae_loss=0.69]\u001B[A\n",
      "101it [00:04, 41.70it/s, property_loss=0.52, vae_loss=0.70]\u001B[A\n",
      "102it [00:04, 41.70it/s, property_loss=0.72, vae_loss=0.68]\u001B[A\n",
      "103it [00:04, 41.70it/s, property_loss=0.25, vae_loss=0.67]\u001B[A\n",
      "104it [00:04, 41.70it/s, property_loss=0.60, vae_loss=0.65]\u001B[A\n",
      "105it [00:04, 41.70it/s, property_loss=0.54, vae_loss=0.67]\u001B[A\n",
      "106it [00:04, 40.16it/s, property_loss=0.54, vae_loss=0.67]\u001B[A\n",
      "100%|██████████| 80/80 [00:04<00:00, 18.88it/s, property_loss=0.66, vae_loss=0.71]\n",
      "  0%|          | 0/80 [03:55<?, ?it/s]"
     ]
    },
    {
     "name": "stdout",
     "output_type": "stream",
     "text": [
      "Validation ...\n",
      "Loss is 1.234\n",
      "Elementary quality score is 63.014 / 100\n",
      "Sequence quality score is 0.775 / 100\n",
      "EPOCH 1 takes 0.072 minutes\n",
      "Final elementary quality score is 62.463 / 100\n",
      "Final S=sequence quality score is 0.931 / 100\n"
     ]
    },
    {
     "data": {
      "text/plain": "<Figure size 432x288 with 1 Axes>",
      "image/png": "[encoded data removed]"
     },
     "metadata": {
      "needs_background": "light"
     },
     "output_type": "display_data"
    }
   ],
   "source": [
    "# training\n",
    "print(\"start training\", flush=True)\n",
    "trained_encoder, trained_decoder, trained_property_network = train_model(\n",
    "    vae_encoder=encoder,\n",
    "    vae_decoder=decoder,\n",
    "    property_network=property_network,\n",
    "    x_train=x_train,\n",
    "    x_test=x_test,\n",
    "    y_train=y_with_feature_train,\n",
    "    y_test=y_with_feature_test,\n",
    "    num_epochs=1000,\n",
    "    batch_size=32,\n",
    "    lr_enc=0.001,\n",
    "    lr_dec=0.001,\n",
    "    lr_property=0.001,\n",
    "    KLD_alpha=1e-6,\n",
    "    sample_num=1000,\n",
    "    dtype=dtype,\n",
    "    device=device,\n",
    "    save_file_name='total_1000.png',\n",
    "    scaler_list=scaler_list\n",
    ")"
   ],
   "metadata": {
    "collapsed": false,
    "pycharm": {
     "name": "#%%\n"
    }
   }
  },
  {
   "cell_type": "code",
   "execution_count": 21,
   "outputs": [],
   "source": [
    "# save vae\n",
    "trained_vae = TrainedVAE(\n",
    "    encoder=trained_encoder,\n",
    "    decoder=trained_decoder,\n",
    "    property_network=trained_property_network,\n",
    "    scaler_list=scaler_list,\n",
    "    scaler_key=y_with_feature.columns.tolist()\n",
    ")\n",
    "torch.save(trained_vae, 'vae/trained_vae/trained_1000.pth')"
   ],
   "metadata": {
    "collapsed": false,
    "pycharm": {
     "name": "#%%\n"
    }
   }
  },
  {
   "cell_type": "markdown",
   "source": [
    "### 2. Get reduced (16-dimensional) feature vectors using principal analysis"
   ],
   "metadata": {
    "collapsed": false,
    "pycharm": {
     "name": "#%% md\n"
    }
   }
  },
  {
   "cell_type": "code",
   "execution_count": 24,
   "outputs": [
    {
     "ename": "ModuleNotFoundError",
     "evalue": "No module named 'utils'",
     "output_type": "error",
     "traceback": [
      "\u001B[1;31m---------------------------------------------------------------------------\u001B[0m",
      "\u001B[1;31mModuleNotFoundError\u001B[0m                       Traceback (most recent call last)",
      "\u001B[1;32m~\\AppData\\Local\\Temp/ipykernel_26308/1506533850.py\u001B[0m in \u001B[0;36m<module>\u001B[1;34m\u001B[0m\n\u001B[0;32m      1\u001B[0m \u001B[1;31m# principal analysis\u001B[0m\u001B[1;33m\u001B[0m\u001B[1;33m\u001B[0m\u001B[1;33m\u001B[0m\u001B[0m\n\u001B[0;32m      2\u001B[0m \u001B[1;32mwith\u001B[0m \u001B[0mtorch\u001B[0m\u001B[1;33m.\u001B[0m\u001B[0mno_grad\u001B[0m\u001B[1;33m(\u001B[0m\u001B[1;33m)\u001B[0m\u001B[1;33m:\u001B[0m\u001B[1;33m\u001B[0m\u001B[1;33m\u001B[0m\u001B[0m\n\u001B[1;32m----> 3\u001B[1;33m     \u001B[0mtrained_vae\u001B[0m \u001B[1;33m=\u001B[0m \u001B[0mtorch\u001B[0m\u001B[1;33m.\u001B[0m\u001B[0mload\u001B[0m\u001B[1;33m(\u001B[0m\u001B[1;34m'vae/trained_vae/trained_1000.pth'\u001B[0m\u001B[1;33m)\u001B[0m\u001B[1;33m\u001B[0m\u001B[1;33m\u001B[0m\u001B[0m\n\u001B[0m\u001B[0;32m      4\u001B[0m     \u001B[0mtotal_inp_flat_one_hot\u001B[0m \u001B[1;33m=\u001B[0m \u001B[0mx_data\u001B[0m\u001B[1;33m.\u001B[0m\u001B[0mflatten\u001B[0m\u001B[1;33m(\u001B[0m\u001B[0mstart_dim\u001B[0m\u001B[1;33m=\u001B[0m\u001B[1;36m1\u001B[0m\u001B[1;33m)\u001B[0m  \u001B[1;31m# [b, 32*2]\u001B[0m\u001B[1;33m\u001B[0m\u001B[1;33m\u001B[0m\u001B[0m\n\u001B[0;32m      5\u001B[0m     \u001B[0mtotal_latent_points\u001B[0m\u001B[1;33m,\u001B[0m \u001B[0mmus\u001B[0m\u001B[1;33m,\u001B[0m \u001B[0mlog_vars\u001B[0m \u001B[1;33m=\u001B[0m \u001B[0mtrained_vae\u001B[0m\u001B[1;33m.\u001B[0m\u001B[0mencoder\u001B[0m\u001B[1;33m(\u001B[0m\u001B[0mtotal_inp_flat_one_hot\u001B[0m\u001B[1;33m)\u001B[0m  \u001B[1;31m# [b, latent_dimension]\u001B[0m\u001B[1;33m\u001B[0m\u001B[1;33m\u001B[0m\u001B[0m\n",
      "\u001B[1;32m~\\programming\\anaconda3\\envs\\python3.8_rdkit\\lib\\site-packages\\torch\\serialization.py\u001B[0m in \u001B[0;36mload\u001B[1;34m(f, map_location, pickle_module, **pickle_load_args)\u001B[0m\n\u001B[0;32m    605\u001B[0m                     \u001B[0mopened_file\u001B[0m\u001B[1;33m.\u001B[0m\u001B[0mseek\u001B[0m\u001B[1;33m(\u001B[0m\u001B[0morig_position\u001B[0m\u001B[1;33m)\u001B[0m\u001B[1;33m\u001B[0m\u001B[1;33m\u001B[0m\u001B[0m\n\u001B[0;32m    606\u001B[0m                     \u001B[1;32mreturn\u001B[0m \u001B[0mtorch\u001B[0m\u001B[1;33m.\u001B[0m\u001B[0mjit\u001B[0m\u001B[1;33m.\u001B[0m\u001B[0mload\u001B[0m\u001B[1;33m(\u001B[0m\u001B[0mopened_file\u001B[0m\u001B[1;33m)\u001B[0m\u001B[1;33m\u001B[0m\u001B[1;33m\u001B[0m\u001B[0m\n\u001B[1;32m--> 607\u001B[1;33m                 \u001B[1;32mreturn\u001B[0m \u001B[0m_load\u001B[0m\u001B[1;33m(\u001B[0m\u001B[0mopened_zipfile\u001B[0m\u001B[1;33m,\u001B[0m \u001B[0mmap_location\u001B[0m\u001B[1;33m,\u001B[0m \u001B[0mpickle_module\u001B[0m\u001B[1;33m,\u001B[0m \u001B[1;33m**\u001B[0m\u001B[0mpickle_load_args\u001B[0m\u001B[1;33m)\u001B[0m\u001B[1;33m\u001B[0m\u001B[1;33m\u001B[0m\u001B[0m\n\u001B[0m\u001B[0;32m    608\u001B[0m         \u001B[1;32mreturn\u001B[0m \u001B[0m_legacy_load\u001B[0m\u001B[1;33m(\u001B[0m\u001B[0mopened_file\u001B[0m\u001B[1;33m,\u001B[0m \u001B[0mmap_location\u001B[0m\u001B[1;33m,\u001B[0m \u001B[0mpickle_module\u001B[0m\u001B[1;33m,\u001B[0m \u001B[1;33m**\u001B[0m\u001B[0mpickle_load_args\u001B[0m\u001B[1;33m)\u001B[0m\u001B[1;33m\u001B[0m\u001B[1;33m\u001B[0m\u001B[0m\n\u001B[0;32m    609\u001B[0m \u001B[1;33m\u001B[0m\u001B[0m\n",
      "\u001B[1;32m~\\programming\\anaconda3\\envs\\python3.8_rdkit\\lib\\site-packages\\torch\\serialization.py\u001B[0m in \u001B[0;36m_load\u001B[1;34m(zip_file, map_location, pickle_module, pickle_file, **pickle_load_args)\u001B[0m\n\u001B[0;32m    880\u001B[0m     \u001B[0munpickler\u001B[0m \u001B[1;33m=\u001B[0m \u001B[0mUnpicklerWrapper\u001B[0m\u001B[1;33m(\u001B[0m\u001B[0mdata_file\u001B[0m\u001B[1;33m,\u001B[0m \u001B[1;33m**\u001B[0m\u001B[0mpickle_load_args\u001B[0m\u001B[1;33m)\u001B[0m\u001B[1;33m\u001B[0m\u001B[1;33m\u001B[0m\u001B[0m\n\u001B[0;32m    881\u001B[0m     \u001B[0munpickler\u001B[0m\u001B[1;33m.\u001B[0m\u001B[0mpersistent_load\u001B[0m \u001B[1;33m=\u001B[0m \u001B[0mpersistent_load\u001B[0m\u001B[1;33m\u001B[0m\u001B[1;33m\u001B[0m\u001B[0m\n\u001B[1;32m--> 882\u001B[1;33m     \u001B[0mresult\u001B[0m \u001B[1;33m=\u001B[0m \u001B[0munpickler\u001B[0m\u001B[1;33m.\u001B[0m\u001B[0mload\u001B[0m\u001B[1;33m(\u001B[0m\u001B[1;33m)\u001B[0m\u001B[1;33m\u001B[0m\u001B[1;33m\u001B[0m\u001B[0m\n\u001B[0m\u001B[0;32m    883\u001B[0m \u001B[1;33m\u001B[0m\u001B[0m\n\u001B[0;32m    884\u001B[0m     \u001B[0mtorch\u001B[0m\u001B[1;33m.\u001B[0m\u001B[0m_utils\u001B[0m\u001B[1;33m.\u001B[0m\u001B[0m_validate_loaded_sparse_tensors\u001B[0m\u001B[1;33m(\u001B[0m\u001B[1;33m)\u001B[0m\u001B[1;33m\u001B[0m\u001B[1;33m\u001B[0m\u001B[0m\n",
      "\u001B[1;32m~\\programming\\anaconda3\\envs\\python3.8_rdkit\\lib\\site-packages\\torch\\serialization.py\u001B[0m in \u001B[0;36mfind_class\u001B[1;34m(self, mod_name, name)\u001B[0m\n\u001B[0;32m    873\u001B[0m         \u001B[1;32mdef\u001B[0m \u001B[0mfind_class\u001B[0m\u001B[1;33m(\u001B[0m\u001B[0mself\u001B[0m\u001B[1;33m,\u001B[0m \u001B[0mmod_name\u001B[0m\u001B[1;33m,\u001B[0m \u001B[0mname\u001B[0m\u001B[1;33m)\u001B[0m\u001B[1;33m:\u001B[0m\u001B[1;33m\u001B[0m\u001B[1;33m\u001B[0m\u001B[0m\n\u001B[0;32m    874\u001B[0m             \u001B[0mmod_name\u001B[0m \u001B[1;33m=\u001B[0m \u001B[0mload_module_mapping\u001B[0m\u001B[1;33m.\u001B[0m\u001B[0mget\u001B[0m\u001B[1;33m(\u001B[0m\u001B[0mmod_name\u001B[0m\u001B[1;33m,\u001B[0m \u001B[0mmod_name\u001B[0m\u001B[1;33m)\u001B[0m\u001B[1;33m\u001B[0m\u001B[1;33m\u001B[0m\u001B[0m\n\u001B[1;32m--> 875\u001B[1;33m             \u001B[1;32mreturn\u001B[0m \u001B[0msuper\u001B[0m\u001B[1;33m(\u001B[0m\u001B[1;33m)\u001B[0m\u001B[1;33m.\u001B[0m\u001B[0mfind_class\u001B[0m\u001B[1;33m(\u001B[0m\u001B[0mmod_name\u001B[0m\u001B[1;33m,\u001B[0m \u001B[0mname\u001B[0m\u001B[1;33m)\u001B[0m\u001B[1;33m\u001B[0m\u001B[1;33m\u001B[0m\u001B[0m\n\u001B[0m\u001B[0;32m    876\u001B[0m \u001B[1;33m\u001B[0m\u001B[0m\n\u001B[0;32m    877\u001B[0m     \u001B[1;31m# Load the data (which may in turn use `persistent_load` to load tensors)\u001B[0m\u001B[1;33m\u001B[0m\u001B[1;33m\u001B[0m\u001B[1;33m\u001B[0m\u001B[0m\n",
      "\u001B[1;31mModuleNotFoundError\u001B[0m: No module named 'utils'"
     ]
    }
   ],
   "source": [
    "# principal analysis\n",
    "with torch.no_grad():\n",
    "    trained_vae = torch.load('vae/trained_vae/trained_1000.pth')\n",
    "    total_inp_flat_one_hot = x_data.flatten(start_dim=1)  # [b, 32*2]\n",
    "    total_latent_points, mus, log_vars = trained_vae.encoder(total_inp_flat_one_hot)  # [b, latent_dimension]\n",
    "\n",
    "    # principal component analysis\n",
    "    n_components = 16\n",
    "    pca = PCA(n_components=n_components)\n",
    "    principal_components = pca.fit_transform(total_latent_points)\n",
    "    principal_df = pd.DataFrame(\n",
    "        data=principal_components,\n",
    "        columns=['principal_component_%d' % (num + 1) for num in range(n_components)]\n",
    "    )\n",
    "\n",
    "    final_df = pd.concat([principal_df, y_with_feature[['lamellar_period', 'interaction_parameter']]], axis=1)"
   ],
   "metadata": {
    "collapsed": false,
    "pycharm": {
     "name": "#%%\n"
    }
   }
  },
  {
   "cell_type": "code",
   "execution_count": null,
   "outputs": [],
   "source": [
    "# plot explained variance by principal component analysis\n",
    "exp_var_pca = pca.explained_variance_ratio_\n",
    "\n",
    "plt.bar(range(0, len(exp_var_pca)), exp_var_pca, alpha=0.5, align='center',\n",
    "        label='Individual explained variance')\n",
    "plt.ylabel('Explained variance ratio')\n",
    "plt.xlabel('Principal component index')\n",
    "plt.legend(loc='best')\n",
    "plt.tight_layout()\n",
    "plt.show()"
   ],
   "metadata": {
    "collapsed": false,
    "pycharm": {
     "name": "#%%\n"
    }
   }
  },
  {
   "cell_type": "code",
   "execution_count": null,
   "outputs": [],
   "source": [
    "# plot\n",
    "# x-component (1) principal component 1\n",
    "# y-component (2) interaction parameter\n",
    "# z-component (3) lamellar period\n",
    "\n",
    "plot_two_pairs_color_map(\n",
    "    x_list=final_df['principal_component_1'].values.tolist(),\n",
    "    y_list=final_df['interaction_parameter'].values.tolist(),\n",
    "    z_list=final_df['lamellar_period'].values.tolist(),\n",
    "    x_name='principal_component_1',\n",
    "    y_name='interaction_parameter',\n",
    "    z_name='lamellar_period',\n",
    "    title='2 component PCA'\n",
    ")"
   ],
   "metadata": {
    "collapsed": false,
    "pycharm": {
     "name": "#%%\n"
    }
   }
  }
 ],
 "metadata": {
  "kernelspec": {
   "name": "python3",
   "language": "python",
   "display_name": "Python 3 (ipykernel)"
  },
  "language_info": {
   "codemirror_mode": {
    "name": "ipython",
    "version": 2
   },
   "file_extension": ".py",
   "mimetype": "text/x-python",
   "name": "python",
   "nbconvert_exporter": "python",
   "pygments_lexer": "ipython2",
   "version": "2.7.6"
  }
 },
 "nbformat": 4,
 "nbformat_minor": 0
}