{
 "cells": [
  {
   "cell_type": "markdown",
   "metadata": {
    "collapsed": true,
    "pycharm": {
     "name": "#%% md\n"
    }
   },
   "source": [
    "# Variational Autoencoder (VAE)\n",
    "* #### Get reduced feature vectors (16-dimension) from monomer sequences (32-dimension) using VAE"
   ]
  },
  {
   "cell_type": "markdown",
   "metadata": {
    "pycharm": {
     "name": "#%% md\n"
    }
   },
   "source": [
    "### 1. Train VAE\n"
   ]
  },
  {
   "cell_type": "code",
   "execution_count": 1,
   "metadata": {
    "pycharm": {
     "name": "#%%\n"
    }
   },
   "outputs": [],
   "source": [
    "# import\n",
    "import torch\n",
    "import pandas as pd\n",
    "import matplotlib.pyplot as plt\n",
    "\n",
    "from sklearn.model_selection import train_test_split\n",
    "from sklearn.preprocessing import StandardScaler\n",
    "from sklearn.decomposition import PCA\n",
    "\n",
    "from vae.encoder import Encoder\n",
    "from vae.decoder import Decoder\n",
    "from vae.train import train_model\n",
    "from vae.utils.torch import FullyConnectedNeuralNetwork, TrainedVAE\n",
    "from vae.utils.function import get_blockiness, plot_two_pairs_color_map"
   ]
  },
  {
   "cell_type": "code",
   "execution_count": 12,
   "metadata": {
    "pycharm": {
     "name": "#%%\n"
    },
    "scrolled": true
   },
   "outputs": [
    {
     "name": "stdout",
     "output_type": "stream",
     "text": [
      "Data processing ...\n"
     ]
    }
   ],
   "source": [
    "# prepare data\n",
    "print(\"Data processing ...\", flush=True)\n",
    "df_a = pd.read_csv('./data/dataSetA.csv', sep='  ', engine='python', header=None)\n",
    "df_b = pd.read_csv('./data/dataSetB.csv', sep='  ', engine='python', header=None)\n",
    "df_c = pd.read_csv('./data/dataSetC.csv', sep='  ', engine='python', header=None)\n",
    "df_d = pd.read_csv('./data/dataSetD.csv', sep='  ', engine='python', header=None)\n",
    "\n",
    "df_total = pd.concat([df_a, df_b, df_c, df_d], axis=0).reset_index()\n",
    "\n",
    "# df_total = df_c\n",
    "\n",
    "# get volume fraction and blockiness\n",
    "sequence_list = list()\n",
    "for idx, row in df_total.iterrows():\n",
    "    sequence = ''\n",
    "    modified_row = row[1: -1]\n",
    "    for num in modified_row:\n",
    "        sequence += str(int(num))\n",
    "    sequence_list.append(sequence)\n",
    "\n",
    "df_total['sequence'] = sequence_list\n",
    "df_total['0_fraction'] = df_total['sequence'].apply(lambda x: x.count('0') / 32.0)\n",
    "df_total['1_fraction'] = df_total['sequence'].apply(lambda x: x.count('1') / 32.0)\n",
    "df_total['blockiness'] = df_total['sequence'].apply(lambda x: get_blockiness(x))\n",
    "df_total['interaction_parameter'] = df_total[0]\n",
    "df_total['lamellar_period'] = df_total[33]\n",
    "df_total = df_total.drop(labels=['sequence', 0, 33], axis=1)"
   ]
  },
  {
   "cell_type": "code",
   "execution_count": 14,
   "metadata": {
    "pycharm": {
     "name": "#%%\n"
    }
   },
   "outputs": [],
   "source": [
    "# prepare train / test dataset\n",
    "dtype = torch.float32\n",
    "device = torch.device(\"cuda\" if torch.cuda.is_available() else \"cpu\")\n",
    "\n",
    "# preprocess sequence data\n",
    "sequence_arr = df_total.iloc[:, :32].values.tolist()\n",
    "x_data = torch.zeros(size=(len(sequence_arr), 32, 2), dtype=dtype, device=device)  # 32 (total) / only 2 beads\n",
    "# x_data.fill_(value=1.0 / (1.0 + np.exp(1.0)))\n",
    "for num in range(len(sequence_arr)):\n",
    "    for idx in range(32):  # total 32 monomers\n",
    "        if sequence_arr[num][idx] == 0:\n",
    "            # x_data[num, idx, 0] = np.exp(1.0) / (1.0 + np.exp(1.0))  # soft max\n",
    "            x_data[num, idx, 0] = 1.0\n",
    "        else:\n",
    "            # x_data[num, idx, 1] = np.exp(1.0) / (1.0 + np.exp(1.0))\n",
    "            x_data[num, idx, 1] = 1.0\n",
    "\n",
    "# preparation training data (target and features)\n",
    "y_with_feature = df_total.iloc[:, 32:]\n",
    "\n",
    "# set and fit the scalers\n",
    "scaler_list = [StandardScaler() for _ in range(y_with_feature.shape[1])]\n",
    "for idx, scaler in enumerate(scaler_list):\n",
    "    scaler.fit(y_with_feature.iloc[:, idx].values.reshape(-1, 1))\n",
    "\n",
    "x_train, x_test, y_with_feature_train, y_with_feature_test = train_test_split(x_data, y_with_feature, test_size=0.2)\n",
    "\n",
    "y_with_feature_train = torch.tensor(y_with_feature_train.values, dtype=dtype, device=device)\n",
    "y_with_feature_test = torch.tensor(y_with_feature_test.values, dtype=dtype, device=device)"
   ]
  },
  {
   "cell_type": "code",
   "execution_count": 4,
   "metadata": {
    "pycharm": {
     "name": "#%%\n"
    }
   },
   "outputs": [],
   "source": [
    "# set encoder, decoder, and property network\n",
    "encoder = Encoder(\n",
    "    in_dimension=64,  # 32 * 2\n",
    "    layer_1d=40,\n",
    "    layer_2d=32,\n",
    "    layer_3d=24,\n",
    "    latent_dimension=16\n",
    ").to(device)\n",
    "\n",
    "decoder = Decoder(\n",
    "    latent_dimension=16,\n",
    "    gru_neurons_num=16,\n",
    "    gru_stack_size=2,\n",
    "    out_dimension=2  # bead 0 or 1\n",
    ").to(device)\n",
    "\n",
    "property_network = FullyConnectedNeuralNetwork(\n",
    "    input_dim=16+4,  # latent dimension + feature dimension\n",
    "    hidden_sizes=[8],\n",
    "    output_dim=1\n",
    ").to(device)"
   ]
  },
  {
   "cell_type": "code",
   "execution_count": 6,
   "metadata": {
    "pycharm": {
     "name": "#%%\n"
    }
   },
   "outputs": [
    {
     "name": "stdout",
     "output_type": "stream",
     "text": [
      "start training\n",
      "num_epochs:  500\n",
      "===== EPOCH 1 =====\n",
      "Training ...\n"
     ]
    },
    {
     "name": "stderr",
     "output_type": "stream",
     "text": [
      "100%|██████████| 80/80 [00:03<00:00, 20.79it/s, property_loss=0.30, vae_loss=0.66]\n"
     ]
    },
    {
     "name": "stdout",
     "output_type": "stream",
     "text": [
      "Validation ...\n",
      "Loss is 1.040\n",
      "Elementary quality score is 62.510 / 100\n",
      "Sequence quality score is 0.930 / 100\n",
      "EPOCH 1 takes 0.064 minutes\n",
      "===== EPOCH 2 =====\n",
      "Training ...\n"
     ]
    },
    {
     "name": "stderr",
     "output_type": "stream",
     "text": [
      "100%|██████████| 80/80 [00:03<00:00, 21.00it/s, property_loss=0.20, vae_loss=0.66]\n"
     ]
    },
    {
     "name": "stdout",
     "output_type": "stream",
     "text": [
      "Validation ...\n",
      "Loss is 0.928\n",
      "Elementary quality score is 62.892 / 100\n",
      "Sequence quality score is 0.930 / 100\n",
      "EPOCH 2 takes 0.064 minutes\n",
      "===== EPOCH 3 =====\n",
      "Training ...\n"
     ]
    },
    {
     "name": "stderr",
     "output_type": "stream",
     "text": [
      "100%|██████████| 80/80 [00:03<00:00, 21.01it/s, property_loss=0.16, vae_loss=0.64]\n"
     ]
    },
    {
     "name": "stdout",
     "output_type": "stream",
     "text": [
      "Validation ...\n",
      "Loss is 0.867\n",
      "Elementary quality score is 64.956 / 100\n",
      "Sequence quality score is 1.550 / 100\n",
      "EPOCH 3 takes 0.064 minutes\n",
      "===== EPOCH 4 =====\n",
      "Training ...\n"
     ]
    },
    {
     "name": "stderr",
     "output_type": "stream",
     "text": [
      "100%|██████████| 80/80 [00:03<00:00, 20.70it/s, property_loss=0.12, vae_loss=0.63]\n"
     ]
    },
    {
     "name": "stdout",
     "output_type": "stream",
     "text": [
      "Validation ...\n",
      "Loss is 0.839\n",
      "Elementary quality score is 65.984 / 100\n",
      "Sequence quality score is 3.721 / 100\n",
      "EPOCH 4 takes 0.065 minutes\n",
      "===== EPOCH 5 =====\n",
      "Training ...\n"
     ]
    },
    {
     "name": "stderr",
     "output_type": "stream",
     "text": [
      "100%|██████████| 80/80 [00:03<00:00, 20.94it/s, property_loss=0.14, vae_loss=0.63]\n"
     ]
    },
    {
     "name": "stdout",
     "output_type": "stream",
     "text": [
      "Validation ...\n",
      "Loss is 0.813\n",
      "Elementary quality score is 66.638 / 100\n",
      "Sequence quality score is 3.411 / 100\n",
      "EPOCH 5 takes 0.064 minutes\n",
      "===== EPOCH 6 =====\n",
      "Training ...\n"
     ]
    },
    {
     "name": "stderr",
     "output_type": "stream",
     "text": [
      "100%|██████████| 80/80 [00:03<00:00, 20.54it/s, property_loss=0.11, vae_loss=0.62]\n"
     ]
    },
    {
     "name": "stdout",
     "output_type": "stream",
     "text": [
      "Validation ...\n",
      "Loss is 0.795\n",
      "Elementary quality score is 67.306 / 100\n",
      "Sequence quality score is 4.186 / 100\n",
      "EPOCH 6 takes 0.065 minutes\n",
      "===== EPOCH 7 =====\n",
      "Training ...\n"
     ]
    },
    {
     "name": "stderr",
     "output_type": "stream",
     "text": [
      "100%|██████████| 80/80 [00:03<00:00, 21.01it/s, property_loss=0.10, vae_loss=0.62]\n"
     ]
    },
    {
     "name": "stdout",
     "output_type": "stream",
     "text": [
      "Validation ...\n",
      "Loss is 0.784\n",
      "Elementary quality score is 68.164 / 100\n",
      "Sequence quality score is 5.426 / 100\n",
      "EPOCH 7 takes 0.064 minutes\n",
      "===== EPOCH 8 =====\n",
      "Training ...\n"
     ]
    },
    {
     "name": "stderr",
     "output_type": "stream",
     "text": [
      "100%|██████████| 80/80 [00:03<00:00, 20.90it/s, property_loss=0.10, vae_loss=0.61]\n"
     ]
    },
    {
     "name": "stdout",
     "output_type": "stream",
     "text": [
      "Validation ...\n",
      "Loss is 0.771\n",
      "Elementary quality score is 68.338 / 100\n",
      "Sequence quality score is 5.116 / 100\n",
      "EPOCH 8 takes 0.064 minutes\n",
      "===== EPOCH 9 =====\n",
      "Training ...\n"
     ]
    },
    {
     "name": "stderr",
     "output_type": "stream",
     "text": [
      "100%|██████████| 80/80 [00:03<00:00, 20.05it/s, property_loss=0.09, vae_loss=0.60]\n"
     ]
    },
    {
     "name": "stdout",
     "output_type": "stream",
     "text": [
      "Validation ...\n",
      "Loss is 0.759\n",
      "Elementary quality score is 68.663 / 100\n",
      "Sequence quality score is 5.116 / 100\n",
      "EPOCH 9 takes 0.067 minutes\n",
      "===== EPOCH 10 =====\n",
      "Training ...\n"
     ]
    },
    {
     "name": "stderr",
     "output_type": "stream",
     "text": [
      "100%|██████████| 80/80 [00:03<00:00, 20.97it/s, property_loss=0.08, vae_loss=0.60]\n"
     ]
    },
    {
     "name": "stdout",
     "output_type": "stream",
     "text": [
      "Validation ...\n",
      "Loss is 0.756\n",
      "Elementary quality score is 69.065 / 100\n",
      "Sequence quality score is 5.271 / 100\n",
      "EPOCH 10 takes 0.064 minutes\n",
      "===== EPOCH 11 =====\n",
      "Training ...\n"
     ]
    },
    {
     "name": "stderr",
     "output_type": "stream",
     "text": [
      "100%|██████████| 80/80 [00:03<00:00, 20.97it/s, property_loss=0.07, vae_loss=0.60]\n"
     ]
    },
    {
     "name": "stdout",
     "output_type": "stream",
     "text": [
      "Validation ...\n",
      "Loss is 0.745\n",
      "Elementary quality score is 69.317 / 100\n",
      "Sequence quality score is 6.512 / 100\n",
      "EPOCH 11 takes 0.064 minutes\n",
      "===== EPOCH 12 =====\n",
      "Training ...\n"
     ]
    },
    {
     "name": "stderr",
     "output_type": "stream",
     "text": [
      "100%|██████████| 80/80 [00:03<00:00, 20.99it/s, property_loss=0.07, vae_loss=0.60]\n"
     ]
    },
    {
     "name": "stdout",
     "output_type": "stream",
     "text": [
      "Validation ...\n",
      "Loss is 0.731\n",
      "Elementary quality score is 69.172 / 100\n",
      "Sequence quality score is 5.271 / 100\n",
      "EPOCH 12 takes 0.064 minutes\n",
      "===== EPOCH 13 =====\n",
      "Training ...\n"
     ]
    },
    {
     "name": "stderr",
     "output_type": "stream",
     "text": [
      "100%|██████████| 80/80 [00:03<00:00, 21.01it/s, property_loss=0.07, vae_loss=0.59]\n"
     ]
    },
    {
     "name": "stdout",
     "output_type": "stream",
     "text": [
      "Validation ...\n",
      "Loss is 0.717\n",
      "Elementary quality score is 69.530 / 100\n",
      "Sequence quality score is 6.977 / 100\n",
      "EPOCH 13 takes 0.064 minutes\n",
      "===== EPOCH 14 =====\n",
      "Training ...\n"
     ]
    },
    {
     "name": "stderr",
     "output_type": "stream",
     "text": [
      "100%|██████████| 80/80 [00:03<00:00, 21.00it/s, property_loss=0.06, vae_loss=0.60]\n"
     ]
    },
    {
     "name": "stdout",
     "output_type": "stream",
     "text": [
      "Validation ...\n",
      "Loss is 0.710\n",
      "Elementary quality score is 69.462 / 100\n",
      "Sequence quality score is 6.822 / 100\n",
      "EPOCH 14 takes 0.064 minutes\n",
      "===== EPOCH 15 =====\n",
      "Training ...\n"
     ]
    },
    {
     "name": "stderr",
     "output_type": "stream",
     "text": [
      "100%|██████████| 80/80 [00:03<00:00, 21.00it/s, property_loss=0.06, vae_loss=0.59]\n"
     ]
    },
    {
     "name": "stdout",
     "output_type": "stream",
     "text": [
      "Validation ...\n",
      "Loss is 0.700\n",
      "Elementary quality score is 69.734 / 100\n",
      "Sequence quality score is 6.667 / 100\n",
      "EPOCH 15 takes 0.064 minutes\n",
      "===== EPOCH 16 =====\n",
      "Training ...\n"
     ]
    },
    {
     "name": "stderr",
     "output_type": "stream",
     "text": [
      "100%|██████████| 80/80 [00:03<00:00, 20.98it/s, property_loss=0.05, vae_loss=0.59]\n"
     ]
    },
    {
     "name": "stdout",
     "output_type": "stream",
     "text": [
      "Validation ...\n",
      "Loss is 0.694\n",
      "Elementary quality score is 69.985 / 100\n",
      "Sequence quality score is 7.132 / 100\n",
      "EPOCH 16 takes 0.064 minutes\n",
      "===== EPOCH 17 =====\n",
      "Training ...\n"
     ]
    },
    {
     "name": "stderr",
     "output_type": "stream",
     "text": [
      "100%|██████████| 80/80 [00:03<00:00, 21.00it/s, property_loss=0.05, vae_loss=0.59]\n"
     ]
    },
    {
     "name": "stdout",
     "output_type": "stream",
     "text": [
      "Validation ...\n",
      "Loss is 0.686\n",
      "Elementary quality score is 70.160 / 100\n",
      "Sequence quality score is 7.597 / 100\n",
      "EPOCH 17 takes 0.064 minutes\n",
      "===== EPOCH 18 =====\n",
      "Training ...\n"
     ]
    },
    {
     "name": "stderr",
     "output_type": "stream",
     "text": [
      "100%|██████████| 80/80 [00:03<00:00, 20.08it/s, property_loss=0.05, vae_loss=0.59]\n"
     ]
    },
    {
     "name": "stdout",
     "output_type": "stream",
     "text": [
      "Validation ...\n",
      "Loss is 0.677\n",
      "Elementary quality score is 70.649 / 100\n",
      "Sequence quality score is 7.132 / 100\n",
      "EPOCH 18 takes 0.067 minutes\n",
      "===== EPOCH 19 =====\n",
      "Training ...\n"
     ]
    },
    {
     "name": "stderr",
     "output_type": "stream",
     "text": [
      "100%|██████████| 80/80 [00:04<00:00, 19.61it/s, property_loss=0.04, vae_loss=0.58]\n"
     ]
    },
    {
     "name": "stdout",
     "output_type": "stream",
     "text": [
      "Validation ...\n",
      "Loss is 0.671\n",
      "Elementary quality score is 70.891 / 100\n",
      "Sequence quality score is 8.682 / 100\n",
      "EPOCH 19 takes 0.068 minutes\n",
      "===== EPOCH 20 =====\n",
      "Training ...\n"
     ]
    },
    {
     "name": "stderr",
     "output_type": "stream",
     "text": [
      "100%|██████████| 80/80 [00:04<00:00, 19.89it/s, property_loss=0.05, vae_loss=0.58]\n"
     ]
    },
    {
     "name": "stdout",
     "output_type": "stream",
     "text": [
      "Validation ...\n",
      "Loss is 0.662\n",
      "Elementary quality score is 71.124 / 100\n",
      "Sequence quality score is 7.752 / 100\n",
      "EPOCH 20 takes 0.067 minutes\n",
      "===== EPOCH 21 =====\n",
      "Training ...\n"
     ]
    },
    {
     "name": "stderr",
     "output_type": "stream",
     "text": [
      "100%|██████████| 80/80 [00:03<00:00, 21.24it/s, property_loss=0.04, vae_loss=0.58]\n"
     ]
    },
    {
     "name": "stdout",
     "output_type": "stream",
     "text": [
      "Validation ...\n",
      "Loss is 0.655\n",
      "Elementary quality score is 71.579 / 100\n",
      "Sequence quality score is 8.837 / 100\n",
      "EPOCH 21 takes 0.063 minutes\n",
      "===== EPOCH 22 =====\n",
      "Training ...\n"
     ]
    },
    {
     "name": "stderr",
     "output_type": "stream",
     "text": [
      "100%|██████████| 80/80 [00:03<00:00, 21.27it/s, property_loss=0.04, vae_loss=0.58]\n"
     ]
    },
    {
     "name": "stdout",
     "output_type": "stream",
     "text": [
      "Validation ...\n",
      "Loss is 0.647\n",
      "Elementary quality score is 71.730 / 100\n",
      "Sequence quality score is 8.992 / 100\n",
      "EPOCH 22 takes 0.063 minutes\n",
      "===== EPOCH 23 =====\n",
      "Training ...\n"
     ]
    },
    {
     "name": "stderr",
     "output_type": "stream",
     "text": [
      "100%|██████████| 80/80 [00:03<00:00, 21.27it/s, property_loss=0.03, vae_loss=0.58]\n"
     ]
    },
    {
     "name": "stdout",
     "output_type": "stream",
     "text": [
      "Validation ...\n",
      "Loss is 0.645\n",
      "Elementary quality score is 71.914 / 100\n",
      "Sequence quality score is 8.992 / 100\n",
      "EPOCH 23 takes 0.063 minutes\n",
      "===== EPOCH 24 =====\n",
      "Training ...\n"
     ]
    },
    {
     "name": "stderr",
     "output_type": "stream",
     "text": [
      "100%|██████████| 80/80 [00:03<00:00, 21.27it/s, property_loss=0.03, vae_loss=0.57]\n"
     ]
    },
    {
     "name": "stdout",
     "output_type": "stream",
     "text": [
      "Validation ...\n",
      "Loss is 0.641\n",
      "Elementary quality score is 72.175 / 100\n",
      "Sequence quality score is 10.388 / 100\n",
      "EPOCH 24 takes 0.063 minutes\n",
      "===== EPOCH 25 =====\n",
      "Training ...\n"
     ]
    },
    {
     "name": "stderr",
     "output_type": "stream",
     "text": [
      "100%|██████████| 80/80 [00:03<00:00, 21.29it/s, property_loss=0.03, vae_loss=0.57]\n"
     ]
    },
    {
     "name": "stdout",
     "output_type": "stream",
     "text": [
      "Validation ...\n",
      "Loss is 0.635\n",
      "Elementary quality score is 72.389 / 100\n",
      "Sequence quality score is 10.543 / 100\n",
      "EPOCH 25 takes 0.063 minutes\n",
      "===== EPOCH 26 =====\n",
      "Training ...\n"
     ]
    },
    {
     "name": "stderr",
     "output_type": "stream",
     "text": [
      "100%|██████████| 80/80 [00:03<00:00, 21.28it/s, property_loss=0.03, vae_loss=0.57]\n"
     ]
    },
    {
     "name": "stdout",
     "output_type": "stream",
     "text": [
      "Validation ...\n",
      "Loss is 0.632\n",
      "Elementary quality score is 72.611 / 100\n",
      "Sequence quality score is 9.922 / 100\n",
      "EPOCH 26 takes 0.063 minutes\n",
      "===== EPOCH 27 =====\n",
      "Training ...\n"
     ]
    },
    {
     "name": "stderr",
     "output_type": "stream",
     "text": [
      "100%|██████████| 80/80 [00:03<00:00, 21.30it/s, property_loss=0.04, vae_loss=0.57]\n"
     ]
    },
    {
     "name": "stdout",
     "output_type": "stream",
     "text": [
      "Validation ...\n",
      "Loss is 0.628\n",
      "Elementary quality score is 72.796 / 100\n",
      "Sequence quality score is 9.302 / 100\n",
      "EPOCH 27 takes 0.063 minutes\n",
      "===== EPOCH 28 =====\n",
      "Training ...\n"
     ]
    },
    {
     "name": "stderr",
     "output_type": "stream",
     "text": [
      "100%|██████████| 80/80 [00:03<00:00, 21.29it/s, property_loss=0.03, vae_loss=0.56]\n"
     ]
    },
    {
     "name": "stdout",
     "output_type": "stream",
     "text": [
      "Validation ...\n",
      "Loss is 0.622\n",
      "Elementary quality score is 73.149 / 100\n",
      "Sequence quality score is 8.372 / 100\n",
      "EPOCH 28 takes 0.063 minutes\n",
      "===== EPOCH 29 =====\n",
      "Training ...\n"
     ]
    },
    {
     "name": "stderr",
     "output_type": "stream",
     "text": [
      "100%|██████████| 80/80 [00:03<00:00, 20.38it/s, property_loss=0.04, vae_loss=0.56]\n"
     ]
    },
    {
     "name": "stdout",
     "output_type": "stream",
     "text": [
      "Validation ...\n",
      "Loss is 0.620\n",
      "Elementary quality score is 73.367 / 100\n",
      "Sequence quality score is 9.147 / 100\n",
      "EPOCH 29 takes 0.066 minutes\n",
      "===== EPOCH 30 =====\n",
      "Training ...\n"
     ]
    },
    {
     "name": "stderr",
     "output_type": "stream",
     "text": [
      "100%|██████████| 80/80 [00:03<00:00, 21.33it/s, property_loss=0.04, vae_loss=0.56]\n"
     ]
    },
    {
     "name": "stdout",
     "output_type": "stream",
     "text": [
      "Validation ...\n",
      "Loss is 0.615\n",
      "Elementary quality score is 73.484 / 100\n",
      "Sequence quality score is 11.628 / 100\n",
      "EPOCH 30 takes 0.063 minutes\n",
      "===== EPOCH 31 =====\n",
      "Training ...\n"
     ]
    },
    {
     "name": "stderr",
     "output_type": "stream",
     "text": [
      "100%|██████████| 80/80 [00:03<00:00, 21.32it/s, property_loss=0.03, vae_loss=0.56]\n"
     ]
    },
    {
     "name": "stdout",
     "output_type": "stream",
     "text": [
      "Validation ...\n",
      "Loss is 0.614\n",
      "Elementary quality score is 73.672 / 100\n",
      "Sequence quality score is 12.248 / 100\n",
      "EPOCH 31 takes 0.063 minutes\n",
      "===== EPOCH 32 =====\n",
      "Training ...\n"
     ]
    },
    {
     "name": "stderr",
     "output_type": "stream",
     "text": [
      "100%|██████████| 80/80 [00:03<00:00, 21.35it/s, property_loss=0.03, vae_loss=0.55]\n"
     ]
    },
    {
     "name": "stdout",
     "output_type": "stream",
     "text": [
      "Validation ...\n",
      "Loss is 0.611\n",
      "Elementary quality score is 73.794 / 100\n",
      "Sequence quality score is 13.023 / 100\n",
      "EPOCH 32 takes 0.063 minutes\n",
      "===== EPOCH 33 =====\n",
      "Training ...\n"
     ]
    },
    {
     "name": "stderr",
     "output_type": "stream",
     "text": [
      "100%|██████████| 80/80 [00:03<00:00, 21.33it/s, property_loss=0.03, vae_loss=0.55]\n"
     ]
    },
    {
     "name": "stdout",
     "output_type": "stream",
     "text": [
      "Validation ...\n",
      "Loss is 0.608\n",
      "Elementary quality score is 73.900 / 100\n",
      "Sequence quality score is 11.318 / 100\n",
      "EPOCH 33 takes 0.063 minutes\n",
      "===== EPOCH 34 =====\n",
      "Training ...\n"
     ]
    },
    {
     "name": "stderr",
     "output_type": "stream",
     "text": [
      "100%|██████████| 80/80 [00:03<00:00, 21.32it/s, property_loss=0.03, vae_loss=0.55]\n"
     ]
    },
    {
     "name": "stdout",
     "output_type": "stream",
     "text": [
      "Validation ...\n",
      "Loss is 0.606\n",
      "Elementary quality score is 74.201 / 100\n",
      "Sequence quality score is 10.233 / 100\n",
      "EPOCH 34 takes 0.063 minutes\n",
      "===== EPOCH 35 =====\n",
      "Training ...\n"
     ]
    },
    {
     "name": "stderr",
     "output_type": "stream",
     "text": [
      "100%|██████████| 80/80 [00:03<00:00, 21.35it/s, property_loss=0.03, vae_loss=0.55]\n"
     ]
    },
    {
     "name": "stdout",
     "output_type": "stream",
     "text": [
      "Validation ...\n",
      "Loss is 0.602\n",
      "Elementary quality score is 74.327 / 100\n",
      "Sequence quality score is 12.248 / 100\n",
      "EPOCH 35 takes 0.063 minutes\n",
      "===== EPOCH 36 =====\n",
      "Training ...\n"
     ]
    },
    {
     "name": "stderr",
     "output_type": "stream",
     "text": [
      "100%|██████████| 80/80 [00:03<00:00, 21.33it/s, property_loss=0.03, vae_loss=0.55]\n"
     ]
    },
    {
     "name": "stdout",
     "output_type": "stream",
     "text": [
      "Validation ...\n",
      "Loss is 0.600\n",
      "Elementary quality score is 74.569 / 100\n",
      "Sequence quality score is 11.783 / 100\n",
      "EPOCH 36 takes 0.063 minutes\n",
      "===== EPOCH 37 =====\n",
      "Training ...\n"
     ]
    },
    {
     "name": "stderr",
     "output_type": "stream",
     "text": [
      "100%|██████████| 80/80 [00:03<00:00, 21.35it/s, property_loss=0.03, vae_loss=0.55]\n"
     ]
    },
    {
     "name": "stdout",
     "output_type": "stream",
     "text": [
      "Validation ...\n",
      "Loss is 0.598\n",
      "Elementary quality score is 74.477 / 100\n",
      "Sequence quality score is 11.163 / 100\n",
      "EPOCH 37 takes 0.063 minutes\n",
      "===== EPOCH 38 =====\n",
      "Training ...\n"
     ]
    },
    {
     "name": "stderr",
     "output_type": "stream",
     "text": [
      "100%|██████████| 80/80 [00:03<00:00, 20.42it/s, property_loss=0.03, vae_loss=0.54]\n"
     ]
    },
    {
     "name": "stdout",
     "output_type": "stream",
     "text": [
      "Validation ...\n",
      "Loss is 0.596\n",
      "Elementary quality score is 74.695 / 100\n",
      "Sequence quality score is 9.922 / 100\n",
      "EPOCH 38 takes 0.065 minutes\n",
      "===== EPOCH 39 =====\n",
      "Training ...\n"
     ]
    },
    {
     "name": "stderr",
     "output_type": "stream",
     "text": [
      "100%|██████████| 80/80 [00:03<00:00, 21.34it/s, property_loss=0.03, vae_loss=0.54]\n"
     ]
    },
    {
     "name": "stdout",
     "output_type": "stream",
     "text": [
      "Validation ...\n",
      "Loss is 0.595\n",
      "Elementary quality score is 74.845 / 100\n",
      "Sequence quality score is 11.628 / 100\n",
      "EPOCH 39 takes 0.063 minutes\n",
      "===== EPOCH 40 =====\n",
      "Training ...\n"
     ]
    },
    {
     "name": "stderr",
     "output_type": "stream",
     "text": [
      "100%|██████████| 80/80 [00:03<00:00, 21.30it/s, property_loss=0.02, vae_loss=0.54]\n"
     ]
    },
    {
     "name": "stdout",
     "output_type": "stream",
     "text": [
      "Validation ...\n",
      "Loss is 0.594\n",
      "Elementary quality score is 74.855 / 100\n",
      "Sequence quality score is 10.853 / 100\n",
      "EPOCH 40 takes 0.063 minutes\n",
      "===== EPOCH 41 =====\n",
      "Training ...\n"
     ]
    },
    {
     "name": "stderr",
     "output_type": "stream",
     "text": [
      "100%|██████████| 80/80 [00:03<00:00, 21.35it/s, property_loss=0.03, vae_loss=0.54]\n"
     ]
    },
    {
     "name": "stdout",
     "output_type": "stream",
     "text": [
      "Validation ...\n",
      "Loss is 0.591\n",
      "Elementary quality score is 74.952 / 100\n",
      "Sequence quality score is 11.783 / 100\n",
      "EPOCH 41 takes 0.063 minutes\n",
      "===== EPOCH 42 =====\n",
      "Training ...\n"
     ]
    },
    {
     "name": "stderr",
     "output_type": "stream",
     "text": [
      "100%|██████████| 80/80 [00:03<00:00, 21.35it/s, property_loss=0.02, vae_loss=0.53]\n"
     ]
    },
    {
     "name": "stdout",
     "output_type": "stream",
     "text": [
      "Validation ...\n",
      "Loss is 0.590\n",
      "Elementary quality score is 75.073 / 100\n",
      "Sequence quality score is 11.008 / 100\n",
      "EPOCH 42 takes 0.063 minutes\n",
      "===== EPOCH 43 =====\n",
      "Training ...\n"
     ]
    },
    {
     "name": "stderr",
     "output_type": "stream",
     "text": [
      "100%|██████████| 80/80 [00:03<00:00, 21.35it/s, property_loss=0.03, vae_loss=0.53]\n"
     ]
    },
    {
     "name": "stdout",
     "output_type": "stream",
     "text": [
      "Validation ...\n",
      "Loss is 0.588\n",
      "Elementary quality score is 75.087 / 100\n",
      "Sequence quality score is 11.163 / 100\n",
      "EPOCH 43 takes 0.063 minutes\n",
      "===== EPOCH 44 =====\n",
      "Training ...\n"
     ]
    },
    {
     "name": "stderr",
     "output_type": "stream",
     "text": [
      "100%|██████████| 80/80 [00:03<00:00, 21.35it/s, property_loss=0.02, vae_loss=0.53]\n"
     ]
    },
    {
     "name": "stdout",
     "output_type": "stream",
     "text": [
      "Validation ...\n",
      "Loss is 0.584\n",
      "Elementary quality score is 75.131 / 100\n",
      "Sequence quality score is 10.233 / 100\n",
      "EPOCH 44 takes 0.063 minutes\n",
      "===== EPOCH 45 =====\n",
      "Training ...\n"
     ]
    },
    {
     "name": "stderr",
     "output_type": "stream",
     "text": [
      "100%|██████████| 80/80 [00:03<00:00, 21.36it/s, property_loss=0.02, vae_loss=0.53]\n"
     ]
    },
    {
     "name": "stdout",
     "output_type": "stream",
     "text": [
      "Validation ...\n",
      "Loss is 0.585\n",
      "Elementary quality score is 75.141 / 100\n",
      "Sequence quality score is 9.767 / 100\n",
      "EPOCH 45 takes 0.063 minutes\n",
      "===== EPOCH 46 =====\n",
      "Training ...\n"
     ]
    },
    {
     "name": "stderr",
     "output_type": "stream",
     "text": [
      "100%|██████████| 80/80 [00:03<00:00, 21.36it/s, property_loss=0.02, vae_loss=0.53]\n"
     ]
    },
    {
     "name": "stdout",
     "output_type": "stream",
     "text": [
      "Validation ...\n",
      "Loss is 0.585\n",
      "Elementary quality score is 75.237 / 100\n",
      "Sequence quality score is 11.783 / 100\n",
      "EPOCH 46 takes 0.063 minutes\n",
      "===== EPOCH 47 =====\n",
      "Training ...\n"
     ]
    },
    {
     "name": "stderr",
     "output_type": "stream",
     "text": [
      "100%|██████████| 80/80 [00:03<00:00, 20.84it/s, property_loss=0.02, vae_loss=0.53]\n"
     ]
    },
    {
     "name": "stdout",
     "output_type": "stream",
     "text": [
      "Validation ...\n",
      "Loss is 0.583\n",
      "Elementary quality score is 75.422 / 100\n",
      "Sequence quality score is 12.403 / 100\n",
      "EPOCH 47 takes 0.064 minutes\n",
      "===== EPOCH 48 =====\n",
      "Training ...\n"
     ]
    },
    {
     "name": "stderr",
     "output_type": "stream",
     "text": [
      "100%|██████████| 80/80 [00:03<00:00, 21.35it/s, property_loss=0.02, vae_loss=0.52]\n"
     ]
    },
    {
     "name": "stdout",
     "output_type": "stream",
     "text": [
      "Validation ...\n",
      "Loss is 0.581\n",
      "Elementary quality score is 75.514 / 100\n",
      "Sequence quality score is 12.558 / 100\n",
      "EPOCH 48 takes 0.063 minutes\n",
      "===== EPOCH 49 =====\n",
      "Training ...\n"
     ]
    },
    {
     "name": "stderr",
     "output_type": "stream",
     "text": [
      "100%|██████████| 80/80 [00:03<00:00, 21.35it/s, property_loss=0.02, vae_loss=0.52]\n"
     ]
    },
    {
     "name": "stdout",
     "output_type": "stream",
     "text": [
      "Validation ...\n",
      "Loss is 0.581\n",
      "Elementary quality score is 75.562 / 100\n",
      "Sequence quality score is 12.713 / 100\n",
      "EPOCH 49 takes 0.063 minutes\n",
      "===== EPOCH 50 =====\n",
      "Training ...\n"
     ]
    },
    {
     "name": "stderr",
     "output_type": "stream",
     "text": [
      "100%|██████████| 80/80 [00:03<00:00, 21.34it/s, property_loss=0.02, vae_loss=0.52]\n"
     ]
    },
    {
     "name": "stdout",
     "output_type": "stream",
     "text": [
      "Validation ...\n",
      "Loss is 0.581\n",
      "Elementary quality score is 75.562 / 100\n",
      "Sequence quality score is 13.023 / 100\n",
      "EPOCH 50 takes 0.063 minutes\n",
      "===== EPOCH 51 =====\n",
      "Training ...\n"
     ]
    },
    {
     "name": "stderr",
     "output_type": "stream",
     "text": [
      "100%|██████████| 80/80 [00:03<00:00, 21.36it/s, property_loss=0.02, vae_loss=0.52]\n"
     ]
    },
    {
     "name": "stdout",
     "output_type": "stream",
     "text": [
      "Validation ...\n",
      "Loss is 0.581\n",
      "Elementary quality score is 75.615 / 100\n",
      "Sequence quality score is 12.403 / 100\n",
      "EPOCH 51 takes 0.063 minutes\n",
      "===== EPOCH 52 =====\n",
      "Training ...\n"
     ]
    },
    {
     "name": "stderr",
     "output_type": "stream",
     "text": [
      "100%|██████████| 80/80 [00:03<00:00, 21.34it/s, property_loss=0.02, vae_loss=0.51]\n"
     ]
    },
    {
     "name": "stdout",
     "output_type": "stream",
     "text": [
      "Validation ...\n",
      "Loss is 0.580\n",
      "Elementary quality score is 75.858 / 100\n",
      "Sequence quality score is 13.488 / 100\n",
      "EPOCH 52 takes 0.063 minutes\n",
      "===== EPOCH 53 =====\n",
      "Training ...\n"
     ]
    },
    {
     "name": "stderr",
     "output_type": "stream",
     "text": [
      "100%|██████████| 80/80 [00:03<00:00, 21.36it/s, property_loss=0.02, vae_loss=0.51]\n"
     ]
    },
    {
     "name": "stdout",
     "output_type": "stream",
     "text": [
      "Validation ...\n",
      "Loss is 0.577\n",
      "Elementary quality score is 75.785 / 100\n",
      "Sequence quality score is 13.333 / 100\n",
      "EPOCH 53 takes 0.063 minutes\n",
      "===== EPOCH 54 =====\n",
      "Training ...\n"
     ]
    },
    {
     "name": "stderr",
     "output_type": "stream",
     "text": [
      "100%|██████████| 80/80 [00:03<00:00, 21.34it/s, property_loss=0.03, vae_loss=0.51]\n"
     ]
    },
    {
     "name": "stdout",
     "output_type": "stream",
     "text": [
      "Validation ...\n",
      "Loss is 0.578\n",
      "Elementary quality score is 75.964 / 100\n",
      "Sequence quality score is 13.488 / 100\n",
      "EPOCH 54 takes 0.063 minutes\n",
      "===== EPOCH 55 =====\n",
      "Training ...\n"
     ]
    },
    {
     "name": "stderr",
     "output_type": "stream",
     "text": [
      "100%|██████████| 80/80 [00:03<00:00, 21.35it/s, property_loss=0.02, vae_loss=0.51]\n"
     ]
    },
    {
     "name": "stdout",
     "output_type": "stream",
     "text": [
      "Validation ...\n",
      "Loss is 0.577\n",
      "Elementary quality score is 76.085 / 100\n",
      "Sequence quality score is 12.403 / 100\n",
      "EPOCH 55 takes 0.063 minutes\n",
      "===== EPOCH 56 =====\n",
      "Training ...\n"
     ]
    },
    {
     "name": "stderr",
     "output_type": "stream",
     "text": [
      "100%|██████████| 80/80 [00:03<00:00, 21.38it/s, property_loss=0.02, vae_loss=0.51]\n"
     ]
    },
    {
     "name": "stdout",
     "output_type": "stream",
     "text": [
      "Validation ...\n",
      "Loss is 0.577\n",
      "Elementary quality score is 76.090 / 100\n",
      "Sequence quality score is 11.938 / 100\n",
      "EPOCH 56 takes 0.063 minutes\n",
      "===== EPOCH 57 =====\n",
      "Training ...\n"
     ]
    },
    {
     "name": "stderr",
     "output_type": "stream",
     "text": [
      "100%|██████████| 80/80 [00:03<00:00, 21.34it/s, property_loss=0.02, vae_loss=0.51]\n"
     ]
    },
    {
     "name": "stdout",
     "output_type": "stream",
     "text": [
      "Validation ...\n",
      "Loss is 0.577\n",
      "Elementary quality score is 76.066 / 100\n",
      "Sequence quality score is 12.868 / 100\n",
      "EPOCH 57 takes 0.063 minutes\n",
      "===== EPOCH 58 =====\n",
      "Training ...\n"
     ]
    },
    {
     "name": "stderr",
     "output_type": "stream",
     "text": [
      "100%|██████████| 80/80 [00:03<00:00, 21.37it/s, property_loss=0.02, vae_loss=0.51]\n"
     ]
    },
    {
     "name": "stdout",
     "output_type": "stream",
     "text": [
      "Validation ...\n",
      "Loss is 0.577\n",
      "Elementary quality score is 76.269 / 100\n",
      "Sequence quality score is 13.798 / 100\n",
      "EPOCH 58 takes 0.063 minutes\n",
      "===== EPOCH 59 =====\n",
      "Training ...\n"
     ]
    },
    {
     "name": "stderr",
     "output_type": "stream",
     "text": [
      "100%|██████████| 80/80 [00:03<00:00, 21.35it/s, property_loss=0.02, vae_loss=0.50]\n"
     ]
    },
    {
     "name": "stdout",
     "output_type": "stream",
     "text": [
      "Validation ...\n",
      "Loss is 0.576\n",
      "Elementary quality score is 76.216 / 100\n",
      "Sequence quality score is 14.109 / 100\n",
      "EPOCH 59 takes 0.063 minutes\n",
      "===== EPOCH 60 =====\n",
      "Training ...\n"
     ]
    },
    {
     "name": "stderr",
     "output_type": "stream",
     "text": [
      "100%|██████████| 80/80 [00:03<00:00, 21.36it/s, property_loss=0.02, vae_loss=0.50]\n"
     ]
    },
    {
     "name": "stdout",
     "output_type": "stream",
     "text": [
      "Validation ...\n",
      "Loss is 0.575\n",
      "Elementary quality score is 76.284 / 100\n",
      "Sequence quality score is 14.419 / 100\n",
      "EPOCH 60 takes 0.063 minutes\n",
      "===== EPOCH 61 =====\n",
      "Training ...\n"
     ]
    },
    {
     "name": "stderr",
     "output_type": "stream",
     "text": [
      "100%|██████████| 80/80 [00:03<00:00, 21.34it/s, property_loss=0.02, vae_loss=0.50]\n"
     ]
    },
    {
     "name": "stdout",
     "output_type": "stream",
     "text": [
      "Validation ...\n",
      "Loss is 0.575\n",
      "Elementary quality score is 76.245 / 100\n",
      "Sequence quality score is 15.504 / 100\n",
      "EPOCH 61 takes 0.063 minutes\n",
      "===== EPOCH 62 =====\n",
      "Training ...\n"
     ]
    },
    {
     "name": "stderr",
     "output_type": "stream",
     "text": [
      "100%|██████████| 80/80 [00:03<00:00, 21.37it/s, property_loss=0.02, vae_loss=0.50]\n"
     ]
    },
    {
     "name": "stdout",
     "output_type": "stream",
     "text": [
      "Validation ...\n",
      "Loss is 0.573\n",
      "Elementary quality score is 76.357 / 100\n",
      "Sequence quality score is 14.264 / 100\n",
      "EPOCH 62 takes 0.063 minutes\n",
      "===== EPOCH 63 =====\n",
      "Training ...\n"
     ]
    },
    {
     "name": "stderr",
     "output_type": "stream",
     "text": [
      "100%|██████████| 80/80 [00:03<00:00, 21.34it/s, property_loss=0.02, vae_loss=0.50]\n"
     ]
    },
    {
     "name": "stdout",
     "output_type": "stream",
     "text": [
      "Validation ...\n",
      "Loss is 0.574\n",
      "Elementary quality score is 76.303 / 100\n",
      "Sequence quality score is 15.194 / 100\n",
      "EPOCH 63 takes 0.063 minutes\n",
      "===== EPOCH 64 =====\n",
      "Training ...\n"
     ]
    },
    {
     "name": "stderr",
     "output_type": "stream",
     "text": [
      "100%|██████████| 80/80 [00:03<00:00, 21.36it/s, property_loss=0.02, vae_loss=0.50]\n"
     ]
    },
    {
     "name": "stdout",
     "output_type": "stream",
     "text": [
      "Validation ...\n",
      "Loss is 0.571\n",
      "Elementary quality score is 76.357 / 100\n",
      "Sequence quality score is 13.643 / 100\n",
      "EPOCH 64 takes 0.063 minutes\n",
      "===== EPOCH 65 =====\n",
      "Training ...\n"
     ]
    },
    {
     "name": "stderr",
     "output_type": "stream",
     "text": [
      "100%|██████████| 80/80 [00:04<00:00, 17.55it/s, property_loss=0.02, vae_loss=0.50]\n"
     ]
    },
    {
     "name": "stdout",
     "output_type": "stream",
     "text": [
      "Validation ...\n",
      "Loss is 0.570\n",
      "Elementary quality score is 76.284 / 100\n",
      "Sequence quality score is 14.264 / 100\n",
      "EPOCH 65 takes 0.076 minutes\n",
      "===== EPOCH 66 =====\n",
      "Training ...\n"
     ]
    },
    {
     "name": "stderr",
     "output_type": "stream",
     "text": [
      "100%|██████████| 80/80 [00:04<00:00, 18.69it/s, property_loss=0.02, vae_loss=0.49]\n"
     ]
    },
    {
     "name": "stdout",
     "output_type": "stream",
     "text": [
      "Validation ...\n",
      "Loss is 0.569\n",
      "Elementary quality score is 76.531 / 100\n",
      "Sequence quality score is 13.798 / 100\n",
      "EPOCH 66 takes 0.072 minutes\n",
      "===== EPOCH 67 =====\n",
      "Training ...\n"
     ]
    },
    {
     "name": "stderr",
     "output_type": "stream",
     "text": [
      "100%|██████████| 80/80 [00:03<00:00, 21.02it/s, property_loss=0.02, vae_loss=0.49]\n"
     ]
    },
    {
     "name": "stdout",
     "output_type": "stream",
     "text": [
      "Validation ...\n",
      "Loss is 0.568\n",
      "Elementary quality score is 76.584 / 100\n",
      "Sequence quality score is 15.349 / 100\n",
      "EPOCH 67 takes 0.064 minutes\n",
      "===== EPOCH 68 =====\n",
      "Training ...\n"
     ]
    },
    {
     "name": "stderr",
     "output_type": "stream",
     "text": [
      "100%|██████████| 80/80 [00:03<00:00, 20.92it/s, property_loss=0.02, vae_loss=0.49]\n"
     ]
    },
    {
     "name": "stdout",
     "output_type": "stream",
     "text": [
      "Validation ...\n",
      "Loss is 0.567\n",
      "Elementary quality score is 76.633 / 100\n",
      "Sequence quality score is 14.884 / 100\n",
      "EPOCH 68 takes 0.064 minutes\n",
      "===== EPOCH 69 =====\n",
      "Training ...\n"
     ]
    },
    {
     "name": "stderr",
     "output_type": "stream",
     "text": [
      "100%|██████████| 80/80 [00:03<00:00, 21.01it/s, property_loss=0.02, vae_loss=0.49]\n"
     ]
    },
    {
     "name": "stdout",
     "output_type": "stream",
     "text": [
      "Validation ...\n",
      "Loss is 0.566\n",
      "Elementary quality score is 76.681 / 100\n",
      "Sequence quality score is 13.023 / 100\n",
      "EPOCH 69 takes 0.064 minutes\n",
      "===== EPOCH 70 =====\n",
      "Training ...\n"
     ]
    },
    {
     "name": "stderr",
     "output_type": "stream",
     "text": [
      "100%|██████████| 80/80 [00:03<00:00, 21.03it/s, property_loss=0.02, vae_loss=0.49]\n"
     ]
    },
    {
     "name": "stdout",
     "output_type": "stream",
     "text": [
      "Validation ...\n",
      "Loss is 0.565\n",
      "Elementary quality score is 76.768 / 100\n",
      "Sequence quality score is 13.798 / 100\n",
      "EPOCH 70 takes 0.064 minutes\n",
      "===== EPOCH 71 =====\n",
      "Training ...\n"
     ]
    },
    {
     "name": "stderr",
     "output_type": "stream",
     "text": [
      "100%|██████████| 80/80 [00:03<00:00, 21.00it/s, property_loss=0.02, vae_loss=0.49]\n"
     ]
    },
    {
     "name": "stdout",
     "output_type": "stream",
     "text": [
      "Validation ...\n",
      "Loss is 0.564\n",
      "Elementary quality score is 76.797 / 100\n",
      "Sequence quality score is 12.713 / 100\n",
      "EPOCH 71 takes 0.064 minutes\n",
      "===== EPOCH 72 =====\n",
      "Training ...\n"
     ]
    },
    {
     "name": "stderr",
     "output_type": "stream",
     "text": [
      "100%|██████████| 80/80 [00:03<00:00, 21.01it/s, property_loss=0.02, vae_loss=0.49]\n"
     ]
    },
    {
     "name": "stdout",
     "output_type": "stream",
     "text": [
      "Validation ...\n",
      "Loss is 0.563\n",
      "Elementary quality score is 76.890 / 100\n",
      "Sequence quality score is 15.969 / 100\n",
      "EPOCH 72 takes 0.064 minutes\n",
      "===== EPOCH 73 =====\n",
      "Training ...\n"
     ]
    },
    {
     "name": "stderr",
     "output_type": "stream",
     "text": [
      "100%|██████████| 80/80 [00:03<00:00, 21.00it/s, property_loss=0.02, vae_loss=0.49]\n"
     ]
    },
    {
     "name": "stdout",
     "output_type": "stream",
     "text": [
      "Validation ...\n",
      "Loss is 0.562\n",
      "Elementary quality score is 76.933 / 100\n",
      "Sequence quality score is 16.124 / 100\n",
      "EPOCH 73 takes 0.064 minutes\n",
      "===== EPOCH 74 =====\n",
      "Training ...\n"
     ]
    },
    {
     "name": "stderr",
     "output_type": "stream",
     "text": [
      "100%|██████████| 80/80 [00:03<00:00, 21.02it/s, property_loss=0.02, vae_loss=0.49]\n"
     ]
    },
    {
     "name": "stdout",
     "output_type": "stream",
     "text": [
      "Validation ...\n",
      "Loss is 0.561\n",
      "Elementary quality score is 76.996 / 100\n",
      "Sequence quality score is 15.969 / 100\n",
      "EPOCH 74 takes 0.064 minutes\n",
      "===== EPOCH 75 =====\n",
      "Training ...\n"
     ]
    },
    {
     "name": "stderr",
     "output_type": "stream",
     "text": [
      "100%|██████████| 80/80 [00:03<00:00, 20.12it/s, property_loss=0.02, vae_loss=0.48]\n"
     ]
    },
    {
     "name": "stdout",
     "output_type": "stream",
     "text": [
      "Validation ...\n",
      "Loss is 0.560\n",
      "Elementary quality score is 77.059 / 100\n",
      "Sequence quality score is 15.814 / 100\n",
      "EPOCH 75 takes 0.066 minutes\n",
      "===== EPOCH 76 =====\n",
      "Training ...\n"
     ]
    },
    {
     "name": "stderr",
     "output_type": "stream",
     "text": [
      "100%|██████████| 80/80 [00:03<00:00, 21.02it/s, property_loss=0.02, vae_loss=0.48]\n"
     ]
    },
    {
     "name": "stdout",
     "output_type": "stream",
     "text": [
      "Validation ...\n",
      "Loss is 0.560\n",
      "Elementary quality score is 77.040 / 100\n",
      "Sequence quality score is 16.899 / 100\n",
      "EPOCH 76 takes 0.064 minutes\n",
      "===== EPOCH 77 =====\n",
      "Training ...\n"
     ]
    },
    {
     "name": "stderr",
     "output_type": "stream",
     "text": [
      "100%|██████████| 80/80 [00:03<00:00, 20.99it/s, property_loss=0.02, vae_loss=0.48]\n"
     ]
    },
    {
     "name": "stdout",
     "output_type": "stream",
     "text": [
      "Validation ...\n",
      "Loss is 0.559\n",
      "Elementary quality score is 77.001 / 100\n",
      "Sequence quality score is 15.969 / 100\n",
      "EPOCH 77 takes 0.064 minutes\n",
      "===== EPOCH 78 =====\n",
      "Training ...\n"
     ]
    },
    {
     "name": "stderr",
     "output_type": "stream",
     "text": [
      "100%|██████████| 80/80 [00:03<00:00, 20.86it/s, property_loss=0.02, vae_loss=0.48]\n"
     ]
    },
    {
     "name": "stdout",
     "output_type": "stream",
     "text": [
      "Validation ...\n",
      "Loss is 0.559\n",
      "Elementary quality score is 77.045 / 100\n",
      "Sequence quality score is 15.814 / 100\n",
      "EPOCH 78 takes 0.064 minutes\n",
      "===== EPOCH 79 =====\n",
      "Training ...\n"
     ]
    },
    {
     "name": "stderr",
     "output_type": "stream",
     "text": [
      "100%|██████████| 80/80 [00:03<00:00, 20.98it/s, property_loss=0.02, vae_loss=0.48]\n"
     ]
    },
    {
     "name": "stdout",
     "output_type": "stream",
     "text": [
      "Validation ...\n",
      "Loss is 0.559\n",
      "Elementary quality score is 77.054 / 100\n",
      "Sequence quality score is 15.969 / 100\n",
      "EPOCH 79 takes 0.064 minutes\n",
      "===== EPOCH 80 =====\n",
      "Training ...\n"
     ]
    },
    {
     "name": "stderr",
     "output_type": "stream",
     "text": [
      "100%|██████████| 80/80 [00:03<00:00, 21.01it/s, property_loss=0.02, vae_loss=0.48]\n"
     ]
    },
    {
     "name": "stdout",
     "output_type": "stream",
     "text": [
      "Validation ...\n",
      "Loss is 0.558\n",
      "Elementary quality score is 77.049 / 100\n",
      "Sequence quality score is 16.589 / 100\n",
      "EPOCH 80 takes 0.064 minutes\n",
      "===== EPOCH 81 =====\n",
      "Training ...\n"
     ]
    },
    {
     "name": "stderr",
     "output_type": "stream",
     "text": [
      "100%|██████████| 80/80 [00:03<00:00, 21.00it/s, property_loss=0.02, vae_loss=0.48]\n"
     ]
    },
    {
     "name": "stdout",
     "output_type": "stream",
     "text": [
      "Validation ...\n",
      "Loss is 0.558\n",
      "Elementary quality score is 77.059 / 100\n",
      "Sequence quality score is 16.744 / 100\n",
      "EPOCH 81 takes 0.064 minutes\n",
      "===== EPOCH 82 =====\n",
      "Training ...\n"
     ]
    },
    {
     "name": "stderr",
     "output_type": "stream",
     "text": [
      "100%|██████████| 80/80 [00:03<00:00, 21.02it/s, property_loss=0.02, vae_loss=0.48]\n"
     ]
    },
    {
     "name": "stdout",
     "output_type": "stream",
     "text": [
      "Validation ...\n",
      "Loss is 0.557\n",
      "Elementary quality score is 77.200 / 100\n",
      "Sequence quality score is 16.589 / 100\n",
      "EPOCH 82 takes 0.064 minutes\n",
      "===== EPOCH 83 =====\n",
      "Training ...\n"
     ]
    },
    {
     "name": "stderr",
     "output_type": "stream",
     "text": [
      "100%|██████████| 80/80 [00:03<00:00, 21.05it/s, property_loss=0.02, vae_loss=0.48]\n"
     ]
    },
    {
     "name": "stdout",
     "output_type": "stream",
     "text": [
      "Validation ...\n",
      "Loss is 0.557\n",
      "Elementary quality score is 77.161 / 100\n",
      "Sequence quality score is 16.434 / 100\n",
      "EPOCH 83 takes 0.063 minutes\n",
      "===== EPOCH 84 =====\n",
      "Training ...\n"
     ]
    },
    {
     "name": "stderr",
     "output_type": "stream",
     "text": [
      "100%|██████████| 80/80 [00:03<00:00, 21.03it/s, property_loss=0.02, vae_loss=0.48]\n"
     ]
    },
    {
     "name": "stdout",
     "output_type": "stream",
     "text": [
      "Validation ...\n",
      "Loss is 0.556\n",
      "Elementary quality score is 77.200 / 100\n",
      "Sequence quality score is 16.279 / 100\n",
      "EPOCH 84 takes 0.064 minutes\n",
      "===== EPOCH 85 =====\n",
      "Training ...\n"
     ]
    },
    {
     "name": "stderr",
     "output_type": "stream",
     "text": [
      "100%|██████████| 80/80 [00:03<00:00, 20.17it/s, property_loss=0.02, vae_loss=0.48]\n"
     ]
    },
    {
     "name": "stdout",
     "output_type": "stream",
     "text": [
      "Validation ...\n",
      "Loss is 0.556\n",
      "Elementary quality score is 77.234 / 100\n",
      "Sequence quality score is 16.434 / 100\n",
      "EPOCH 85 takes 0.066 minutes\n",
      "===== EPOCH 86 =====\n",
      "Training ...\n"
     ]
    },
    {
     "name": "stderr",
     "output_type": "stream",
     "text": [
      "100%|██████████| 80/80 [00:03<00:00, 21.06it/s, property_loss=0.02, vae_loss=0.48]\n"
     ]
    },
    {
     "name": "stdout",
     "output_type": "stream",
     "text": [
      "Validation ...\n",
      "Loss is 0.555\n",
      "Elementary quality score is 77.316 / 100\n",
      "Sequence quality score is 15.814 / 100\n",
      "EPOCH 86 takes 0.063 minutes\n",
      "===== EPOCH 87 =====\n",
      "Training ...\n"
     ]
    },
    {
     "name": "stderr",
     "output_type": "stream",
     "text": [
      "100%|██████████| 80/80 [00:03<00:00, 21.07it/s, property_loss=0.02, vae_loss=0.48]\n"
     ]
    },
    {
     "name": "stdout",
     "output_type": "stream",
     "text": [
      "Validation ...\n",
      "Loss is 0.555\n",
      "Elementary quality score is 77.306 / 100\n",
      "Sequence quality score is 16.434 / 100\n",
      "EPOCH 87 takes 0.063 minutes\n",
      "===== EPOCH 88 =====\n",
      "Training ...\n"
     ]
    },
    {
     "name": "stderr",
     "output_type": "stream",
     "text": [
      "100%|██████████| 80/80 [00:03<00:00, 21.07it/s, property_loss=0.02, vae_loss=0.48]\n"
     ]
    },
    {
     "name": "stdout",
     "output_type": "stream",
     "text": [
      "Validation ...\n",
      "Loss is 0.553\n",
      "Elementary quality score is 77.422 / 100\n",
      "Sequence quality score is 15.969 / 100\n",
      "EPOCH 88 takes 0.063 minutes\n",
      "===== EPOCH 89 =====\n",
      "Training ...\n"
     ]
    },
    {
     "name": "stderr",
     "output_type": "stream",
     "text": [
      "100%|██████████| 80/80 [00:03<00:00, 21.03it/s, property_loss=0.02, vae_loss=0.48]\n"
     ]
    },
    {
     "name": "stdout",
     "output_type": "stream",
     "text": [
      "Validation ...\n",
      "Loss is 0.554\n",
      "Elementary quality score is 77.476 / 100\n",
      "Sequence quality score is 16.744 / 100\n",
      "EPOCH 89 takes 0.064 minutes\n",
      "===== EPOCH 90 =====\n",
      "Training ...\n"
     ]
    },
    {
     "name": "stderr",
     "output_type": "stream",
     "text": [
      "100%|██████████| 80/80 [00:03<00:00, 21.03it/s, property_loss=0.02, vae_loss=0.47]\n"
     ]
    },
    {
     "name": "stdout",
     "output_type": "stream",
     "text": [
      "Validation ...\n",
      "Loss is 0.552\n",
      "Elementary quality score is 77.510 / 100\n",
      "Sequence quality score is 16.744 / 100\n",
      "EPOCH 90 takes 0.064 minutes\n",
      "===== EPOCH 91 =====\n",
      "Training ...\n"
     ]
    },
    {
     "name": "stderr",
     "output_type": "stream",
     "text": [
      "100%|██████████| 80/80 [00:03<00:00, 21.03it/s, property_loss=0.02, vae_loss=0.47]\n"
     ]
    },
    {
     "name": "stdout",
     "output_type": "stream",
     "text": [
      "Validation ...\n",
      "Loss is 0.552\n",
      "Elementary quality score is 77.476 / 100\n",
      "Sequence quality score is 17.054 / 100\n",
      "EPOCH 91 takes 0.064 minutes\n",
      "===== EPOCH 92 =====\n",
      "Training ...\n"
     ]
    },
    {
     "name": "stderr",
     "output_type": "stream",
     "text": [
      "100%|██████████| 80/80 [00:03<00:00, 21.04it/s, property_loss=0.02, vae_loss=0.47]\n"
     ]
    },
    {
     "name": "stdout",
     "output_type": "stream",
     "text": [
      "Validation ...\n",
      "Loss is 0.553\n",
      "Elementary quality score is 77.548 / 100\n",
      "Sequence quality score is 16.744 / 100\n",
      "EPOCH 92 takes 0.063 minutes\n",
      "===== EPOCH 93 =====\n",
      "Training ...\n"
     ]
    },
    {
     "name": "stderr",
     "output_type": "stream",
     "text": [
      "100%|██████████| 80/80 [00:03<00:00, 21.03it/s, property_loss=0.02, vae_loss=0.47]\n"
     ]
    },
    {
     "name": "stdout",
     "output_type": "stream",
     "text": [
      "Validation ...\n",
      "Loss is 0.551\n",
      "Elementary quality score is 77.563 / 100\n",
      "Sequence quality score is 17.054 / 100\n",
      "EPOCH 93 takes 0.064 minutes\n",
      "===== EPOCH 94 =====\n",
      "Training ...\n"
     ]
    },
    {
     "name": "stderr",
     "output_type": "stream",
     "text": [
      "100%|██████████| 80/80 [00:03<00:00, 21.04it/s, property_loss=0.02, vae_loss=0.47]\n"
     ]
    },
    {
     "name": "stdout",
     "output_type": "stream",
     "text": [
      "Validation ...\n",
      "Loss is 0.551\n",
      "Elementary quality score is 77.636 / 100\n",
      "Sequence quality score is 17.519 / 100\n",
      "EPOCH 94 takes 0.064 minutes\n",
      "===== EPOCH 95 =====\n",
      "Training ...\n"
     ]
    },
    {
     "name": "stderr",
     "output_type": "stream",
     "text": [
      "100%|██████████| 80/80 [00:03<00:00, 21.02it/s, property_loss=0.02, vae_loss=0.47]\n"
     ]
    },
    {
     "name": "stdout",
     "output_type": "stream",
     "text": [
      "Validation ...\n",
      "Loss is 0.552\n",
      "Elementary quality score is 77.650 / 100\n",
      "Sequence quality score is 18.295 / 100\n",
      "EPOCH 95 takes 0.064 minutes\n",
      "===== EPOCH 96 =====\n",
      "Training ...\n"
     ]
    },
    {
     "name": "stderr",
     "output_type": "stream",
     "text": [
      "100%|██████████| 80/80 [00:03<00:00, 21.03it/s, property_loss=0.03, vae_loss=0.47]\n"
     ]
    },
    {
     "name": "stdout",
     "output_type": "stream",
     "text": [
      "Validation ...\n",
      "Loss is 0.551\n",
      "Elementary quality score is 77.737 / 100\n",
      "Sequence quality score is 17.519 / 100\n",
      "EPOCH 96 takes 0.064 minutes\n",
      "===== EPOCH 97 =====\n",
      "Training ...\n"
     ]
    },
    {
     "name": "stderr",
     "output_type": "stream",
     "text": [
      "100%|██████████| 80/80 [00:03<00:00, 21.00it/s, property_loss=0.03, vae_loss=0.47]\n"
     ]
    },
    {
     "name": "stdout",
     "output_type": "stream",
     "text": [
      "Validation ...\n",
      "Loss is 0.550\n",
      "Elementary quality score is 77.703 / 100\n",
      "Sequence quality score is 17.519 / 100\n",
      "EPOCH 97 takes 0.064 minutes\n",
      "===== EPOCH 98 =====\n",
      "Training ...\n"
     ]
    },
    {
     "name": "stderr",
     "output_type": "stream",
     "text": [
      "100%|██████████| 80/80 [00:03<00:00, 21.05it/s, property_loss=0.03, vae_loss=0.47]\n"
     ]
    },
    {
     "name": "stdout",
     "output_type": "stream",
     "text": [
      "Validation ...\n",
      "Loss is 0.550\n",
      "Elementary quality score is 77.708 / 100\n",
      "Sequence quality score is 17.364 / 100\n",
      "EPOCH 98 takes 0.063 minutes\n",
      "===== EPOCH 99 =====\n",
      "Training ...\n"
     ]
    },
    {
     "name": "stderr",
     "output_type": "stream",
     "text": [
      "100%|██████████| 80/80 [00:03<00:00, 21.03it/s, property_loss=0.03, vae_loss=0.47]\n"
     ]
    },
    {
     "name": "stdout",
     "output_type": "stream",
     "text": [
      "Validation ...\n",
      "Loss is 0.550\n",
      "Elementary quality score is 77.694 / 100\n",
      "Sequence quality score is 16.434 / 100\n",
      "EPOCH 99 takes 0.064 minutes\n",
      "===== EPOCH 100 =====\n",
      "Training ...\n"
     ]
    },
    {
     "name": "stderr",
     "output_type": "stream",
     "text": [
      "100%|██████████| 80/80 [00:03<00:00, 21.03it/s, property_loss=0.02, vae_loss=0.47]\n"
     ]
    },
    {
     "name": "stdout",
     "output_type": "stream",
     "text": [
      "Validation ...\n",
      "Loss is 0.549\n",
      "Elementary quality score is 77.791 / 100\n",
      "Sequence quality score is 17.054 / 100\n",
      "EPOCH 100 takes 0.064 minutes\n",
      "===== EPOCH 101 =====\n",
      "Training ...\n"
     ]
    },
    {
     "name": "stderr",
     "output_type": "stream",
     "text": [
      "100%|██████████| 80/80 [00:03<00:00, 21.02it/s, property_loss=0.02, vae_loss=0.47]\n"
     ]
    },
    {
     "name": "stdout",
     "output_type": "stream",
     "text": [
      "Validation ...\n",
      "Loss is 0.551\n",
      "Elementary quality score is 77.878 / 100\n",
      "Sequence quality score is 15.814 / 100\n",
      "EPOCH 101 takes 0.064 minutes\n",
      "===== EPOCH 102 =====\n",
      "Training ...\n"
     ]
    },
    {
     "name": "stderr",
     "output_type": "stream",
     "text": [
      "100%|██████████| 80/80 [00:03<00:00, 21.03it/s, property_loss=0.02, vae_loss=0.47]\n"
     ]
    },
    {
     "name": "stdout",
     "output_type": "stream",
     "text": [
      "Validation ...\n",
      "Loss is 0.550\n",
      "Elementary quality score is 77.912 / 100\n",
      "Sequence quality score is 16.744 / 100\n",
      "EPOCH 102 takes 0.064 minutes\n",
      "===== EPOCH 103 =====\n",
      "Training ...\n"
     ]
    },
    {
     "name": "stderr",
     "output_type": "stream",
     "text": [
      "100%|██████████| 80/80 [00:03<00:00, 21.03it/s, property_loss=0.03, vae_loss=0.47]\n"
     ]
    },
    {
     "name": "stdout",
     "output_type": "stream",
     "text": [
      "Validation ...\n",
      "Loss is 0.549\n",
      "Elementary quality score is 77.994 / 100\n",
      "Sequence quality score is 16.279 / 100\n",
      "EPOCH 103 takes 0.064 minutes\n",
      "===== EPOCH 104 =====\n",
      "Training ...\n"
     ]
    },
    {
     "name": "stderr",
     "output_type": "stream",
     "text": [
      "100%|██████████| 80/80 [00:03<00:00, 20.14it/s, property_loss=0.03, vae_loss=0.47]\n"
     ]
    },
    {
     "name": "stdout",
     "output_type": "stream",
     "text": [
      "Validation ...\n",
      "Loss is 0.548\n",
      "Elementary quality score is 77.960 / 100\n",
      "Sequence quality score is 15.349 / 100\n",
      "EPOCH 104 takes 0.066 minutes\n",
      "===== EPOCH 105 =====\n",
      "Training ...\n"
     ]
    },
    {
     "name": "stderr",
     "output_type": "stream",
     "text": [
      "100%|██████████| 80/80 [00:03<00:00, 21.01it/s, property_loss=0.03, vae_loss=0.46]\n"
     ]
    },
    {
     "name": "stdout",
     "output_type": "stream",
     "text": [
      "Validation ...\n",
      "Loss is 0.547\n",
      "Elementary quality score is 78.052 / 100\n",
      "Sequence quality score is 15.039 / 100\n",
      "EPOCH 105 takes 0.064 minutes\n",
      "===== EPOCH 106 =====\n",
      "Training ...\n"
     ]
    },
    {
     "name": "stderr",
     "output_type": "stream",
     "text": [
      "100%|██████████| 80/80 [00:04<00:00, 18.04it/s, property_loss=0.03, vae_loss=0.46]\n"
     ]
    },
    {
     "name": "stdout",
     "output_type": "stream",
     "text": [
      "Validation ...\n",
      "Loss is 0.546\n",
      "Elementary quality score is 78.009 / 100\n",
      "Sequence quality score is 16.124 / 100\n",
      "EPOCH 106 takes 0.074 minutes\n",
      "===== EPOCH 107 =====\n",
      "Training ...\n"
     ]
    },
    {
     "name": "stderr",
     "output_type": "stream",
     "text": [
      "100%|██████████| 80/80 [00:03<00:00, 20.25it/s, property_loss=0.03, vae_loss=0.46]\n"
     ]
    },
    {
     "name": "stdout",
     "output_type": "stream",
     "text": [
      "Validation ...\n",
      "Loss is 0.546\n",
      "Elementary quality score is 78.130 / 100\n",
      "Sequence quality score is 16.434 / 100\n",
      "EPOCH 107 takes 0.066 minutes\n",
      "===== EPOCH 108 =====\n",
      "Training ...\n"
     ]
    },
    {
     "name": "stderr",
     "output_type": "stream",
     "text": [
      "100%|██████████| 80/80 [00:03<00:00, 21.28it/s, property_loss=0.03, vae_loss=0.46]\n"
     ]
    },
    {
     "name": "stdout",
     "output_type": "stream",
     "text": [
      "Validation ...\n",
      "Loss is 0.545\n",
      "Elementary quality score is 78.135 / 100\n",
      "Sequence quality score is 15.349 / 100\n",
      "EPOCH 108 takes 0.063 minutes\n",
      "===== EPOCH 109 =====\n",
      "Training ...\n"
     ]
    },
    {
     "name": "stderr",
     "output_type": "stream",
     "text": [
      "100%|██████████| 80/80 [00:03<00:00, 21.31it/s, property_loss=0.03, vae_loss=0.46]\n"
     ]
    },
    {
     "name": "stdout",
     "output_type": "stream",
     "text": [
      "Validation ...\n",
      "Loss is 0.543\n",
      "Elementary quality score is 78.246 / 100\n",
      "Sequence quality score is 16.434 / 100\n",
      "EPOCH 109 takes 0.063 minutes\n",
      "===== EPOCH 110 =====\n",
      "Training ...\n"
     ]
    },
    {
     "name": "stderr",
     "output_type": "stream",
     "text": [
      "100%|██████████| 80/80 [00:03<00:00, 21.30it/s, property_loss=0.02, vae_loss=0.46]\n"
     ]
    },
    {
     "name": "stdout",
     "output_type": "stream",
     "text": [
      "Validation ...\n",
      "Loss is 0.543\n",
      "Elementary quality score is 78.280 / 100\n",
      "Sequence quality score is 15.814 / 100\n",
      "EPOCH 110 takes 0.063 minutes\n",
      "===== EPOCH 111 =====\n",
      "Training ...\n"
     ]
    },
    {
     "name": "stderr",
     "output_type": "stream",
     "text": [
      "100%|██████████| 80/80 [00:03<00:00, 21.33it/s, property_loss=0.02, vae_loss=0.46]\n"
     ]
    },
    {
     "name": "stdout",
     "output_type": "stream",
     "text": [
      "Validation ...\n",
      "Loss is 0.544\n",
      "Elementary quality score is 78.275 / 100\n",
      "Sequence quality score is 15.504 / 100\n",
      "EPOCH 111 takes 0.063 minutes\n",
      "===== EPOCH 112 =====\n",
      "Training ...\n"
     ]
    },
    {
     "name": "stderr",
     "output_type": "stream",
     "text": [
      "100%|██████████| 80/80 [00:03<00:00, 21.34it/s, property_loss=0.02, vae_loss=0.46]\n"
     ]
    },
    {
     "name": "stdout",
     "output_type": "stream",
     "text": [
      "Validation ...\n",
      "Loss is 0.543\n",
      "Elementary quality score is 78.353 / 100\n",
      "Sequence quality score is 14.884 / 100\n",
      "EPOCH 112 takes 0.063 minutes\n",
      "===== EPOCH 113 =====\n",
      "Training ...\n"
     ]
    },
    {
     "name": "stderr",
     "output_type": "stream",
     "text": [
      "100%|██████████| 80/80 [00:03<00:00, 20.38it/s, property_loss=0.02, vae_loss=0.46]\n"
     ]
    },
    {
     "name": "stdout",
     "output_type": "stream",
     "text": [
      "Validation ...\n",
      "Loss is 0.543\n",
      "Elementary quality score is 78.280 / 100\n",
      "Sequence quality score is 13.488 / 100\n",
      "EPOCH 113 takes 0.066 minutes\n",
      "===== EPOCH 114 =====\n",
      "Training ...\n"
     ]
    },
    {
     "name": "stderr",
     "output_type": "stream",
     "text": [
      "100%|██████████| 80/80 [00:03<00:00, 21.31it/s, property_loss=0.02, vae_loss=0.46]\n"
     ]
    },
    {
     "name": "stdout",
     "output_type": "stream",
     "text": [
      "Validation ...\n",
      "Loss is 0.543\n",
      "Elementary quality score is 78.401 / 100\n",
      "Sequence quality score is 14.419 / 100\n",
      "EPOCH 114 takes 0.063 minutes\n",
      "===== EPOCH 115 =====\n",
      "Training ...\n"
     ]
    },
    {
     "name": "stderr",
     "output_type": "stream",
     "text": [
      "100%|██████████| 80/80 [00:03<00:00, 21.26it/s, property_loss=0.02, vae_loss=0.46]\n"
     ]
    },
    {
     "name": "stdout",
     "output_type": "stream",
     "text": [
      "Validation ...\n",
      "Loss is 0.542\n",
      "Elementary quality score is 78.454 / 100\n",
      "Sequence quality score is 15.349 / 100\n",
      "EPOCH 115 takes 0.063 minutes\n",
      "===== EPOCH 116 =====\n",
      "Training ...\n"
     ]
    },
    {
     "name": "stderr",
     "output_type": "stream",
     "text": [
      "100%|██████████| 80/80 [00:03<00:00, 21.34it/s, property_loss=0.02, vae_loss=0.46]\n"
     ]
    },
    {
     "name": "stdout",
     "output_type": "stream",
     "text": [
      "Validation ...\n",
      "Loss is 0.543\n",
      "Elementary quality score is 78.396 / 100\n",
      "Sequence quality score is 13.953 / 100\n",
      "EPOCH 116 takes 0.063 minutes\n",
      "===== EPOCH 117 =====\n",
      "Training ...\n"
     ]
    },
    {
     "name": "stderr",
     "output_type": "stream",
     "text": [
      "100%|██████████| 80/80 [00:03<00:00, 21.32it/s, property_loss=0.02, vae_loss=0.46]\n"
     ]
    },
    {
     "name": "stdout",
     "output_type": "stream",
     "text": [
      "Validation ...\n",
      "Loss is 0.542\n",
      "Elementary quality score is 78.348 / 100\n",
      "Sequence quality score is 13.643 / 100\n",
      "EPOCH 117 takes 0.063 minutes\n",
      "===== EPOCH 118 =====\n",
      "Training ...\n"
     ]
    },
    {
     "name": "stderr",
     "output_type": "stream",
     "text": [
      "100%|██████████| 80/80 [00:03<00:00, 21.35it/s, property_loss=0.02, vae_loss=0.46]\n"
     ]
    },
    {
     "name": "stdout",
     "output_type": "stream",
     "text": [
      "Validation ...\n",
      "Loss is 0.542\n",
      "Elementary quality score is 78.425 / 100\n",
      "Sequence quality score is 14.574 / 100\n",
      "EPOCH 118 takes 0.063 minutes\n",
      "===== EPOCH 119 =====\n",
      "Training ...\n"
     ]
    },
    {
     "name": "stderr",
     "output_type": "stream",
     "text": [
      "100%|██████████| 80/80 [00:03<00:00, 21.35it/s, property_loss=0.02, vae_loss=0.46]\n"
     ]
    },
    {
     "name": "stdout",
     "output_type": "stream",
     "text": [
      "Validation ...\n",
      "Loss is 0.540\n",
      "Elementary quality score is 78.566 / 100\n",
      "Sequence quality score is 14.729 / 100\n",
      "EPOCH 119 takes 0.063 minutes\n",
      "===== EPOCH 120 =====\n",
      "Training ...\n"
     ]
    },
    {
     "name": "stderr",
     "output_type": "stream",
     "text": [
      "100%|██████████| 80/80 [00:03<00:00, 21.32it/s, property_loss=0.02, vae_loss=0.46]\n"
     ]
    },
    {
     "name": "stdout",
     "output_type": "stream",
     "text": [
      "Validation ...\n",
      "Loss is 0.540\n",
      "Elementary quality score is 78.561 / 100\n",
      "Sequence quality score is 15.659 / 100\n",
      "EPOCH 120 takes 0.063 minutes\n",
      "===== EPOCH 121 =====\n",
      "Training ...\n"
     ]
    },
    {
     "name": "stderr",
     "output_type": "stream",
     "text": [
      "100%|██████████| 80/80 [00:03<00:00, 21.32it/s, property_loss=0.02, vae_loss=0.46]\n"
     ]
    },
    {
     "name": "stdout",
     "output_type": "stream",
     "text": [
      "Validation ...\n",
      "Loss is 0.539\n",
      "Elementary quality score is 78.677 / 100\n",
      "Sequence quality score is 15.194 / 100\n",
      "EPOCH 121 takes 0.063 minutes\n",
      "===== EPOCH 122 =====\n",
      "Training ...\n"
     ]
    },
    {
     "name": "stderr",
     "output_type": "stream",
     "text": [
      "100%|██████████| 80/80 [00:03<00:00, 21.01it/s, property_loss=0.02, vae_loss=0.46]\n"
     ]
    },
    {
     "name": "stdout",
     "output_type": "stream",
     "text": [
      "Validation ...\n",
      "Loss is 0.539\n",
      "Elementary quality score is 78.716 / 100\n",
      "Sequence quality score is 16.899 / 100\n",
      "EPOCH 122 takes 0.064 minutes\n",
      "===== EPOCH 123 =====\n",
      "Training ...\n"
     ]
    },
    {
     "name": "stderr",
     "output_type": "stream",
     "text": [
      "100%|██████████| 80/80 [00:03<00:00, 21.32it/s, property_loss=0.02, vae_loss=0.46]\n"
     ]
    },
    {
     "name": "stdout",
     "output_type": "stream",
     "text": [
      "Validation ...\n",
      "Loss is 0.539\n",
      "Elementary quality score is 78.760 / 100\n",
      "Sequence quality score is 17.364 / 100\n",
      "EPOCH 123 takes 0.063 minutes\n",
      "===== EPOCH 124 =====\n",
      "Training ...\n"
     ]
    },
    {
     "name": "stderr",
     "output_type": "stream",
     "text": [
      "100%|██████████| 80/80 [00:03<00:00, 21.34it/s, property_loss=0.02, vae_loss=0.46]\n"
     ]
    },
    {
     "name": "stdout",
     "output_type": "stream",
     "text": [
      "Validation ...\n",
      "Loss is 0.539\n",
      "Elementary quality score is 78.784 / 100\n",
      "Sequence quality score is 17.209 / 100\n",
      "EPOCH 124 takes 0.063 minutes\n",
      "===== EPOCH 125 =====\n",
      "Training ...\n"
     ]
    },
    {
     "name": "stderr",
     "output_type": "stream",
     "text": [
      "100%|██████████| 80/80 [00:03<00:00, 21.33it/s, property_loss=0.02, vae_loss=0.45]\n"
     ]
    },
    {
     "name": "stdout",
     "output_type": "stream",
     "text": [
      "Validation ...\n",
      "Loss is 0.538\n",
      "Elementary quality score is 78.765 / 100\n",
      "Sequence quality score is 17.209 / 100\n",
      "EPOCH 125 takes 0.063 minutes\n",
      "===== EPOCH 126 =====\n",
      "Training ...\n"
     ]
    },
    {
     "name": "stderr",
     "output_type": "stream",
     "text": [
      "100%|██████████| 80/80 [00:03<00:00, 21.31it/s, property_loss=0.02, vae_loss=0.45]\n"
     ]
    },
    {
     "name": "stdout",
     "output_type": "stream",
     "text": [
      "Validation ...\n",
      "Loss is 0.538\n",
      "Elementary quality score is 78.823 / 100\n",
      "Sequence quality score is 16.279 / 100\n",
      "EPOCH 126 takes 0.063 minutes\n",
      "===== EPOCH 127 =====\n",
      "Training ...\n"
     ]
    },
    {
     "name": "stderr",
     "output_type": "stream",
     "text": [
      "100%|██████████| 80/80 [00:03<00:00, 21.33it/s, property_loss=0.02, vae_loss=0.45]\n"
     ]
    },
    {
     "name": "stdout",
     "output_type": "stream",
     "text": [
      "Validation ...\n",
      "Loss is 0.538\n",
      "Elementary quality score is 78.813 / 100\n",
      "Sequence quality score is 16.744 / 100\n",
      "EPOCH 127 takes 0.063 minutes\n",
      "===== EPOCH 128 =====\n",
      "Training ...\n"
     ]
    },
    {
     "name": "stderr",
     "output_type": "stream",
     "text": [
      "100%|██████████| 80/80 [00:03<00:00, 21.33it/s, property_loss=0.02, vae_loss=0.45]\n"
     ]
    },
    {
     "name": "stdout",
     "output_type": "stream",
     "text": [
      "Validation ...\n",
      "Loss is 0.537\n",
      "Elementary quality score is 78.934 / 100\n",
      "Sequence quality score is 15.814 / 100\n",
      "EPOCH 128 takes 0.063 minutes\n",
      "===== EPOCH 129 =====\n",
      "Training ...\n"
     ]
    },
    {
     "name": "stderr",
     "output_type": "stream",
     "text": [
      "100%|██████████| 80/80 [00:03<00:00, 21.30it/s, property_loss=0.02, vae_loss=0.45]\n"
     ]
    },
    {
     "name": "stdout",
     "output_type": "stream",
     "text": [
      "Validation ...\n",
      "Loss is 0.537\n",
      "Elementary quality score is 78.929 / 100\n",
      "Sequence quality score is 16.744 / 100\n",
      "EPOCH 129 takes 0.063 minutes\n",
      "===== EPOCH 130 =====\n",
      "Training ...\n"
     ]
    },
    {
     "name": "stderr",
     "output_type": "stream",
     "text": [
      "100%|██████████| 80/80 [00:03<00:00, 21.32it/s, property_loss=0.02, vae_loss=0.45]\n"
     ]
    },
    {
     "name": "stdout",
     "output_type": "stream",
     "text": [
      "Validation ...\n",
      "Loss is 0.537\n",
      "Elementary quality score is 79.007 / 100\n",
      "Sequence quality score is 16.279 / 100\n",
      "EPOCH 130 takes 0.063 minutes\n",
      "===== EPOCH 131 =====\n",
      "Training ...\n"
     ]
    },
    {
     "name": "stderr",
     "output_type": "stream",
     "text": [
      "100%|██████████| 80/80 [00:03<00:00, 20.35it/s, property_loss=0.02, vae_loss=0.45]\n"
     ]
    },
    {
     "name": "stdout",
     "output_type": "stream",
     "text": [
      "Validation ...\n",
      "Loss is 0.537\n",
      "Elementary quality score is 78.934 / 100\n",
      "Sequence quality score is 16.899 / 100\n",
      "EPOCH 131 takes 0.066 minutes\n",
      "===== EPOCH 132 =====\n",
      "Training ...\n"
     ]
    },
    {
     "name": "stderr",
     "output_type": "stream",
     "text": [
      "100%|██████████| 80/80 [00:03<00:00, 21.30it/s, property_loss=0.02, vae_loss=0.45]\n"
     ]
    },
    {
     "name": "stdout",
     "output_type": "stream",
     "text": [
      "Validation ...\n",
      "Loss is 0.537\n",
      "Elementary quality score is 78.987 / 100\n",
      "Sequence quality score is 17.364 / 100\n",
      "EPOCH 132 takes 0.063 minutes\n",
      "===== EPOCH 133 =====\n",
      "Training ...\n"
     ]
    },
    {
     "name": "stderr",
     "output_type": "stream",
     "text": [
      "100%|██████████| 80/80 [00:03<00:00, 21.33it/s, property_loss=0.02, vae_loss=0.45]\n"
     ]
    },
    {
     "name": "stdout",
     "output_type": "stream",
     "text": [
      "Validation ...\n",
      "Loss is 0.536\n",
      "Elementary quality score is 78.905 / 100\n",
      "Sequence quality score is 18.295 / 100\n",
      "EPOCH 133 takes 0.063 minutes\n",
      "===== EPOCH 134 =====\n",
      "Training ...\n"
     ]
    },
    {
     "name": "stderr",
     "output_type": "stream",
     "text": [
      "100%|██████████| 80/80 [00:03<00:00, 21.23it/s, property_loss=0.02, vae_loss=0.45]\n"
     ]
    },
    {
     "name": "stdout",
     "output_type": "stream",
     "text": [
      "Validation ...\n",
      "Loss is 0.536\n",
      "Elementary quality score is 78.968 / 100\n",
      "Sequence quality score is 18.450 / 100\n",
      "EPOCH 134 takes 0.063 minutes\n",
      "===== EPOCH 135 =====\n",
      "Training ...\n"
     ]
    },
    {
     "name": "stderr",
     "output_type": "stream",
     "text": [
      "100%|██████████| 80/80 [00:04<00:00, 19.08it/s, property_loss=0.02, vae_loss=0.45]\n"
     ]
    },
    {
     "name": "stdout",
     "output_type": "stream",
     "text": [
      "Validation ...\n",
      "Loss is 0.535\n",
      "Elementary quality score is 78.983 / 100\n",
      "Sequence quality score is 18.760 / 100\n",
      "EPOCH 135 takes 0.070 minutes\n",
      "===== EPOCH 136 =====\n",
      "Training ...\n"
     ]
    },
    {
     "name": "stderr",
     "output_type": "stream",
     "text": [
      "100%|██████████| 80/80 [00:04<00:00, 18.39it/s, property_loss=0.02, vae_loss=0.45]\n"
     ]
    },
    {
     "name": "stdout",
     "output_type": "stream",
     "text": [
      "Validation ...\n",
      "Loss is 0.535\n",
      "Elementary quality score is 79.012 / 100\n",
      "Sequence quality score is 19.535 / 100\n",
      "EPOCH 136 takes 0.073 minutes\n",
      "===== EPOCH 137 =====\n",
      "Training ...\n"
     ]
    },
    {
     "name": "stderr",
     "output_type": "stream",
     "text": [
      "100%|██████████| 80/80 [00:04<00:00, 19.64it/s, property_loss=0.02, vae_loss=0.45]\n"
     ]
    },
    {
     "name": "stdout",
     "output_type": "stream",
     "text": [
      "Validation ...\n",
      "Loss is 0.535\n",
      "Elementary quality score is 79.113 / 100\n",
      "Sequence quality score is 18.915 / 100\n",
      "EPOCH 137 takes 0.068 minutes\n",
      "===== EPOCH 138 =====\n",
      "Training ...\n"
     ]
    },
    {
     "name": "stderr",
     "output_type": "stream",
     "text": [
      "100%|██████████| 80/80 [00:03<00:00, 20.95it/s, property_loss=0.02, vae_loss=0.44]\n"
     ]
    },
    {
     "name": "stdout",
     "output_type": "stream",
     "text": [
      "Validation ...\n",
      "Loss is 0.535\n",
      "Elementary quality score is 79.123 / 100\n",
      "Sequence quality score is 18.450 / 100\n",
      "EPOCH 138 takes 0.064 minutes\n",
      "===== EPOCH 139 =====\n",
      "Training ...\n"
     ]
    },
    {
     "name": "stderr",
     "output_type": "stream",
     "text": [
      "100%|██████████| 80/80 [00:03<00:00, 21.29it/s, property_loss=0.02, vae_loss=0.44]\n"
     ]
    },
    {
     "name": "stdout",
     "output_type": "stream",
     "text": [
      "Validation ...\n",
      "Loss is 0.535\n",
      "Elementary quality score is 79.138 / 100\n",
      "Sequence quality score is 18.450 / 100\n",
      "EPOCH 139 takes 0.063 minutes\n",
      "===== EPOCH 140 =====\n",
      "Training ...\n"
     ]
    },
    {
     "name": "stderr",
     "output_type": "stream",
     "text": [
      "100%|██████████| 80/80 [00:03<00:00, 20.38it/s, property_loss=0.02, vae_loss=0.44]\n"
     ]
    },
    {
     "name": "stdout",
     "output_type": "stream",
     "text": [
      "Validation ...\n",
      "Loss is 0.534\n",
      "Elementary quality score is 79.278 / 100\n",
      "Sequence quality score is 17.829 / 100\n",
      "EPOCH 140 takes 0.066 minutes\n",
      "===== EPOCH 141 =====\n",
      "Training ...\n"
     ]
    },
    {
     "name": "stderr",
     "output_type": "stream",
     "text": [
      "100%|██████████| 80/80 [00:03<00:00, 21.30it/s, property_loss=0.02, vae_loss=0.44]\n"
     ]
    },
    {
     "name": "stdout",
     "output_type": "stream",
     "text": [
      "Validation ...\n",
      "Loss is 0.535\n",
      "Elementary quality score is 79.312 / 100\n",
      "Sequence quality score is 17.829 / 100\n",
      "EPOCH 141 takes 0.063 minutes\n",
      "===== EPOCH 142 =====\n",
      "Training ...\n"
     ]
    },
    {
     "name": "stderr",
     "output_type": "stream",
     "text": [
      "100%|██████████| 80/80 [00:03<00:00, 21.34it/s, property_loss=0.02, vae_loss=0.44]\n"
     ]
    },
    {
     "name": "stdout",
     "output_type": "stream",
     "text": [
      "Validation ...\n",
      "Loss is 0.534\n",
      "Elementary quality score is 79.365 / 100\n",
      "Sequence quality score is 18.605 / 100\n",
      "EPOCH 142 takes 0.063 minutes\n",
      "===== EPOCH 143 =====\n",
      "Training ...\n"
     ]
    },
    {
     "name": "stderr",
     "output_type": "stream",
     "text": [
      "100%|██████████| 80/80 [00:03<00:00, 21.37it/s, property_loss=0.02, vae_loss=0.44]\n"
     ]
    },
    {
     "name": "stdout",
     "output_type": "stream",
     "text": [
      "Validation ...\n",
      "Loss is 0.533\n",
      "Elementary quality score is 79.385 / 100\n",
      "Sequence quality score is 18.295 / 100\n",
      "EPOCH 143 takes 0.063 minutes\n",
      "===== EPOCH 144 =====\n",
      "Training ...\n"
     ]
    },
    {
     "name": "stderr",
     "output_type": "stream",
     "text": [
      "100%|██████████| 80/80 [00:03<00:00, 21.38it/s, property_loss=0.02, vae_loss=0.44]\n"
     ]
    },
    {
     "name": "stdout",
     "output_type": "stream",
     "text": [
      "Validation ...\n",
      "Loss is 0.533\n",
      "Elementary quality score is 79.540 / 100\n",
      "Sequence quality score is 17.519 / 100\n",
      "EPOCH 144 takes 0.063 minutes\n",
      "===== EPOCH 145 =====\n",
      "Training ...\n"
     ]
    },
    {
     "name": "stderr",
     "output_type": "stream",
     "text": [
      "100%|██████████| 80/80 [00:03<00:00, 21.36it/s, property_loss=0.02, vae_loss=0.44]\n"
     ]
    },
    {
     "name": "stdout",
     "output_type": "stream",
     "text": [
      "Validation ...\n",
      "Loss is 0.533\n",
      "Elementary quality score is 79.501 / 100\n",
      "Sequence quality score is 17.674 / 100\n",
      "EPOCH 145 takes 0.063 minutes\n",
      "===== EPOCH 146 =====\n",
      "Training ...\n"
     ]
    },
    {
     "name": "stderr",
     "output_type": "stream",
     "text": [
      "100%|██████████| 80/80 [00:03<00:00, 21.33it/s, property_loss=0.02, vae_loss=0.44]\n"
     ]
    },
    {
     "name": "stdout",
     "output_type": "stream",
     "text": [
      "Validation ...\n",
      "Loss is 0.532\n",
      "Elementary quality score is 79.559 / 100\n",
      "Sequence quality score is 18.450 / 100\n",
      "EPOCH 146 takes 0.063 minutes\n",
      "===== EPOCH 147 =====\n",
      "Training ...\n"
     ]
    },
    {
     "name": "stderr",
     "output_type": "stream",
     "text": [
      "100%|██████████| 80/80 [00:03<00:00, 21.38it/s, property_loss=0.02, vae_loss=0.44]\n"
     ]
    },
    {
     "name": "stdout",
     "output_type": "stream",
     "text": [
      "Validation ...\n",
      "Loss is 0.531\n",
      "Elementary quality score is 79.530 / 100\n",
      "Sequence quality score is 17.984 / 100\n",
      "EPOCH 147 takes 0.062 minutes\n",
      "===== EPOCH 148 =====\n",
      "Training ...\n"
     ]
    },
    {
     "name": "stderr",
     "output_type": "stream",
     "text": [
      "100%|██████████| 80/80 [00:03<00:00, 21.37it/s, property_loss=0.02, vae_loss=0.44]\n"
     ]
    },
    {
     "name": "stdout",
     "output_type": "stream",
     "text": [
      "Validation ...\n",
      "Loss is 0.531\n",
      "Elementary quality score is 79.588 / 100\n",
      "Sequence quality score is 19.535 / 100\n",
      "EPOCH 148 takes 0.063 minutes\n",
      "===== EPOCH 149 =====\n",
      "Training ...\n"
     ]
    },
    {
     "name": "stderr",
     "output_type": "stream",
     "text": [
      "100%|██████████| 80/80 [00:03<00:00, 21.37it/s, property_loss=0.02, vae_loss=0.44]\n"
     ]
    },
    {
     "name": "stdout",
     "output_type": "stream",
     "text": [
      "Validation ...\n",
      "Loss is 0.530\n",
      "Elementary quality score is 79.545 / 100\n",
      "Sequence quality score is 20.310 / 100\n",
      "EPOCH 149 takes 0.063 minutes\n",
      "===== EPOCH 150 =====\n",
      "Training ...\n"
     ]
    },
    {
     "name": "stderr",
     "output_type": "stream",
     "text": [
      "100%|██████████| 80/80 [00:03<00:00, 20.44it/s, property_loss=0.02, vae_loss=0.44]\n"
     ]
    },
    {
     "name": "stdout",
     "output_type": "stream",
     "text": [
      "Validation ...\n",
      "Loss is 0.531\n",
      "Elementary quality score is 79.617 / 100\n",
      "Sequence quality score is 19.845 / 100\n",
      "EPOCH 150 takes 0.065 minutes\n",
      "===== EPOCH 151 =====\n",
      "Training ...\n"
     ]
    },
    {
     "name": "stderr",
     "output_type": "stream",
     "text": [
      "100%|██████████| 80/80 [00:03<00:00, 21.38it/s, property_loss=0.02, vae_loss=0.44]\n"
     ]
    },
    {
     "name": "stdout",
     "output_type": "stream",
     "text": [
      "Validation ...\n",
      "Loss is 0.529\n",
      "Elementary quality score is 79.646 / 100\n",
      "Sequence quality score is 19.535 / 100\n",
      "EPOCH 151 takes 0.062 minutes\n",
      "===== EPOCH 152 =====\n",
      "Training ...\n"
     ]
    },
    {
     "name": "stderr",
     "output_type": "stream",
     "text": [
      "100%|██████████| 80/80 [00:03<00:00, 21.38it/s, property_loss=0.02, vae_loss=0.44]\n"
     ]
    },
    {
     "name": "stdout",
     "output_type": "stream",
     "text": [
      "Validation ...\n",
      "Loss is 0.529\n",
      "Elementary quality score is 79.661 / 100\n",
      "Sequence quality score is 20.155 / 100\n",
      "EPOCH 152 takes 0.062 minutes\n",
      "===== EPOCH 153 =====\n",
      "Training ...\n"
     ]
    },
    {
     "name": "stderr",
     "output_type": "stream",
     "text": [
      "100%|██████████| 80/80 [00:03<00:00, 21.38it/s, property_loss=0.02, vae_loss=0.43]\n"
     ]
    },
    {
     "name": "stdout",
     "output_type": "stream",
     "text": [
      "Validation ...\n",
      "Loss is 0.528\n",
      "Elementary quality score is 79.675 / 100\n",
      "Sequence quality score is 20.310 / 100\n",
      "EPOCH 153 takes 0.063 minutes\n",
      "===== EPOCH 154 =====\n",
      "Training ...\n"
     ]
    },
    {
     "name": "stderr",
     "output_type": "stream",
     "text": [
      "100%|██████████| 80/80 [00:03<00:00, 21.37it/s, property_loss=0.02, vae_loss=0.43]\n"
     ]
    },
    {
     "name": "stdout",
     "output_type": "stream",
     "text": [
      "Validation ...\n",
      "Loss is 0.527\n",
      "Elementary quality score is 79.666 / 100\n",
      "Sequence quality score is 21.085 / 100\n",
      "EPOCH 154 takes 0.063 minutes\n",
      "===== EPOCH 155 =====\n",
      "Training ...\n"
     ]
    },
    {
     "name": "stderr",
     "output_type": "stream",
     "text": [
      "100%|██████████| 80/80 [00:03<00:00, 21.36it/s, property_loss=0.02, vae_loss=0.43]\n"
     ]
    },
    {
     "name": "stdout",
     "output_type": "stream",
     "text": [
      "Validation ...\n",
      "Loss is 0.527\n",
      "Elementary quality score is 79.719 / 100\n",
      "Sequence quality score is 19.690 / 100\n",
      "EPOCH 155 takes 0.063 minutes\n",
      "===== EPOCH 156 =====\n",
      "Training ...\n"
     ]
    },
    {
     "name": "stderr",
     "output_type": "stream",
     "text": [
      "100%|██████████| 80/80 [00:03<00:00, 21.37it/s, property_loss=0.02, vae_loss=0.43]\n"
     ]
    },
    {
     "name": "stdout",
     "output_type": "stream",
     "text": [
      "Validation ...\n",
      "Loss is 0.526\n",
      "Elementary quality score is 79.714 / 100\n",
      "Sequence quality score is 19.070 / 100\n",
      "EPOCH 156 takes 0.063 minutes\n",
      "===== EPOCH 157 =====\n",
      "Training ...\n"
     ]
    },
    {
     "name": "stderr",
     "output_type": "stream",
     "text": [
      "100%|██████████| 80/80 [00:03<00:00, 21.37it/s, property_loss=0.02, vae_loss=0.43]\n"
     ]
    },
    {
     "name": "stdout",
     "output_type": "stream",
     "text": [
      "Validation ...\n",
      "Loss is 0.526\n",
      "Elementary quality score is 79.680 / 100\n",
      "Sequence quality score is 19.070 / 100\n",
      "EPOCH 157 takes 0.063 minutes\n",
      "===== EPOCH 158 =====\n",
      "Training ...\n"
     ]
    },
    {
     "name": "stderr",
     "output_type": "stream",
     "text": [
      "100%|██████████| 80/80 [00:03<00:00, 21.40it/s, property_loss=0.02, vae_loss=0.43]\n"
     ]
    },
    {
     "name": "stdout",
     "output_type": "stream",
     "text": [
      "Validation ...\n",
      "Loss is 0.524\n",
      "Elementary quality score is 79.680 / 100\n",
      "Sequence quality score is 19.225 / 100\n",
      "EPOCH 158 takes 0.062 minutes\n",
      "===== EPOCH 159 =====\n",
      "Training ...\n"
     ]
    },
    {
     "name": "stderr",
     "output_type": "stream",
     "text": [
      "100%|██████████| 80/80 [00:03<00:00, 21.37it/s, property_loss=0.02, vae_loss=0.43]\n"
     ]
    },
    {
     "name": "stdout",
     "output_type": "stream",
     "text": [
      "Validation ...\n",
      "Loss is 0.524\n",
      "Elementary quality score is 79.704 / 100\n",
      "Sequence quality score is 19.380 / 100\n",
      "EPOCH 159 takes 0.063 minutes\n",
      "===== EPOCH 160 =====\n",
      "Training ...\n"
     ]
    },
    {
     "name": "stderr",
     "output_type": "stream",
     "text": [
      "100%|██████████| 80/80 [00:03<00:00, 20.39it/s, property_loss=0.02, vae_loss=0.43]\n"
     ]
    },
    {
     "name": "stdout",
     "output_type": "stream",
     "text": [
      "Validation ...\n",
      "Loss is 0.523\n",
      "Elementary quality score is 79.758 / 100\n",
      "Sequence quality score is 19.535 / 100\n",
      "EPOCH 160 takes 0.066 minutes\n",
      "===== EPOCH 161 =====\n",
      "Training ...\n"
     ]
    },
    {
     "name": "stderr",
     "output_type": "stream",
     "text": [
      "100%|██████████| 80/80 [00:03<00:00, 21.37it/s, property_loss=0.02, vae_loss=0.43]\n"
     ]
    },
    {
     "name": "stdout",
     "output_type": "stream",
     "text": [
      "Validation ...\n",
      "Loss is 0.522\n",
      "Elementary quality score is 79.738 / 100\n",
      "Sequence quality score is 20.465 / 100\n",
      "EPOCH 161 takes 0.063 minutes\n",
      "===== EPOCH 162 =====\n",
      "Training ...\n"
     ]
    },
    {
     "name": "stderr",
     "output_type": "stream",
     "text": [
      "100%|██████████| 80/80 [00:03<00:00, 21.34it/s, property_loss=0.02, vae_loss=0.43]\n"
     ]
    },
    {
     "name": "stdout",
     "output_type": "stream",
     "text": [
      "Validation ...\n",
      "Loss is 0.522\n",
      "Elementary quality score is 79.734 / 100\n",
      "Sequence quality score is 20.465 / 100\n",
      "EPOCH 162 takes 0.063 minutes\n",
      "===== EPOCH 163 =====\n",
      "Training ...\n"
     ]
    },
    {
     "name": "stderr",
     "output_type": "stream",
     "text": [
      "100%|██████████| 80/80 [00:03<00:00, 21.38it/s, property_loss=0.02, vae_loss=0.43]\n"
     ]
    },
    {
     "name": "stdout",
     "output_type": "stream",
     "text": [
      "Validation ...\n",
      "Loss is 0.522\n",
      "Elementary quality score is 79.758 / 100\n",
      "Sequence quality score is 19.690 / 100\n",
      "EPOCH 163 takes 0.062 minutes\n",
      "===== EPOCH 164 =====\n",
      "Training ...\n"
     ]
    },
    {
     "name": "stderr",
     "output_type": "stream",
     "text": [
      "100%|██████████| 80/80 [00:03<00:00, 21.37it/s, property_loss=0.02, vae_loss=0.43]\n"
     ]
    },
    {
     "name": "stdout",
     "output_type": "stream",
     "text": [
      "Validation ...\n",
      "Loss is 0.521\n",
      "Elementary quality score is 79.690 / 100\n",
      "Sequence quality score is 20.155 / 100\n",
      "EPOCH 164 takes 0.063 minutes\n",
      "===== EPOCH 165 =====\n",
      "Training ...\n"
     ]
    },
    {
     "name": "stderr",
     "output_type": "stream",
     "text": [
      "100%|██████████| 80/80 [00:03<00:00, 21.37it/s, property_loss=0.02, vae_loss=0.43]\n"
     ]
    },
    {
     "name": "stdout",
     "output_type": "stream",
     "text": [
      "Validation ...\n",
      "Loss is 0.521\n",
      "Elementary quality score is 79.632 / 100\n",
      "Sequence quality score is 20.465 / 100\n",
      "EPOCH 165 takes 0.063 minutes\n",
      "===== EPOCH 166 =====\n",
      "Training ...\n"
     ]
    },
    {
     "name": "stderr",
     "output_type": "stream",
     "text": [
      "100%|██████████| 80/80 [00:03<00:00, 21.38it/s, property_loss=0.02, vae_loss=0.43]\n"
     ]
    },
    {
     "name": "stdout",
     "output_type": "stream",
     "text": [
      "Validation ...\n",
      "Loss is 0.521\n",
      "Elementary quality score is 79.656 / 100\n",
      "Sequence quality score is 20.155 / 100\n",
      "EPOCH 166 takes 0.063 minutes\n",
      "===== EPOCH 167 =====\n",
      "Training ...\n"
     ]
    },
    {
     "name": "stderr",
     "output_type": "stream",
     "text": [
      "100%|██████████| 80/80 [00:03<00:00, 21.35it/s, property_loss=0.02, vae_loss=0.44]\n"
     ]
    },
    {
     "name": "stdout",
     "output_type": "stream",
     "text": [
      "Validation ...\n",
      "Loss is 0.519\n",
      "Elementary quality score is 79.709 / 100\n",
      "Sequence quality score is 20.930 / 100\n",
      "EPOCH 167 takes 0.063 minutes\n",
      "===== EPOCH 168 =====\n",
      "Training ...\n"
     ]
    },
    {
     "name": "stderr",
     "output_type": "stream",
     "text": [
      "100%|██████████| 80/80 [00:03<00:00, 21.38it/s, property_loss=0.02, vae_loss=0.43]\n"
     ]
    },
    {
     "name": "stdout",
     "output_type": "stream",
     "text": [
      "Validation ...\n",
      "Loss is 0.520\n",
      "Elementary quality score is 79.680 / 100\n",
      "Sequence quality score is 21.395 / 100\n",
      "EPOCH 168 takes 0.062 minutes\n",
      "===== EPOCH 169 =====\n",
      "Training ...\n"
     ]
    },
    {
     "name": "stderr",
     "output_type": "stream",
     "text": [
      "100%|██████████| 80/80 [00:03<00:00, 21.24it/s, property_loss=0.02, vae_loss=0.43]\n"
     ]
    },
    {
     "name": "stdout",
     "output_type": "stream",
     "text": [
      "Validation ...\n",
      "Loss is 0.518\n",
      "Elementary quality score is 79.763 / 100\n",
      "Sequence quality score is 20.620 / 100\n",
      "EPOCH 169 takes 0.063 minutes\n",
      "===== EPOCH 170 =====\n",
      "Training ...\n"
     ]
    },
    {
     "name": "stderr",
     "output_type": "stream",
     "text": [
      "100%|██████████| 80/80 [00:03<00:00, 21.38it/s, property_loss=0.02, vae_loss=0.43]\n"
     ]
    },
    {
     "name": "stdout",
     "output_type": "stream",
     "text": [
      "Validation ...\n",
      "Loss is 0.518\n",
      "Elementary quality score is 79.714 / 100\n",
      "Sequence quality score is 20.620 / 100\n",
      "EPOCH 170 takes 0.063 minutes\n",
      "===== EPOCH 171 =====\n",
      "Training ...\n"
     ]
    },
    {
     "name": "stderr",
     "output_type": "stream",
     "text": [
      "100%|██████████| 80/80 [00:03<00:00, 21.36it/s, property_loss=0.02, vae_loss=0.43]\n"
     ]
    },
    {
     "name": "stdout",
     "output_type": "stream",
     "text": [
      "Validation ...\n",
      "Loss is 0.518\n",
      "Elementary quality score is 79.700 / 100\n",
      "Sequence quality score is 19.845 / 100\n",
      "EPOCH 171 takes 0.063 minutes\n",
      "===== EPOCH 172 =====\n",
      "Training ...\n"
     ]
    },
    {
     "name": "stderr",
     "output_type": "stream",
     "text": [
      "100%|██████████| 80/80 [00:03<00:00, 21.38it/s, property_loss=0.02, vae_loss=0.43]\n"
     ]
    },
    {
     "name": "stdout",
     "output_type": "stream",
     "text": [
      "Validation ...\n",
      "Loss is 0.518\n",
      "Elementary quality score is 79.656 / 100\n",
      "Sequence quality score is 20.000 / 100\n",
      "EPOCH 172 takes 0.063 minutes\n",
      "===== EPOCH 173 =====\n",
      "Training ...\n"
     ]
    },
    {
     "name": "stderr",
     "output_type": "stream",
     "text": [
      "100%|██████████| 80/80 [00:03<00:00, 21.36it/s, property_loss=0.02, vae_loss=0.43]\n"
     ]
    },
    {
     "name": "stdout",
     "output_type": "stream",
     "text": [
      "Validation ...\n",
      "Loss is 0.518\n",
      "Elementary quality score is 79.685 / 100\n",
      "Sequence quality score is 17.674 / 100\n",
      "EPOCH 173 takes 0.063 minutes\n",
      "===== EPOCH 174 =====\n",
      "Training ...\n"
     ]
    },
    {
     "name": "stderr",
     "output_type": "stream",
     "text": [
      "100%|██████████| 80/80 [00:03<00:00, 21.37it/s, property_loss=0.02, vae_loss=0.43]\n"
     ]
    },
    {
     "name": "stdout",
     "output_type": "stream",
     "text": [
      "Validation ...\n",
      "Loss is 0.518\n",
      "Elementary quality score is 79.709 / 100\n",
      "Sequence quality score is 18.605 / 100\n",
      "EPOCH 174 takes 0.063 minutes\n",
      "===== EPOCH 175 =====\n",
      "Training ...\n"
     ]
    },
    {
     "name": "stderr",
     "output_type": "stream",
     "text": [
      "100%|██████████| 80/80 [00:03<00:00, 21.38it/s, property_loss=0.02, vae_loss=0.43]\n"
     ]
    },
    {
     "name": "stdout",
     "output_type": "stream",
     "text": [
      "Validation ...\n",
      "Loss is 0.517\n",
      "Elementary quality score is 79.748 / 100\n",
      "Sequence quality score is 16.434 / 100\n",
      "EPOCH 175 takes 0.063 minutes\n",
      "===== EPOCH 176 =====\n",
      "Training ...\n"
     ]
    },
    {
     "name": "stderr",
     "output_type": "stream",
     "text": [
      "100%|██████████| 80/80 [00:03<00:00, 21.38it/s, property_loss=0.02, vae_loss=0.43]\n"
     ]
    },
    {
     "name": "stdout",
     "output_type": "stream",
     "text": [
      "Validation ...\n",
      "Loss is 0.518\n",
      "Elementary quality score is 79.840 / 100\n",
      "Sequence quality score is 17.209 / 100\n",
      "EPOCH 176 takes 0.063 minutes\n",
      "===== EPOCH 177 =====\n",
      "Training ...\n"
     ]
    },
    {
     "name": "stderr",
     "output_type": "stream",
     "text": [
      "100%|██████████| 80/80 [00:03<00:00, 21.37it/s, property_loss=0.02, vae_loss=0.43]\n"
     ]
    },
    {
     "name": "stdout",
     "output_type": "stream",
     "text": [
      "Validation ...\n",
      "Loss is 0.517\n",
      "Elementary quality score is 79.806 / 100\n",
      "Sequence quality score is 16.899 / 100\n",
      "EPOCH 177 takes 0.063 minutes\n",
      "===== EPOCH 178 =====\n",
      "Training ...\n"
     ]
    },
    {
     "name": "stderr",
     "output_type": "stream",
     "text": [
      "100%|██████████| 80/80 [00:03<00:00, 21.32it/s, property_loss=0.02, vae_loss=0.43]\n"
     ]
    },
    {
     "name": "stdout",
     "output_type": "stream",
     "text": [
      "Validation ...\n",
      "Loss is 0.517\n",
      "Elementary quality score is 79.830 / 100\n",
      "Sequence quality score is 16.434 / 100\n",
      "EPOCH 178 takes 0.063 minutes\n",
      "===== EPOCH 179 =====\n",
      "Training ...\n"
     ]
    },
    {
     "name": "stderr",
     "output_type": "stream",
     "text": [
      "100%|██████████| 80/80 [00:03<00:00, 21.38it/s, property_loss=0.02, vae_loss=0.43]\n"
     ]
    },
    {
     "name": "stdout",
     "output_type": "stream",
     "text": [
      "Validation ...\n",
      "Loss is 0.517\n",
      "Elementary quality score is 79.835 / 100\n",
      "Sequence quality score is 18.295 / 100\n",
      "EPOCH 179 takes 0.063 minutes\n",
      "===== EPOCH 180 =====\n",
      "Training ...\n"
     ]
    },
    {
     "name": "stderr",
     "output_type": "stream",
     "text": [
      "100%|██████████| 80/80 [00:03<00:00, 21.36it/s, property_loss=0.02, vae_loss=0.43]\n"
     ]
    },
    {
     "name": "stdout",
     "output_type": "stream",
     "text": [
      "Validation ...\n",
      "Loss is 0.517\n",
      "Elementary quality score is 79.869 / 100\n",
      "Sequence quality score is 17.829 / 100\n",
      "EPOCH 180 takes 0.063 minutes\n",
      "===== EPOCH 181 =====\n",
      "Training ...\n"
     ]
    },
    {
     "name": "stderr",
     "output_type": "stream",
     "text": [
      "100%|██████████| 80/80 [00:03<00:00, 21.36it/s, property_loss=0.02, vae_loss=0.43]\n"
     ]
    },
    {
     "name": "stdout",
     "output_type": "stream",
     "text": [
      "Validation ...\n",
      "Loss is 0.517\n",
      "Elementary quality score is 79.893 / 100\n",
      "Sequence quality score is 17.984 / 100\n",
      "EPOCH 181 takes 0.063 minutes\n",
      "===== EPOCH 182 =====\n",
      "Training ...\n"
     ]
    },
    {
     "name": "stderr",
     "output_type": "stream",
     "text": [
      "100%|██████████| 80/80 [00:03<00:00, 21.37it/s, property_loss=0.02, vae_loss=0.43]\n"
     ]
    },
    {
     "name": "stdout",
     "output_type": "stream",
     "text": [
      "Validation ...\n",
      "Loss is 0.517\n",
      "Elementary quality score is 79.937 / 100\n",
      "Sequence quality score is 17.209 / 100\n",
      "EPOCH 182 takes 0.063 minutes\n",
      "===== EPOCH 183 =====\n",
      "Training ...\n"
     ]
    },
    {
     "name": "stderr",
     "output_type": "stream",
     "text": [
      "100%|██████████| 80/80 [00:03<00:00, 21.38it/s, property_loss=0.02, vae_loss=0.43]\n"
     ]
    },
    {
     "name": "stdout",
     "output_type": "stream",
     "text": [
      "Validation ...\n",
      "Loss is 0.516\n",
      "Elementary quality score is 79.952 / 100\n",
      "Sequence quality score is 18.295 / 100\n",
      "EPOCH 183 takes 0.063 minutes\n",
      "===== EPOCH 184 =====\n",
      "Training ...\n"
     ]
    },
    {
     "name": "stderr",
     "output_type": "stream",
     "text": [
      "100%|██████████| 80/80 [00:03<00:00, 21.35it/s, property_loss=0.02, vae_loss=0.43]\n"
     ]
    },
    {
     "name": "stdout",
     "output_type": "stream",
     "text": [
      "Validation ...\n",
      "Loss is 0.517\n",
      "Elementary quality score is 79.985 / 100\n",
      "Sequence quality score is 17.984 / 100\n",
      "EPOCH 184 takes 0.063 minutes\n",
      "===== EPOCH 185 =====\n",
      "Training ...\n"
     ]
    },
    {
     "name": "stderr",
     "output_type": "stream",
     "text": [
      "100%|██████████| 80/80 [00:03<00:00, 21.38it/s, property_loss=0.02, vae_loss=0.43]\n"
     ]
    },
    {
     "name": "stdout",
     "output_type": "stream",
     "text": [
      "Validation ...\n",
      "Loss is 0.517\n",
      "Elementary quality score is 79.913 / 100\n",
      "Sequence quality score is 18.295 / 100\n",
      "EPOCH 185 takes 0.062 minutes\n",
      "===== EPOCH 186 =====\n",
      "Training ...\n"
     ]
    },
    {
     "name": "stderr",
     "output_type": "stream",
     "text": [
      "100%|██████████| 80/80 [00:03<00:00, 21.39it/s, property_loss=0.02, vae_loss=0.43]\n"
     ]
    },
    {
     "name": "stdout",
     "output_type": "stream",
     "text": [
      "Validation ...\n",
      "Loss is 0.516\n",
      "Elementary quality score is 79.913 / 100\n",
      "Sequence quality score is 18.450 / 100\n",
      "EPOCH 186 takes 0.062 minutes\n",
      "===== EPOCH 187 =====\n",
      "Training ...\n"
     ]
    },
    {
     "name": "stderr",
     "output_type": "stream",
     "text": [
      "100%|██████████| 80/80 [00:03<00:00, 21.37it/s, property_loss=0.02, vae_loss=0.43]\n"
     ]
    },
    {
     "name": "stdout",
     "output_type": "stream",
     "text": [
      "Validation ...\n",
      "Loss is 0.516\n",
      "Elementary quality score is 79.884 / 100\n",
      "Sequence quality score is 17.519 / 100\n",
      "EPOCH 187 takes 0.063 minutes\n",
      "===== EPOCH 188 =====\n",
      "Training ...\n"
     ]
    },
    {
     "name": "stderr",
     "output_type": "stream",
     "text": [
      "100%|██████████| 80/80 [00:03<00:00, 21.14it/s, property_loss=0.02, vae_loss=0.43]\n"
     ]
    },
    {
     "name": "stdout",
     "output_type": "stream",
     "text": [
      "Validation ...\n",
      "Loss is 0.517\n",
      "Elementary quality score is 79.908 / 100\n",
      "Sequence quality score is 17.519 / 100\n",
      "EPOCH 188 takes 0.063 minutes\n",
      "===== EPOCH 189 =====\n",
      "Training ...\n"
     ]
    },
    {
     "name": "stderr",
     "output_type": "stream",
     "text": [
      "100%|██████████| 80/80 [00:03<00:00, 20.23it/s, property_loss=0.02, vae_loss=0.43]\n"
     ]
    },
    {
     "name": "stdout",
     "output_type": "stream",
     "text": [
      "Validation ...\n",
      "Loss is 0.518\n",
      "Elementary quality score is 79.898 / 100\n",
      "Sequence quality score is 17.674 / 100\n",
      "EPOCH 189 takes 0.066 minutes\n",
      "===== EPOCH 190 =====\n",
      "Training ...\n"
     ]
    },
    {
     "name": "stderr",
     "output_type": "stream",
     "text": [
      "100%|██████████| 80/80 [00:03<00:00, 21.22it/s, property_loss=0.02, vae_loss=0.43]\n"
     ]
    },
    {
     "name": "stdout",
     "output_type": "stream",
     "text": [
      "Validation ...\n",
      "Loss is 0.517\n",
      "Elementary quality score is 79.927 / 100\n",
      "Sequence quality score is 17.209 / 100\n",
      "EPOCH 190 takes 0.063 minutes\n",
      "===== EPOCH 191 =====\n",
      "Training ...\n"
     ]
    },
    {
     "name": "stderr",
     "output_type": "stream",
     "text": [
      "100%|██████████| 80/80 [00:03<00:00, 21.23it/s, property_loss=0.02, vae_loss=0.43]\n"
     ]
    },
    {
     "name": "stdout",
     "output_type": "stream",
     "text": [
      "Validation ...\n",
      "Loss is 0.517\n",
      "Elementary quality score is 79.971 / 100\n",
      "Sequence quality score is 17.519 / 100\n",
      "EPOCH 191 takes 0.063 minutes\n",
      "===== EPOCH 192 =====\n",
      "Training ...\n"
     ]
    },
    {
     "name": "stderr",
     "output_type": "stream",
     "text": [
      "100%|██████████| 80/80 [00:03<00:00, 21.25it/s, property_loss=0.02, vae_loss=0.43]\n"
     ]
    },
    {
     "name": "stdout",
     "output_type": "stream",
     "text": [
      "Validation ...\n",
      "Loss is 0.518\n",
      "Elementary quality score is 80.015 / 100\n",
      "Sequence quality score is 17.829 / 100\n",
      "EPOCH 192 takes 0.063 minutes\n",
      "===== EPOCH 193 =====\n",
      "Training ...\n"
     ]
    },
    {
     "name": "stderr",
     "output_type": "stream",
     "text": [
      "100%|██████████| 80/80 [00:03<00:00, 21.20it/s, property_loss=0.02, vae_loss=0.43]\n"
     ]
    },
    {
     "name": "stdout",
     "output_type": "stream",
     "text": [
      "Validation ...\n",
      "Loss is 0.517\n",
      "Elementary quality score is 80.053 / 100\n",
      "Sequence quality score is 17.984 / 100\n",
      "EPOCH 193 takes 0.063 minutes\n",
      "===== EPOCH 194 =====\n",
      "Training ...\n"
     ]
    },
    {
     "name": "stderr",
     "output_type": "stream",
     "text": [
      "100%|██████████| 80/80 [00:03<00:00, 21.24it/s, property_loss=0.02, vae_loss=0.43]\n"
     ]
    },
    {
     "name": "stdout",
     "output_type": "stream",
     "text": [
      "Validation ...\n",
      "Loss is 0.517\n",
      "Elementary quality score is 80.034 / 100\n",
      "Sequence quality score is 18.140 / 100\n",
      "EPOCH 194 takes 0.063 minutes\n",
      "===== EPOCH 195 =====\n",
      "Training ...\n"
     ]
    },
    {
     "name": "stderr",
     "output_type": "stream",
     "text": [
      "100%|██████████| 80/80 [00:03<00:00, 21.18it/s, property_loss=0.02, vae_loss=0.43]\n"
     ]
    },
    {
     "name": "stdout",
     "output_type": "stream",
     "text": [
      "Validation ...\n",
      "Loss is 0.516\n",
      "Elementary quality score is 80.170 / 100\n",
      "Sequence quality score is 18.605 / 100\n",
      "EPOCH 195 takes 0.063 minutes\n",
      "===== EPOCH 196 =====\n",
      "Training ...\n"
     ]
    },
    {
     "name": "stderr",
     "output_type": "stream",
     "text": [
      "100%|██████████| 80/80 [00:03<00:00, 20.77it/s, property_loss=0.02, vae_loss=0.42]\n"
     ]
    },
    {
     "name": "stdout",
     "output_type": "stream",
     "text": [
      "Validation ...\n",
      "Loss is 0.516\n",
      "Elementary quality score is 80.213 / 100\n",
      "Sequence quality score is 17.519 / 100\n",
      "EPOCH 196 takes 0.064 minutes\n",
      "===== EPOCH 197 =====\n",
      "Training ...\n"
     ]
    },
    {
     "name": "stderr",
     "output_type": "stream",
     "text": [
      "100%|██████████| 80/80 [00:03<00:00, 20.79it/s, property_loss=0.02, vae_loss=0.42]\n"
     ]
    },
    {
     "name": "stdout",
     "output_type": "stream",
     "text": [
      "Validation ...\n",
      "Loss is 0.515\n",
      "Elementary quality score is 80.257 / 100\n",
      "Sequence quality score is 17.829 / 100\n",
      "EPOCH 197 takes 0.064 minutes\n",
      "===== EPOCH 198 =====\n",
      "Training ...\n"
     ]
    },
    {
     "name": "stderr",
     "output_type": "stream",
     "text": [
      "100%|██████████| 80/80 [00:04<00:00, 19.93it/s, property_loss=0.02, vae_loss=0.42]\n"
     ]
    },
    {
     "name": "stdout",
     "output_type": "stream",
     "text": [
      "Validation ...\n",
      "Loss is 0.515\n",
      "Elementary quality score is 80.247 / 100\n",
      "Sequence quality score is 18.140 / 100\n",
      "EPOCH 198 takes 0.067 minutes\n",
      "===== EPOCH 199 =====\n",
      "Training ...\n"
     ]
    },
    {
     "name": "stderr",
     "output_type": "stream",
     "text": [
      "100%|██████████| 80/80 [00:04<00:00, 16.22it/s, property_loss=0.02, vae_loss=0.42]\n"
     ]
    },
    {
     "name": "stdout",
     "output_type": "stream",
     "text": [
      "Validation ...\n",
      "Loss is 0.515\n",
      "Elementary quality score is 80.402 / 100\n",
      "Sequence quality score is 18.915 / 100\n",
      "EPOCH 199 takes 0.083 minutes\n",
      "===== EPOCH 200 =====\n",
      "Training ...\n"
     ]
    },
    {
     "name": "stderr",
     "output_type": "stream",
     "text": [
      "100%|██████████| 80/80 [00:04<00:00, 18.29it/s, property_loss=0.02, vae_loss=0.42]\n"
     ]
    },
    {
     "name": "stdout",
     "output_type": "stream",
     "text": [
      "Validation ...\n",
      "Loss is 0.513\n",
      "Elementary quality score is 80.451 / 100\n",
      "Sequence quality score is 20.000 / 100\n",
      "EPOCH 200 takes 0.073 minutes\n",
      "===== EPOCH 201 =====\n",
      "Training ...\n"
     ]
    },
    {
     "name": "stderr",
     "output_type": "stream",
     "text": [
      "100%|██████████| 80/80 [00:03<00:00, 21.03it/s, property_loss=0.02, vae_loss=0.42]\n"
     ]
    },
    {
     "name": "stdout",
     "output_type": "stream",
     "text": [
      "Validation ...\n",
      "Loss is 0.514\n",
      "Elementary quality score is 80.514 / 100\n",
      "Sequence quality score is 22.171 / 100\n",
      "EPOCH 201 takes 0.064 minutes\n",
      "===== EPOCH 202 =====\n",
      "Training ...\n"
     ]
    },
    {
     "name": "stderr",
     "output_type": "stream",
     "text": [
      "100%|██████████| 80/80 [00:03<00:00, 21.00it/s, property_loss=0.02, vae_loss=0.42]\n"
     ]
    },
    {
     "name": "stdout",
     "output_type": "stream",
     "text": [
      "Validation ...\n",
      "Loss is 0.513\n",
      "Elementary quality score is 80.567 / 100\n",
      "Sequence quality score is 20.155 / 100\n",
      "EPOCH 202 takes 0.064 minutes\n",
      "===== EPOCH 203 =====\n",
      "Training ...\n"
     ]
    },
    {
     "name": "stderr",
     "output_type": "stream",
     "text": [
      "100%|██████████| 80/80 [00:03<00:00, 21.05it/s, property_loss=0.02, vae_loss=0.42]\n"
     ]
    },
    {
     "name": "stdout",
     "output_type": "stream",
     "text": [
      "Validation ...\n",
      "Loss is 0.512\n",
      "Elementary quality score is 80.644 / 100\n",
      "Sequence quality score is 19.225 / 100\n",
      "EPOCH 203 takes 0.063 minutes\n",
      "===== EPOCH 204 =====\n",
      "Training ...\n"
     ]
    },
    {
     "name": "stderr",
     "output_type": "stream",
     "text": [
      "100%|██████████| 80/80 [00:03<00:00, 21.06it/s, property_loss=0.02, vae_loss=0.42]\n"
     ]
    },
    {
     "name": "stdout",
     "output_type": "stream",
     "text": [
      "Validation ...\n",
      "Loss is 0.511\n",
      "Elementary quality score is 80.669 / 100\n",
      "Sequence quality score is 19.535 / 100\n",
      "EPOCH 204 takes 0.063 minutes\n",
      "===== EPOCH 205 =====\n",
      "Training ...\n"
     ]
    },
    {
     "name": "stderr",
     "output_type": "stream",
     "text": [
      "100%|██████████| 80/80 [00:03<00:00, 21.07it/s, property_loss=0.02, vae_loss=0.41]\n"
     ]
    },
    {
     "name": "stdout",
     "output_type": "stream",
     "text": [
      "Validation ...\n",
      "Loss is 0.511\n",
      "Elementary quality score is 80.824 / 100\n",
      "Sequence quality score is 20.000 / 100\n",
      "EPOCH 205 takes 0.063 minutes\n",
      "===== EPOCH 206 =====\n",
      "Training ...\n"
     ]
    },
    {
     "name": "stderr",
     "output_type": "stream",
     "text": [
      "100%|██████████| 80/80 [00:03<00:00, 21.07it/s, property_loss=0.02, vae_loss=0.41]\n"
     ]
    },
    {
     "name": "stdout",
     "output_type": "stream",
     "text": [
      "Validation ...\n",
      "Loss is 0.511\n",
      "Elementary quality score is 80.785 / 100\n",
      "Sequence quality score is 19.690 / 100\n",
      "EPOCH 206 takes 0.063 minutes\n",
      "===== EPOCH 207 =====\n",
      "Training ...\n"
     ]
    },
    {
     "name": "stderr",
     "output_type": "stream",
     "text": [
      "100%|██████████| 80/80 [00:03<00:00, 20.18it/s, property_loss=0.02, vae_loss=0.41]\n"
     ]
    },
    {
     "name": "stdout",
     "output_type": "stream",
     "text": [
      "Validation ...\n",
      "Loss is 0.510\n",
      "Elementary quality score is 80.867 / 100\n",
      "Sequence quality score is 19.845 / 100\n",
      "EPOCH 207 takes 0.066 minutes\n",
      "===== EPOCH 208 =====\n",
      "Training ...\n"
     ]
    },
    {
     "name": "stderr",
     "output_type": "stream",
     "text": [
      "100%|██████████| 80/80 [00:03<00:00, 21.11it/s, property_loss=0.02, vae_loss=0.41]\n"
     ]
    },
    {
     "name": "stdout",
     "output_type": "stream",
     "text": [
      "Validation ...\n",
      "Loss is 0.510\n",
      "Elementary quality score is 80.911 / 100\n",
      "Sequence quality score is 19.535 / 100\n",
      "EPOCH 208 takes 0.063 minutes\n",
      "===== EPOCH 209 =====\n",
      "Training ...\n"
     ]
    },
    {
     "name": "stderr",
     "output_type": "stream",
     "text": [
      "100%|██████████| 80/80 [00:03<00:00, 21.11it/s, property_loss=0.02, vae_loss=0.41]\n"
     ]
    },
    {
     "name": "stdout",
     "output_type": "stream",
     "text": [
      "Validation ...\n",
      "Loss is 0.510\n",
      "Elementary quality score is 80.964 / 100\n",
      "Sequence quality score is 19.380 / 100\n",
      "EPOCH 209 takes 0.063 minutes\n",
      "===== EPOCH 210 =====\n",
      "Training ...\n"
     ]
    },
    {
     "name": "stderr",
     "output_type": "stream",
     "text": [
      "100%|██████████| 80/80 [00:03<00:00, 21.01it/s, property_loss=0.02, vae_loss=0.41]\n"
     ]
    },
    {
     "name": "stdout",
     "output_type": "stream",
     "text": [
      "Validation ...\n",
      "Loss is 0.508\n",
      "Elementary quality score is 81.047 / 100\n",
      "Sequence quality score is 19.225 / 100\n",
      "EPOCH 210 takes 0.064 minutes\n",
      "===== EPOCH 211 =====\n",
      "Training ...\n"
     ]
    },
    {
     "name": "stderr",
     "output_type": "stream",
     "text": [
      "100%|██████████| 80/80 [00:03<00:00, 21.11it/s, property_loss=0.02, vae_loss=0.41]\n"
     ]
    },
    {
     "name": "stdout",
     "output_type": "stream",
     "text": [
      "Validation ...\n",
      "Loss is 0.507\n",
      "Elementary quality score is 81.013 / 100\n",
      "Sequence quality score is 19.225 / 100\n",
      "EPOCH 211 takes 0.063 minutes\n",
      "===== EPOCH 212 =====\n",
      "Training ...\n"
     ]
    },
    {
     "name": "stderr",
     "output_type": "stream",
     "text": [
      "100%|██████████| 80/80 [00:03<00:00, 21.11it/s, property_loss=0.02, vae_loss=0.41]\n"
     ]
    },
    {
     "name": "stdout",
     "output_type": "stream",
     "text": [
      "Validation ...\n",
      "Loss is 0.507\n",
      "Elementary quality score is 81.027 / 100\n",
      "Sequence quality score is 20.000 / 100\n",
      "EPOCH 212 takes 0.063 minutes\n",
      "===== EPOCH 213 =====\n",
      "Training ...\n"
     ]
    },
    {
     "name": "stderr",
     "output_type": "stream",
     "text": [
      "100%|██████████| 80/80 [00:03<00:00, 21.09it/s, property_loss=0.02, vae_loss=0.41]\n"
     ]
    },
    {
     "name": "stdout",
     "output_type": "stream",
     "text": [
      "Validation ...\n",
      "Loss is 0.505\n",
      "Elementary quality score is 81.114 / 100\n",
      "Sequence quality score is 19.690 / 100\n",
      "EPOCH 213 takes 0.063 minutes\n",
      "===== EPOCH 214 =====\n",
      "Training ...\n"
     ]
    },
    {
     "name": "stderr",
     "output_type": "stream",
     "text": [
      "100%|██████████| 80/80 [00:03<00:00, 21.10it/s, property_loss=0.02, vae_loss=0.41]\n"
     ]
    },
    {
     "name": "stdout",
     "output_type": "stream",
     "text": [
      "Validation ...\n",
      "Loss is 0.505\n",
      "Elementary quality score is 81.114 / 100\n",
      "Sequence quality score is 20.620 / 100\n",
      "EPOCH 214 takes 0.063 minutes\n",
      "===== EPOCH 215 =====\n",
      "Training ...\n"
     ]
    },
    {
     "name": "stderr",
     "output_type": "stream",
     "text": [
      "100%|██████████| 80/80 [00:03<00:00, 21.08it/s, property_loss=0.02, vae_loss=0.41]\n"
     ]
    },
    {
     "name": "stdout",
     "output_type": "stream",
     "text": [
      "Validation ...\n",
      "Loss is 0.505\n",
      "Elementary quality score is 81.172 / 100\n",
      "Sequence quality score is 21.395 / 100\n",
      "EPOCH 215 takes 0.063 minutes\n",
      "===== EPOCH 216 =====\n",
      "Training ...\n"
     ]
    },
    {
     "name": "stderr",
     "output_type": "stream",
     "text": [
      "100%|██████████| 80/80 [00:03<00:00, 20.18it/s, property_loss=0.02, vae_loss=0.40]\n"
     ]
    },
    {
     "name": "stdout",
     "output_type": "stream",
     "text": [
      "Validation ...\n",
      "Loss is 0.503\n",
      "Elementary quality score is 81.177 / 100\n",
      "Sequence quality score is 20.310 / 100\n",
      "EPOCH 216 takes 0.066 minutes\n",
      "===== EPOCH 217 =====\n",
      "Training ...\n"
     ]
    },
    {
     "name": "stderr",
     "output_type": "stream",
     "text": [
      "100%|██████████| 80/80 [00:03<00:00, 21.06it/s, property_loss=0.02, vae_loss=0.40]\n"
     ]
    },
    {
     "name": "stdout",
     "output_type": "stream",
     "text": [
      "Validation ...\n",
      "Loss is 0.502\n",
      "Elementary quality score is 81.371 / 100\n",
      "Sequence quality score is 21.550 / 100\n",
      "EPOCH 217 takes 0.063 minutes\n",
      "===== EPOCH 218 =====\n",
      "Training ...\n"
     ]
    },
    {
     "name": "stderr",
     "output_type": "stream",
     "text": [
      "100%|██████████| 80/80 [00:03<00:00, 21.08it/s, property_loss=0.02, vae_loss=0.40]\n"
     ]
    },
    {
     "name": "stdout",
     "output_type": "stream",
     "text": [
      "Validation ...\n",
      "Loss is 0.502\n",
      "Elementary quality score is 81.439 / 100\n",
      "Sequence quality score is 21.705 / 100\n",
      "EPOCH 218 takes 0.063 minutes\n",
      "===== EPOCH 219 =====\n",
      "Training ...\n"
     ]
    },
    {
     "name": "stderr",
     "output_type": "stream",
     "text": [
      "100%|██████████| 80/80 [00:03<00:00, 21.08it/s, property_loss=0.02, vae_loss=0.40]\n"
     ]
    },
    {
     "name": "stdout",
     "output_type": "stream",
     "text": [
      "Validation ...\n",
      "Loss is 0.501\n",
      "Elementary quality score is 81.492 / 100\n",
      "Sequence quality score is 20.775 / 100\n",
      "EPOCH 219 takes 0.063 minutes\n",
      "===== EPOCH 220 =====\n",
      "Training ...\n"
     ]
    },
    {
     "name": "stderr",
     "output_type": "stream",
     "text": [
      "100%|██████████| 80/80 [00:03<00:00, 21.08it/s, property_loss=0.02, vae_loss=0.40]\n"
     ]
    },
    {
     "name": "stdout",
     "output_type": "stream",
     "text": [
      "Validation ...\n",
      "Loss is 0.500\n",
      "Elementary quality score is 81.594 / 100\n",
      "Sequence quality score is 19.535 / 100\n",
      "EPOCH 220 takes 0.063 minutes\n",
      "===== EPOCH 221 =====\n",
      "Training ...\n"
     ]
    },
    {
     "name": "stderr",
     "output_type": "stream",
     "text": [
      "100%|██████████| 80/80 [00:03<00:00, 21.07it/s, property_loss=0.02, vae_loss=0.40]\n"
     ]
    },
    {
     "name": "stdout",
     "output_type": "stream",
     "text": [
      "Validation ...\n",
      "Loss is 0.498\n",
      "Elementary quality score is 81.589 / 100\n",
      "Sequence quality score is 19.380 / 100\n",
      "EPOCH 221 takes 0.063 minutes\n",
      "===== EPOCH 222 =====\n",
      "Training ...\n"
     ]
    },
    {
     "name": "stderr",
     "output_type": "stream",
     "text": [
      "100%|██████████| 80/80 [00:03<00:00, 21.07it/s, property_loss=0.02, vae_loss=0.40]\n"
     ]
    },
    {
     "name": "stdout",
     "output_type": "stream",
     "text": [
      "Validation ...\n",
      "Loss is 0.498\n",
      "Elementary quality score is 81.618 / 100\n",
      "Sequence quality score is 21.240 / 100\n",
      "EPOCH 222 takes 0.063 minutes\n",
      "===== EPOCH 223 =====\n",
      "Training ...\n"
     ]
    },
    {
     "name": "stderr",
     "output_type": "stream",
     "text": [
      "100%|██████████| 80/80 [00:03<00:00, 21.08it/s, property_loss=0.02, vae_loss=0.40]\n"
     ]
    },
    {
     "name": "stdout",
     "output_type": "stream",
     "text": [
      "Validation ...\n",
      "Loss is 0.498\n",
      "Elementary quality score is 81.681 / 100\n",
      "Sequence quality score is 21.550 / 100\n",
      "EPOCH 223 takes 0.063 minutes\n",
      "===== EPOCH 224 =====\n",
      "Training ...\n"
     ]
    },
    {
     "name": "stderr",
     "output_type": "stream",
     "text": [
      "100%|██████████| 80/80 [00:03<00:00, 21.05it/s, property_loss=0.02, vae_loss=0.40]\n"
     ]
    },
    {
     "name": "stdout",
     "output_type": "stream",
     "text": [
      "Validation ...\n",
      "Loss is 0.497\n",
      "Elementary quality score is 81.647 / 100\n",
      "Sequence quality score is 21.085 / 100\n",
      "EPOCH 224 takes 0.063 minutes\n",
      "===== EPOCH 225 =====\n",
      "Training ...\n"
     ]
    },
    {
     "name": "stderr",
     "output_type": "stream",
     "text": [
      "100%|██████████| 80/80 [00:03<00:00, 21.08it/s, property_loss=0.02, vae_loss=0.40]\n"
     ]
    },
    {
     "name": "stdout",
     "output_type": "stream",
     "text": [
      "Validation ...\n",
      "Loss is 0.498\n",
      "Elementary quality score is 81.754 / 100\n",
      "Sequence quality score is 22.016 / 100\n",
      "EPOCH 225 takes 0.063 minutes\n",
      "===== EPOCH 226 =====\n",
      "Training ...\n"
     ]
    },
    {
     "name": "stderr",
     "output_type": "stream",
     "text": [
      "100%|██████████| 80/80 [00:03<00:00, 20.35it/s, property_loss=0.02, vae_loss=0.40]\n"
     ]
    },
    {
     "name": "stdout",
     "output_type": "stream",
     "text": [
      "Validation ...\n",
      "Loss is 0.497\n",
      "Elementary quality score is 81.725 / 100\n",
      "Sequence quality score is 22.791 / 100\n",
      "EPOCH 226 takes 0.066 minutes\n",
      "===== EPOCH 227 =====\n",
      "Training ...\n"
     ]
    },
    {
     "name": "stderr",
     "output_type": "stream",
     "text": [
      "100%|██████████| 80/80 [00:03<00:00, 21.07it/s, property_loss=0.02, vae_loss=0.39]\n"
     ]
    },
    {
     "name": "stdout",
     "output_type": "stream",
     "text": [
      "Validation ...\n",
      "Loss is 0.496\n",
      "Elementary quality score is 81.802 / 100\n",
      "Sequence quality score is 22.791 / 100\n",
      "EPOCH 227 takes 0.063 minutes\n",
      "===== EPOCH 228 =====\n",
      "Training ...\n"
     ]
    },
    {
     "name": "stderr",
     "output_type": "stream",
     "text": [
      "100%|██████████| 80/80 [00:03<00:00, 21.07it/s, property_loss=0.02, vae_loss=0.39]\n"
     ]
    },
    {
     "name": "stdout",
     "output_type": "stream",
     "text": [
      "Validation ...\n",
      "Loss is 0.496\n",
      "Elementary quality score is 81.841 / 100\n",
      "Sequence quality score is 22.481 / 100\n",
      "EPOCH 228 takes 0.063 minutes\n",
      "===== EPOCH 229 =====\n",
      "Training ...\n"
     ]
    },
    {
     "name": "stderr",
     "output_type": "stream",
     "text": [
      "100%|██████████| 80/80 [00:03<00:00, 21.10it/s, property_loss=0.02, vae_loss=0.39]\n"
     ]
    },
    {
     "name": "stdout",
     "output_type": "stream",
     "text": [
      "Validation ...\n",
      "Loss is 0.495\n",
      "Elementary quality score is 81.860 / 100\n",
      "Sequence quality score is 23.101 / 100\n",
      "EPOCH 229 takes 0.063 minutes\n",
      "===== EPOCH 230 =====\n",
      "Training ...\n"
     ]
    },
    {
     "name": "stderr",
     "output_type": "stream",
     "text": [
      "100%|██████████| 80/80 [00:03<00:00, 21.12it/s, property_loss=0.02, vae_loss=0.39]\n"
     ]
    },
    {
     "name": "stdout",
     "output_type": "stream",
     "text": [
      "Validation ...\n",
      "Loss is 0.495\n",
      "Elementary quality score is 81.972 / 100\n",
      "Sequence quality score is 22.791 / 100\n",
      "EPOCH 230 takes 0.063 minutes\n",
      "===== EPOCH 231 =====\n",
      "Training ...\n"
     ]
    },
    {
     "name": "stderr",
     "output_type": "stream",
     "text": [
      "100%|██████████| 80/80 [00:03<00:00, 21.08it/s, property_loss=0.02, vae_loss=0.39]\n"
     ]
    },
    {
     "name": "stdout",
     "output_type": "stream",
     "text": [
      "Validation ...\n",
      "Loss is 0.494\n",
      "Elementary quality score is 82.011 / 100\n",
      "Sequence quality score is 22.791 / 100\n",
      "EPOCH 231 takes 0.063 minutes\n",
      "===== EPOCH 232 =====\n",
      "Training ...\n"
     ]
    },
    {
     "name": "stderr",
     "output_type": "stream",
     "text": [
      "100%|██████████| 80/80 [00:03<00:00, 21.09it/s, property_loss=0.02, vae_loss=0.39]\n"
     ]
    },
    {
     "name": "stdout",
     "output_type": "stream",
     "text": [
      "Validation ...\n",
      "Loss is 0.494\n",
      "Elementary quality score is 81.996 / 100\n",
      "Sequence quality score is 22.481 / 100\n",
      "EPOCH 232 takes 0.063 minutes\n",
      "===== EPOCH 233 =====\n",
      "Training ...\n"
     ]
    },
    {
     "name": "stderr",
     "output_type": "stream",
     "text": [
      "100%|██████████| 80/80 [00:03<00:00, 21.12it/s, property_loss=0.02, vae_loss=0.39]\n"
     ]
    },
    {
     "name": "stdout",
     "output_type": "stream",
     "text": [
      "Validation ...\n",
      "Loss is 0.494\n",
      "Elementary quality score is 82.011 / 100\n",
      "Sequence quality score is 22.946 / 100\n",
      "EPOCH 233 takes 0.063 minutes\n",
      "===== EPOCH 234 =====\n",
      "Training ...\n"
     ]
    },
    {
     "name": "stderr",
     "output_type": "stream",
     "text": [
      "100%|██████████| 80/80 [00:03<00:00, 21.11it/s, property_loss=0.02, vae_loss=0.39]\n"
     ]
    },
    {
     "name": "stdout",
     "output_type": "stream",
     "text": [
      "Validation ...\n",
      "Loss is 0.493\n",
      "Elementary quality score is 82.006 / 100\n",
      "Sequence quality score is 22.791 / 100\n",
      "EPOCH 234 takes 0.063 minutes\n",
      "===== EPOCH 235 =====\n",
      "Training ...\n"
     ]
    },
    {
     "name": "stderr",
     "output_type": "stream",
     "text": [
      "100%|██████████| 80/80 [00:03<00:00, 20.17it/s, property_loss=0.02, vae_loss=0.39]\n"
     ]
    },
    {
     "name": "stdout",
     "output_type": "stream",
     "text": [
      "Validation ...\n",
      "Loss is 0.493\n",
      "Elementary quality score is 82.001 / 100\n",
      "Sequence quality score is 22.946 / 100\n",
      "EPOCH 235 takes 0.066 minutes\n",
      "===== EPOCH 236 =====\n",
      "Training ...\n"
     ]
    },
    {
     "name": "stderr",
     "output_type": "stream",
     "text": [
      "100%|██████████| 80/80 [00:03<00:00, 21.09it/s, property_loss=0.02, vae_loss=0.39]\n"
     ]
    },
    {
     "name": "stdout",
     "output_type": "stream",
     "text": [
      "Validation ...\n",
      "Loss is 0.491\n",
      "Elementary quality score is 81.986 / 100\n",
      "Sequence quality score is 22.171 / 100\n",
      "EPOCH 236 takes 0.063 minutes\n",
      "===== EPOCH 237 =====\n",
      "Training ...\n"
     ]
    },
    {
     "name": "stderr",
     "output_type": "stream",
     "text": [
      "100%|██████████| 80/80 [00:03<00:00, 21.09it/s, property_loss=0.02, vae_loss=0.39]\n"
     ]
    },
    {
     "name": "stdout",
     "output_type": "stream",
     "text": [
      "Validation ...\n",
      "Loss is 0.491\n",
      "Elementary quality score is 81.977 / 100\n",
      "Sequence quality score is 22.791 / 100\n",
      "EPOCH 237 takes 0.063 minutes\n",
      "===== EPOCH 238 =====\n",
      "Training ...\n"
     ]
    },
    {
     "name": "stderr",
     "output_type": "stream",
     "text": [
      "100%|██████████| 80/80 [00:03<00:00, 21.08it/s, property_loss=0.02, vae_loss=0.38]\n"
     ]
    },
    {
     "name": "stdout",
     "output_type": "stream",
     "text": [
      "Validation ...\n",
      "Loss is 0.490\n",
      "Elementary quality score is 81.943 / 100\n",
      "Sequence quality score is 23.411 / 100\n",
      "EPOCH 238 takes 0.063 minutes\n",
      "===== EPOCH 239 =====\n",
      "Training ...\n"
     ]
    },
    {
     "name": "stderr",
     "output_type": "stream",
     "text": [
      "100%|██████████| 80/80 [00:03<00:00, 21.09it/s, property_loss=0.02, vae_loss=0.38]\n"
     ]
    },
    {
     "name": "stdout",
     "output_type": "stream",
     "text": [
      "Validation ...\n",
      "Loss is 0.489\n",
      "Elementary quality score is 81.982 / 100\n",
      "Sequence quality score is 23.256 / 100\n",
      "EPOCH 239 takes 0.063 minutes\n",
      "===== EPOCH 240 =====\n",
      "Training ...\n"
     ]
    },
    {
     "name": "stderr",
     "output_type": "stream",
     "text": [
      "100%|██████████| 80/80 [00:03<00:00, 21.07it/s, property_loss=0.02, vae_loss=0.38]\n"
     ]
    },
    {
     "name": "stdout",
     "output_type": "stream",
     "text": [
      "Validation ...\n",
      "Loss is 0.488\n",
      "Elementary quality score is 82.098 / 100\n",
      "Sequence quality score is 22.481 / 100\n",
      "EPOCH 240 takes 0.063 minutes\n",
      "===== EPOCH 241 =====\n",
      "Training ...\n"
     ]
    },
    {
     "name": "stderr",
     "output_type": "stream",
     "text": [
      "100%|██████████| 80/80 [00:04<00:00, 17.73it/s, property_loss=0.02, vae_loss=0.38]\n"
     ]
    },
    {
     "name": "stdout",
     "output_type": "stream",
     "text": [
      "Validation ...\n",
      "Loss is 0.489\n",
      "Elementary quality score is 82.103 / 100\n",
      "Sequence quality score is 23.411 / 100\n",
      "EPOCH 241 takes 0.076 minutes\n",
      "===== EPOCH 242 =====\n",
      "Training ...\n"
     ]
    },
    {
     "name": "stderr",
     "output_type": "stream",
     "text": [
      "100%|██████████| 80/80 [00:04<00:00, 19.17it/s, property_loss=0.02, vae_loss=0.38]\n"
     ]
    },
    {
     "name": "stdout",
     "output_type": "stream",
     "text": [
      "Validation ...\n",
      "Loss is 0.488\n",
      "Elementary quality score is 82.175 / 100\n",
      "Sequence quality score is 22.636 / 100\n",
      "EPOCH 242 takes 0.070 minutes\n",
      "===== EPOCH 243 =====\n",
      "Training ...\n"
     ]
    },
    {
     "name": "stderr",
     "output_type": "stream",
     "text": [
      "100%|██████████| 80/80 [00:03<00:00, 21.07it/s, property_loss=0.02, vae_loss=0.38]\n"
     ]
    },
    {
     "name": "stdout",
     "output_type": "stream",
     "text": [
      "Validation ...\n",
      "Loss is 0.487\n",
      "Elementary quality score is 82.195 / 100\n",
      "Sequence quality score is 23.411 / 100\n",
      "EPOCH 243 takes 0.063 minutes\n",
      "===== EPOCH 244 =====\n",
      "Training ...\n"
     ]
    },
    {
     "name": "stderr",
     "output_type": "stream",
     "text": [
      "100%|██████████| 80/80 [00:03<00:00, 20.12it/s, property_loss=0.02, vae_loss=0.38]\n"
     ]
    },
    {
     "name": "stdout",
     "output_type": "stream",
     "text": [
      "Validation ...\n",
      "Loss is 0.487\n",
      "Elementary quality score is 82.132 / 100\n",
      "Sequence quality score is 23.721 / 100\n",
      "EPOCH 244 takes 0.066 minutes\n",
      "===== EPOCH 245 =====\n",
      "Training ...\n"
     ]
    },
    {
     "name": "stderr",
     "output_type": "stream",
     "text": [
      "100%|██████████| 80/80 [00:03<00:00, 20.99it/s, property_loss=0.02, vae_loss=0.38]\n"
     ]
    },
    {
     "name": "stdout",
     "output_type": "stream",
     "text": [
      "Validation ...\n",
      "Loss is 0.485\n",
      "Elementary quality score is 82.175 / 100\n",
      "Sequence quality score is 22.791 / 100\n",
      "EPOCH 245 takes 0.064 minutes\n",
      "===== EPOCH 246 =====\n",
      "Training ...\n"
     ]
    },
    {
     "name": "stderr",
     "output_type": "stream",
     "text": [
      "100%|██████████| 80/80 [00:03<00:00, 21.01it/s, property_loss=0.02, vae_loss=0.38]\n"
     ]
    },
    {
     "name": "stdout",
     "output_type": "stream",
     "text": [
      "Validation ...\n",
      "Loss is 0.484\n",
      "Elementary quality score is 82.224 / 100\n",
      "Sequence quality score is 22.016 / 100\n",
      "EPOCH 246 takes 0.064 minutes\n",
      "===== EPOCH 247 =====\n",
      "Training ...\n"
     ]
    },
    {
     "name": "stderr",
     "output_type": "stream",
     "text": [
      "100%|██████████| 80/80 [00:03<00:00, 21.00it/s, property_loss=0.02, vae_loss=0.38]\n"
     ]
    },
    {
     "name": "stdout",
     "output_type": "stream",
     "text": [
      "Validation ...\n",
      "Loss is 0.485\n",
      "Elementary quality score is 82.326 / 100\n",
      "Sequence quality score is 22.481 / 100\n",
      "EPOCH 247 takes 0.064 minutes\n",
      "===== EPOCH 248 =====\n",
      "Training ...\n"
     ]
    },
    {
     "name": "stderr",
     "output_type": "stream",
     "text": [
      "100%|██████████| 80/80 [00:03<00:00, 21.00it/s, property_loss=0.02, vae_loss=0.38]\n"
     ]
    },
    {
     "name": "stdout",
     "output_type": "stream",
     "text": [
      "Validation ...\n",
      "Loss is 0.484\n",
      "Elementary quality score is 82.340 / 100\n",
      "Sequence quality score is 21.705 / 100\n",
      "EPOCH 248 takes 0.064 minutes\n",
      "===== EPOCH 249 =====\n",
      "Training ...\n"
     ]
    },
    {
     "name": "stderr",
     "output_type": "stream",
     "text": [
      "100%|██████████| 80/80 [00:03<00:00, 21.00it/s, property_loss=0.02, vae_loss=0.38]\n"
     ]
    },
    {
     "name": "stdout",
     "output_type": "stream",
     "text": [
      "Validation ...\n",
      "Loss is 0.484\n",
      "Elementary quality score is 82.393 / 100\n",
      "Sequence quality score is 20.930 / 100\n",
      "EPOCH 249 takes 0.064 minutes\n",
      "===== EPOCH 250 =====\n",
      "Training ...\n"
     ]
    },
    {
     "name": "stderr",
     "output_type": "stream",
     "text": [
      "100%|██████████| 80/80 [00:03<00:00, 21.00it/s, property_loss=0.02, vae_loss=0.38]\n"
     ]
    },
    {
     "name": "stdout",
     "output_type": "stream",
     "text": [
      "Validation ...\n",
      "Loss is 0.482\n",
      "Elementary quality score is 82.359 / 100\n",
      "Sequence quality score is 22.171 / 100\n",
      "EPOCH 250 takes 0.064 minutes\n",
      "===== EPOCH 251 =====\n",
      "Training ...\n"
     ]
    },
    {
     "name": "stderr",
     "output_type": "stream",
     "text": [
      "100%|██████████| 80/80 [00:03<00:00, 20.55it/s, property_loss=0.02, vae_loss=0.38]\n"
     ]
    },
    {
     "name": "stdout",
     "output_type": "stream",
     "text": [
      "Validation ...\n",
      "Loss is 0.482\n",
      "Elementary quality score is 82.340 / 100\n",
      "Sequence quality score is 21.085 / 100\n",
      "EPOCH 251 takes 0.065 minutes\n",
      "===== EPOCH 252 =====\n",
      "Training ...\n"
     ]
    },
    {
     "name": "stderr",
     "output_type": "stream",
     "text": [
      "100%|██████████| 80/80 [00:03<00:00, 20.99it/s, property_loss=0.02, vae_loss=0.38]\n"
     ]
    },
    {
     "name": "stdout",
     "output_type": "stream",
     "text": [
      "Validation ...\n",
      "Loss is 0.481\n",
      "Elementary quality score is 82.456 / 100\n",
      "Sequence quality score is 22.171 / 100\n",
      "EPOCH 252 takes 0.064 minutes\n",
      "===== EPOCH 253 =====\n",
      "Training ...\n"
     ]
    },
    {
     "name": "stderr",
     "output_type": "stream",
     "text": [
      "100%|██████████| 80/80 [00:03<00:00, 20.32it/s, property_loss=0.02, vae_loss=0.37]\n"
     ]
    },
    {
     "name": "stdout",
     "output_type": "stream",
     "text": [
      "Validation ...\n",
      "Loss is 0.480\n",
      "Elementary quality score is 82.447 / 100\n",
      "Sequence quality score is 21.860 / 100\n",
      "EPOCH 253 takes 0.066 minutes\n",
      "===== EPOCH 254 =====\n",
      "Training ...\n"
     ]
    },
    {
     "name": "stderr",
     "output_type": "stream",
     "text": [
      "100%|██████████| 80/80 [00:03<00:00, 20.96it/s, property_loss=0.02, vae_loss=0.37]\n"
     ]
    },
    {
     "name": "stdout",
     "output_type": "stream",
     "text": [
      "Validation ...\n",
      "Loss is 0.481\n",
      "Elementary quality score is 82.408 / 100\n",
      "Sequence quality score is 21.860 / 100\n",
      "EPOCH 254 takes 0.064 minutes\n",
      "===== EPOCH 255 =====\n",
      "Training ...\n"
     ]
    },
    {
     "name": "stderr",
     "output_type": "stream",
     "text": [
      "100%|██████████| 80/80 [00:03<00:00, 21.04it/s, property_loss=0.02, vae_loss=0.37]\n"
     ]
    },
    {
     "name": "stdout",
     "output_type": "stream",
     "text": [
      "Validation ...\n",
      "Loss is 0.480\n",
      "Elementary quality score is 82.466 / 100\n",
      "Sequence quality score is 22.636 / 100\n",
      "EPOCH 255 takes 0.064 minutes\n",
      "===== EPOCH 256 =====\n",
      "Training ...\n"
     ]
    },
    {
     "name": "stderr",
     "output_type": "stream",
     "text": [
      "100%|██████████| 80/80 [00:03<00:00, 21.02it/s, property_loss=0.02, vae_loss=0.37]\n"
     ]
    },
    {
     "name": "stdout",
     "output_type": "stream",
     "text": [
      "Validation ...\n",
      "Loss is 0.479\n",
      "Elementary quality score is 82.534 / 100\n",
      "Sequence quality score is 22.481 / 100\n",
      "EPOCH 256 takes 0.064 minutes\n",
      "===== EPOCH 257 =====\n",
      "Training ...\n"
     ]
    },
    {
     "name": "stderr",
     "output_type": "stream",
     "text": [
      "100%|██████████| 80/80 [00:03<00:00, 20.97it/s, property_loss=0.02, vae_loss=0.37]\n"
     ]
    },
    {
     "name": "stdout",
     "output_type": "stream",
     "text": [
      "Validation ...\n",
      "Loss is 0.478\n",
      "Elementary quality score is 82.597 / 100\n",
      "Sequence quality score is 21.395 / 100\n",
      "EPOCH 257 takes 0.064 minutes\n",
      "===== EPOCH 258 =====\n",
      "Training ...\n"
     ]
    },
    {
     "name": "stderr",
     "output_type": "stream",
     "text": [
      "100%|██████████| 80/80 [00:03<00:00, 21.02it/s, property_loss=0.02, vae_loss=0.37]\n"
     ]
    },
    {
     "name": "stdout",
     "output_type": "stream",
     "text": [
      "Validation ...\n",
      "Loss is 0.478\n",
      "Elementary quality score is 82.641 / 100\n",
      "Sequence quality score is 21.240 / 100\n",
      "EPOCH 258 takes 0.064 minutes\n",
      "===== EPOCH 259 =====\n",
      "Training ...\n"
     ]
    },
    {
     "name": "stderr",
     "output_type": "stream",
     "text": [
      "100%|██████████| 80/80 [00:03<00:00, 21.03it/s, property_loss=0.02, vae_loss=0.37]\n"
     ]
    },
    {
     "name": "stdout",
     "output_type": "stream",
     "text": [
      "Validation ...\n",
      "Loss is 0.478\n",
      "Elementary quality score is 82.752 / 100\n",
      "Sequence quality score is 21.860 / 100\n",
      "EPOCH 259 takes 0.064 minutes\n",
      "===== EPOCH 260 =====\n",
      "Training ...\n"
     ]
    },
    {
     "name": "stderr",
     "output_type": "stream",
     "text": [
      "100%|██████████| 80/80 [00:03<00:00, 21.01it/s, property_loss=0.02, vae_loss=0.37]\n"
     ]
    },
    {
     "name": "stdout",
     "output_type": "stream",
     "text": [
      "Validation ...\n",
      "Loss is 0.477\n",
      "Elementary quality score is 82.771 / 100\n",
      "Sequence quality score is 21.240 / 100\n",
      "EPOCH 260 takes 0.064 minutes\n",
      "===== EPOCH 261 =====\n",
      "Training ...\n"
     ]
    },
    {
     "name": "stderr",
     "output_type": "stream",
     "text": [
      "100%|██████████| 80/80 [00:03<00:00, 21.03it/s, property_loss=0.02, vae_loss=0.37]\n"
     ]
    },
    {
     "name": "stdout",
     "output_type": "stream",
     "text": [
      "Validation ...\n",
      "Loss is 0.477\n",
      "Elementary quality score is 82.742 / 100\n",
      "Sequence quality score is 22.171 / 100\n",
      "EPOCH 261 takes 0.064 minutes\n",
      "===== EPOCH 262 =====\n",
      "Training ...\n"
     ]
    },
    {
     "name": "stderr",
     "output_type": "stream",
     "text": [
      "100%|██████████| 80/80 [00:03<00:00, 21.01it/s, property_loss=0.02, vae_loss=0.37]\n"
     ]
    },
    {
     "name": "stdout",
     "output_type": "stream",
     "text": [
      "Validation ...\n",
      "Loss is 0.476\n",
      "Elementary quality score is 82.849 / 100\n",
      "Sequence quality score is 21.395 / 100\n",
      "EPOCH 262 takes 0.064 minutes\n",
      "===== EPOCH 263 =====\n",
      "Training ...\n"
     ]
    },
    {
     "name": "stderr",
     "output_type": "stream",
     "text": [
      "100%|██████████| 80/80 [00:03<00:00, 20.93it/s, property_loss=0.02, vae_loss=0.37]\n"
     ]
    },
    {
     "name": "stdout",
     "output_type": "stream",
     "text": [
      "Validation ...\n",
      "Loss is 0.476\n",
      "Elementary quality score is 82.844 / 100\n",
      "Sequence quality score is 21.085 / 100\n",
      "EPOCH 263 takes 0.064 minutes\n",
      "===== EPOCH 264 =====\n",
      "Training ...\n"
     ]
    },
    {
     "name": "stderr",
     "output_type": "stream",
     "text": [
      "100%|██████████| 80/80 [00:03<00:00, 21.01it/s, property_loss=0.02, vae_loss=0.37]\n"
     ]
    },
    {
     "name": "stdout",
     "output_type": "stream",
     "text": [
      "Validation ...\n",
      "Loss is 0.475\n",
      "Elementary quality score is 82.859 / 100\n",
      "Sequence quality score is 21.395 / 100\n",
      "EPOCH 264 takes 0.064 minutes\n",
      "===== EPOCH 265 =====\n",
      "Training ...\n"
     ]
    },
    {
     "name": "stderr",
     "output_type": "stream",
     "text": [
      "100%|██████████| 80/80 [00:03<00:00, 21.03it/s, property_loss=0.02, vae_loss=0.37]\n"
     ]
    },
    {
     "name": "stdout",
     "output_type": "stream",
     "text": [
      "Validation ...\n",
      "Loss is 0.473\n",
      "Elementary quality score is 82.960 / 100\n",
      "Sequence quality score is 21.085 / 100\n",
      "EPOCH 265 takes 0.064 minutes\n",
      "===== EPOCH 266 =====\n",
      "Training ...\n"
     ]
    },
    {
     "name": "stderr",
     "output_type": "stream",
     "text": [
      "100%|██████████| 80/80 [00:03<00:00, 20.99it/s, property_loss=0.02, vae_loss=0.37]\n"
     ]
    },
    {
     "name": "stdout",
     "output_type": "stream",
     "text": [
      "Validation ...\n",
      "Loss is 0.473\n",
      "Elementary quality score is 83.004 / 100\n",
      "Sequence quality score is 22.016 / 100\n",
      "EPOCH 266 takes 0.064 minutes\n",
      "===== EPOCH 267 =====\n",
      "Training ...\n"
     ]
    },
    {
     "name": "stderr",
     "output_type": "stream",
     "text": [
      "100%|██████████| 80/80 [00:03<00:00, 21.01it/s, property_loss=0.02, vae_loss=0.37]\n"
     ]
    },
    {
     "name": "stdout",
     "output_type": "stream",
     "text": [
      "Validation ...\n",
      "Loss is 0.473\n",
      "Elementary quality score is 83.072 / 100\n",
      "Sequence quality score is 21.550 / 100\n",
      "EPOCH 267 takes 0.064 minutes\n",
      "===== EPOCH 268 =====\n",
      "Training ...\n"
     ]
    },
    {
     "name": "stderr",
     "output_type": "stream",
     "text": [
      "100%|██████████| 80/80 [00:03<00:00, 21.00it/s, property_loss=0.02, vae_loss=0.36]\n"
     ]
    },
    {
     "name": "stdout",
     "output_type": "stream",
     "text": [
      "Validation ...\n",
      "Loss is 0.472\n",
      "Elementary quality score is 83.052 / 100\n",
      "Sequence quality score is 21.860 / 100\n",
      "EPOCH 268 takes 0.064 minutes\n",
      "===== EPOCH 269 =====\n",
      "Training ...\n"
     ]
    },
    {
     "name": "stderr",
     "output_type": "stream",
     "text": [
      "100%|██████████| 80/80 [00:03<00:00, 21.03it/s, property_loss=0.02, vae_loss=0.36]\n"
     ]
    },
    {
     "name": "stdout",
     "output_type": "stream",
     "text": [
      "Validation ...\n",
      "Loss is 0.472\n",
      "Elementary quality score is 83.106 / 100\n",
      "Sequence quality score is 20.930 / 100\n",
      "EPOCH 269 takes 0.064 minutes\n",
      "===== EPOCH 270 =====\n",
      "Training ...\n"
     ]
    },
    {
     "name": "stderr",
     "output_type": "stream",
     "text": [
      "100%|██████████| 80/80 [00:03<00:00, 21.00it/s, property_loss=0.02, vae_loss=0.36]\n"
     ]
    },
    {
     "name": "stdout",
     "output_type": "stream",
     "text": [
      "Validation ...\n",
      "Loss is 0.471\n",
      "Elementary quality score is 83.169 / 100\n",
      "Sequence quality score is 22.636 / 100\n",
      "EPOCH 270 takes 0.064 minutes\n",
      "===== EPOCH 271 =====\n",
      "Training ...\n"
     ]
    },
    {
     "name": "stderr",
     "output_type": "stream",
     "text": [
      "100%|██████████| 80/80 [00:03<00:00, 21.02it/s, property_loss=0.02, vae_loss=0.36]\n"
     ]
    },
    {
     "name": "stdout",
     "output_type": "stream",
     "text": [
      "Validation ...\n",
      "Loss is 0.470\n",
      "Elementary quality score is 83.246 / 100\n",
      "Sequence quality score is 21.860 / 100\n",
      "EPOCH 271 takes 0.064 minutes\n",
      "===== EPOCH 272 =====\n",
      "Training ...\n"
     ]
    },
    {
     "name": "stderr",
     "output_type": "stream",
     "text": [
      "100%|██████████| 80/80 [00:03<00:00, 21.01it/s, property_loss=0.02, vae_loss=0.36]\n"
     ]
    },
    {
     "name": "stdout",
     "output_type": "stream",
     "text": [
      "Validation ...\n",
      "Loss is 0.472\n",
      "Elementary quality score is 83.178 / 100\n",
      "Sequence quality score is 20.930 / 100\n",
      "EPOCH 272 takes 0.064 minutes\n",
      "===== EPOCH 273 =====\n",
      "Training ...\n"
     ]
    },
    {
     "name": "stderr",
     "output_type": "stream",
     "text": [
      "100%|██████████| 80/80 [00:03<00:00, 20.06it/s, property_loss=0.02, vae_loss=0.36]\n"
     ]
    },
    {
     "name": "stdout",
     "output_type": "stream",
     "text": [
      "Validation ...\n",
      "Loss is 0.470\n",
      "Elementary quality score is 83.222 / 100\n",
      "Sequence quality score is 22.171 / 100\n",
      "EPOCH 273 takes 0.067 minutes\n",
      "===== EPOCH 274 =====\n",
      "Training ...\n"
     ]
    },
    {
     "name": "stderr",
     "output_type": "stream",
     "text": [
      "100%|██████████| 80/80 [00:03<00:00, 21.00it/s, property_loss=0.02, vae_loss=0.36]\n"
     ]
    },
    {
     "name": "stdout",
     "output_type": "stream",
     "text": [
      "Validation ...\n",
      "Loss is 0.468\n",
      "Elementary quality score is 83.299 / 100\n",
      "Sequence quality score is 20.620 / 100\n",
      "EPOCH 274 takes 0.064 minutes\n",
      "===== EPOCH 275 =====\n",
      "Training ...\n"
     ]
    },
    {
     "name": "stderr",
     "output_type": "stream",
     "text": [
      "100%|██████████| 80/80 [00:03<00:00, 21.00it/s, property_loss=0.02, vae_loss=0.36]\n"
     ]
    },
    {
     "name": "stdout",
     "output_type": "stream",
     "text": [
      "Validation ...\n",
      "Loss is 0.469\n",
      "Elementary quality score is 83.319 / 100\n",
      "Sequence quality score is 20.465 / 100\n",
      "EPOCH 275 takes 0.064 minutes\n",
      "===== EPOCH 276 =====\n",
      "Training ...\n"
     ]
    },
    {
     "name": "stderr",
     "output_type": "stream",
     "text": [
      "100%|██████████| 80/80 [00:03<00:00, 20.99it/s, property_loss=0.02, vae_loss=0.36]\n"
     ]
    },
    {
     "name": "stdout",
     "output_type": "stream",
     "text": [
      "Validation ...\n",
      "Loss is 0.468\n",
      "Elementary quality score is 83.343 / 100\n",
      "Sequence quality score is 22.326 / 100\n",
      "EPOCH 276 takes 0.064 minutes\n",
      "===== EPOCH 277 =====\n",
      "Training ...\n"
     ]
    },
    {
     "name": "stderr",
     "output_type": "stream",
     "text": [
      "100%|██████████| 80/80 [00:03<00:00, 21.01it/s, property_loss=0.02, vae_loss=0.36]\n"
     ]
    },
    {
     "name": "stdout",
     "output_type": "stream",
     "text": [
      "Validation ...\n",
      "Loss is 0.466\n",
      "Elementary quality score is 83.421 / 100\n",
      "Sequence quality score is 22.481 / 100\n",
      "EPOCH 277 takes 0.064 minutes\n",
      "===== EPOCH 278 =====\n",
      "Training ...\n"
     ]
    },
    {
     "name": "stderr",
     "output_type": "stream",
     "text": [
      "100%|██████████| 80/80 [00:03<00:00, 21.00it/s, property_loss=0.02, vae_loss=0.36]\n"
     ]
    },
    {
     "name": "stdout",
     "output_type": "stream",
     "text": [
      "Validation ...\n",
      "Loss is 0.467\n",
      "Elementary quality score is 83.396 / 100\n",
      "Sequence quality score is 19.690 / 100\n",
      "EPOCH 278 takes 0.064 minutes\n",
      "===== EPOCH 279 =====\n",
      "Training ...\n"
     ]
    },
    {
     "name": "stderr",
     "output_type": "stream",
     "text": [
      "100%|██████████| 80/80 [00:03<00:00, 21.03it/s, property_loss=0.02, vae_loss=0.36]\n"
     ]
    },
    {
     "name": "stdout",
     "output_type": "stream",
     "text": [
      "Validation ...\n",
      "Loss is 0.466\n",
      "Elementary quality score is 83.435 / 100\n",
      "Sequence quality score is 21.395 / 100\n",
      "EPOCH 279 takes 0.064 minutes\n",
      "===== EPOCH 280 =====\n",
      "Training ...\n"
     ]
    },
    {
     "name": "stderr",
     "output_type": "stream",
     "text": [
      "100%|██████████| 80/80 [00:03<00:00, 21.00it/s, property_loss=0.02, vae_loss=0.36]\n"
     ]
    },
    {
     "name": "stdout",
     "output_type": "stream",
     "text": [
      "Validation ...\n",
      "Loss is 0.465\n",
      "Elementary quality score is 83.517 / 100\n",
      "Sequence quality score is 22.636 / 100\n",
      "EPOCH 280 takes 0.064 minutes\n",
      "===== EPOCH 281 =====\n",
      "Training ...\n"
     ]
    },
    {
     "name": "stderr",
     "output_type": "stream",
     "text": [
      "100%|██████████| 80/80 [00:03<00:00, 21.00it/s, property_loss=0.02, vae_loss=0.36]\n"
     ]
    },
    {
     "name": "stdout",
     "output_type": "stream",
     "text": [
      "Validation ...\n",
      "Loss is 0.464\n",
      "Elementary quality score is 83.522 / 100\n",
      "Sequence quality score is 20.930 / 100\n",
      "EPOCH 281 takes 0.064 minutes\n",
      "===== EPOCH 282 =====\n",
      "Training ...\n"
     ]
    },
    {
     "name": "stderr",
     "output_type": "stream",
     "text": [
      "100%|██████████| 80/80 [00:03<00:00, 21.00it/s, property_loss=0.02, vae_loss=0.36]\n"
     ]
    },
    {
     "name": "stdout",
     "output_type": "stream",
     "text": [
      "Validation ...\n",
      "Loss is 0.465\n",
      "Elementary quality score is 83.576 / 100\n",
      "Sequence quality score is 22.791 / 100\n",
      "EPOCH 282 takes 0.064 minutes\n",
      "===== EPOCH 283 =====\n",
      "Training ...\n"
     ]
    },
    {
     "name": "stderr",
     "output_type": "stream",
     "text": [
      "100%|██████████| 80/80 [00:03<00:00, 21.03it/s, property_loss=0.02, vae_loss=0.35]\n"
     ]
    },
    {
     "name": "stdout",
     "output_type": "stream",
     "text": [
      "Validation ...\n",
      "Loss is 0.464\n",
      "Elementary quality score is 83.595 / 100\n",
      "Sequence quality score is 21.550 / 100\n",
      "EPOCH 283 takes 0.064 minutes\n",
      "===== EPOCH 284 =====\n",
      "Training ...\n"
     ]
    },
    {
     "name": "stderr",
     "output_type": "stream",
     "text": [
      "100%|██████████| 80/80 [00:03<00:00, 21.00it/s, property_loss=0.02, vae_loss=0.36]\n"
     ]
    },
    {
     "name": "stdout",
     "output_type": "stream",
     "text": [
      "Validation ...\n",
      "Loss is 0.464\n",
      "Elementary quality score is 83.605 / 100\n",
      "Sequence quality score is 22.481 / 100\n",
      "EPOCH 284 takes 0.064 minutes\n",
      "===== EPOCH 285 =====\n",
      "Training ...\n"
     ]
    },
    {
     "name": "stderr",
     "output_type": "stream",
     "text": [
      "100%|██████████| 80/80 [00:03<00:00, 20.99it/s, property_loss=0.02, vae_loss=0.35]\n"
     ]
    },
    {
     "name": "stdout",
     "output_type": "stream",
     "text": [
      "Validation ...\n",
      "Loss is 0.462\n",
      "Elementary quality score is 83.721 / 100\n",
      "Sequence quality score is 21.860 / 100\n",
      "EPOCH 285 takes 0.064 minutes\n",
      "===== EPOCH 286 =====\n",
      "Training ...\n"
     ]
    },
    {
     "name": "stderr",
     "output_type": "stream",
     "text": [
      "100%|██████████| 80/80 [00:04<00:00, 18.47it/s, property_loss=0.02, vae_loss=0.35]\n"
     ]
    },
    {
     "name": "stdout",
     "output_type": "stream",
     "text": [
      "Validation ...\n",
      "Loss is 0.462\n",
      "Elementary quality score is 83.668 / 100\n",
      "Sequence quality score is 21.395 / 100\n",
      "EPOCH 286 takes 0.072 minutes\n",
      "===== EPOCH 287 =====\n",
      "Training ...\n"
     ]
    },
    {
     "name": "stderr",
     "output_type": "stream",
     "text": [
      "100%|██████████| 80/80 [00:03<00:00, 20.85it/s, property_loss=0.02, vae_loss=0.35]\n"
     ]
    },
    {
     "name": "stdout",
     "output_type": "stream",
     "text": [
      "Validation ...\n",
      "Loss is 0.461\n",
      "Elementary quality score is 83.668 / 100\n",
      "Sequence quality score is 19.845 / 100\n",
      "EPOCH 287 takes 0.064 minutes\n",
      "===== EPOCH 288 =====\n",
      "Training ...\n"
     ]
    },
    {
     "name": "stderr",
     "output_type": "stream",
     "text": [
      "100%|██████████| 80/80 [00:03<00:00, 20.97it/s, property_loss=0.02, vae_loss=0.35]\n"
     ]
    },
    {
     "name": "stdout",
     "output_type": "stream",
     "text": [
      "Validation ...\n",
      "Loss is 0.460\n",
      "Elementary quality score is 83.668 / 100\n",
      "Sequence quality score is 20.620 / 100\n",
      "EPOCH 288 takes 0.064 minutes\n",
      "===== EPOCH 289 =====\n",
      "Training ...\n"
     ]
    },
    {
     "name": "stderr",
     "output_type": "stream",
     "text": [
      "100%|██████████| 80/80 [00:03<00:00, 21.04it/s, property_loss=0.02, vae_loss=0.35]\n"
     ]
    },
    {
     "name": "stdout",
     "output_type": "stream",
     "text": [
      "Validation ...\n",
      "Loss is 0.459\n",
      "Elementary quality score is 83.726 / 100\n",
      "Sequence quality score is 20.930 / 100\n",
      "EPOCH 289 takes 0.063 minutes\n",
      "===== EPOCH 290 =====\n",
      "Training ...\n"
     ]
    },
    {
     "name": "stderr",
     "output_type": "stream",
     "text": [
      "100%|██████████| 80/80 [00:03<00:00, 21.06it/s, property_loss=0.02, vae_loss=0.35]\n"
     ]
    },
    {
     "name": "stdout",
     "output_type": "stream",
     "text": [
      "Validation ...\n",
      "Loss is 0.458\n",
      "Elementary quality score is 83.779 / 100\n",
      "Sequence quality score is 20.155 / 100\n",
      "EPOCH 290 takes 0.063 minutes\n",
      "===== EPOCH 291 =====\n",
      "Training ...\n"
     ]
    },
    {
     "name": "stderr",
     "output_type": "stream",
     "text": [
      "100%|██████████| 80/80 [00:03<00:00, 21.03it/s, property_loss=0.02, vae_loss=0.35]\n"
     ]
    },
    {
     "name": "stdout",
     "output_type": "stream",
     "text": [
      "Validation ...\n",
      "Loss is 0.460\n",
      "Elementary quality score is 83.682 / 100\n",
      "Sequence quality score is 20.930 / 100\n",
      "EPOCH 291 takes 0.064 minutes\n",
      "===== EPOCH 292 =====\n",
      "Training ...\n"
     ]
    },
    {
     "name": "stderr",
     "output_type": "stream",
     "text": [
      "100%|██████████| 80/80 [00:03<00:00, 21.05it/s, property_loss=0.02, vae_loss=0.35]\n"
     ]
    },
    {
     "name": "stdout",
     "output_type": "stream",
     "text": [
      "Validation ...\n",
      "Loss is 0.459\n",
      "Elementary quality score is 83.721 / 100\n",
      "Sequence quality score is 20.465 / 100\n",
      "EPOCH 292 takes 0.063 minutes\n",
      "===== EPOCH 293 =====\n",
      "Training ...\n"
     ]
    },
    {
     "name": "stderr",
     "output_type": "stream",
     "text": [
      "100%|██████████| 80/80 [00:03<00:00, 21.04it/s, property_loss=0.02, vae_loss=0.35]\n"
     ]
    },
    {
     "name": "stdout",
     "output_type": "stream",
     "text": [
      "Validation ...\n",
      "Loss is 0.458\n",
      "Elementary quality score is 83.769 / 100\n",
      "Sequence quality score is 21.860 / 100\n",
      "EPOCH 293 takes 0.064 minutes\n",
      "===== EPOCH 294 =====\n",
      "Training ...\n"
     ]
    },
    {
     "name": "stderr",
     "output_type": "stream",
     "text": [
      "100%|██████████| 80/80 [00:03<00:00, 21.05it/s, property_loss=0.02, vae_loss=0.35]\n"
     ]
    },
    {
     "name": "stdout",
     "output_type": "stream",
     "text": [
      "Validation ...\n",
      "Loss is 0.458\n",
      "Elementary quality score is 83.750 / 100\n",
      "Sequence quality score is 22.791 / 100\n",
      "EPOCH 294 takes 0.063 minutes\n",
      "===== EPOCH 295 =====\n",
      "Training ...\n"
     ]
    },
    {
     "name": "stderr",
     "output_type": "stream",
     "text": [
      "100%|██████████| 80/80 [00:03<00:00, 21.03it/s, property_loss=0.02, vae_loss=0.36]\n"
     ]
    },
    {
     "name": "stdout",
     "output_type": "stream",
     "text": [
      "Validation ...\n",
      "Loss is 0.458\n",
      "Elementary quality score is 83.847 / 100\n",
      "Sequence quality score is 23.411 / 100\n",
      "EPOCH 295 takes 0.064 minutes\n",
      "===== EPOCH 296 =====\n",
      "Training ...\n"
     ]
    },
    {
     "name": "stderr",
     "output_type": "stream",
     "text": [
      "100%|██████████| 80/80 [00:03<00:00, 21.04it/s, property_loss=0.02, vae_loss=0.35]\n"
     ]
    },
    {
     "name": "stdout",
     "output_type": "stream",
     "text": [
      "Validation ...\n",
      "Loss is 0.458\n",
      "Elementary quality score is 83.798 / 100\n",
      "Sequence quality score is 24.186 / 100\n",
      "EPOCH 296 takes 0.064 minutes\n",
      "===== EPOCH 297 =====\n",
      "Training ...\n"
     ]
    },
    {
     "name": "stderr",
     "output_type": "stream",
     "text": [
      "100%|██████████| 80/80 [00:03<00:00, 21.03it/s, property_loss=0.02, vae_loss=0.35]\n"
     ]
    },
    {
     "name": "stdout",
     "output_type": "stream",
     "text": [
      "Validation ...\n",
      "Loss is 0.457\n",
      "Elementary quality score is 83.813 / 100\n",
      "Sequence quality score is 23.721 / 100\n",
      "EPOCH 297 takes 0.064 minutes\n",
      "===== EPOCH 298 =====\n",
      "Training ...\n"
     ]
    },
    {
     "name": "stderr",
     "output_type": "stream",
     "text": [
      "100%|██████████| 80/80 [00:03<00:00, 21.04it/s, property_loss=0.02, vae_loss=0.35]\n"
     ]
    },
    {
     "name": "stdout",
     "output_type": "stream",
     "text": [
      "Validation ...\n",
      "Loss is 0.457\n",
      "Elementary quality score is 83.798 / 100\n",
      "Sequence quality score is 24.186 / 100\n",
      "EPOCH 298 takes 0.064 minutes\n",
      "===== EPOCH 299 =====\n",
      "Training ...\n"
     ]
    },
    {
     "name": "stderr",
     "output_type": "stream",
     "text": [
      "100%|██████████| 80/80 [00:03<00:00, 21.02it/s, property_loss=0.02, vae_loss=0.35]\n"
     ]
    },
    {
     "name": "stdout",
     "output_type": "stream",
     "text": [
      "Validation ...\n",
      "Loss is 0.456\n",
      "Elementary quality score is 83.823 / 100\n",
      "Sequence quality score is 22.171 / 100\n",
      "EPOCH 299 takes 0.064 minutes\n",
      "===== EPOCH 300 =====\n",
      "Training ...\n"
     ]
    },
    {
     "name": "stderr",
     "output_type": "stream",
     "text": [
      "100%|██████████| 80/80 [00:03<00:00, 21.03it/s, property_loss=0.02, vae_loss=0.35]\n"
     ]
    },
    {
     "name": "stdout",
     "output_type": "stream",
     "text": [
      "Validation ...\n",
      "Loss is 0.456\n",
      "Elementary quality score is 83.789 / 100\n",
      "Sequence quality score is 22.636 / 100\n",
      "EPOCH 300 takes 0.064 minutes\n",
      "===== EPOCH 301 =====\n",
      "Training ...\n"
     ]
    },
    {
     "name": "stderr",
     "output_type": "stream",
     "text": [
      "100%|██████████| 80/80 [00:03<00:00, 20.96it/s, property_loss=0.02, vae_loss=0.35]\n"
     ]
    },
    {
     "name": "stdout",
     "output_type": "stream",
     "text": [
      "Validation ...\n",
      "Loss is 0.455\n",
      "Elementary quality score is 83.900 / 100\n",
      "Sequence quality score is 23.566 / 100\n",
      "EPOCH 301 takes 0.064 minutes\n",
      "===== EPOCH 302 =====\n",
      "Training ...\n"
     ]
    },
    {
     "name": "stderr",
     "output_type": "stream",
     "text": [
      "100%|██████████| 80/80 [00:03<00:00, 21.03it/s, property_loss=0.02, vae_loss=0.35]\n"
     ]
    },
    {
     "name": "stdout",
     "output_type": "stream",
     "text": [
      "Validation ...\n",
      "Loss is 0.454\n",
      "Elementary quality score is 83.963 / 100\n",
      "Sequence quality score is 23.101 / 100\n",
      "EPOCH 302 takes 0.064 minutes\n",
      "===== EPOCH 303 =====\n",
      "Training ...\n"
     ]
    },
    {
     "name": "stderr",
     "output_type": "stream",
     "text": [
      "100%|██████████| 80/80 [00:03<00:00, 21.02it/s, property_loss=0.02, vae_loss=0.35]\n"
     ]
    },
    {
     "name": "stdout",
     "output_type": "stream",
     "text": [
      "Validation ...\n",
      "Loss is 0.452\n",
      "Elementary quality score is 83.992 / 100\n",
      "Sequence quality score is 24.031 / 100\n",
      "EPOCH 303 takes 0.064 minutes\n",
      "===== EPOCH 304 =====\n",
      "Training ...\n"
     ]
    },
    {
     "name": "stderr",
     "output_type": "stream",
     "text": [
      "100%|██████████| 80/80 [00:03<00:00, 21.01it/s, property_loss=0.02, vae_loss=0.34]\n"
     ]
    },
    {
     "name": "stdout",
     "output_type": "stream",
     "text": [
      "Validation ...\n",
      "Loss is 0.452\n",
      "Elementary quality score is 84.089 / 100\n",
      "Sequence quality score is 24.651 / 100\n",
      "EPOCH 304 takes 0.064 minutes\n",
      "===== EPOCH 305 =====\n",
      "Training ...\n"
     ]
    },
    {
     "name": "stderr",
     "output_type": "stream",
     "text": [
      "100%|██████████| 80/80 [00:03<00:00, 21.03it/s, property_loss=0.02, vae_loss=0.34]\n"
     ]
    },
    {
     "name": "stdout",
     "output_type": "stream",
     "text": [
      "Validation ...\n",
      "Loss is 0.452\n",
      "Elementary quality score is 83.920 / 100\n",
      "Sequence quality score is 21.705 / 100\n",
      "EPOCH 305 takes 0.064 minutes\n",
      "===== EPOCH 306 =====\n",
      "Training ...\n"
     ]
    },
    {
     "name": "stderr",
     "output_type": "stream",
     "text": [
      "100%|██████████| 80/80 [00:03<00:00, 21.02it/s, property_loss=0.02, vae_loss=0.34]\n"
     ]
    },
    {
     "name": "stdout",
     "output_type": "stream",
     "text": [
      "Validation ...\n",
      "Loss is 0.452\n",
      "Elementary quality score is 84.016 / 100\n",
      "Sequence quality score is 22.636 / 100\n",
      "EPOCH 306 takes 0.064 minutes\n",
      "===== EPOCH 307 =====\n",
      "Training ...\n"
     ]
    },
    {
     "name": "stderr",
     "output_type": "stream",
     "text": [
      "100%|██████████| 80/80 [00:03<00:00, 21.04it/s, property_loss=0.02, vae_loss=0.34]\n"
     ]
    },
    {
     "name": "stdout",
     "output_type": "stream",
     "text": [
      "Validation ...\n",
      "Loss is 0.451\n",
      "Elementary quality score is 84.084 / 100\n",
      "Sequence quality score is 22.791 / 100\n",
      "EPOCH 307 takes 0.064 minutes\n",
      "===== EPOCH 308 =====\n",
      "Training ...\n"
     ]
    },
    {
     "name": "stderr",
     "output_type": "stream",
     "text": [
      "100%|██████████| 80/80 [00:03<00:00, 21.01it/s, property_loss=0.02, vae_loss=0.34]\n"
     ]
    },
    {
     "name": "stdout",
     "output_type": "stream",
     "text": [
      "Validation ...\n",
      "Loss is 0.451\n",
      "Elementary quality score is 84.186 / 100\n",
      "Sequence quality score is 24.496 / 100\n",
      "EPOCH 308 takes 0.064 minutes\n",
      "===== EPOCH 309 =====\n",
      "Training ...\n"
     ]
    },
    {
     "name": "stderr",
     "output_type": "stream",
     "text": [
      "100%|██████████| 80/80 [00:03<00:00, 21.02it/s, property_loss=0.02, vae_loss=0.34]\n"
     ]
    },
    {
     "name": "stdout",
     "output_type": "stream",
     "text": [
      "Validation ...\n",
      "Loss is 0.451\n",
      "Elementary quality score is 84.225 / 100\n",
      "Sequence quality score is 22.636 / 100\n",
      "EPOCH 309 takes 0.064 minutes\n",
      "===== EPOCH 310 =====\n",
      "Training ...\n"
     ]
    },
    {
     "name": "stderr",
     "output_type": "stream",
     "text": [
      "100%|██████████| 80/80 [00:03<00:00, 21.02it/s, property_loss=0.02, vae_loss=0.34]\n"
     ]
    },
    {
     "name": "stdout",
     "output_type": "stream",
     "text": [
      "Validation ...\n",
      "Loss is 0.450\n",
      "Elementary quality score is 84.201 / 100\n",
      "Sequence quality score is 22.171 / 100\n",
      "EPOCH 310 takes 0.064 minutes\n",
      "===== EPOCH 311 =====\n",
      "Training ...\n"
     ]
    },
    {
     "name": "stderr",
     "output_type": "stream",
     "text": [
      "100%|██████████| 80/80 [00:03<00:00, 20.07it/s, property_loss=0.02, vae_loss=0.34]\n"
     ]
    },
    {
     "name": "stdout",
     "output_type": "stream",
     "text": [
      "Validation ...\n",
      "Loss is 0.450\n",
      "Elementary quality score is 84.157 / 100\n",
      "Sequence quality score is 22.946 / 100\n",
      "EPOCH 311 takes 0.067 minutes\n",
      "===== EPOCH 312 =====\n",
      "Training ...\n"
     ]
    },
    {
     "name": "stderr",
     "output_type": "stream",
     "text": [
      "100%|██████████| 80/80 [00:04<00:00, 18.78it/s, property_loss=0.02, vae_loss=0.35]\n"
     ]
    },
    {
     "name": "stdout",
     "output_type": "stream",
     "text": [
      "Validation ...\n",
      "Loss is 0.449\n",
      "Elementary quality score is 84.205 / 100\n",
      "Sequence quality score is 24.496 / 100\n",
      "EPOCH 312 takes 0.071 minutes\n",
      "===== EPOCH 313 =====\n",
      "Training ...\n"
     ]
    },
    {
     "name": "stderr",
     "output_type": "stream",
     "text": [
      "100%|██████████| 80/80 [00:03<00:00, 21.27it/s, property_loss=0.02, vae_loss=0.35]\n"
     ]
    },
    {
     "name": "stdout",
     "output_type": "stream",
     "text": [
      "Validation ...\n",
      "Loss is 0.448\n",
      "Elementary quality score is 84.351 / 100\n",
      "Sequence quality score is 24.496 / 100\n",
      "EPOCH 313 takes 0.063 minutes\n",
      "===== EPOCH 314 =====\n",
      "Training ...\n"
     ]
    },
    {
     "name": "stderr",
     "output_type": "stream",
     "text": [
      "100%|██████████| 80/80 [00:03<00:00, 21.29it/s, property_loss=0.02, vae_loss=0.35]\n"
     ]
    },
    {
     "name": "stdout",
     "output_type": "stream",
     "text": [
      "Validation ...\n",
      "Loss is 0.448\n",
      "Elementary quality score is 84.307 / 100\n",
      "Sequence quality score is 22.791 / 100\n",
      "EPOCH 314 takes 0.063 minutes\n",
      "===== EPOCH 315 =====\n",
      "Training ...\n"
     ]
    },
    {
     "name": "stderr",
     "output_type": "stream",
     "text": [
      "100%|██████████| 80/80 [00:03<00:00, 21.30it/s, property_loss=0.02, vae_loss=0.35]\n"
     ]
    },
    {
     "name": "stdout",
     "output_type": "stream",
     "text": [
      "Validation ...\n",
      "Loss is 0.448\n",
      "Elementary quality score is 84.268 / 100\n",
      "Sequence quality score is 23.566 / 100\n",
      "EPOCH 315 takes 0.063 minutes\n",
      "===== EPOCH 316 =====\n",
      "Training ...\n"
     ]
    },
    {
     "name": "stderr",
     "output_type": "stream",
     "text": [
      "100%|██████████| 80/80 [00:03<00:00, 21.29it/s, property_loss=0.02, vae_loss=0.35]\n"
     ]
    },
    {
     "name": "stdout",
     "output_type": "stream",
     "text": [
      "Validation ...\n",
      "Loss is 0.447\n",
      "Elementary quality score is 84.239 / 100\n",
      "Sequence quality score is 23.721 / 100\n",
      "EPOCH 316 takes 0.063 minutes\n",
      "===== EPOCH 317 =====\n",
      "Training ...\n"
     ]
    },
    {
     "name": "stderr",
     "output_type": "stream",
     "text": [
      "100%|██████████| 80/80 [00:03<00:00, 21.31it/s, property_loss=0.02, vae_loss=0.34]\n"
     ]
    },
    {
     "name": "stdout",
     "output_type": "stream",
     "text": [
      "Validation ...\n",
      "Loss is 0.448\n",
      "Elementary quality score is 84.317 / 100\n",
      "Sequence quality score is 23.566 / 100\n",
      "EPOCH 317 takes 0.063 minutes\n",
      "===== EPOCH 318 =====\n",
      "Training ...\n"
     ]
    },
    {
     "name": "stderr",
     "output_type": "stream",
     "text": [
      "100%|██████████| 80/80 [00:03<00:00, 21.30it/s, property_loss=0.02, vae_loss=0.34]\n"
     ]
    },
    {
     "name": "stdout",
     "output_type": "stream",
     "text": [
      "Validation ...\n",
      "Loss is 0.447\n",
      "Elementary quality score is 84.399 / 100\n",
      "Sequence quality score is 22.636 / 100\n",
      "EPOCH 318 takes 0.063 minutes\n",
      "===== EPOCH 319 =====\n",
      "Training ...\n"
     ]
    },
    {
     "name": "stderr",
     "output_type": "stream",
     "text": [
      "100%|██████████| 80/80 [00:03<00:00, 20.31it/s, property_loss=0.02, vae_loss=0.34]\n"
     ]
    },
    {
     "name": "stdout",
     "output_type": "stream",
     "text": [
      "Validation ...\n",
      "Loss is 0.445\n",
      "Elementary quality score is 84.462 / 100\n",
      "Sequence quality score is 22.636 / 100\n",
      "EPOCH 319 takes 0.066 minutes\n",
      "===== EPOCH 320 =====\n",
      "Training ...\n"
     ]
    },
    {
     "name": "stderr",
     "output_type": "stream",
     "text": [
      "100%|██████████| 80/80 [00:03<00:00, 21.32it/s, property_loss=0.02, vae_loss=0.34]\n"
     ]
    },
    {
     "name": "stdout",
     "output_type": "stream",
     "text": [
      "Validation ...\n",
      "Loss is 0.445\n",
      "Elementary quality score is 84.414 / 100\n",
      "Sequence quality score is 21.705 / 100\n",
      "EPOCH 320 takes 0.063 minutes\n",
      "===== EPOCH 321 =====\n",
      "Training ...\n"
     ]
    },
    {
     "name": "stderr",
     "output_type": "stream",
     "text": [
      "100%|██████████| 80/80 [00:03<00:00, 21.28it/s, property_loss=0.02, vae_loss=0.34]\n"
     ]
    },
    {
     "name": "stdout",
     "output_type": "stream",
     "text": [
      "Validation ...\n",
      "Loss is 0.441\n",
      "Elementary quality score is 84.554 / 100\n",
      "Sequence quality score is 22.171 / 100\n",
      "EPOCH 321 takes 0.063 minutes\n",
      "===== EPOCH 322 =====\n",
      "Training ...\n"
     ]
    },
    {
     "name": "stderr",
     "output_type": "stream",
     "text": [
      "100%|██████████| 80/80 [00:03<00:00, 21.31it/s, property_loss=0.02, vae_loss=0.34]\n"
     ]
    },
    {
     "name": "stdout",
     "output_type": "stream",
     "text": [
      "Validation ...\n",
      "Loss is 0.443\n",
      "Elementary quality score is 84.472 / 100\n",
      "Sequence quality score is 24.186 / 100\n",
      "EPOCH 322 takes 0.063 minutes\n",
      "===== EPOCH 323 =====\n",
      "Training ...\n"
     ]
    },
    {
     "name": "stderr",
     "output_type": "stream",
     "text": [
      "100%|██████████| 80/80 [00:03<00:00, 21.30it/s, property_loss=0.02, vae_loss=0.34]\n"
     ]
    },
    {
     "name": "stdout",
     "output_type": "stream",
     "text": [
      "Validation ...\n",
      "Loss is 0.442\n",
      "Elementary quality score is 84.530 / 100\n",
      "Sequence quality score is 23.566 / 100\n",
      "EPOCH 323 takes 0.063 minutes\n",
      "===== EPOCH 324 =====\n",
      "Training ...\n"
     ]
    },
    {
     "name": "stderr",
     "output_type": "stream",
     "text": [
      "100%|██████████| 80/80 [00:03<00:00, 21.31it/s, property_loss=0.02, vae_loss=0.33]\n"
     ]
    },
    {
     "name": "stdout",
     "output_type": "stream",
     "text": [
      "Validation ...\n",
      "Loss is 0.441\n",
      "Elementary quality score is 84.525 / 100\n",
      "Sequence quality score is 24.651 / 100\n",
      "EPOCH 324 takes 0.063 minutes\n",
      "===== EPOCH 325 =====\n",
      "Training ...\n"
     ]
    },
    {
     "name": "stderr",
     "output_type": "stream",
     "text": [
      "100%|██████████| 80/80 [00:03<00:00, 21.31it/s, property_loss=0.02, vae_loss=0.33]\n"
     ]
    },
    {
     "name": "stdout",
     "output_type": "stream",
     "text": [
      "Validation ...\n",
      "Loss is 0.439\n",
      "Elementary quality score is 84.632 / 100\n",
      "Sequence quality score is 24.806 / 100\n",
      "EPOCH 325 takes 0.063 minutes\n",
      "===== EPOCH 326 =====\n",
      "Training ...\n"
     ]
    },
    {
     "name": "stderr",
     "output_type": "stream",
     "text": [
      "100%|██████████| 80/80 [00:03<00:00, 21.28it/s, property_loss=0.02, vae_loss=0.33]\n"
     ]
    },
    {
     "name": "stdout",
     "output_type": "stream",
     "text": [
      "Validation ...\n",
      "Loss is 0.437\n",
      "Elementary quality score is 84.603 / 100\n",
      "Sequence quality score is 25.581 / 100\n",
      "EPOCH 326 takes 0.063 minutes\n",
      "===== EPOCH 327 =====\n",
      "Training ...\n"
     ]
    },
    {
     "name": "stderr",
     "output_type": "stream",
     "text": [
      "100%|██████████| 80/80 [00:03<00:00, 21.31it/s, property_loss=0.02, vae_loss=0.33]\n"
     ]
    },
    {
     "name": "stdout",
     "output_type": "stream",
     "text": [
      "Validation ...\n",
      "Loss is 0.436\n",
      "Elementary quality score is 84.627 / 100\n",
      "Sequence quality score is 24.496 / 100\n",
      "EPOCH 327 takes 0.063 minutes\n",
      "===== EPOCH 328 =====\n",
      "Training ...\n"
     ]
    },
    {
     "name": "stderr",
     "output_type": "stream",
     "text": [
      "100%|██████████| 80/80 [00:03<00:00, 21.28it/s, property_loss=0.02, vae_loss=0.33]\n"
     ]
    },
    {
     "name": "stdout",
     "output_type": "stream",
     "text": [
      "Validation ...\n",
      "Loss is 0.435\n",
      "Elementary quality score is 84.646 / 100\n",
      "Sequence quality score is 23.566 / 100\n",
      "EPOCH 328 takes 0.063 minutes\n",
      "===== EPOCH 329 =====\n",
      "Training ...\n"
     ]
    },
    {
     "name": "stderr",
     "output_type": "stream",
     "text": [
      "100%|██████████| 80/80 [00:03<00:00, 20.93it/s, property_loss=0.02, vae_loss=0.34]\n"
     ]
    },
    {
     "name": "stdout",
     "output_type": "stream",
     "text": [
      "Validation ...\n",
      "Loss is 0.432\n",
      "Elementary quality score is 84.743 / 100\n",
      "Sequence quality score is 27.132 / 100\n",
      "EPOCH 329 takes 0.064 minutes\n",
      "===== EPOCH 330 =====\n",
      "Training ...\n"
     ]
    },
    {
     "name": "stderr",
     "output_type": "stream",
     "text": [
      "100%|██████████| 80/80 [00:03<00:00, 21.27it/s, property_loss=0.02, vae_loss=0.33]\n"
     ]
    },
    {
     "name": "stdout",
     "output_type": "stream",
     "text": [
      "Validation ...\n",
      "Loss is 0.433\n",
      "Elementary quality score is 84.734 / 100\n",
      "Sequence quality score is 25.426 / 100\n",
      "EPOCH 330 takes 0.063 minutes\n",
      "===== EPOCH 331 =====\n",
      "Training ...\n"
     ]
    },
    {
     "name": "stderr",
     "output_type": "stream",
     "text": [
      "100%|██████████| 80/80 [00:03<00:00, 21.31it/s, property_loss=0.02, vae_loss=0.33]\n"
     ]
    },
    {
     "name": "stdout",
     "output_type": "stream",
     "text": [
      "Validation ...\n",
      "Loss is 0.432\n",
      "Elementary quality score is 84.855 / 100\n",
      "Sequence quality score is 24.961 / 100\n",
      "EPOCH 331 takes 0.063 minutes\n",
      "===== EPOCH 332 =====\n",
      "Training ...\n"
     ]
    },
    {
     "name": "stderr",
     "output_type": "stream",
     "text": [
      "100%|██████████| 80/80 [00:03<00:00, 21.31it/s, property_loss=0.02, vae_loss=0.32]\n"
     ]
    },
    {
     "name": "stdout",
     "output_type": "stream",
     "text": [
      "Validation ...\n",
      "Loss is 0.432\n",
      "Elementary quality score is 84.874 / 100\n",
      "Sequence quality score is 26.047 / 100\n",
      "EPOCH 332 takes 0.063 minutes\n",
      "===== EPOCH 333 =====\n",
      "Training ...\n"
     ]
    },
    {
     "name": "stderr",
     "output_type": "stream",
     "text": [
      "100%|██████████| 80/80 [00:03<00:00, 21.31it/s, property_loss=0.02, vae_loss=0.32]\n"
     ]
    },
    {
     "name": "stdout",
     "output_type": "stream",
     "text": [
      "Validation ...\n",
      "Loss is 0.432\n",
      "Elementary quality score is 84.869 / 100\n",
      "Sequence quality score is 26.357 / 100\n",
      "EPOCH 333 takes 0.063 minutes\n",
      "===== EPOCH 334 =====\n",
      "Training ...\n"
     ]
    },
    {
     "name": "stderr",
     "output_type": "stream",
     "text": [
      "100%|██████████| 80/80 [00:03<00:00, 21.31it/s, property_loss=0.02, vae_loss=0.32]\n"
     ]
    },
    {
     "name": "stdout",
     "output_type": "stream",
     "text": [
      "Validation ...\n",
      "Loss is 0.432\n",
      "Elementary quality score is 84.884 / 100\n",
      "Sequence quality score is 26.822 / 100\n",
      "EPOCH 334 takes 0.063 minutes\n",
      "===== EPOCH 335 =====\n",
      "Training ...\n"
     ]
    },
    {
     "name": "stderr",
     "output_type": "stream",
     "text": [
      "100%|██████████| 80/80 [00:04<00:00, 18.98it/s, property_loss=0.02, vae_loss=0.32]\n"
     ]
    },
    {
     "name": "stdout",
     "output_type": "stream",
     "text": [
      "Validation ...\n",
      "Loss is 0.432\n",
      "Elementary quality score is 84.942 / 100\n",
      "Sequence quality score is 26.202 / 100\n",
      "EPOCH 335 takes 0.070 minutes\n",
      "===== EPOCH 336 =====\n",
      "Training ...\n"
     ]
    },
    {
     "name": "stderr",
     "output_type": "stream",
     "text": [
      "100%|██████████| 80/80 [00:03<00:00, 21.14it/s, property_loss=0.02, vae_loss=0.32]\n"
     ]
    },
    {
     "name": "stdout",
     "output_type": "stream",
     "text": [
      "Validation ...\n",
      "Loss is 0.432\n",
      "Elementary quality score is 84.903 / 100\n",
      "Sequence quality score is 26.512 / 100\n",
      "EPOCH 336 takes 0.063 minutes\n",
      "===== EPOCH 337 =====\n",
      "Training ...\n"
     ]
    },
    {
     "name": "stderr",
     "output_type": "stream",
     "text": [
      "100%|██████████| 80/80 [00:03<00:00, 21.31it/s, property_loss=0.02, vae_loss=0.32]\n"
     ]
    },
    {
     "name": "stdout",
     "output_type": "stream",
     "text": [
      "Validation ...\n",
      "Loss is 0.433\n",
      "Elementary quality score is 84.884 / 100\n",
      "Sequence quality score is 26.202 / 100\n",
      "EPOCH 337 takes 0.063 minutes\n",
      "===== EPOCH 338 =====\n",
      "Training ...\n"
     ]
    },
    {
     "name": "stderr",
     "output_type": "stream",
     "text": [
      "100%|██████████| 80/80 [00:03<00:00, 21.33it/s, property_loss=0.02, vae_loss=0.32]\n"
     ]
    },
    {
     "name": "stdout",
     "output_type": "stream",
     "text": [
      "Validation ...\n",
      "Loss is 0.432\n",
      "Elementary quality score is 84.942 / 100\n",
      "Sequence quality score is 24.961 / 100\n",
      "EPOCH 338 takes 0.063 minutes\n",
      "===== EPOCH 339 =====\n",
      "Training ...\n"
     ]
    },
    {
     "name": "stderr",
     "output_type": "stream",
     "text": [
      "100%|██████████| 80/80 [00:03<00:00, 21.32it/s, property_loss=0.02, vae_loss=0.32]\n"
     ]
    },
    {
     "name": "stdout",
     "output_type": "stream",
     "text": [
      "Validation ...\n",
      "Loss is 0.430\n",
      "Elementary quality score is 85.000 / 100\n",
      "Sequence quality score is 27.442 / 100\n",
      "EPOCH 339 takes 0.063 minutes\n",
      "===== EPOCH 340 =====\n",
      "Training ...\n"
     ]
    },
    {
     "name": "stderr",
     "output_type": "stream",
     "text": [
      "100%|██████████| 80/80 [00:03<00:00, 21.33it/s, property_loss=0.02, vae_loss=0.32]\n"
     ]
    },
    {
     "name": "stdout",
     "output_type": "stream",
     "text": [
      "Validation ...\n",
      "Loss is 0.430\n",
      "Elementary quality score is 84.932 / 100\n",
      "Sequence quality score is 26.822 / 100\n",
      "EPOCH 340 takes 0.063 minutes\n",
      "===== EPOCH 341 =====\n",
      "Training ...\n"
     ]
    },
    {
     "name": "stderr",
     "output_type": "stream",
     "text": [
      "100%|██████████| 80/80 [00:03<00:00, 21.34it/s, property_loss=0.02, vae_loss=0.31]\n"
     ]
    },
    {
     "name": "stdout",
     "output_type": "stream",
     "text": [
      "Validation ...\n",
      "Loss is 0.428\n",
      "Elementary quality score is 85.044 / 100\n",
      "Sequence quality score is 26.357 / 100\n",
      "EPOCH 341 takes 0.063 minutes\n",
      "===== EPOCH 342 =====\n",
      "Training ...\n"
     ]
    },
    {
     "name": "stderr",
     "output_type": "stream",
     "text": [
      "100%|██████████| 80/80 [00:03<00:00, 21.34it/s, property_loss=0.02, vae_loss=0.32]\n"
     ]
    },
    {
     "name": "stdout",
     "output_type": "stream",
     "text": [
      "Validation ...\n",
      "Loss is 0.429\n",
      "Elementary quality score is 84.995 / 100\n",
      "Sequence quality score is 26.667 / 100\n",
      "EPOCH 342 takes 0.063 minutes\n",
      "===== EPOCH 343 =====\n",
      "Training ...\n"
     ]
    },
    {
     "name": "stderr",
     "output_type": "stream",
     "text": [
      "100%|██████████| 80/80 [00:03<00:00, 21.33it/s, property_loss=0.02, vae_loss=0.31]\n"
     ]
    },
    {
     "name": "stdout",
     "output_type": "stream",
     "text": [
      "Validation ...\n",
      "Loss is 0.427\n",
      "Elementary quality score is 85.087 / 100\n",
      "Sequence quality score is 25.736 / 100\n",
      "EPOCH 343 takes 0.063 minutes\n",
      "===== EPOCH 344 =====\n",
      "Training ...\n"
     ]
    },
    {
     "name": "stderr",
     "output_type": "stream",
     "text": [
      "100%|██████████| 80/80 [00:03<00:00, 21.33it/s, property_loss=0.02, vae_loss=0.31]\n"
     ]
    },
    {
     "name": "stdout",
     "output_type": "stream",
     "text": [
      "Validation ...\n",
      "Loss is 0.426\n",
      "Elementary quality score is 85.111 / 100\n",
      "Sequence quality score is 26.202 / 100\n",
      "EPOCH 344 takes 0.063 minutes\n",
      "===== EPOCH 345 =====\n",
      "Training ...\n"
     ]
    },
    {
     "name": "stderr",
     "output_type": "stream",
     "text": [
      "100%|██████████| 80/80 [00:03<00:00, 21.33it/s, property_loss=0.02, vae_loss=0.31]\n"
     ]
    },
    {
     "name": "stdout",
     "output_type": "stream",
     "text": [
      "Validation ...\n",
      "Loss is 0.425\n",
      "Elementary quality score is 85.170 / 100\n",
      "Sequence quality score is 25.271 / 100\n",
      "EPOCH 345 takes 0.063 minutes\n",
      "===== EPOCH 346 =====\n",
      "Training ...\n"
     ]
    },
    {
     "name": "stderr",
     "output_type": "stream",
     "text": [
      "100%|██████████| 80/80 [00:03<00:00, 21.34it/s, property_loss=0.02, vae_loss=0.31]\n"
     ]
    },
    {
     "name": "stdout",
     "output_type": "stream",
     "text": [
      "Validation ...\n",
      "Loss is 0.423\n",
      "Elementary quality score is 85.252 / 100\n",
      "Sequence quality score is 27.907 / 100\n",
      "EPOCH 346 takes 0.063 minutes\n",
      "===== EPOCH 347 =====\n",
      "Training ...\n"
     ]
    },
    {
     "name": "stderr",
     "output_type": "stream",
     "text": [
      "100%|██████████| 80/80 [00:03<00:00, 20.42it/s, property_loss=0.02, vae_loss=0.31]\n"
     ]
    },
    {
     "name": "stdout",
     "output_type": "stream",
     "text": [
      "Validation ...\n",
      "Loss is 0.422\n",
      "Elementary quality score is 85.203 / 100\n",
      "Sequence quality score is 28.217 / 100\n",
      "EPOCH 347 takes 0.065 minutes\n",
      "===== EPOCH 348 =====\n",
      "Training ...\n"
     ]
    },
    {
     "name": "stderr",
     "output_type": "stream",
     "text": [
      "100%|██████████| 80/80 [00:03<00:00, 21.31it/s, property_loss=0.02, vae_loss=0.32]\n"
     ]
    },
    {
     "name": "stdout",
     "output_type": "stream",
     "text": [
      "Validation ...\n",
      "Loss is 0.423\n",
      "Elementary quality score is 85.160 / 100\n",
      "Sequence quality score is 27.597 / 100\n",
      "EPOCH 348 takes 0.063 minutes\n",
      "===== EPOCH 349 =====\n",
      "Training ...\n"
     ]
    },
    {
     "name": "stderr",
     "output_type": "stream",
     "text": [
      "100%|██████████| 80/80 [00:03<00:00, 21.34it/s, property_loss=0.02, vae_loss=0.31]\n"
     ]
    },
    {
     "name": "stdout",
     "output_type": "stream",
     "text": [
      "Validation ...\n",
      "Loss is 0.421\n",
      "Elementary quality score is 85.305 / 100\n",
      "Sequence quality score is 27.287 / 100\n",
      "EPOCH 349 takes 0.063 minutes\n",
      "===== EPOCH 350 =====\n",
      "Training ...\n"
     ]
    },
    {
     "name": "stderr",
     "output_type": "stream",
     "text": [
      "100%|██████████| 80/80 [00:03<00:00, 21.31it/s, property_loss=0.02, vae_loss=0.32]\n"
     ]
    },
    {
     "name": "stdout",
     "output_type": "stream",
     "text": [
      "Validation ...\n",
      "Loss is 0.420\n",
      "Elementary quality score is 85.538 / 100\n",
      "Sequence quality score is 27.752 / 100\n",
      "EPOCH 350 takes 0.063 minutes\n",
      "===== EPOCH 351 =====\n",
      "Training ...\n"
     ]
    },
    {
     "name": "stderr",
     "output_type": "stream",
     "text": [
      "100%|██████████| 80/80 [00:03<00:00, 21.29it/s, property_loss=0.02, vae_loss=0.31]\n"
     ]
    },
    {
     "name": "stdout",
     "output_type": "stream",
     "text": [
      "Validation ...\n",
      "Loss is 0.421\n",
      "Elementary quality score is 85.480 / 100\n",
      "Sequence quality score is 27.442 / 100\n",
      "EPOCH 351 takes 0.063 minutes\n",
      "===== EPOCH 352 =====\n",
      "Training ...\n"
     ]
    },
    {
     "name": "stderr",
     "output_type": "stream",
     "text": [
      "100%|██████████| 80/80 [00:03<00:00, 21.34it/s, property_loss=0.03, vae_loss=0.31]\n"
     ]
    },
    {
     "name": "stdout",
     "output_type": "stream",
     "text": [
      "Validation ...\n",
      "Loss is 0.419\n",
      "Elementary quality score is 85.591 / 100\n",
      "Sequence quality score is 26.977 / 100\n",
      "EPOCH 352 takes 0.063 minutes\n",
      "===== EPOCH 353 =====\n",
      "Training ...\n"
     ]
    },
    {
     "name": "stderr",
     "output_type": "stream",
     "text": [
      "100%|██████████| 80/80 [00:03<00:00, 21.31it/s, property_loss=0.03, vae_loss=0.31]\n"
     ]
    },
    {
     "name": "stdout",
     "output_type": "stream",
     "text": [
      "Validation ...\n",
      "Loss is 0.420\n",
      "Elementary quality score is 85.567 / 100\n",
      "Sequence quality score is 26.667 / 100\n",
      "EPOCH 353 takes 0.063 minutes\n",
      "===== EPOCH 354 =====\n",
      "Training ...\n"
     ]
    },
    {
     "name": "stderr",
     "output_type": "stream",
     "text": [
      "100%|██████████| 80/80 [00:03<00:00, 21.31it/s, property_loss=0.03, vae_loss=0.31]\n"
     ]
    },
    {
     "name": "stdout",
     "output_type": "stream",
     "text": [
      "Validation ...\n",
      "Loss is 0.420\n",
      "Elementary quality score is 85.446 / 100\n",
      "Sequence quality score is 26.667 / 100\n",
      "EPOCH 354 takes 0.063 minutes\n",
      "===== EPOCH 355 =====\n",
      "Training ...\n"
     ]
    },
    {
     "name": "stderr",
     "output_type": "stream",
     "text": [
      "100%|██████████| 80/80 [00:03<00:00, 21.33it/s, property_loss=0.02, vae_loss=0.31]\n"
     ]
    },
    {
     "name": "stdout",
     "output_type": "stream",
     "text": [
      "Validation ...\n",
      "Loss is 0.420\n",
      "Elementary quality score is 85.586 / 100\n",
      "Sequence quality score is 28.682 / 100\n",
      "EPOCH 355 takes 0.063 minutes\n",
      "===== EPOCH 356 =====\n",
      "Training ...\n"
     ]
    },
    {
     "name": "stderr",
     "output_type": "stream",
     "text": [
      "100%|██████████| 80/80 [00:04<00:00, 18.33it/s, property_loss=0.02, vae_loss=0.31]\n"
     ]
    },
    {
     "name": "stdout",
     "output_type": "stream",
     "text": [
      "Validation ...\n",
      "Loss is 0.419\n",
      "Elementary quality score is 85.766 / 100\n",
      "Sequence quality score is 27.597 / 100\n",
      "EPOCH 356 takes 0.073 minutes\n",
      "===== EPOCH 357 =====\n",
      "Training ...\n"
     ]
    },
    {
     "name": "stderr",
     "output_type": "stream",
     "text": [
      "100%|██████████| 80/80 [00:03<00:00, 20.77it/s, property_loss=0.03, vae_loss=0.31]\n"
     ]
    },
    {
     "name": "stdout",
     "output_type": "stream",
     "text": [
      "Validation ...\n",
      "Loss is 0.418\n",
      "Elementary quality score is 85.625 / 100\n",
      "Sequence quality score is 27.442 / 100\n",
      "EPOCH 357 takes 0.064 minutes\n",
      "===== EPOCH 358 =====\n",
      "Training ...\n"
     ]
    },
    {
     "name": "stderr",
     "output_type": "stream",
     "text": [
      "100%|██████████| 80/80 [00:03<00:00, 21.01it/s, property_loss=0.03, vae_loss=0.31]\n"
     ]
    },
    {
     "name": "stdout",
     "output_type": "stream",
     "text": [
      "Validation ...\n",
      "Loss is 0.419\n",
      "Elementary quality score is 85.615 / 100\n",
      "Sequence quality score is 29.612 / 100\n",
      "EPOCH 358 takes 0.064 minutes\n",
      "===== EPOCH 359 =====\n",
      "Training ...\n"
     ]
    },
    {
     "name": "stderr",
     "output_type": "stream",
     "text": [
      "100%|██████████| 80/80 [00:03<00:00, 21.02it/s, property_loss=0.03, vae_loss=0.31]\n"
     ]
    },
    {
     "name": "stdout",
     "output_type": "stream",
     "text": [
      "Validation ...\n",
      "Loss is 0.418\n",
      "Elementary quality score is 85.644 / 100\n",
      "Sequence quality score is 27.287 / 100\n",
      "EPOCH 359 takes 0.064 minutes\n",
      "===== EPOCH 360 =====\n",
      "Training ...\n"
     ]
    },
    {
     "name": "stderr",
     "output_type": "stream",
     "text": [
      "100%|██████████| 80/80 [00:03<00:00, 21.02it/s, property_loss=0.03, vae_loss=0.31]\n"
     ]
    },
    {
     "name": "stdout",
     "output_type": "stream",
     "text": [
      "Validation ...\n",
      "Loss is 0.418\n",
      "Elementary quality score is 85.610 / 100\n",
      "Sequence quality score is 26.977 / 100\n",
      "EPOCH 360 takes 0.064 minutes\n",
      "===== EPOCH 361 =====\n",
      "Training ...\n"
     ]
    },
    {
     "name": "stderr",
     "output_type": "stream",
     "text": [
      "100%|██████████| 80/80 [00:03<00:00, 21.04it/s, property_loss=0.02, vae_loss=0.31]\n"
     ]
    },
    {
     "name": "stdout",
     "output_type": "stream",
     "text": [
      "Validation ...\n",
      "Loss is 0.418\n",
      "Elementary quality score is 85.669 / 100\n",
      "Sequence quality score is 27.132 / 100\n",
      "EPOCH 361 takes 0.063 minutes\n",
      "===== EPOCH 362 =====\n",
      "Training ...\n"
     ]
    },
    {
     "name": "stderr",
     "output_type": "stream",
     "text": [
      "100%|██████████| 80/80 [00:03<00:00, 21.03it/s, property_loss=0.03, vae_loss=0.31]\n"
     ]
    },
    {
     "name": "stdout",
     "output_type": "stream",
     "text": [
      "Validation ...\n",
      "Loss is 0.420\n",
      "Elementary quality score is 85.562 / 100\n",
      "Sequence quality score is 27.752 / 100\n",
      "EPOCH 362 takes 0.064 minutes\n",
      "===== EPOCH 363 =====\n",
      "Training ...\n"
     ]
    },
    {
     "name": "stderr",
     "output_type": "stream",
     "text": [
      "100%|██████████| 80/80 [00:03<00:00, 21.02it/s, property_loss=0.03, vae_loss=0.31]\n"
     ]
    },
    {
     "name": "stdout",
     "output_type": "stream",
     "text": [
      "Validation ...\n",
      "Loss is 0.417\n",
      "Elementary quality score is 85.819 / 100\n",
      "Sequence quality score is 28.372 / 100\n",
      "EPOCH 363 takes 0.064 minutes\n",
      "===== EPOCH 364 =====\n",
      "Training ...\n"
     ]
    },
    {
     "name": "stderr",
     "output_type": "stream",
     "text": [
      "100%|██████████| 80/80 [00:03<00:00, 21.04it/s, property_loss=0.02, vae_loss=0.31]\n"
     ]
    },
    {
     "name": "stdout",
     "output_type": "stream",
     "text": [
      "Validation ...\n",
      "Loss is 0.418\n",
      "Elementary quality score is 85.523 / 100\n",
      "Sequence quality score is 26.357 / 100\n",
      "EPOCH 364 takes 0.064 minutes\n",
      "===== EPOCH 365 =====\n",
      "Training ...\n"
     ]
    },
    {
     "name": "stderr",
     "output_type": "stream",
     "text": [
      "100%|██████████| 80/80 [00:03<00:00, 21.04it/s, property_loss=0.02, vae_loss=0.31]\n"
     ]
    },
    {
     "name": "stdout",
     "output_type": "stream",
     "text": [
      "Validation ...\n",
      "Loss is 0.419\n",
      "Elementary quality score is 85.766 / 100\n",
      "Sequence quality score is 24.496 / 100\n",
      "EPOCH 365 takes 0.064 minutes\n",
      "===== EPOCH 366 =====\n",
      "Training ...\n"
     ]
    },
    {
     "name": "stderr",
     "output_type": "stream",
     "text": [
      "100%|██████████| 80/80 [00:03<00:00, 21.03it/s, property_loss=0.02, vae_loss=0.31]\n"
     ]
    },
    {
     "name": "stdout",
     "output_type": "stream",
     "text": [
      "Validation ...\n",
      "Loss is 0.417\n",
      "Elementary quality score is 85.673 / 100\n",
      "Sequence quality score is 27.132 / 100\n",
      "EPOCH 366 takes 0.064 minutes\n",
      "===== EPOCH 367 =====\n",
      "Training ...\n"
     ]
    },
    {
     "name": "stderr",
     "output_type": "stream",
     "text": [
      "100%|██████████| 80/80 [00:03<00:00, 21.01it/s, property_loss=0.02, vae_loss=0.30]\n"
     ]
    },
    {
     "name": "stdout",
     "output_type": "stream",
     "text": [
      "Validation ...\n",
      "Loss is 0.418\n",
      "Elementary quality score is 85.659 / 100\n",
      "Sequence quality score is 27.442 / 100\n",
      "EPOCH 367 takes 0.064 minutes\n",
      "===== EPOCH 368 =====\n",
      "Training ...\n"
     ]
    },
    {
     "name": "stderr",
     "output_type": "stream",
     "text": [
      "100%|██████████| 80/80 [00:03<00:00, 21.04it/s, property_loss=0.02, vae_loss=0.31]\n"
     ]
    },
    {
     "name": "stdout",
     "output_type": "stream",
     "text": [
      "Validation ...\n",
      "Loss is 0.419\n",
      "Elementary quality score is 85.673 / 100\n",
      "Sequence quality score is 27.442 / 100\n",
      "EPOCH 368 takes 0.064 minutes\n",
      "===== EPOCH 369 =====\n",
      "Training ...\n"
     ]
    },
    {
     "name": "stderr",
     "output_type": "stream",
     "text": [
      "100%|██████████| 80/80 [00:03<00:00, 21.03it/s, property_loss=0.03, vae_loss=0.30]\n"
     ]
    },
    {
     "name": "stdout",
     "output_type": "stream",
     "text": [
      "Validation ...\n",
      "Loss is 0.418\n",
      "Elementary quality score is 85.669 / 100\n",
      "Sequence quality score is 28.062 / 100\n",
      "EPOCH 369 takes 0.064 minutes\n",
      "===== EPOCH 370 =====\n",
      "Training ...\n"
     ]
    },
    {
     "name": "stderr",
     "output_type": "stream",
     "text": [
      "100%|██████████| 80/80 [00:03<00:00, 21.03it/s, property_loss=0.03, vae_loss=0.31]\n"
     ]
    },
    {
     "name": "stdout",
     "output_type": "stream",
     "text": [
      "Validation ...\n",
      "Loss is 0.418\n",
      "Elementary quality score is 85.567 / 100\n",
      "Sequence quality score is 23.256 / 100\n",
      "EPOCH 370 takes 0.064 minutes\n",
      "===== EPOCH 371 =====\n",
      "Training ...\n"
     ]
    },
    {
     "name": "stderr",
     "output_type": "stream",
     "text": [
      "100%|██████████| 80/80 [00:03<00:00, 21.02it/s, property_loss=0.03, vae_loss=0.31]\n"
     ]
    },
    {
     "name": "stdout",
     "output_type": "stream",
     "text": [
      "Validation ...\n",
      "Loss is 0.418\n",
      "Elementary quality score is 85.606 / 100\n",
      "Sequence quality score is 24.496 / 100\n",
      "EPOCH 371 takes 0.064 minutes\n",
      "===== EPOCH 372 =====\n",
      "Training ...\n"
     ]
    },
    {
     "name": "stderr",
     "output_type": "stream",
     "text": [
      "100%|██████████| 80/80 [00:03<00:00, 21.03it/s, property_loss=0.02, vae_loss=0.30]\n"
     ]
    },
    {
     "name": "stdout",
     "output_type": "stream",
     "text": [
      "Validation ...\n",
      "Loss is 0.415\n",
      "Elementary quality score is 85.630 / 100\n",
      "Sequence quality score is 26.202 / 100\n",
      "EPOCH 372 takes 0.064 minutes\n",
      "===== EPOCH 373 =====\n",
      "Training ...\n"
     ]
    },
    {
     "name": "stderr",
     "output_type": "stream",
     "text": [
      "100%|██████████| 80/80 [00:03<00:00, 21.02it/s, property_loss=0.02, vae_loss=0.30]\n"
     ]
    },
    {
     "name": "stdout",
     "output_type": "stream",
     "text": [
      "Validation ...\n",
      "Loss is 0.414\n",
      "Elementary quality score is 85.780 / 100\n",
      "Sequence quality score is 27.907 / 100\n",
      "EPOCH 373 takes 0.064 minutes\n",
      "===== EPOCH 374 =====\n",
      "Training ...\n"
     ]
    },
    {
     "name": "stderr",
     "output_type": "stream",
     "text": [
      "100%|██████████| 80/80 [00:03<00:00, 21.03it/s, property_loss=0.02, vae_loss=0.30]\n"
     ]
    },
    {
     "name": "stdout",
     "output_type": "stream",
     "text": [
      "Validation ...\n",
      "Loss is 0.415\n",
      "Elementary quality score is 85.804 / 100\n",
      "Sequence quality score is 24.961 / 100\n",
      "EPOCH 374 takes 0.064 minutes\n",
      "===== EPOCH 375 =====\n",
      "Training ...\n"
     ]
    },
    {
     "name": "stderr",
     "output_type": "stream",
     "text": [
      "100%|██████████| 80/80 [00:03<00:00, 21.04it/s, property_loss=0.02, vae_loss=0.31]\n"
     ]
    },
    {
     "name": "stdout",
     "output_type": "stream",
     "text": [
      "Validation ...\n",
      "Loss is 0.417\n",
      "Elementary quality score is 85.635 / 100\n",
      "Sequence quality score is 26.357 / 100\n",
      "EPOCH 375 takes 0.064 minutes\n",
      "===== EPOCH 376 =====\n",
      "Training ...\n"
     ]
    },
    {
     "name": "stderr",
     "output_type": "stream",
     "text": [
      "100%|██████████| 80/80 [00:03<00:00, 21.02it/s, property_loss=0.02, vae_loss=0.30]\n"
     ]
    },
    {
     "name": "stdout",
     "output_type": "stream",
     "text": [
      "Validation ...\n",
      "Loss is 0.414\n",
      "Elementary quality score is 85.732 / 100\n",
      "Sequence quality score is 26.667 / 100\n",
      "EPOCH 376 takes 0.064 minutes\n",
      "===== EPOCH 377 =====\n",
      "Training ...\n"
     ]
    },
    {
     "name": "stderr",
     "output_type": "stream",
     "text": [
      "100%|██████████| 80/80 [00:04<00:00, 17.06it/s, property_loss=0.02, vae_loss=0.30]\n"
     ]
    },
    {
     "name": "stdout",
     "output_type": "stream",
     "text": [
      "Validation ...\n",
      "Loss is 0.411\n",
      "Elementary quality score is 86.027 / 100\n",
      "Sequence quality score is 27.287 / 100\n",
      "EPOCH 377 takes 0.080 minutes\n",
      "===== EPOCH 378 =====\n",
      "Training ...\n"
     ]
    },
    {
     "name": "stderr",
     "output_type": "stream",
     "text": [
      "100%|██████████| 80/80 [00:04<00:00, 18.96it/s, property_loss=0.02, vae_loss=0.30]\n"
     ]
    },
    {
     "name": "stdout",
     "output_type": "stream",
     "text": [
      "Validation ...\n",
      "Loss is 0.413\n",
      "Elementary quality score is 85.819 / 100\n",
      "Sequence quality score is 25.271 / 100\n",
      "EPOCH 378 takes 0.070 minutes\n",
      "===== EPOCH 379 =====\n",
      "Training ...\n"
     ]
    },
    {
     "name": "stderr",
     "output_type": "stream",
     "text": [
      "100%|██████████| 80/80 [00:03<00:00, 21.35it/s, property_loss=0.02, vae_loss=0.30]\n"
     ]
    },
    {
     "name": "stdout",
     "output_type": "stream",
     "text": [
      "Validation ...\n",
      "Loss is 0.413\n",
      "Elementary quality score is 85.766 / 100\n",
      "Sequence quality score is 25.116 / 100\n",
      "EPOCH 379 takes 0.063 minutes\n",
      "===== EPOCH 380 =====\n",
      "Training ...\n"
     ]
    },
    {
     "name": "stderr",
     "output_type": "stream",
     "text": [
      "100%|██████████| 80/80 [00:03<00:00, 21.38it/s, property_loss=0.02, vae_loss=0.31]\n"
     ]
    },
    {
     "name": "stdout",
     "output_type": "stream",
     "text": [
      "Validation ...\n",
      "Loss is 0.412\n",
      "Elementary quality score is 85.911 / 100\n",
      "Sequence quality score is 28.217 / 100\n",
      "EPOCH 380 takes 0.063 minutes\n",
      "===== EPOCH 381 =====\n",
      "Training ...\n"
     ]
    },
    {
     "name": "stderr",
     "output_type": "stream",
     "text": [
      "100%|██████████| 80/80 [00:03<00:00, 21.38it/s, property_loss=0.02, vae_loss=0.30]\n"
     ]
    },
    {
     "name": "stdout",
     "output_type": "stream",
     "text": [
      "Validation ...\n",
      "Loss is 0.411\n",
      "Elementary quality score is 85.877 / 100\n",
      "Sequence quality score is 25.891 / 100\n",
      "EPOCH 381 takes 0.062 minutes\n",
      "===== EPOCH 382 =====\n",
      "Training ...\n"
     ]
    },
    {
     "name": "stderr",
     "output_type": "stream",
     "text": [
      "100%|██████████| 80/80 [00:03<00:00, 21.31it/s, property_loss=0.02, vae_loss=0.30]\n"
     ]
    },
    {
     "name": "stdout",
     "output_type": "stream",
     "text": [
      "Validation ...\n",
      "Loss is 0.412\n",
      "Elementary quality score is 85.945 / 100\n",
      "Sequence quality score is 26.822 / 100\n",
      "EPOCH 382 takes 0.063 minutes\n",
      "===== EPOCH 383 =====\n",
      "Training ...\n"
     ]
    },
    {
     "name": "stderr",
     "output_type": "stream",
     "text": [
      "100%|██████████| 80/80 [00:03<00:00, 21.38it/s, property_loss=0.02, vae_loss=0.31]\n"
     ]
    },
    {
     "name": "stdout",
     "output_type": "stream",
     "text": [
      "Validation ...\n",
      "Loss is 0.416\n",
      "Elementary quality score is 85.916 / 100\n",
      "Sequence quality score is 26.512 / 100\n",
      "EPOCH 383 takes 0.062 minutes\n",
      "===== EPOCH 384 =====\n",
      "Training ...\n"
     ]
    },
    {
     "name": "stderr",
     "output_type": "stream",
     "text": [
      "100%|██████████| 80/80 [00:03<00:00, 21.38it/s, property_loss=0.02, vae_loss=0.31]\n"
     ]
    },
    {
     "name": "stdout",
     "output_type": "stream",
     "text": [
      "Validation ...\n",
      "Loss is 0.411\n",
      "Elementary quality score is 85.998 / 100\n",
      "Sequence quality score is 26.047 / 100\n",
      "EPOCH 384 takes 0.063 minutes\n",
      "===== EPOCH 385 =====\n",
      "Training ...\n"
     ]
    },
    {
     "name": "stderr",
     "output_type": "stream",
     "text": [
      "100%|██████████| 80/80 [00:03<00:00, 21.37it/s, property_loss=0.02, vae_loss=0.31]\n"
     ]
    },
    {
     "name": "stdout",
     "output_type": "stream",
     "text": [
      "Validation ...\n",
      "Loss is 0.410\n",
      "Elementary quality score is 86.051 / 100\n",
      "Sequence quality score is 25.426 / 100\n",
      "EPOCH 385 takes 0.063 minutes\n",
      "===== EPOCH 386 =====\n",
      "Training ...\n"
     ]
    },
    {
     "name": "stderr",
     "output_type": "stream",
     "text": [
      "100%|██████████| 80/80 [00:03<00:00, 21.37it/s, property_loss=0.02, vae_loss=0.30]\n"
     ]
    },
    {
     "name": "stdout",
     "output_type": "stream",
     "text": [
      "Validation ...\n",
      "Loss is 0.412\n",
      "Elementary quality score is 85.954 / 100\n",
      "Sequence quality score is 25.581 / 100\n",
      "EPOCH 386 takes 0.063 minutes\n",
      "===== EPOCH 387 =====\n",
      "Training ...\n"
     ]
    },
    {
     "name": "stderr",
     "output_type": "stream",
     "text": [
      "100%|██████████| 80/80 [00:03<00:00, 20.39it/s, property_loss=0.02, vae_loss=0.31]\n"
     ]
    },
    {
     "name": "stdout",
     "output_type": "stream",
     "text": [
      "Validation ...\n",
      "Loss is 0.410\n",
      "Elementary quality score is 85.887 / 100\n",
      "Sequence quality score is 26.047 / 100\n",
      "EPOCH 387 takes 0.066 minutes\n",
      "===== EPOCH 388 =====\n",
      "Training ...\n"
     ]
    },
    {
     "name": "stderr",
     "output_type": "stream",
     "text": [
      "100%|██████████| 80/80 [00:03<00:00, 21.36it/s, property_loss=0.02, vae_loss=0.30]\n"
     ]
    },
    {
     "name": "stdout",
     "output_type": "stream",
     "text": [
      "Validation ...\n",
      "Loss is 0.412\n",
      "Elementary quality score is 86.100 / 100\n",
      "Sequence quality score is 27.287 / 100\n",
      "EPOCH 388 takes 0.063 minutes\n",
      "===== EPOCH 389 =====\n",
      "Training ...\n"
     ]
    },
    {
     "name": "stderr",
     "output_type": "stream",
     "text": [
      "100%|██████████| 80/80 [00:03<00:00, 21.38it/s, property_loss=0.02, vae_loss=0.31]\n"
     ]
    },
    {
     "name": "stdout",
     "output_type": "stream",
     "text": [
      "Validation ...\n",
      "Loss is 0.415\n",
      "Elementary quality score is 86.148 / 100\n",
      "Sequence quality score is 27.442 / 100\n",
      "EPOCH 389 takes 0.062 minutes\n",
      "===== EPOCH 390 =====\n",
      "Training ...\n"
     ]
    },
    {
     "name": "stderr",
     "output_type": "stream",
     "text": [
      "100%|██████████| 80/80 [00:03<00:00, 21.37it/s, property_loss=0.02, vae_loss=0.30]\n"
     ]
    },
    {
     "name": "stdout",
     "output_type": "stream",
     "text": [
      "Validation ...\n",
      "Loss is 0.412\n",
      "Elementary quality score is 86.221 / 100\n",
      "Sequence quality score is 27.597 / 100\n",
      "EPOCH 390 takes 0.063 minutes\n",
      "===== EPOCH 391 =====\n",
      "Training ...\n"
     ]
    },
    {
     "name": "stderr",
     "output_type": "stream",
     "text": [
      "100%|██████████| 80/80 [00:03<00:00, 21.37it/s, property_loss=0.02, vae_loss=0.31]\n"
     ]
    },
    {
     "name": "stdout",
     "output_type": "stream",
     "text": [
      "Validation ...\n",
      "Loss is 0.414\n",
      "Elementary quality score is 85.887 / 100\n",
      "Sequence quality score is 25.891 / 100\n",
      "EPOCH 391 takes 0.063 minutes\n",
      "===== EPOCH 392 =====\n",
      "Training ...\n"
     ]
    },
    {
     "name": "stderr",
     "output_type": "stream",
     "text": [
      "100%|██████████| 80/80 [00:03<00:00, 21.36it/s, property_loss=0.02, vae_loss=0.30]\n"
     ]
    },
    {
     "name": "stdout",
     "output_type": "stream",
     "text": [
      "Validation ...\n",
      "Loss is 0.410\n",
      "Elementary quality score is 86.037 / 100\n",
      "Sequence quality score is 26.357 / 100\n",
      "EPOCH 392 takes 0.063 minutes\n",
      "===== EPOCH 393 =====\n",
      "Training ...\n"
     ]
    },
    {
     "name": "stderr",
     "output_type": "stream",
     "text": [
      "100%|██████████| 80/80 [00:03<00:00, 21.39it/s, property_loss=0.02, vae_loss=0.30]\n"
     ]
    },
    {
     "name": "stdout",
     "output_type": "stream",
     "text": [
      "Validation ...\n",
      "Loss is 0.412\n",
      "Elementary quality score is 85.984 / 100\n",
      "Sequence quality score is 27.132 / 100\n",
      "EPOCH 393 takes 0.062 minutes\n",
      "===== EPOCH 394 =====\n",
      "Training ...\n"
     ]
    },
    {
     "name": "stderr",
     "output_type": "stream",
     "text": [
      "100%|██████████| 80/80 [00:03<00:00, 21.35it/s, property_loss=0.02, vae_loss=0.30]\n"
     ]
    },
    {
     "name": "stdout",
     "output_type": "stream",
     "text": [
      "Validation ...\n",
      "Loss is 0.411\n",
      "Elementary quality score is 85.984 / 100\n",
      "Sequence quality score is 26.822 / 100\n",
      "EPOCH 394 takes 0.063 minutes\n",
      "===== EPOCH 395 =====\n",
      "Training ...\n"
     ]
    },
    {
     "name": "stderr",
     "output_type": "stream",
     "text": [
      "100%|██████████| 80/80 [00:03<00:00, 21.37it/s, property_loss=0.02, vae_loss=0.31]\n"
     ]
    },
    {
     "name": "stdout",
     "output_type": "stream",
     "text": [
      "Validation ...\n",
      "Loss is 0.413\n",
      "Elementary quality score is 85.930 / 100\n",
      "Sequence quality score is 26.822 / 100\n",
      "EPOCH 395 takes 0.063 minutes\n",
      "===== EPOCH 396 =====\n",
      "Training ...\n"
     ]
    },
    {
     "name": "stderr",
     "output_type": "stream",
     "text": [
      "100%|██████████| 80/80 [00:03<00:00, 20.41it/s, property_loss=0.02, vae_loss=0.31]\n"
     ]
    },
    {
     "name": "stdout",
     "output_type": "stream",
     "text": [
      "Validation ...\n",
      "Loss is 0.412\n",
      "Elementary quality score is 86.095 / 100\n",
      "Sequence quality score is 27.442 / 100\n",
      "EPOCH 396 takes 0.065 minutes\n",
      "===== EPOCH 397 =====\n",
      "Training ...\n"
     ]
    },
    {
     "name": "stderr",
     "output_type": "stream",
     "text": [
      "100%|██████████| 80/80 [00:03<00:00, 21.27it/s, property_loss=0.02, vae_loss=0.30]\n"
     ]
    },
    {
     "name": "stdout",
     "output_type": "stream",
     "text": [
      "Validation ...\n",
      "Loss is 0.410\n",
      "Elementary quality score is 85.867 / 100\n",
      "Sequence quality score is 27.132 / 100\n",
      "EPOCH 397 takes 0.063 minutes\n",
      "===== EPOCH 398 =====\n",
      "Training ...\n"
     ]
    },
    {
     "name": "stderr",
     "output_type": "stream",
     "text": [
      "100%|██████████| 80/80 [00:03<00:00, 21.32it/s, property_loss=0.02, vae_loss=0.31]\n"
     ]
    },
    {
     "name": "stdout",
     "output_type": "stream",
     "text": [
      "Validation ...\n",
      "Loss is 0.412\n",
      "Elementary quality score is 85.819 / 100\n",
      "Sequence quality score is 27.287 / 100\n",
      "EPOCH 398 takes 0.063 minutes\n",
      "===== EPOCH 399 =====\n",
      "Training ...\n"
     ]
    },
    {
     "name": "stderr",
     "output_type": "stream",
     "text": [
      "100%|██████████| 80/80 [00:03<00:00, 21.36it/s, property_loss=0.02, vae_loss=0.31]\n"
     ]
    },
    {
     "name": "stdout",
     "output_type": "stream",
     "text": [
      "Validation ...\n",
      "Loss is 0.409\n",
      "Elementary quality score is 85.954 / 100\n",
      "Sequence quality score is 26.977 / 100\n",
      "EPOCH 399 takes 0.063 minutes\n",
      "===== EPOCH 400 =====\n",
      "Training ...\n"
     ]
    },
    {
     "name": "stderr",
     "output_type": "stream",
     "text": [
      "100%|██████████| 80/80 [00:03<00:00, 21.35it/s, property_loss=0.02, vae_loss=0.31]\n"
     ]
    },
    {
     "name": "stdout",
     "output_type": "stream",
     "text": [
      "Validation ...\n",
      "Loss is 0.413\n",
      "Elementary quality score is 85.901 / 100\n",
      "Sequence quality score is 27.907 / 100\n",
      "EPOCH 400 takes 0.063 minutes\n",
      "===== EPOCH 401 =====\n",
      "Training ...\n"
     ]
    },
    {
     "name": "stderr",
     "output_type": "stream",
     "text": [
      "100%|██████████| 80/80 [00:03<00:00, 21.37it/s, property_loss=0.02, vae_loss=0.30]\n"
     ]
    },
    {
     "name": "stdout",
     "output_type": "stream",
     "text": [
      "Validation ...\n",
      "Loss is 0.409\n",
      "Elementary quality score is 85.964 / 100\n",
      "Sequence quality score is 26.822 / 100\n",
      "EPOCH 401 takes 0.063 minutes\n",
      "===== EPOCH 402 =====\n",
      "Training ...\n"
     ]
    },
    {
     "name": "stderr",
     "output_type": "stream",
     "text": [
      "100%|██████████| 80/80 [00:03<00:00, 21.38it/s, property_loss=0.02, vae_loss=0.30]\n"
     ]
    },
    {
     "name": "stdout",
     "output_type": "stream",
     "text": [
      "Validation ...\n",
      "Loss is 0.411\n",
      "Elementary quality score is 86.051 / 100\n",
      "Sequence quality score is 27.907 / 100\n",
      "EPOCH 402 takes 0.063 minutes\n",
      "===== EPOCH 403 =====\n",
      "Training ...\n"
     ]
    },
    {
     "name": "stderr",
     "output_type": "stream",
     "text": [
      "100%|██████████| 80/80 [00:03<00:00, 21.36it/s, property_loss=0.02, vae_loss=0.30]\n"
     ]
    },
    {
     "name": "stdout",
     "output_type": "stream",
     "text": [
      "Validation ...\n",
      "Loss is 0.411\n",
      "Elementary quality score is 85.925 / 100\n",
      "Sequence quality score is 28.062 / 100\n",
      "EPOCH 403 takes 0.063 minutes\n",
      "===== EPOCH 404 =====\n",
      "Training ...\n"
     ]
    },
    {
     "name": "stderr",
     "output_type": "stream",
     "text": [
      "100%|██████████| 80/80 [00:03<00:00, 21.37it/s, property_loss=0.02, vae_loss=0.31]\n"
     ]
    },
    {
     "name": "stdout",
     "output_type": "stream",
     "text": [
      "Validation ...\n",
      "Loss is 0.408\n",
      "Elementary quality score is 86.168 / 100\n",
      "Sequence quality score is 29.767 / 100\n",
      "EPOCH 404 takes 0.063 minutes\n",
      "===== EPOCH 405 =====\n",
      "Training ...\n"
     ]
    },
    {
     "name": "stderr",
     "output_type": "stream",
     "text": [
      "100%|██████████| 80/80 [00:03<00:00, 21.38it/s, property_loss=0.02, vae_loss=0.31]\n"
     ]
    },
    {
     "name": "stdout",
     "output_type": "stream",
     "text": [
      "Validation ...\n",
      "Loss is 0.411\n",
      "Elementary quality score is 85.872 / 100\n",
      "Sequence quality score is 27.287 / 100\n",
      "EPOCH 405 takes 0.063 minutes\n",
      "===== EPOCH 406 =====\n",
      "Training ...\n"
     ]
    },
    {
     "name": "stderr",
     "output_type": "stream",
     "text": [
      "100%|██████████| 80/80 [00:03<00:00, 20.99it/s, property_loss=0.02, vae_loss=0.31]\n"
     ]
    },
    {
     "name": "stdout",
     "output_type": "stream",
     "text": [
      "Validation ...\n",
      "Loss is 0.412\n",
      "Elementary quality score is 85.761 / 100\n",
      "Sequence quality score is 26.822 / 100\n",
      "EPOCH 406 takes 0.064 minutes\n",
      "===== EPOCH 407 =====\n",
      "Training ...\n"
     ]
    },
    {
     "name": "stderr",
     "output_type": "stream",
     "text": [
      "100%|██████████| 80/80 [00:03<00:00, 21.36it/s, property_loss=0.02, vae_loss=0.31]\n"
     ]
    },
    {
     "name": "stdout",
     "output_type": "stream",
     "text": [
      "Validation ...\n",
      "Loss is 0.413\n",
      "Elementary quality score is 85.799 / 100\n",
      "Sequence quality score is 27.442 / 100\n",
      "EPOCH 407 takes 0.063 minutes\n",
      "===== EPOCH 408 =====\n",
      "Training ...\n"
     ]
    },
    {
     "name": "stderr",
     "output_type": "stream",
     "text": [
      "100%|██████████| 80/80 [00:03<00:00, 21.37it/s, property_loss=0.02, vae_loss=0.31]\n"
     ]
    },
    {
     "name": "stdout",
     "output_type": "stream",
     "text": [
      "Validation ...\n",
      "Loss is 0.409\n",
      "Elementary quality score is 86.080 / 100\n",
      "Sequence quality score is 27.907 / 100\n",
      "EPOCH 408 takes 0.063 minutes\n",
      "===== EPOCH 409 =====\n",
      "Training ...\n"
     ]
    },
    {
     "name": "stderr",
     "output_type": "stream",
     "text": [
      "100%|██████████| 80/80 [00:03<00:00, 21.36it/s, property_loss=0.02, vae_loss=0.31]\n"
     ]
    },
    {
     "name": "stdout",
     "output_type": "stream",
     "text": [
      "Validation ...\n",
      "Loss is 0.414\n",
      "Elementary quality score is 85.833 / 100\n",
      "Sequence quality score is 26.667 / 100\n",
      "EPOCH 409 takes 0.063 minutes\n",
      "===== EPOCH 410 =====\n",
      "Training ...\n"
     ]
    },
    {
     "name": "stderr",
     "output_type": "stream",
     "text": [
      "100%|██████████| 80/80 [00:03<00:00, 21.35it/s, property_loss=0.02, vae_loss=0.31]\n"
     ]
    },
    {
     "name": "stdout",
     "output_type": "stream",
     "text": [
      "Validation ...\n",
      "Loss is 0.409\n",
      "Elementary quality score is 86.076 / 100\n",
      "Sequence quality score is 28.372 / 100\n",
      "EPOCH 410 takes 0.063 minutes\n",
      "===== EPOCH 411 =====\n",
      "Training ...\n"
     ]
    },
    {
     "name": "stderr",
     "output_type": "stream",
     "text": [
      "100%|██████████| 80/80 [00:03<00:00, 21.34it/s, property_loss=0.02, vae_loss=0.31]\n"
     ]
    },
    {
     "name": "stdout",
     "output_type": "stream",
     "text": [
      "Validation ...\n",
      "Loss is 0.411\n",
      "Elementary quality score is 85.828 / 100\n",
      "Sequence quality score is 27.907 / 100\n",
      "EPOCH 411 takes 0.063 minutes\n",
      "===== EPOCH 412 =====\n",
      "Training ...\n"
     ]
    },
    {
     "name": "stderr",
     "output_type": "stream",
     "text": [
      "100%|██████████| 80/80 [00:03<00:00, 21.37it/s, property_loss=0.02, vae_loss=0.30]\n"
     ]
    },
    {
     "name": "stdout",
     "output_type": "stream",
     "text": [
      "Validation ...\n",
      "Loss is 0.410\n",
      "Elementary quality score is 86.051 / 100\n",
      "Sequence quality score is 29.612 / 100\n",
      "EPOCH 412 takes 0.063 minutes\n",
      "===== EPOCH 413 =====\n",
      "Training ...\n"
     ]
    },
    {
     "name": "stderr",
     "output_type": "stream",
     "text": [
      "100%|██████████| 80/80 [00:03<00:00, 21.36it/s, property_loss=0.02, vae_loss=0.31]\n"
     ]
    },
    {
     "name": "stdout",
     "output_type": "stream",
     "text": [
      "Validation ...\n",
      "Loss is 0.411\n",
      "Elementary quality score is 85.979 / 100\n",
      "Sequence quality score is 28.682 / 100\n",
      "EPOCH 413 takes 0.063 minutes\n",
      "===== EPOCH 414 =====\n",
      "Training ...\n"
     ]
    },
    {
     "name": "stderr",
     "output_type": "stream",
     "text": [
      "100%|██████████| 80/80 [00:03<00:00, 21.31it/s, property_loss=0.02, vae_loss=0.30]\n"
     ]
    },
    {
     "name": "stdout",
     "output_type": "stream",
     "text": [
      "Validation ...\n",
      "Loss is 0.410\n",
      "Elementary quality score is 86.124 / 100\n",
      "Sequence quality score is 28.837 / 100\n",
      "EPOCH 414 takes 0.063 minutes\n",
      "===== EPOCH 415 =====\n",
      "Training ...\n"
     ]
    },
    {
     "name": "stderr",
     "output_type": "stream",
     "text": [
      "100%|██████████| 80/80 [00:03<00:00, 20.42it/s, property_loss=0.02, vae_loss=0.29]\n"
     ]
    },
    {
     "name": "stdout",
     "output_type": "stream",
     "text": [
      "Validation ...\n",
      "Loss is 0.412\n",
      "Elementary quality score is 86.114 / 100\n",
      "Sequence quality score is 27.442 / 100\n",
      "EPOCH 415 takes 0.065 minutes\n",
      "===== EPOCH 416 =====\n",
      "Training ...\n"
     ]
    },
    {
     "name": "stderr",
     "output_type": "stream",
     "text": [
      "100%|██████████| 80/80 [00:03<00:00, 21.34it/s, property_loss=0.02, vae_loss=0.30]\n"
     ]
    },
    {
     "name": "stdout",
     "output_type": "stream",
     "text": [
      "Validation ...\n",
      "Loss is 0.412\n",
      "Elementary quality score is 86.037 / 100\n",
      "Sequence quality score is 27.132 / 100\n",
      "EPOCH 416 takes 0.063 minutes\n",
      "===== EPOCH 417 =====\n",
      "Training ...\n"
     ]
    },
    {
     "name": "stderr",
     "output_type": "stream",
     "text": [
      "100%|██████████| 80/80 [00:03<00:00, 21.37it/s, property_loss=0.02, vae_loss=0.29]\n"
     ]
    },
    {
     "name": "stdout",
     "output_type": "stream",
     "text": [
      "Validation ...\n",
      "Loss is 0.410\n",
      "Elementary quality score is 85.959 / 100\n",
      "Sequence quality score is 28.217 / 100\n",
      "EPOCH 417 takes 0.063 minutes\n",
      "===== EPOCH 418 =====\n",
      "Training ...\n"
     ]
    },
    {
     "name": "stderr",
     "output_type": "stream",
     "text": [
      "100%|██████████| 80/80 [00:03<00:00, 21.34it/s, property_loss=0.02, vae_loss=0.30]\n"
     ]
    },
    {
     "name": "stdout",
     "output_type": "stream",
     "text": [
      "Validation ...\n",
      "Loss is 0.413\n",
      "Elementary quality score is 86.017 / 100\n",
      "Sequence quality score is 27.132 / 100\n",
      "EPOCH 418 takes 0.063 minutes\n",
      "===== EPOCH 419 =====\n",
      "Training ...\n"
     ]
    },
    {
     "name": "stderr",
     "output_type": "stream",
     "text": [
      "100%|██████████| 80/80 [00:03<00:00, 21.37it/s, property_loss=0.02, vae_loss=0.30]\n"
     ]
    },
    {
     "name": "stdout",
     "output_type": "stream",
     "text": [
      "Validation ...\n",
      "Loss is 0.416\n",
      "Elementary quality score is 85.940 / 100\n",
      "Sequence quality score is 27.287 / 100\n",
      "EPOCH 419 takes 0.063 minutes\n",
      "===== EPOCH 420 =====\n",
      "Training ...\n"
     ]
    },
    {
     "name": "stderr",
     "output_type": "stream",
     "text": [
      "100%|██████████| 80/80 [00:03<00:00, 21.37it/s, property_loss=0.02, vae_loss=0.30]\n"
     ]
    },
    {
     "name": "stdout",
     "output_type": "stream",
     "text": [
      "Validation ...\n",
      "Loss is 0.410\n",
      "Elementary quality score is 86.042 / 100\n",
      "Sequence quality score is 27.442 / 100\n",
      "EPOCH 420 takes 0.063 minutes\n",
      "===== EPOCH 421 =====\n",
      "Training ...\n"
     ]
    },
    {
     "name": "stderr",
     "output_type": "stream",
     "text": [
      "100%|██████████| 80/80 [00:03<00:00, 21.36it/s, property_loss=0.02, vae_loss=0.31]\n"
     ]
    },
    {
     "name": "stdout",
     "output_type": "stream",
     "text": [
      "Validation ...\n",
      "Loss is 0.412\n",
      "Elementary quality score is 86.148 / 100\n",
      "Sequence quality score is 26.357 / 100\n",
      "EPOCH 421 takes 0.063 minutes\n",
      "===== EPOCH 422 =====\n",
      "Training ...\n"
     ]
    },
    {
     "name": "stderr",
     "output_type": "stream",
     "text": [
      "100%|██████████| 80/80 [00:03<00:00, 21.37it/s, property_loss=0.02, vae_loss=0.29]\n"
     ]
    },
    {
     "name": "stdout",
     "output_type": "stream",
     "text": [
      "Validation ...\n",
      "Loss is 0.410\n",
      "Elementary quality score is 86.211 / 100\n",
      "Sequence quality score is 25.736 / 100\n",
      "EPOCH 422 takes 0.063 minutes\n",
      "===== EPOCH 423 =====\n",
      "Training ...\n"
     ]
    },
    {
     "name": "stderr",
     "output_type": "stream",
     "text": [
      "100%|██████████| 80/80 [00:03<00:00, 21.37it/s, property_loss=0.02, vae_loss=0.30]\n"
     ]
    },
    {
     "name": "stdout",
     "output_type": "stream",
     "text": [
      "Validation ...\n",
      "Loss is 0.412\n",
      "Elementary quality score is 86.153 / 100\n",
      "Sequence quality score is 26.047 / 100\n",
      "EPOCH 423 takes 0.063 minutes\n",
      "===== EPOCH 424 =====\n",
      "Training ...\n"
     ]
    },
    {
     "name": "stderr",
     "output_type": "stream",
     "text": [
      "100%|██████████| 80/80 [00:03<00:00, 20.43it/s, property_loss=0.02, vae_loss=0.30]\n"
     ]
    },
    {
     "name": "stdout",
     "output_type": "stream",
     "text": [
      "Validation ...\n",
      "Loss is 0.411\n",
      "Elementary quality score is 86.284 / 100\n",
      "Sequence quality score is 26.512 / 100\n",
      "EPOCH 424 takes 0.065 minutes\n",
      "===== EPOCH 425 =====\n",
      "Training ...\n"
     ]
    },
    {
     "name": "stderr",
     "output_type": "stream",
     "text": [
      "100%|██████████| 80/80 [00:03<00:00, 21.35it/s, property_loss=0.02, vae_loss=0.30]\n"
     ]
    },
    {
     "name": "stdout",
     "output_type": "stream",
     "text": [
      "Validation ...\n",
      "Loss is 0.409\n",
      "Elementary quality score is 86.105 / 100\n",
      "Sequence quality score is 27.132 / 100\n",
      "EPOCH 425 takes 0.063 minutes\n",
      "===== EPOCH 426 =====\n",
      "Training ...\n"
     ]
    },
    {
     "name": "stderr",
     "output_type": "stream",
     "text": [
      "100%|██████████| 80/80 [00:03<00:00, 21.36it/s, property_loss=0.02, vae_loss=0.30]\n"
     ]
    },
    {
     "name": "stdout",
     "output_type": "stream",
     "text": [
      "Validation ...\n",
      "Loss is 0.415\n",
      "Elementary quality score is 86.056 / 100\n",
      "Sequence quality score is 28.372 / 100\n",
      "EPOCH 426 takes 0.063 minutes\n",
      "===== EPOCH 427 =====\n",
      "Training ...\n"
     ]
    },
    {
     "name": "stderr",
     "output_type": "stream",
     "text": [
      "100%|██████████| 80/80 [00:03<00:00, 21.37it/s, property_loss=0.02, vae_loss=0.29]\n"
     ]
    },
    {
     "name": "stdout",
     "output_type": "stream",
     "text": [
      "Validation ...\n",
      "Loss is 0.410\n",
      "Elementary quality score is 86.231 / 100\n",
      "Sequence quality score is 25.271 / 100\n",
      "EPOCH 427 takes 0.063 minutes\n",
      "===== EPOCH 428 =====\n",
      "Training ...\n"
     ]
    },
    {
     "name": "stderr",
     "output_type": "stream",
     "text": [
      "100%|██████████| 80/80 [00:03<00:00, 21.36it/s, property_loss=0.02, vae_loss=0.30]\n"
     ]
    },
    {
     "name": "stdout",
     "output_type": "stream",
     "text": [
      "Validation ...\n",
      "Loss is 0.407\n",
      "Elementary quality score is 86.269 / 100\n",
      "Sequence quality score is 26.202 / 100\n",
      "EPOCH 428 takes 0.063 minutes\n",
      "===== EPOCH 429 =====\n",
      "Training ...\n"
     ]
    },
    {
     "name": "stderr",
     "output_type": "stream",
     "text": [
      "100%|██████████| 80/80 [00:03<00:00, 21.36it/s, property_loss=0.02, vae_loss=0.30]\n"
     ]
    },
    {
     "name": "stdout",
     "output_type": "stream",
     "text": [
      "Validation ...\n",
      "Loss is 0.409\n",
      "Elementary quality score is 86.148 / 100\n",
      "Sequence quality score is 26.047 / 100\n",
      "EPOCH 429 takes 0.063 minutes\n",
      "===== EPOCH 430 =====\n",
      "Training ...\n"
     ]
    },
    {
     "name": "stderr",
     "output_type": "stream",
     "text": [
      "100%|██████████| 80/80 [00:03<00:00, 21.33it/s, property_loss=0.02, vae_loss=0.30]\n"
     ]
    },
    {
     "name": "stdout",
     "output_type": "stream",
     "text": [
      "Validation ...\n",
      "Loss is 0.409\n",
      "Elementary quality score is 86.410 / 100\n",
      "Sequence quality score is 26.977 / 100\n",
      "EPOCH 430 takes 0.063 minutes\n",
      "===== EPOCH 431 =====\n",
      "Training ...\n"
     ]
    },
    {
     "name": "stderr",
     "output_type": "stream",
     "text": [
      "100%|██████████| 80/80 [00:03<00:00, 21.38it/s, property_loss=0.02, vae_loss=0.29]\n"
     ]
    },
    {
     "name": "stdout",
     "output_type": "stream",
     "text": [
      "Validation ...\n",
      "Loss is 0.409\n",
      "Elementary quality score is 86.323 / 100\n",
      "Sequence quality score is 26.667 / 100\n",
      "EPOCH 431 takes 0.063 minutes\n",
      "===== EPOCH 432 =====\n",
      "Training ...\n"
     ]
    },
    {
     "name": "stderr",
     "output_type": "stream",
     "text": [
      "100%|██████████| 80/80 [00:03<00:00, 21.36it/s, property_loss=0.02, vae_loss=0.29]\n"
     ]
    },
    {
     "name": "stdout",
     "output_type": "stream",
     "text": [
      "Validation ...\n",
      "Loss is 0.411\n",
      "Elementary quality score is 86.172 / 100\n",
      "Sequence quality score is 27.442 / 100\n",
      "EPOCH 432 takes 0.063 minutes\n",
      "===== EPOCH 433 =====\n",
      "Training ...\n"
     ]
    },
    {
     "name": "stderr",
     "output_type": "stream",
     "text": [
      "100%|██████████| 80/80 [00:03<00:00, 21.36it/s, property_loss=0.02, vae_loss=0.29]\n"
     ]
    },
    {
     "name": "stdout",
     "output_type": "stream",
     "text": [
      "Validation ...\n",
      "Loss is 0.412\n",
      "Elementary quality score is 86.318 / 100\n",
      "Sequence quality score is 26.512 / 100\n",
      "EPOCH 433 takes 0.063 minutes\n",
      "===== EPOCH 434 =====\n",
      "Training ...\n"
     ]
    },
    {
     "name": "stderr",
     "output_type": "stream",
     "text": [
      "100%|██████████| 80/80 [00:03<00:00, 21.37it/s, property_loss=0.02, vae_loss=0.29]\n"
     ]
    },
    {
     "name": "stdout",
     "output_type": "stream",
     "text": [
      "Validation ...\n",
      "Loss is 0.410\n",
      "Elementary quality score is 86.269 / 100\n",
      "Sequence quality score is 27.907 / 100\n",
      "EPOCH 434 takes 0.063 minutes\n",
      "===== EPOCH 435 =====\n",
      "Training ...\n"
     ]
    },
    {
     "name": "stderr",
     "output_type": "stream",
     "text": [
      "100%|██████████| 80/80 [00:03<00:00, 21.36it/s, property_loss=0.02, vae_loss=0.29]\n"
     ]
    },
    {
     "name": "stdout",
     "output_type": "stream",
     "text": [
      "Validation ...\n",
      "Loss is 0.411\n",
      "Elementary quality score is 86.143 / 100\n",
      "Sequence quality score is 26.202 / 100\n",
      "EPOCH 435 takes 0.063 minutes\n",
      "===== EPOCH 436 =====\n",
      "Training ...\n"
     ]
    },
    {
     "name": "stderr",
     "output_type": "stream",
     "text": [
      "100%|██████████| 80/80 [00:03<00:00, 21.37it/s, property_loss=0.02, vae_loss=0.29]\n"
     ]
    },
    {
     "name": "stdout",
     "output_type": "stream",
     "text": [
      "Validation ...\n",
      "Loss is 0.407\n",
      "Elementary quality score is 86.318 / 100\n",
      "Sequence quality score is 27.132 / 100\n",
      "EPOCH 436 takes 0.063 minutes\n",
      "===== EPOCH 437 =====\n",
      "Training ...\n"
     ]
    },
    {
     "name": "stderr",
     "output_type": "stream",
     "text": [
      "100%|██████████| 80/80 [00:03<00:00, 21.38it/s, property_loss=0.02, vae_loss=0.29]\n"
     ]
    },
    {
     "name": "stdout",
     "output_type": "stream",
     "text": [
      "Validation ...\n",
      "Loss is 0.412\n",
      "Elementary quality score is 86.172 / 100\n",
      "Sequence quality score is 26.512 / 100\n",
      "EPOCH 437 takes 0.063 minutes\n",
      "===== EPOCH 438 =====\n",
      "Training ...\n"
     ]
    },
    {
     "name": "stderr",
     "output_type": "stream",
     "text": [
      "100%|██████████| 80/80 [00:03<00:00, 21.37it/s, property_loss=0.02, vae_loss=0.29]\n"
     ]
    },
    {
     "name": "stdout",
     "output_type": "stream",
     "text": [
      "Validation ...\n",
      "Loss is 0.412\n",
      "Elementary quality score is 86.100 / 100\n",
      "Sequence quality score is 26.357 / 100\n",
      "EPOCH 438 takes 0.063 minutes\n",
      "===== EPOCH 439 =====\n",
      "Training ...\n"
     ]
    },
    {
     "name": "stderr",
     "output_type": "stream",
     "text": [
      "100%|██████████| 80/80 [00:03<00:00, 21.37it/s, property_loss=0.02, vae_loss=0.30]\n"
     ]
    },
    {
     "name": "stdout",
     "output_type": "stream",
     "text": [
      "Validation ...\n",
      "Loss is 0.411\n",
      "Elementary quality score is 86.085 / 100\n",
      "Sequence quality score is 27.287 / 100\n",
      "EPOCH 439 takes 0.063 minutes\n",
      "===== EPOCH 440 =====\n",
      "Training ...\n"
     ]
    },
    {
     "name": "stderr",
     "output_type": "stream",
     "text": [
      "100%|██████████| 80/80 [00:03<00:00, 21.35it/s, property_loss=0.02, vae_loss=0.30]\n"
     ]
    },
    {
     "name": "stdout",
     "output_type": "stream",
     "text": [
      "Validation ...\n",
      "Loss is 0.406\n",
      "Elementary quality score is 86.444 / 100\n",
      "Sequence quality score is 28.372 / 100\n",
      "EPOCH 440 takes 0.063 minutes\n",
      "===== EPOCH 441 =====\n",
      "Training ...\n"
     ]
    },
    {
     "name": "stderr",
     "output_type": "stream",
     "text": [
      "100%|██████████| 80/80 [00:03<00:00, 21.35it/s, property_loss=0.02, vae_loss=0.29]\n"
     ]
    },
    {
     "name": "stdout",
     "output_type": "stream",
     "text": [
      "Validation ...\n",
      "Loss is 0.409\n",
      "Elementary quality score is 86.357 / 100\n",
      "Sequence quality score is 25.736 / 100\n",
      "EPOCH 441 takes 0.063 minutes\n",
      "===== EPOCH 442 =====\n",
      "Training ...\n"
     ]
    },
    {
     "name": "stderr",
     "output_type": "stream",
     "text": [
      "100%|██████████| 80/80 [00:03<00:00, 20.39it/s, property_loss=0.02, vae_loss=0.29]\n"
     ]
    },
    {
     "name": "stdout",
     "output_type": "stream",
     "text": [
      "Validation ...\n",
      "Loss is 0.412\n",
      "Elementary quality score is 86.235 / 100\n",
      "Sequence quality score is 26.357 / 100\n",
      "EPOCH 442 takes 0.066 minutes\n",
      "===== EPOCH 443 =====\n",
      "Training ...\n"
     ]
    },
    {
     "name": "stderr",
     "output_type": "stream",
     "text": [
      "100%|██████████| 80/80 [00:03<00:00, 21.37it/s, property_loss=0.02, vae_loss=0.28]\n"
     ]
    },
    {
     "name": "stdout",
     "output_type": "stream",
     "text": [
      "Validation ...\n",
      "Loss is 0.411\n",
      "Elementary quality score is 86.298 / 100\n",
      "Sequence quality score is 26.977 / 100\n",
      "EPOCH 443 takes 0.063 minutes\n",
      "===== EPOCH 444 =====\n",
      "Training ...\n"
     ]
    },
    {
     "name": "stderr",
     "output_type": "stream",
     "text": [
      "100%|██████████| 80/80 [00:03<00:00, 21.36it/s, property_loss=0.02, vae_loss=0.29]\n"
     ]
    },
    {
     "name": "stdout",
     "output_type": "stream",
     "text": [
      "Validation ...\n",
      "Loss is 0.408\n",
      "Elementary quality score is 86.391 / 100\n",
      "Sequence quality score is 27.287 / 100\n",
      "EPOCH 444 takes 0.063 minutes\n",
      "===== EPOCH 445 =====\n",
      "Training ...\n"
     ]
    },
    {
     "name": "stderr",
     "output_type": "stream",
     "text": [
      "100%|██████████| 80/80 [00:03<00:00, 21.35it/s, property_loss=0.02, vae_loss=0.29]\n"
     ]
    },
    {
     "name": "stdout",
     "output_type": "stream",
     "text": [
      "Validation ...\n",
      "Loss is 0.413\n",
      "Elementary quality score is 86.187 / 100\n",
      "Sequence quality score is 27.907 / 100\n",
      "EPOCH 445 takes 0.063 minutes\n",
      "===== EPOCH 446 =====\n",
      "Training ...\n"
     ]
    },
    {
     "name": "stderr",
     "output_type": "stream",
     "text": [
      "100%|██████████| 80/80 [00:03<00:00, 21.37it/s, property_loss=0.02, vae_loss=0.29]\n"
     ]
    },
    {
     "name": "stdout",
     "output_type": "stream",
     "text": [
      "Validation ...\n",
      "Loss is 0.408\n",
      "Elementary quality score is 86.400 / 100\n",
      "Sequence quality score is 26.357 / 100\n",
      "EPOCH 446 takes 0.063 minutes\n",
      "===== EPOCH 447 =====\n",
      "Training ...\n"
     ]
    },
    {
     "name": "stderr",
     "output_type": "stream",
     "text": [
      "100%|██████████| 80/80 [00:03<00:00, 21.35it/s, property_loss=0.02, vae_loss=0.29]\n"
     ]
    },
    {
     "name": "stdout",
     "output_type": "stream",
     "text": [
      "Validation ...\n",
      "Loss is 0.410\n",
      "Elementary quality score is 86.250 / 100\n",
      "Sequence quality score is 28.372 / 100\n",
      "EPOCH 447 takes 0.063 minutes\n",
      "===== EPOCH 448 =====\n",
      "Training ...\n"
     ]
    },
    {
     "name": "stderr",
     "output_type": "stream",
     "text": [
      "100%|██████████| 80/80 [00:03<00:00, 21.37it/s, property_loss=0.02, vae_loss=0.29]\n"
     ]
    },
    {
     "name": "stdout",
     "output_type": "stream",
     "text": [
      "Validation ...\n",
      "Loss is 0.411\n",
      "Elementary quality score is 86.265 / 100\n",
      "Sequence quality score is 26.202 / 100\n",
      "EPOCH 448 takes 0.063 minutes\n",
      "===== EPOCH 449 =====\n",
      "Training ...\n"
     ]
    },
    {
     "name": "stderr",
     "output_type": "stream",
     "text": [
      "100%|██████████| 80/80 [00:03<00:00, 21.37it/s, property_loss=0.02, vae_loss=0.29]\n"
     ]
    },
    {
     "name": "stdout",
     "output_type": "stream",
     "text": [
      "Validation ...\n",
      "Loss is 0.412\n",
      "Elementary quality score is 86.274 / 100\n",
      "Sequence quality score is 30.698 / 100\n",
      "EPOCH 449 takes 0.063 minutes\n",
      "===== EPOCH 450 =====\n",
      "Training ...\n"
     ]
    },
    {
     "name": "stderr",
     "output_type": "stream",
     "text": [
      "100%|██████████| 80/80 [00:03<00:00, 21.34it/s, property_loss=0.02, vae_loss=0.29]\n"
     ]
    },
    {
     "name": "stdout",
     "output_type": "stream",
     "text": [
      "Validation ...\n",
      "Loss is 0.414\n",
      "Elementary quality score is 86.337 / 100\n",
      "Sequence quality score is 28.992 / 100\n",
      "EPOCH 450 takes 0.063 minutes\n",
      "===== EPOCH 451 =====\n",
      "Training ...\n"
     ]
    },
    {
     "name": "stderr",
     "output_type": "stream",
     "text": [
      "100%|██████████| 80/80 [00:03<00:00, 21.36it/s, property_loss=0.02, vae_loss=0.29]\n"
     ]
    },
    {
     "name": "stdout",
     "output_type": "stream",
     "text": [
      "Validation ...\n",
      "Loss is 0.411\n",
      "Elementary quality score is 86.410 / 100\n",
      "Sequence quality score is 28.217 / 100\n",
      "EPOCH 451 takes 0.063 minutes\n",
      "===== EPOCH 452 =====\n",
      "Training ...\n"
     ]
    },
    {
     "name": "stderr",
     "output_type": "stream",
     "text": [
      "100%|██████████| 80/80 [00:03<00:00, 21.36it/s, property_loss=0.02, vae_loss=0.29]\n"
     ]
    },
    {
     "name": "stdout",
     "output_type": "stream",
     "text": [
      "Validation ...\n",
      "Loss is 0.406\n",
      "Elementary quality score is 86.478 / 100\n",
      "Sequence quality score is 31.473 / 100\n",
      "EPOCH 452 takes 0.063 minutes\n",
      "===== EPOCH 453 =====\n",
      "Training ...\n"
     ]
    },
    {
     "name": "stderr",
     "output_type": "stream",
     "text": [
      "100%|██████████| 80/80 [00:03<00:00, 21.36it/s, property_loss=0.02, vae_loss=0.29]\n"
     ]
    },
    {
     "name": "stdout",
     "output_type": "stream",
     "text": [
      "Validation ...\n",
      "Loss is 0.413\n",
      "Elementary quality score is 86.231 / 100\n",
      "Sequence quality score is 27.442 / 100\n",
      "EPOCH 453 takes 0.063 minutes\n",
      "===== EPOCH 454 =====\n",
      "Training ...\n"
     ]
    },
    {
     "name": "stderr",
     "output_type": "stream",
     "text": [
      "100%|██████████| 80/80 [00:03<00:00, 21.37it/s, property_loss=0.02, vae_loss=0.29]\n"
     ]
    },
    {
     "name": "stdout",
     "output_type": "stream",
     "text": [
      "Validation ...\n",
      "Loss is 0.409\n",
      "Elementary quality score is 86.405 / 100\n",
      "Sequence quality score is 28.682 / 100\n",
      "EPOCH 454 takes 0.063 minutes\n",
      "===== EPOCH 455 =====\n",
      "Training ...\n"
     ]
    },
    {
     "name": "stderr",
     "output_type": "stream",
     "text": [
      "100%|██████████| 80/80 [00:03<00:00, 21.37it/s, property_loss=0.02, vae_loss=0.28]\n"
     ]
    },
    {
     "name": "stdout",
     "output_type": "stream",
     "text": [
      "Validation ...\n",
      "Loss is 0.411\n",
      "Elementary quality score is 86.357 / 100\n",
      "Sequence quality score is 29.302 / 100\n",
      "EPOCH 455 takes 0.063 minutes\n",
      "===== EPOCH 456 =====\n",
      "Training ...\n"
     ]
    },
    {
     "name": "stderr",
     "output_type": "stream",
     "text": [
      "100%|██████████| 80/80 [00:03<00:00, 21.37it/s, property_loss=0.02, vae_loss=0.29]\n"
     ]
    },
    {
     "name": "stdout",
     "output_type": "stream",
     "text": [
      "Validation ...\n",
      "Loss is 0.411\n",
      "Elementary quality score is 86.347 / 100\n",
      "Sequence quality score is 29.457 / 100\n",
      "EPOCH 456 takes 0.063 minutes\n",
      "===== EPOCH 457 =====\n",
      "Training ...\n"
     ]
    },
    {
     "name": "stderr",
     "output_type": "stream",
     "text": [
      "100%|██████████| 80/80 [00:03<00:00, 21.36it/s, property_loss=0.02, vae_loss=0.28]\n"
     ]
    },
    {
     "name": "stdout",
     "output_type": "stream",
     "text": [
      "Validation ...\n",
      "Loss is 0.408\n",
      "Elementary quality score is 86.444 / 100\n",
      "Sequence quality score is 30.698 / 100\n",
      "EPOCH 457 takes 0.063 minutes\n",
      "===== EPOCH 458 =====\n",
      "Training ...\n"
     ]
    },
    {
     "name": "stderr",
     "output_type": "stream",
     "text": [
      "100%|██████████| 80/80 [00:03<00:00, 21.36it/s, property_loss=0.02, vae_loss=0.29]\n"
     ]
    },
    {
     "name": "stdout",
     "output_type": "stream",
     "text": [
      "Validation ...\n",
      "Loss is 0.410\n",
      "Elementary quality score is 86.279 / 100\n",
      "Sequence quality score is 26.047 / 100\n",
      "EPOCH 458 takes 0.063 minutes\n",
      "===== EPOCH 459 =====\n",
      "Training ...\n"
     ]
    },
    {
     "name": "stderr",
     "output_type": "stream",
     "text": [
      "100%|██████████| 80/80 [00:03<00:00, 21.36it/s, property_loss=0.02, vae_loss=0.29]\n"
     ]
    },
    {
     "name": "stdout",
     "output_type": "stream",
     "text": [
      "Validation ...\n",
      "Loss is 0.409\n",
      "Elementary quality score is 86.337 / 100\n",
      "Sequence quality score is 28.217 / 100\n",
      "EPOCH 459 takes 0.063 minutes\n",
      "===== EPOCH 460 =====\n",
      "Training ...\n"
     ]
    },
    {
     "name": "stderr",
     "output_type": "stream",
     "text": [
      "100%|██████████| 80/80 [00:03<00:00, 21.36it/s, property_loss=0.02, vae_loss=0.30]\n"
     ]
    },
    {
     "name": "stdout",
     "output_type": "stream",
     "text": [
      "Validation ...\n",
      "Loss is 0.408\n",
      "Elementary quality score is 86.550 / 100\n",
      "Sequence quality score is 27.597 / 100\n",
      "EPOCH 460 takes 0.063 minutes\n",
      "===== EPOCH 461 =====\n",
      "Training ...\n"
     ]
    },
    {
     "name": "stderr",
     "output_type": "stream",
     "text": [
      "100%|██████████| 80/80 [00:03<00:00, 21.34it/s, property_loss=0.02, vae_loss=0.29]\n"
     ]
    },
    {
     "name": "stdout",
     "output_type": "stream",
     "text": [
      "Validation ...\n",
      "Loss is 0.409\n",
      "Elementary quality score is 86.531 / 100\n",
      "Sequence quality score is 29.147 / 100\n",
      "EPOCH 461 takes 0.063 minutes\n",
      "===== EPOCH 462 =====\n",
      "Training ...\n"
     ]
    },
    {
     "name": "stderr",
     "output_type": "stream",
     "text": [
      "100%|██████████| 80/80 [00:03<00:00, 20.33it/s, property_loss=0.02, vae_loss=0.30]\n"
     ]
    },
    {
     "name": "stdout",
     "output_type": "stream",
     "text": [
      "Validation ...\n",
      "Loss is 0.405\n",
      "Elementary quality score is 86.613 / 100\n",
      "Sequence quality score is 31.473 / 100\n",
      "EPOCH 462 takes 0.066 minutes\n",
      "===== EPOCH 463 =====\n",
      "Training ...\n"
     ]
    },
    {
     "name": "stderr",
     "output_type": "stream",
     "text": [
      "100%|██████████| 80/80 [00:03<00:00, 21.37it/s, property_loss=0.02, vae_loss=0.29]\n"
     ]
    },
    {
     "name": "stdout",
     "output_type": "stream",
     "text": [
      "Validation ...\n",
      "Loss is 0.408\n",
      "Elementary quality score is 86.575 / 100\n",
      "Sequence quality score is 29.457 / 100\n",
      "EPOCH 463 takes 0.063 minutes\n",
      "===== EPOCH 464 =====\n",
      "Training ...\n"
     ]
    },
    {
     "name": "stderr",
     "output_type": "stream",
     "text": [
      "100%|██████████| 80/80 [00:03<00:00, 21.34it/s, property_loss=0.02, vae_loss=0.29]\n"
     ]
    },
    {
     "name": "stdout",
     "output_type": "stream",
     "text": [
      "Validation ...\n",
      "Loss is 0.412\n",
      "Elementary quality score is 86.478 / 100\n",
      "Sequence quality score is 31.473 / 100\n",
      "EPOCH 464 takes 0.063 minutes\n",
      "===== EPOCH 465 =====\n",
      "Training ...\n"
     ]
    },
    {
     "name": "stderr",
     "output_type": "stream",
     "text": [
      "100%|██████████| 80/80 [00:03<00:00, 21.37it/s, property_loss=0.02, vae_loss=0.30]\n"
     ]
    },
    {
     "name": "stdout",
     "output_type": "stream",
     "text": [
      "Validation ...\n",
      "Loss is 0.408\n",
      "Elementary quality score is 86.604 / 100\n",
      "Sequence quality score is 30.698 / 100\n",
      "EPOCH 465 takes 0.063 minutes\n",
      "===== EPOCH 466 =====\n",
      "Training ...\n"
     ]
    },
    {
     "name": "stderr",
     "output_type": "stream",
     "text": [
      "100%|██████████| 80/80 [00:03<00:00, 21.38it/s, property_loss=0.02, vae_loss=0.30]\n"
     ]
    },
    {
     "name": "stdout",
     "output_type": "stream",
     "text": [
      "Validation ...\n",
      "Loss is 0.407\n",
      "Elementary quality score is 86.715 / 100\n",
      "Sequence quality score is 31.008 / 100\n",
      "EPOCH 466 takes 0.062 minutes\n",
      "===== EPOCH 467 =====\n",
      "Training ...\n"
     ]
    },
    {
     "name": "stderr",
     "output_type": "stream",
     "text": [
      "100%|██████████| 80/80 [00:03<00:00, 21.36it/s, property_loss=0.02, vae_loss=0.29]\n"
     ]
    },
    {
     "name": "stdout",
     "output_type": "stream",
     "text": [
      "Validation ...\n",
      "Loss is 0.406\n",
      "Elementary quality score is 86.652 / 100\n",
      "Sequence quality score is 29.922 / 100\n",
      "EPOCH 467 takes 0.063 minutes\n",
      "===== EPOCH 468 =====\n",
      "Training ...\n"
     ]
    },
    {
     "name": "stderr",
     "output_type": "stream",
     "text": [
      "100%|██████████| 80/80 [00:03<00:00, 21.37it/s, property_loss=0.02, vae_loss=0.29]\n"
     ]
    },
    {
     "name": "stdout",
     "output_type": "stream",
     "text": [
      "Validation ...\n",
      "Loss is 0.406\n",
      "Elementary quality score is 86.657 / 100\n",
      "Sequence quality score is 28.527 / 100\n",
      "EPOCH 468 takes 0.063 minutes\n",
      "===== EPOCH 469 =====\n",
      "Training ...\n"
     ]
    },
    {
     "name": "stderr",
     "output_type": "stream",
     "text": [
      "100%|██████████| 80/80 [00:03<00:00, 21.35it/s, property_loss=0.02, vae_loss=0.29]\n"
     ]
    },
    {
     "name": "stdout",
     "output_type": "stream",
     "text": [
      "Validation ...\n",
      "Loss is 0.411\n",
      "Elementary quality score is 86.570 / 100\n",
      "Sequence quality score is 29.457 / 100\n",
      "EPOCH 469 takes 0.063 minutes\n",
      "===== EPOCH 470 =====\n",
      "Training ...\n"
     ]
    },
    {
     "name": "stderr",
     "output_type": "stream",
     "text": [
      "100%|██████████| 80/80 [00:03<00:00, 21.38it/s, property_loss=0.02, vae_loss=0.29]\n"
     ]
    },
    {
     "name": "stdout",
     "output_type": "stream",
     "text": [
      "Validation ...\n",
      "Loss is 0.406\n",
      "Elementary quality score is 86.594 / 100\n",
      "Sequence quality score is 32.403 / 100\n",
      "EPOCH 470 takes 0.063 minutes\n",
      "===== EPOCH 471 =====\n",
      "Training ...\n"
     ]
    },
    {
     "name": "stderr",
     "output_type": "stream",
     "text": [
      "100%|██████████| 80/80 [00:03<00:00, 21.35it/s, property_loss=0.02, vae_loss=0.29]\n"
     ]
    },
    {
     "name": "stdout",
     "output_type": "stream",
     "text": [
      "Validation ...\n",
      "Loss is 0.405\n",
      "Elementary quality score is 86.759 / 100\n",
      "Sequence quality score is 32.248 / 100\n",
      "EPOCH 471 takes 0.063 minutes\n",
      "===== EPOCH 472 =====\n",
      "Training ...\n"
     ]
    },
    {
     "name": "stderr",
     "output_type": "stream",
     "text": [
      "100%|██████████| 80/80 [00:03<00:00, 21.37it/s, property_loss=0.02, vae_loss=0.28]\n"
     ]
    },
    {
     "name": "stdout",
     "output_type": "stream",
     "text": [
      "Validation ...\n",
      "Loss is 0.411\n",
      "Elementary quality score is 86.570 / 100\n",
      "Sequence quality score is 31.008 / 100\n",
      "EPOCH 472 takes 0.063 minutes\n",
      "===== EPOCH 473 =====\n",
      "Training ...\n"
     ]
    },
    {
     "name": "stderr",
     "output_type": "stream",
     "text": [
      "100%|██████████| 80/80 [00:03<00:00, 21.37it/s, property_loss=0.02, vae_loss=0.29]\n"
     ]
    },
    {
     "name": "stdout",
     "output_type": "stream",
     "text": [
      "Validation ...\n",
      "Loss is 0.405\n",
      "Elementary quality score is 86.725 / 100\n",
      "Sequence quality score is 31.473 / 100\n",
      "EPOCH 473 takes 0.063 minutes\n",
      "===== EPOCH 474 =====\n",
      "Training ...\n"
     ]
    },
    {
     "name": "stderr",
     "output_type": "stream",
     "text": [
      "100%|██████████| 80/80 [00:03<00:00, 21.33it/s, property_loss=0.02, vae_loss=0.29]\n"
     ]
    },
    {
     "name": "stdout",
     "output_type": "stream",
     "text": [
      "Validation ...\n",
      "Loss is 0.412\n",
      "Elementary quality score is 86.584 / 100\n",
      "Sequence quality score is 32.403 / 100\n",
      "EPOCH 474 takes 0.063 minutes\n",
      "===== EPOCH 475 =====\n",
      "Training ...\n"
     ]
    },
    {
     "name": "stderr",
     "output_type": "stream",
     "text": [
      "100%|██████████| 80/80 [00:03<00:00, 21.36it/s, property_loss=0.02, vae_loss=0.28]\n"
     ]
    },
    {
     "name": "stdout",
     "output_type": "stream",
     "text": [
      "Validation ...\n",
      "Loss is 0.409\n",
      "Elementary quality score is 86.623 / 100\n",
      "Sequence quality score is 29.922 / 100\n",
      "EPOCH 475 takes 0.063 minutes\n",
      "===== EPOCH 476 =====\n",
      "Training ...\n"
     ]
    },
    {
     "name": "stderr",
     "output_type": "stream",
     "text": [
      "100%|██████████| 80/80 [00:03<00:00, 21.35it/s, property_loss=0.02, vae_loss=0.29]\n"
     ]
    },
    {
     "name": "stdout",
     "output_type": "stream",
     "text": [
      "Validation ...\n",
      "Loss is 0.409\n",
      "Elementary quality score is 86.652 / 100\n",
      "Sequence quality score is 29.922 / 100\n",
      "EPOCH 476 takes 0.063 minutes\n",
      "===== EPOCH 477 =====\n",
      "Training ...\n"
     ]
    },
    {
     "name": "stderr",
     "output_type": "stream",
     "text": [
      "100%|██████████| 80/80 [00:03<00:00, 21.35it/s, property_loss=0.02, vae_loss=0.29]\n"
     ]
    },
    {
     "name": "stdout",
     "output_type": "stream",
     "text": [
      "Validation ...\n",
      "Loss is 0.409\n",
      "Elementary quality score is 86.638 / 100\n",
      "Sequence quality score is 31.008 / 100\n",
      "EPOCH 477 takes 0.063 minutes\n",
      "===== EPOCH 478 =====\n",
      "Training ...\n"
     ]
    },
    {
     "name": "stderr",
     "output_type": "stream",
     "text": [
      "100%|██████████| 80/80 [00:03<00:00, 21.32it/s, property_loss=0.02, vae_loss=0.29]\n"
     ]
    },
    {
     "name": "stdout",
     "output_type": "stream",
     "text": [
      "Validation ...\n",
      "Loss is 0.410\n",
      "Elementary quality score is 86.536 / 100\n",
      "Sequence quality score is 28.372 / 100\n",
      "EPOCH 478 takes 0.063 minutes\n",
      "===== EPOCH 479 =====\n",
      "Training ...\n"
     ]
    },
    {
     "name": "stderr",
     "output_type": "stream",
     "text": [
      "100%|██████████| 80/80 [00:03<00:00, 21.33it/s, property_loss=0.02, vae_loss=0.28]\n"
     ]
    },
    {
     "name": "stdout",
     "output_type": "stream",
     "text": [
      "Validation ...\n",
      "Loss is 0.411\n",
      "Elementary quality score is 86.526 / 100\n",
      "Sequence quality score is 29.147 / 100\n",
      "EPOCH 479 takes 0.063 minutes\n",
      "===== EPOCH 480 =====\n",
      "Training ...\n"
     ]
    },
    {
     "name": "stderr",
     "output_type": "stream",
     "text": [
      "100%|██████████| 80/80 [00:03<00:00, 21.36it/s, property_loss=0.02, vae_loss=0.29]\n"
     ]
    },
    {
     "name": "stdout",
     "output_type": "stream",
     "text": [
      "Validation ...\n",
      "Loss is 0.409\n",
      "Elementary quality score is 86.802 / 100\n",
      "Sequence quality score is 31.008 / 100\n",
      "EPOCH 480 takes 0.063 minutes\n",
      "===== EPOCH 481 =====\n",
      "Training ...\n"
     ]
    },
    {
     "name": "stderr",
     "output_type": "stream",
     "text": [
      "100%|██████████| 80/80 [00:03<00:00, 20.41it/s, property_loss=0.02, vae_loss=0.28]\n"
     ]
    },
    {
     "name": "stdout",
     "output_type": "stream",
     "text": [
      "Validation ...\n",
      "Loss is 0.410\n",
      "Elementary quality score is 86.638 / 100\n",
      "Sequence quality score is 32.558 / 100\n",
      "EPOCH 481 takes 0.065 minutes\n",
      "===== EPOCH 482 =====\n",
      "Training ...\n"
     ]
    },
    {
     "name": "stderr",
     "output_type": "stream",
     "text": [
      "100%|██████████| 80/80 [00:03<00:00, 21.35it/s, property_loss=0.02, vae_loss=0.28]\n"
     ]
    },
    {
     "name": "stdout",
     "output_type": "stream",
     "text": [
      "Validation ...\n",
      "Loss is 0.410\n",
      "Elementary quality score is 86.638 / 100\n",
      "Sequence quality score is 31.318 / 100\n",
      "EPOCH 482 takes 0.063 minutes\n",
      "===== EPOCH 483 =====\n",
      "Training ...\n"
     ]
    },
    {
     "name": "stderr",
     "output_type": "stream",
     "text": [
      "100%|██████████| 80/80 [00:03<00:00, 21.33it/s, property_loss=0.02, vae_loss=0.28]\n"
     ]
    },
    {
     "name": "stdout",
     "output_type": "stream",
     "text": [
      "Validation ...\n",
      "Loss is 0.406\n",
      "Elementary quality score is 86.793 / 100\n",
      "Sequence quality score is 33.023 / 100\n",
      "EPOCH 483 takes 0.063 minutes\n",
      "===== EPOCH 484 =====\n",
      "Training ...\n"
     ]
    },
    {
     "name": "stderr",
     "output_type": "stream",
     "text": [
      "100%|██████████| 80/80 [00:03<00:00, 21.36it/s, property_loss=0.02, vae_loss=0.28]\n"
     ]
    },
    {
     "name": "stdout",
     "output_type": "stream",
     "text": [
      "Validation ...\n",
      "Loss is 0.410\n",
      "Elementary quality score is 86.691 / 100\n",
      "Sequence quality score is 29.612 / 100\n",
      "EPOCH 484 takes 0.063 minutes\n",
      "===== EPOCH 485 =====\n",
      "Training ...\n"
     ]
    },
    {
     "name": "stderr",
     "output_type": "stream",
     "text": [
      "100%|██████████| 80/80 [00:03<00:00, 21.35it/s, property_loss=0.02, vae_loss=0.29]\n"
     ]
    },
    {
     "name": "stdout",
     "output_type": "stream",
     "text": [
      "Validation ...\n",
      "Loss is 0.409\n",
      "Elementary quality score is 86.710 / 100\n",
      "Sequence quality score is 33.333 / 100\n",
      "EPOCH 485 takes 0.063 minutes\n",
      "===== EPOCH 486 =====\n",
      "Training ...\n"
     ]
    },
    {
     "name": "stderr",
     "output_type": "stream",
     "text": [
      "100%|██████████| 80/80 [00:03<00:00, 21.33it/s, property_loss=0.02, vae_loss=0.28]\n"
     ]
    },
    {
     "name": "stdout",
     "output_type": "stream",
     "text": [
      "Validation ...\n",
      "Loss is 0.411\n",
      "Elementary quality score is 86.516 / 100\n",
      "Sequence quality score is 28.217 / 100\n",
      "EPOCH 486 takes 0.063 minutes\n",
      "===== EPOCH 487 =====\n",
      "Training ...\n"
     ]
    },
    {
     "name": "stderr",
     "output_type": "stream",
     "text": [
      "100%|██████████| 80/80 [00:03<00:00, 21.34it/s, property_loss=0.02, vae_loss=0.28]\n"
     ]
    },
    {
     "name": "stdout",
     "output_type": "stream",
     "text": [
      "Validation ...\n",
      "Loss is 0.405\n",
      "Elementary quality score is 86.759 / 100\n",
      "Sequence quality score is 34.264 / 100\n",
      "EPOCH 487 takes 0.063 minutes\n",
      "===== EPOCH 488 =====\n",
      "Training ...\n"
     ]
    },
    {
     "name": "stderr",
     "output_type": "stream",
     "text": [
      "100%|██████████| 80/80 [00:03<00:00, 21.34it/s, property_loss=0.02, vae_loss=0.28]\n"
     ]
    },
    {
     "name": "stdout",
     "output_type": "stream",
     "text": [
      "Validation ...\n",
      "Loss is 0.410\n",
      "Elementary quality score is 86.604 / 100\n",
      "Sequence quality score is 33.023 / 100\n",
      "EPOCH 488 takes 0.063 minutes\n",
      "===== EPOCH 489 =====\n",
      "Training ...\n"
     ]
    },
    {
     "name": "stderr",
     "output_type": "stream",
     "text": [
      "100%|██████████| 80/80 [00:03<00:00, 21.33it/s, property_loss=0.02, vae_loss=0.27]\n"
     ]
    },
    {
     "name": "stdout",
     "output_type": "stream",
     "text": [
      "Validation ...\n",
      "Loss is 0.408\n",
      "Elementary quality score is 86.681 / 100\n",
      "Sequence quality score is 33.178 / 100\n",
      "EPOCH 489 takes 0.063 minutes\n",
      "===== EPOCH 490 =====\n",
      "Training ...\n"
     ]
    },
    {
     "name": "stderr",
     "output_type": "stream",
     "text": [
      "100%|██████████| 80/80 [00:03<00:00, 21.34it/s, property_loss=0.02, vae_loss=0.28]\n"
     ]
    },
    {
     "name": "stdout",
     "output_type": "stream",
     "text": [
      "Validation ...\n",
      "Loss is 0.403\n",
      "Elementary quality score is 86.865 / 100\n",
      "Sequence quality score is 33.643 / 100\n",
      "EPOCH 490 takes 0.063 minutes\n",
      "===== EPOCH 491 =====\n",
      "Training ...\n"
     ]
    },
    {
     "name": "stderr",
     "output_type": "stream",
     "text": [
      "100%|██████████| 80/80 [00:03<00:00, 21.36it/s, property_loss=0.02, vae_loss=0.28]\n"
     ]
    },
    {
     "name": "stdout",
     "output_type": "stream",
     "text": [
      "Validation ...\n",
      "Loss is 0.415\n",
      "Elementary quality score is 86.546 / 100\n",
      "Sequence quality score is 32.558 / 100\n",
      "EPOCH 491 takes 0.063 minutes\n",
      "===== EPOCH 492 =====\n",
      "Training ...\n"
     ]
    },
    {
     "name": "stderr",
     "output_type": "stream",
     "text": [
      "100%|██████████| 80/80 [00:03<00:00, 21.35it/s, property_loss=0.02, vae_loss=0.28]\n"
     ]
    },
    {
     "name": "stdout",
     "output_type": "stream",
     "text": [
      "Validation ...\n",
      "Loss is 0.409\n",
      "Elementary quality score is 86.730 / 100\n",
      "Sequence quality score is 31.318 / 100\n",
      "EPOCH 492 takes 0.063 minutes\n",
      "===== EPOCH 493 =====\n",
      "Training ...\n"
     ]
    },
    {
     "name": "stderr",
     "output_type": "stream",
     "text": [
      "100%|██████████| 80/80 [00:03<00:00, 21.35it/s, property_loss=0.02, vae_loss=0.28]\n"
     ]
    },
    {
     "name": "stdout",
     "output_type": "stream",
     "text": [
      "Validation ...\n",
      "Loss is 0.407\n",
      "Elementary quality score is 86.657 / 100\n",
      "Sequence quality score is 33.643 / 100\n",
      "EPOCH 493 takes 0.063 minutes\n",
      "===== EPOCH 494 =====\n",
      "Training ...\n"
     ]
    },
    {
     "name": "stderr",
     "output_type": "stream",
     "text": [
      "100%|██████████| 80/80 [00:03<00:00, 21.27it/s, property_loss=0.02, vae_loss=0.28]\n"
     ]
    },
    {
     "name": "stdout",
     "output_type": "stream",
     "text": [
      "Validation ...\n",
      "Loss is 0.408\n",
      "Elementary quality score is 86.744 / 100\n",
      "Sequence quality score is 29.767 / 100\n",
      "EPOCH 494 takes 0.063 minutes\n",
      "===== EPOCH 495 =====\n",
      "Training ...\n"
     ]
    },
    {
     "name": "stderr",
     "output_type": "stream",
     "text": [
      "100%|██████████| 80/80 [00:03<00:00, 21.37it/s, property_loss=0.02, vae_loss=0.29]\n"
     ]
    },
    {
     "name": "stdout",
     "output_type": "stream",
     "text": [
      "Validation ...\n",
      "Loss is 0.411\n",
      "Elementary quality score is 86.710 / 100\n",
      "Sequence quality score is 32.868 / 100\n",
      "EPOCH 495 takes 0.063 minutes\n",
      "===== EPOCH 496 =====\n",
      "Training ...\n"
     ]
    },
    {
     "name": "stderr",
     "output_type": "stream",
     "text": [
      "100%|██████████| 80/80 [00:03<00:00, 21.36it/s, property_loss=0.02, vae_loss=0.29]\n"
     ]
    },
    {
     "name": "stdout",
     "output_type": "stream",
     "text": [
      "Validation ...\n",
      "Loss is 0.413\n",
      "Elementary quality score is 86.594 / 100\n",
      "Sequence quality score is 30.078 / 100\n",
      "EPOCH 496 takes 0.063 minutes\n",
      "===== EPOCH 497 =====\n",
      "Training ...\n"
     ]
    },
    {
     "name": "stderr",
     "output_type": "stream",
     "text": [
      "100%|██████████| 80/80 [00:03<00:00, 21.35it/s, property_loss=0.02, vae_loss=0.29]\n"
     ]
    },
    {
     "name": "stdout",
     "output_type": "stream",
     "text": [
      "Validation ...\n",
      "Loss is 0.411\n",
      "Elementary quality score is 86.730 / 100\n",
      "Sequence quality score is 32.713 / 100\n",
      "EPOCH 497 takes 0.063 minutes\n",
      "===== EPOCH 498 =====\n",
      "Training ...\n"
     ]
    },
    {
     "name": "stderr",
     "output_type": "stream",
     "text": [
      "100%|██████████| 80/80 [00:03<00:00, 21.35it/s, property_loss=0.02, vae_loss=0.28]\n"
     ]
    },
    {
     "name": "stdout",
     "output_type": "stream",
     "text": [
      "Validation ...\n",
      "Loss is 0.407\n",
      "Elementary quality score is 86.773 / 100\n",
      "Sequence quality score is 31.473 / 100\n",
      "EPOCH 498 takes 0.063 minutes\n",
      "===== EPOCH 499 =====\n",
      "Training ...\n"
     ]
    },
    {
     "name": "stderr",
     "output_type": "stream",
     "text": [
      "100%|██████████| 80/80 [00:03<00:00, 21.35it/s, property_loss=0.02, vae_loss=0.28]\n"
     ]
    },
    {
     "name": "stdout",
     "output_type": "stream",
     "text": [
      "Validation ...\n",
      "Loss is 0.411\n",
      "Elementary quality score is 86.516 / 100\n",
      "Sequence quality score is 31.163 / 100\n",
      "EPOCH 499 takes 0.063 minutes\n",
      "===== EPOCH 500 =====\n",
      "Training ...\n"
     ]
    },
    {
     "name": "stderr",
     "output_type": "stream",
     "text": [
      "100%|██████████| 80/80 [00:03<00:00, 21.33it/s, property_loss=0.02, vae_loss=0.28]\n"
     ]
    },
    {
     "name": "stdout",
     "output_type": "stream",
     "text": [
      "Validation ...\n",
      "Loss is 0.406\n",
      "Elementary quality score is 86.860 / 100\n",
      "Sequence quality score is 32.713 / 100\n",
      "EPOCH 500 takes 0.063 minutes\n",
      "Final elementary quality score is 87.252 / 100\n",
      "Final S=sequence quality score is 31.514 / 100\n"
     ]
    },
    {
     "data": {
      "image/png": "[encoded data removed]",
      "text/plain": [
       "<Figure size 432x288 with 1 Axes>"
      ]
     },
     "metadata": {
      "needs_background": "light"
     },
     "output_type": "display_data"
    }
   ],
   "source": [
    "# training\n",
    "print(\"start training\", flush=True)\n",
    "trained_encoder, trained_decoder, trained_property_network = train_model(\n",
    "    vae_encoder=encoder,\n",
    "    vae_decoder=decoder,\n",
    "    property_network=property_network,\n",
    "    x_train=x_train,\n",
    "    x_test=x_test,\n",
    "    y_train=y_with_feature_train,\n",
    "    y_test=y_with_feature_test,\n",
    "    num_epochs=500,\n",
    "    batch_size=32,\n",
    "    lr_enc=0.001,\n",
    "    lr_dec=0.001,\n",
    "    lr_property=0.001,\n",
    "    KLD_alpha=1e-6,\n",
    "    sample_num=1000,\n",
    "    dtype=dtype,\n",
    "    device=device,\n",
    "    save_file_name='total_500.png',\n",
    "    scaler_list=scaler_list\n",
    ")\n",
    "\n",
    "# save vae\n",
    "trained_vae = TrainedVAE(\n",
    "    encoder=trained_encoder,\n",
    "    decoder=trained_decoder,\n",
    "    property_network=trained_property_network,\n",
    "    scaler_list=scaler_list,\n",
    "    scaler_key=y_with_feature.columns.tolist()\n",
    ")\n",
    "torch.save(trained_vae, 'vae/trained_vae/trained_500.pth')"
   ]
  },
  {
   "cell_type": "markdown",
   "metadata": {
    "pycharm": {
     "name": "#%% md\n"
    }
   },
   "source": [
    "### 2. Get reduced (16-dimensional) feature vectors using principal analysis"
   ]
  },
  {
   "cell_type": "code",
   "execution_count": 15,
   "metadata": {
    "pycharm": {
     "name": "#%%\n"
    }
   },
   "outputs": [],
   "source": [
    "# principal analysis\n",
    "with torch.no_grad():\n",
    "    trained_vae = torch.load('vae/trained_vae/trained_500.pth')\n",
    "    total_inp_flat_one_hot = x_data.flatten(start_dim=1)  # [b, 32*2]\n",
    "    total_latent_points, mus, log_vars = trained_vae.encoder(total_inp_flat_one_hot)  # [b, latent_dimension]\n",
    "\n",
    "    # principal component analysis\n",
    "    n_components = 16\n",
    "    pca = PCA(n_components=n_components)\n",
    "    principal_components = pca.fit_transform(total_latent_points.cpu())\n",
    "    principal_df = pd.DataFrame(\n",
    "        data=principal_components,\n",
    "        columns=['principal_component_%d' % (num + 1) for num in range(n_components)]\n",
    "    )\n",
    "    final_df = pd.concat([principal_df, y_with_feature[['lamellar_period', 'interaction_parameter']]], axis=1)"
   ]
  },
  {
   "cell_type": "code",
   "execution_count": 10,
   "metadata": {
    "pycharm": {
     "name": "#%%\n"
    }
   },
   "outputs": [
    {
     "data": {
      "image/png": "[encoded data removed]",
      "text/plain": [
       "<Figure size 432x288 with 1 Axes>"
      ]
     },
     "metadata": {
      "needs_background": "light"
     },
     "output_type": "display_data"
    }
   ],
   "source": [
    "# plot explained variance by principal component analysis\n",
    "exp_var_pca = pca.explained_variance_ratio_\n",
    "\n",
    "plt.bar(range(0, len(exp_var_pca)), exp_var_pca, alpha=0.5, align='center',\n",
    "        label='Individual explained variance')\n",
    "plt.ylabel('Explained variance ratio')\n",
    "plt.xlabel('Principal component index')\n",
    "plt.legend(loc='best')\n",
    "plt.tight_layout()\n",
    "plt.show()"
   ]
  },
  {
   "cell_type": "code",
   "execution_count": 16,
   "metadata": {
    "pycharm": {
     "name": "#%%\n"
    }
   },
   "outputs": [
    {
     "data": {
      "image/png": "[encoded data removed]",
      "text/plain": [
       "<Figure size 576x576 with 2 Axes>"
      ]
     },
     "metadata": {
      "needs_background": "light"
     },
     "output_type": "display_data"
    }
   ],
   "source": [
    "# plot\n",
    "# x-component (1) principal component 1\n",
    "# y-component (2) interaction parameter\n",
    "# z-component (3) lamellar period\n",
    "\n",
    "plot_two_pairs_color_map(\n",
    "    x_list=final_df['principal_component_1'].values.tolist(),\n",
    "    y_list=final_df['interaction_parameter'].values.tolist(),\n",
    "    z_list=final_df['lamellar_period'].values.tolist(),\n",
    "    x_name='principal_component_1',\n",
    "    y_name='interaction_parameter',\n",
    "    z_name='lamellar_period',\n",
    "    title='2 component PCA'\n",
    ")"
   ]
  }
 ],
 "metadata": {
  "kernelspec": {
   "display_name": "conda/2021-11-30",
   "language": "python",
   "name": "conda-2021-11-30"
  },
  "language_info": {
   "codemirror_mode": {
    "name": "ipython",
    "version": 3
   },
   "file_extension": ".py",
   "mimetype": "text/x-python",
   "name": "python",
   "nbconvert_exporter": "python",
   "pygments_lexer": "ipython3",
   "version": "3.8.10"
  }
 },
 "nbformat": 4,
 "nbformat_minor": 1
}
