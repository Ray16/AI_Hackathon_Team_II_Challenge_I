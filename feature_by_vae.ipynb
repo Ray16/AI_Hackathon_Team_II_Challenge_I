{
 "cells": [
  {
   "cell_type": "markdown",
   "metadata": {
    "collapsed": true,
    "pycharm": {
     "name": "#%% md\n"
    }
   },
   "source": [
    "# Variational Autoencoder (VAE)\n",
    "* Get reduced feature vectors (16-dimension) from monomer sequences (32-dimension) using VAE"
   ]
  },
  {
   "cell_type": "markdown",
   "source": [
    "### 1. Train VAE\n"
   ],
   "metadata": {
    "collapsed": false,
    "pycharm": {
     "name": "#%% md\n"
    }
   }
  },
  {
   "cell_type": "code",
   "execution_count": 1,
   "outputs": [],
   "source": [
    "# import\n",
    "import torch\n",
    "import pandas as pd\n",
    "import matplotlib.pyplot as plt\n",
    "\n",
    "from sklearn.model_selection import train_test_split\n",
    "from sklearn.preprocessing import StandardScaler\n",
    "from sklearn.decomposition import PCA\n",
    "\n",
    "from vae.encoder import Encoder\n",
    "from vae.decoder import Decoder\n",
    "from vae.train import train_model\n",
    "from vae.utils.torch import FullyConnectedNeuralNetwork, TrainedVAE\n",
    "from vae.utils.function import get_blockiness, plot_two_pairs_color_map"
   ],
   "metadata": {
    "collapsed": false,
    "pycharm": {
     "name": "#%%\n"
    }
   }
  },
  {
   "cell_type": "code",
   "execution_count": 2,
   "outputs": [
    {
     "name": "stdout",
     "output_type": "stream",
     "text": [
      "Data processing ...\n"
     ]
    }
   ],
   "source": [
    "# prepare data\n",
    "print(\"Data processing ...\", flush=True)\n",
    "# df_a = pd.read_csv('./data/dataSetA.csv', sep='  ', engine='python', header=None)\n",
    "# df_b = pd.read_csv('./data/dataSetB.csv', sep='  ', engine='python', header=None)\n",
    "df_c = pd.read_csv('./data/dataSetC.csv', sep='  ', engine='python', header=None)\n",
    "# df_d = pd.read_csv('./data/dataSetD.csv', sep='  ', engine='python', header=None)\n",
    "\n",
    "# df_total = pd.concat([df_a, df_b, df_c, df_d], axis=0)\n",
    "\n",
    "df_total = df_c\n",
    "\n",
    "# get volume fraction and blockiness\n",
    "sequence_list = list()\n",
    "for idx, row in df_total.iterrows():\n",
    "    sequence = ''\n",
    "    modified_row = row[1: -1]\n",
    "    for num in modified_row:\n",
    "        sequence += str(int(num))\n",
    "    sequence_list.append(sequence)\n",
    "\n",
    "df_total['sequence'] = sequence_list\n",
    "df_total['0_fraction'] = df_total['sequence'].apply(lambda x: x.count('0') / 32.0)\n",
    "df_total['1_fraction'] = df_total['sequence'].apply(lambda x: x.count('1') / 32.0)\n",
    "df_total['blockiness'] = df_total['sequence'].apply(lambda x: get_blockiness(x))\n",
    "df_total['interaction_parameter'] = df_total[0]\n",
    "df_total['lamellar_period'] = df_total[33]\n",
    "df_total = df_total.drop(labels=['sequence', 0, 33], axis=1)"
   ],
   "metadata": {
    "collapsed": false,
    "pycharm": {
     "name": "#%%\n"
    }
   }
  },
  {
   "cell_type": "code",
   "execution_count": 3,
   "outputs": [],
   "source": [
    "# prepare train / test dataset\n",
    "dtype = torch.float32\n",
    "device = torch.device(\"cuda\" if torch.cuda.is_available() else \"cpu\")\n",
    "\n",
    "# preprocess sequence data\n",
    "sequence_arr = df_total.iloc[:, :32].values.tolist()\n",
    "x_data = torch.zeros(size=(len(sequence_arr), 32, 2), dtype=dtype, device=device)  # 32 (total) / only 2 beads\n",
    "# x_data.fill_(value=1.0 / (1.0 + np.exp(1.0)))\n",
    "for num in range(len(sequence_arr)):\n",
    "    for idx in range(32):  # total 32 monomers\n",
    "        if sequence_arr[num][idx] == 0:\n",
    "            # x_data[num, idx, 0] = np.exp(1.0) / (1.0 + np.exp(1.0))  # soft max\n",
    "            x_data[num, idx, 0] = 1.0\n",
    "        else:\n",
    "            # x_data[num, idx, 1] = np.exp(1.0) / (1.0 + np.exp(1.0))\n",
    "            x_data[num, idx, 1] = 1.0\n",
    "\n",
    "# preparation training data (target and features)\n",
    "y_with_feature = df_total.iloc[:, 32:]\n",
    "\n",
    "# set and fit the scalers\n",
    "scaler_list = [StandardScaler() for _ in range(y_with_feature.shape[1])]\n",
    "for idx, scaler in enumerate(scaler_list):\n",
    "    scaler.fit(y_with_feature.iloc[:, idx].values.reshape(-1, 1))\n",
    "\n",
    "x_train, x_test, y_with_feature_train, y_with_feature_test = train_test_split(x_data, y_with_feature, test_size=0.2)\n",
    "\n",
    "y_with_feature_train = torch.tensor(y_with_feature_train.values, dtype=dtype, device=device)\n",
    "y_with_feature_test = torch.tensor(y_with_feature_test.values, dtype=dtype, device=device)"
   ],
   "metadata": {
    "collapsed": false,
    "pycharm": {
     "name": "#%%\n"
    }
   }
  },
  {
   "cell_type": "code",
   "execution_count": 4,
   "outputs": [],
   "source": [
    "# set encoder, decoder, and property network\n",
    "encoder = Encoder(\n",
    "    in_dimension=64,  # 32 * 2\n",
    "    layer_1d=40,\n",
    "    layer_2d=32,\n",
    "    layer_3d=24,\n",
    "    latent_dimension=16\n",
    ").to(device)\n",
    "\n",
    "decoder = Decoder(\n",
    "    latent_dimension=16,\n",
    "    gru_neurons_num=16,\n",
    "    gru_stack_size=2,\n",
    "    out_dimension=2  # bead 0 or 1\n",
    ").to(device)\n",
    "\n",
    "property_network = FullyConnectedNeuralNetwork(\n",
    "    input_dim=16+4,  # latent dimension + feature dimension\n",
    "    hidden_sizes=[8],\n",
    "    output_dim=1\n",
    ").to(device)"
   ],
   "metadata": {
    "collapsed": false,
    "pycharm": {
     "name": "#%%\n"
    }
   }
  },
  {
   "cell_type": "code",
   "execution_count": 5,
   "outputs": [
    {
     "name": "stdout",
     "output_type": "stream",
     "text": [
      "start training\n",
      "num_epochs:  500\n",
      "===== EPOCH 1 =====\n",
      "Training ...\n"
     ]
    },
    {
     "name": "stderr",
     "output_type": "stream",
     "text": [
      "100%|██████████| 19/19 [00:02<00:00,  7.49it/s, property_loss=0.88, vae_loss=0.72]\n"
     ]
    },
    {
     "name": "stdout",
     "output_type": "stream",
     "text": [
      "Validation ...\n",
      "Loss is 1.466\n",
      "Elementary quality score is 53.024 / 100\n",
      "Sequence quality score is 0.649 / 100\n",
      "EPOCH 1 takes 0.043 minutes\n",
      "===== EPOCH 2 =====\n",
      "Training ...\n"
     ]
    },
    {
     "name": "stderr",
     "output_type": "stream",
     "text": [
      "100%|██████████| 19/19 [00:02<00:00,  7.70it/s, property_loss=0.82, vae_loss=0.72]\n"
     ]
    },
    {
     "name": "stdout",
     "output_type": "stream",
     "text": [
      "Validation ...\n",
      "Loss is 1.306\n",
      "Elementary quality score is 56.717 / 100\n",
      "Sequence quality score is 0.000 / 100\n",
      "EPOCH 2 takes 0.041 minutes\n",
      "===== EPOCH 3 =====\n",
      "Training ...\n"
     ]
    },
    {
     "name": "stderr",
     "output_type": "stream",
     "text": [
      "100%|██████████| 19/19 [00:02<00:00,  7.76it/s, property_loss=0.77, vae_loss=0.69]\n"
     ]
    },
    {
     "name": "stdout",
     "output_type": "stream",
     "text": [
      "Validation ...\n",
      "Loss is 1.256\n",
      "Elementary quality score is 58.036 / 100\n",
      "Sequence quality score is 0.000 / 100\n",
      "EPOCH 3 takes 0.041 minutes\n",
      "===== EPOCH 4 =====\n",
      "Training ...\n"
     ]
    },
    {
     "name": "stderr",
     "output_type": "stream",
     "text": [
      "100%|██████████| 19/19 [00:02<00:00,  7.45it/s, property_loss=0.62, vae_loss=0.68]\n"
     ]
    },
    {
     "name": "stdout",
     "output_type": "stream",
     "text": [
      "Validation ...\n",
      "Loss is 1.158\n",
      "Elementary quality score is 58.604 / 100\n",
      "Sequence quality score is 0.000 / 100\n",
      "EPOCH 4 takes 0.043 minutes\n",
      "===== EPOCH 5 =====\n",
      "Training ...\n"
     ]
    },
    {
     "name": "stderr",
     "output_type": "stream",
     "text": [
      "100%|██████████| 19/19 [00:02<00:00,  7.62it/s, property_loss=0.60, vae_loss=0.68]\n"
     ]
    },
    {
     "name": "stdout",
     "output_type": "stream",
     "text": [
      "Validation ...\n",
      "Loss is 1.071\n",
      "Elementary quality score is 58.665 / 100\n",
      "Sequence quality score is 0.000 / 100\n",
      "EPOCH 5 takes 0.042 minutes\n",
      "===== EPOCH 6 =====\n",
      "Training ...\n"
     ]
    },
    {
     "name": "stderr",
     "output_type": "stream",
     "text": [
      "100%|██████████| 19/19 [00:02<00:00,  7.67it/s, property_loss=0.48, vae_loss=0.68]\n"
     ]
    },
    {
     "name": "stdout",
     "output_type": "stream",
     "text": [
      "Validation ...\n",
      "Loss is 1.038\n",
      "Elementary quality score is 58.827 / 100\n",
      "Sequence quality score is 0.000 / 100\n",
      "EPOCH 6 takes 0.042 minutes\n",
      "===== EPOCH 7 =====\n",
      "Training ...\n"
     ]
    },
    {
     "name": "stderr",
     "output_type": "stream",
     "text": [
      "100%|██████████| 19/19 [00:02<00:00,  7.73it/s, property_loss=0.34, vae_loss=0.68]\n"
     ]
    },
    {
     "name": "stdout",
     "output_type": "stream",
     "text": [
      "Validation ...\n",
      "Loss is 1.044\n",
      "Elementary quality score is 57.468 / 100\n",
      "Sequence quality score is 0.000 / 100\n",
      "EPOCH 7 takes 0.041 minutes\n",
      "===== EPOCH 8 =====\n",
      "Training ...\n"
     ]
    },
    {
     "name": "stderr",
     "output_type": "stream",
     "text": [
      "100%|██████████| 19/19 [00:02<00:00,  7.72it/s, property_loss=0.19, vae_loss=0.68]\n"
     ]
    },
    {
     "name": "stdout",
     "output_type": "stream",
     "text": [
      "Validation ...\n",
      "Loss is 0.965\n",
      "Elementary quality score is 58.360 / 100\n",
      "Sequence quality score is 0.649 / 100\n",
      "EPOCH 8 takes 0.041 minutes\n",
      "===== EPOCH 9 =====\n",
      "Training ...\n"
     ]
    },
    {
     "name": "stderr",
     "output_type": "stream",
     "text": [
      "100%|██████████| 19/19 [00:02<00:00,  7.62it/s, property_loss=0.17, vae_loss=0.67]\n"
     ]
    },
    {
     "name": "stdout",
     "output_type": "stream",
     "text": [
      "Validation ...\n",
      "Loss is 0.907\n",
      "Elementary quality score is 59.963 / 100\n",
      "Sequence quality score is 0.000 / 100\n",
      "EPOCH 9 takes 0.042 minutes\n",
      "===== EPOCH 10 =====\n",
      "Training ...\n"
     ]
    },
    {
     "name": "stderr",
     "output_type": "stream",
     "text": [
      "100%|██████████| 19/19 [00:02<00:00,  7.70it/s, property_loss=0.18, vae_loss=0.67]\n"
     ]
    },
    {
     "name": "stdout",
     "output_type": "stream",
     "text": [
      "Validation ...\n",
      "Loss is 0.909\n",
      "Elementary quality score is 59.943 / 100\n",
      "Sequence quality score is 0.000 / 100\n",
      "EPOCH 10 takes 0.041 minutes\n",
      "===== EPOCH 11 =====\n",
      "Training ...\n"
     ]
    },
    {
     "name": "stderr",
     "output_type": "stream",
     "text": [
      "100%|██████████| 19/19 [00:02<00:00,  7.75it/s, property_loss=0.20, vae_loss=0.67]\n"
     ]
    },
    {
     "name": "stdout",
     "output_type": "stream",
     "text": [
      "Validation ...\n",
      "Loss is 0.867\n",
      "Elementary quality score is 59.963 / 100\n",
      "Sequence quality score is 2.597 / 100\n",
      "EPOCH 11 takes 0.041 minutes\n",
      "===== EPOCH 12 =====\n",
      "Training ...\n"
     ]
    },
    {
     "name": "stderr",
     "output_type": "stream",
     "text": [
      "100%|██████████| 19/19 [00:02<00:00,  7.67it/s, property_loss=0.12, vae_loss=0.66]\n"
     ]
    },
    {
     "name": "stdout",
     "output_type": "stream",
     "text": [
      "Validation ...\n",
      "Loss is 0.870\n",
      "Elementary quality score is 61.871 / 100\n",
      "Sequence quality score is 0.000 / 100\n",
      "EPOCH 12 takes 0.042 minutes\n",
      "===== EPOCH 13 =====\n",
      "Training ...\n"
     ]
    },
    {
     "name": "stderr",
     "output_type": "stream",
     "text": [
      "100%|██████████| 19/19 [00:02<00:00,  7.72it/s, property_loss=0.07, vae_loss=0.66]\n"
     ]
    },
    {
     "name": "stdout",
     "output_type": "stream",
     "text": [
      "Validation ...\n",
      "Loss is 0.836\n",
      "Elementary quality score is 61.181 / 100\n",
      "Sequence quality score is 0.649 / 100\n",
      "EPOCH 13 takes 0.041 minutes\n",
      "===== EPOCH 14 =====\n",
      "Training ...\n"
     ]
    },
    {
     "name": "stderr",
     "output_type": "stream",
     "text": [
      "100%|██████████| 19/19 [00:02<00:00,  7.65it/s, property_loss=0.13, vae_loss=0.65]\n"
     ]
    },
    {
     "name": "stdout",
     "output_type": "stream",
     "text": [
      "Validation ...\n",
      "Loss is 0.866\n",
      "Elementary quality score is 62.601 / 100\n",
      "Sequence quality score is 0.649 / 100\n",
      "EPOCH 14 takes 0.042 minutes\n",
      "===== EPOCH 15 =====\n",
      "Training ...\n"
     ]
    },
    {
     "name": "stderr",
     "output_type": "stream",
     "text": [
      "100%|██████████| 19/19 [00:02<00:00,  7.71it/s, property_loss=0.09, vae_loss=0.64]\n"
     ]
    },
    {
     "name": "stdout",
     "output_type": "stream",
     "text": [
      "Validation ...\n",
      "Loss is 0.845\n",
      "Elementary quality score is 62.926 / 100\n",
      "Sequence quality score is 1.948 / 100\n",
      "EPOCH 15 takes 0.041 minutes\n",
      "===== EPOCH 16 =====\n",
      "Training ...\n"
     ]
    },
    {
     "name": "stderr",
     "output_type": "stream",
     "text": [
      "100%|██████████| 19/19 [00:02<00:00,  7.71it/s, property_loss=0.08, vae_loss=0.64]\n"
     ]
    },
    {
     "name": "stdout",
     "output_type": "stream",
     "text": [
      "Validation ...\n",
      "Loss is 0.804\n",
      "Elementary quality score is 62.500 / 100\n",
      "Sequence quality score is 3.247 / 100\n",
      "EPOCH 16 takes 0.041 minutes\n",
      "===== EPOCH 17 =====\n",
      "Training ...\n"
     ]
    },
    {
     "name": "stderr",
     "output_type": "stream",
     "text": [
      "100%|██████████| 19/19 [00:02<00:00,  7.75it/s, property_loss=0.09, vae_loss=0.63]\n"
     ]
    },
    {
     "name": "stdout",
     "output_type": "stream",
     "text": [
      "Validation ...\n",
      "Loss is 0.796\n",
      "Elementary quality score is 62.662 / 100\n",
      "Sequence quality score is 2.597 / 100\n",
      "EPOCH 17 takes 0.041 minutes\n",
      "===== EPOCH 18 =====\n",
      "Training ...\n"
     ]
    },
    {
     "name": "stderr",
     "output_type": "stream",
     "text": [
      "100%|██████████| 19/19 [00:02<00:00,  7.70it/s, property_loss=0.07, vae_loss=0.65]\n"
     ]
    },
    {
     "name": "stdout",
     "output_type": "stream",
     "text": [
      "Validation ...\n",
      "Loss is 0.788\n",
      "Elementary quality score is 64.103 / 100\n",
      "Sequence quality score is 2.597 / 100\n",
      "EPOCH 18 takes 0.041 minutes\n",
      "===== EPOCH 19 =====\n",
      "Training ...\n"
     ]
    },
    {
     "name": "stderr",
     "output_type": "stream",
     "text": [
      "100%|██████████| 19/19 [00:02<00:00,  7.78it/s, property_loss=0.09, vae_loss=0.62]\n"
     ]
    },
    {
     "name": "stdout",
     "output_type": "stream",
     "text": [
      "Validation ...\n",
      "Loss is 0.797\n",
      "Elementary quality score is 63.494 / 100\n",
      "Sequence quality score is 5.195 / 100\n",
      "EPOCH 19 takes 0.041 minutes\n",
      "===== EPOCH 20 =====\n",
      "Training ...\n"
     ]
    },
    {
     "name": "stderr",
     "output_type": "stream",
     "text": [
      "100%|██████████| 19/19 [00:02<00:00,  7.72it/s, property_loss=0.09, vae_loss=0.62]\n"
     ]
    },
    {
     "name": "stdout",
     "output_type": "stream",
     "text": [
      "Validation ...\n",
      "Loss is 0.792\n",
      "Elementary quality score is 64.407 / 100\n",
      "Sequence quality score is 1.948 / 100\n",
      "EPOCH 20 takes 0.041 minutes\n",
      "===== EPOCH 21 =====\n",
      "Training ...\n"
     ]
    },
    {
     "name": "stderr",
     "output_type": "stream",
     "text": [
      "100%|██████████| 19/19 [00:02<00:00,  7.68it/s, property_loss=0.08, vae_loss=0.61]\n"
     ]
    },
    {
     "name": "stdout",
     "output_type": "stream",
     "text": [
      "Validation ...\n",
      "Loss is 0.784\n",
      "Elementary quality score is 63.920 / 100\n",
      "Sequence quality score is 4.545 / 100\n",
      "EPOCH 21 takes 0.042 minutes\n",
      "===== EPOCH 22 =====\n",
      "Training ...\n"
     ]
    },
    {
     "name": "stderr",
     "output_type": "stream",
     "text": [
      "100%|██████████| 19/19 [00:02<00:00,  7.69it/s, property_loss=0.08, vae_loss=0.62]\n"
     ]
    },
    {
     "name": "stdout",
     "output_type": "stream",
     "text": [
      "Validation ...\n",
      "Loss is 0.784\n",
      "Elementary quality score is 64.306 / 100\n",
      "Sequence quality score is 3.896 / 100\n",
      "EPOCH 22 takes 0.041 minutes\n",
      "===== EPOCH 23 =====\n",
      "Training ...\n"
     ]
    },
    {
     "name": "stderr",
     "output_type": "stream",
     "text": [
      "100%|██████████| 19/19 [00:02<00:00,  7.78it/s, property_loss=0.07, vae_loss=0.62]\n"
     ]
    },
    {
     "name": "stdout",
     "output_type": "stream",
     "text": [
      "Validation ...\n",
      "Loss is 0.775\n",
      "Elementary quality score is 64.773 / 100\n",
      "Sequence quality score is 3.247 / 100\n",
      "EPOCH 23 takes 0.041 minutes\n",
      "===== EPOCH 24 =====\n",
      "Training ...\n"
     ]
    },
    {
     "name": "stderr",
     "output_type": "stream",
     "text": [
      "100%|██████████| 19/19 [00:02<00:00,  7.62it/s, property_loss=0.05, vae_loss=0.63]\n"
     ]
    },
    {
     "name": "stdout",
     "output_type": "stream",
     "text": [
      "Validation ...\n",
      "Loss is 0.785\n",
      "Elementary quality score is 64.103 / 100\n",
      "Sequence quality score is 3.896 / 100\n",
      "EPOCH 24 takes 0.042 minutes\n",
      "===== EPOCH 25 =====\n",
      "Training ...\n"
     ]
    },
    {
     "name": "stderr",
     "output_type": "stream",
     "text": [
      "100%|██████████| 19/19 [00:02<00:00,  7.71it/s, property_loss=0.05, vae_loss=0.61]\n"
     ]
    },
    {
     "name": "stdout",
     "output_type": "stream",
     "text": [
      "Validation ...\n",
      "Loss is 0.770\n",
      "Elementary quality score is 64.793 / 100\n",
      "Sequence quality score is 5.195 / 100\n",
      "EPOCH 25 takes 0.041 minutes\n",
      "===== EPOCH 26 =====\n",
      "Training ...\n"
     ]
    },
    {
     "name": "stderr",
     "output_type": "stream",
     "text": [
      "100%|██████████| 19/19 [00:02<00:00,  7.72it/s, property_loss=0.07, vae_loss=0.62]\n"
     ]
    },
    {
     "name": "stdout",
     "output_type": "stream",
     "text": [
      "Validation ...\n",
      "Loss is 0.777\n",
      "Elementary quality score is 65.179 / 100\n",
      "Sequence quality score is 3.896 / 100\n",
      "EPOCH 26 takes 0.041 minutes\n",
      "===== EPOCH 27 =====\n",
      "Training ...\n"
     ]
    },
    {
     "name": "stderr",
     "output_type": "stream",
     "text": [
      "100%|██████████| 19/19 [00:02<00:00,  6.85it/s, property_loss=0.05, vae_loss=0.61]\n"
     ]
    },
    {
     "name": "stdout",
     "output_type": "stream",
     "text": [
      "Validation ...\n",
      "Loss is 0.791\n",
      "Elementary quality score is 64.671 / 100\n",
      "Sequence quality score is 5.844 / 100\n",
      "EPOCH 27 takes 0.047 minutes\n",
      "===== EPOCH 28 =====\n",
      "Training ...\n"
     ]
    },
    {
     "name": "stderr",
     "output_type": "stream",
     "text": [
      "100%|██████████| 19/19 [00:02<00:00,  6.48it/s, property_loss=0.04, vae_loss=0.61]\n"
     ]
    },
    {
     "name": "stdout",
     "output_type": "stream",
     "text": [
      "Validation ...\n",
      "Loss is 0.767\n",
      "Elementary quality score is 65.016 / 100\n",
      "Sequence quality score is 5.195 / 100\n",
      "EPOCH 28 takes 0.049 minutes\n",
      "===== EPOCH 29 =====\n",
      "Training ...\n"
     ]
    },
    {
     "name": "stderr",
     "output_type": "stream",
     "text": [
      "100%|██████████| 19/19 [00:02<00:00,  6.78it/s, property_loss=0.06, vae_loss=0.61]\n"
     ]
    },
    {
     "name": "stdout",
     "output_type": "stream",
     "text": [
      "Validation ...\n",
      "Loss is 0.770\n",
      "Elementary quality score is 65.808 / 100\n",
      "Sequence quality score is 7.143 / 100\n",
      "EPOCH 29 takes 0.047 minutes\n",
      "===== EPOCH 30 =====\n",
      "Training ...\n"
     ]
    },
    {
     "name": "stderr",
     "output_type": "stream",
     "text": [
      "100%|██████████| 19/19 [00:02<00:00,  6.71it/s, property_loss=0.06, vae_loss=0.61]\n"
     ]
    },
    {
     "name": "stdout",
     "output_type": "stream",
     "text": [
      "Validation ...\n",
      "Loss is 0.777\n",
      "Elementary quality score is 65.138 / 100\n",
      "Sequence quality score is 2.597 / 100\n",
      "EPOCH 30 takes 0.047 minutes\n",
      "===== EPOCH 31 =====\n",
      "Training ...\n"
     ]
    },
    {
     "name": "stderr",
     "output_type": "stream",
     "text": [
      "100%|██████████| 19/19 [00:02<00:00,  6.78it/s, property_loss=0.05, vae_loss=0.61]\n"
     ]
    },
    {
     "name": "stdout",
     "output_type": "stream",
     "text": [
      "Validation ...\n",
      "Loss is 0.765\n",
      "Elementary quality score is 65.260 / 100\n",
      "Sequence quality score is 4.545 / 100\n",
      "EPOCH 31 takes 0.047 minutes\n",
      "===== EPOCH 32 =====\n",
      "Training ...\n"
     ]
    },
    {
     "name": "stderr",
     "output_type": "stream",
     "text": [
      "100%|██████████| 19/19 [00:02<00:00,  6.80it/s, property_loss=0.04, vae_loss=0.61]\n"
     ]
    },
    {
     "name": "stdout",
     "output_type": "stream",
     "text": [
      "Validation ...\n",
      "Loss is 0.780\n",
      "Elementary quality score is 65.321 / 100\n",
      "Sequence quality score is 4.545 / 100\n",
      "EPOCH 32 takes 0.047 minutes\n",
      "===== EPOCH 33 =====\n",
      "Training ...\n"
     ]
    },
    {
     "name": "stderr",
     "output_type": "stream",
     "text": [
      "100%|██████████| 19/19 [00:02<00:00,  6.75it/s, property_loss=0.04, vae_loss=0.60]\n"
     ]
    },
    {
     "name": "stdout",
     "output_type": "stream",
     "text": [
      "Validation ...\n",
      "Loss is 0.779\n",
      "Elementary quality score is 65.645 / 100\n",
      "Sequence quality score is 4.545 / 100\n",
      "EPOCH 33 takes 0.047 minutes\n",
      "===== EPOCH 34 =====\n",
      "Training ...\n"
     ]
    },
    {
     "name": "stderr",
     "output_type": "stream",
     "text": [
      "100%|██████████| 19/19 [00:02<00:00,  6.77it/s, property_loss=0.04, vae_loss=0.60]\n"
     ]
    },
    {
     "name": "stdout",
     "output_type": "stream",
     "text": [
      "Validation ...\n",
      "Loss is 0.770\n",
      "Elementary quality score is 65.645 / 100\n",
      "Sequence quality score is 6.494 / 100\n",
      "EPOCH 34 takes 0.048 minutes\n",
      "===== EPOCH 35 =====\n",
      "Training ...\n"
     ]
    },
    {
     "name": "stderr",
     "output_type": "stream",
     "text": [
      "100%|██████████| 19/19 [00:02<00:00,  6.36it/s, property_loss=0.03, vae_loss=0.60]\n"
     ]
    },
    {
     "name": "stdout",
     "output_type": "stream",
     "text": [
      "Validation ...\n",
      "Loss is 0.776\n",
      "Elementary quality score is 65.808 / 100\n",
      "Sequence quality score is 3.896 / 100\n",
      "EPOCH 35 takes 0.050 minutes\n",
      "===== EPOCH 36 =====\n",
      "Training ...\n"
     ]
    },
    {
     "name": "stderr",
     "output_type": "stream",
     "text": [
      "100%|██████████| 19/19 [00:02<00:00,  6.81it/s, property_loss=0.04, vae_loss=0.60]\n"
     ]
    },
    {
     "name": "stdout",
     "output_type": "stream",
     "text": [
      "Validation ...\n",
      "Loss is 0.771\n",
      "Elementary quality score is 64.935 / 100\n",
      "Sequence quality score is 3.896 / 100\n",
      "EPOCH 36 takes 0.047 minutes\n",
      "===== EPOCH 37 =====\n",
      "Training ...\n"
     ]
    },
    {
     "name": "stderr",
     "output_type": "stream",
     "text": [
      "100%|██████████| 19/19 [00:02<00:00,  6.49it/s, property_loss=0.04, vae_loss=0.60]\n"
     ]
    },
    {
     "name": "stdout",
     "output_type": "stream",
     "text": [
      "Validation ...\n",
      "Loss is 0.771\n",
      "Elementary quality score is 65.625 / 100\n",
      "Sequence quality score is 4.545 / 100\n",
      "EPOCH 37 takes 0.050 minutes\n",
      "===== EPOCH 38 =====\n",
      "Training ...\n"
     ]
    },
    {
     "name": "stderr",
     "output_type": "stream",
     "text": [
      "100%|██████████| 19/19 [00:02<00:00,  6.81it/s, property_loss=0.03, vae_loss=0.60]\n"
     ]
    },
    {
     "name": "stdout",
     "output_type": "stream",
     "text": [
      "Validation ...\n",
      "Loss is 0.767\n",
      "Elementary quality score is 65.686 / 100\n",
      "Sequence quality score is 3.896 / 100\n",
      "EPOCH 38 takes 0.047 minutes\n",
      "===== EPOCH 39 =====\n",
      "Training ...\n"
     ]
    },
    {
     "name": "stderr",
     "output_type": "stream",
     "text": [
      "100%|██████████| 19/19 [00:02<00:00,  6.91it/s, property_loss=0.03, vae_loss=0.60]\n"
     ]
    },
    {
     "name": "stdout",
     "output_type": "stream",
     "text": [
      "Validation ...\n",
      "Loss is 0.782\n",
      "Elementary quality score is 65.524 / 100\n",
      "Sequence quality score is 2.597 / 100\n",
      "EPOCH 39 takes 0.046 minutes\n",
      "===== EPOCH 40 =====\n",
      "Training ...\n"
     ]
    },
    {
     "name": "stderr",
     "output_type": "stream",
     "text": [
      "100%|██████████| 19/19 [00:02<00:00,  7.19it/s, property_loss=0.04, vae_loss=0.60]\n"
     ]
    },
    {
     "name": "stdout",
     "output_type": "stream",
     "text": [
      "Validation ...\n",
      "Loss is 0.765\n",
      "Elementary quality score is 66.011 / 100\n",
      "Sequence quality score is 5.844 / 100\n",
      "EPOCH 40 takes 0.044 minutes\n",
      "===== EPOCH 41 =====\n",
      "Training ...\n"
     ]
    },
    {
     "name": "stderr",
     "output_type": "stream",
     "text": [
      "100%|██████████| 19/19 [00:02<00:00,  6.39it/s, property_loss=0.04, vae_loss=0.59]\n"
     ]
    },
    {
     "name": "stdout",
     "output_type": "stream",
     "text": [
      "Validation ...\n",
      "Loss is 0.782\n",
      "Elementary quality score is 66.031 / 100\n",
      "Sequence quality score is 5.844 / 100\n",
      "EPOCH 41 takes 0.050 minutes\n",
      "===== EPOCH 42 =====\n",
      "Training ...\n"
     ]
    },
    {
     "name": "stderr",
     "output_type": "stream",
     "text": [
      "100%|██████████| 19/19 [00:02<00:00,  6.40it/s, property_loss=0.03, vae_loss=0.59]\n"
     ]
    },
    {
     "name": "stdout",
     "output_type": "stream",
     "text": [
      "Validation ...\n",
      "Loss is 0.767\n",
      "Elementary quality score is 65.929 / 100\n",
      "Sequence quality score is 7.792 / 100\n",
      "EPOCH 42 takes 0.050 minutes\n",
      "===== EPOCH 43 =====\n",
      "Training ...\n"
     ]
    },
    {
     "name": "stderr",
     "output_type": "stream",
     "text": [
      "100%|██████████| 19/19 [00:02<00:00,  6.51it/s, property_loss=0.03, vae_loss=0.59]\n"
     ]
    },
    {
     "name": "stdout",
     "output_type": "stream",
     "text": [
      "Validation ...\n",
      "Loss is 0.769\n",
      "Elementary quality score is 66.295 / 100\n",
      "Sequence quality score is 7.143 / 100\n",
      "EPOCH 43 takes 0.050 minutes\n",
      "===== EPOCH 44 =====\n",
      "Training ...\n"
     ]
    },
    {
     "name": "stderr",
     "output_type": "stream",
     "text": [
      "100%|██████████| 19/19 [00:02<00:00,  7.02it/s, property_loss=0.03, vae_loss=0.59]\n"
     ]
    },
    {
     "name": "stdout",
     "output_type": "stream",
     "text": [
      "Validation ...\n",
      "Loss is 0.773\n",
      "Elementary quality score is 66.132 / 100\n",
      "Sequence quality score is 5.195 / 100\n",
      "EPOCH 44 takes 0.046 minutes\n",
      "===== EPOCH 45 =====\n",
      "Training ...\n"
     ]
    },
    {
     "name": "stderr",
     "output_type": "stream",
     "text": [
      "100%|██████████| 19/19 [00:02<00:00,  7.07it/s, property_loss=0.02, vae_loss=0.59]\n"
     ]
    },
    {
     "name": "stdout",
     "output_type": "stream",
     "text": [
      "Validation ...\n",
      "Loss is 0.774\n",
      "Elementary quality score is 65.869 / 100\n",
      "Sequence quality score is 6.494 / 100\n",
      "EPOCH 45 takes 0.045 minutes\n",
      "===== EPOCH 46 =====\n",
      "Training ...\n"
     ]
    },
    {
     "name": "stderr",
     "output_type": "stream",
     "text": [
      "100%|██████████| 19/19 [00:02<00:00,  6.41it/s, property_loss=0.03, vae_loss=0.58]\n"
     ]
    },
    {
     "name": "stdout",
     "output_type": "stream",
     "text": [
      "Validation ...\n",
      "Loss is 0.772\n",
      "Elementary quality score is 66.782 / 100\n",
      "Sequence quality score is 6.494 / 100\n",
      "EPOCH 46 takes 0.050 minutes\n",
      "===== EPOCH 47 =====\n",
      "Training ...\n"
     ]
    },
    {
     "name": "stderr",
     "output_type": "stream",
     "text": [
      "100%|██████████| 19/19 [00:02<00:00,  6.53it/s, property_loss=0.03, vae_loss=0.58]\n"
     ]
    },
    {
     "name": "stdout",
     "output_type": "stream",
     "text": [
      "Validation ...\n",
      "Loss is 0.770\n",
      "Elementary quality score is 66.315 / 100\n",
      "Sequence quality score is 3.896 / 100\n",
      "EPOCH 47 takes 0.049 minutes\n",
      "===== EPOCH 48 =====\n",
      "Training ...\n"
     ]
    },
    {
     "name": "stderr",
     "output_type": "stream",
     "text": [
      "100%|██████████| 19/19 [00:02<00:00,  6.63it/s, property_loss=0.02, vae_loss=0.59]\n"
     ]
    },
    {
     "name": "stdout",
     "output_type": "stream",
     "text": [
      "Validation ...\n",
      "Loss is 0.784\n",
      "Elementary quality score is 66.700 / 100\n",
      "Sequence quality score is 7.143 / 100\n",
      "EPOCH 48 takes 0.048 minutes\n",
      "===== EPOCH 49 =====\n",
      "Training ...\n"
     ]
    },
    {
     "name": "stderr",
     "output_type": "stream",
     "text": [
      "100%|██████████| 19/19 [00:02<00:00,  6.80it/s, property_loss=0.02, vae_loss=0.58]\n"
     ]
    },
    {
     "name": "stdout",
     "output_type": "stream",
     "text": [
      "Validation ...\n",
      "Loss is 0.771\n",
      "Elementary quality score is 66.579 / 100\n",
      "Sequence quality score is 7.792 / 100\n",
      "EPOCH 49 takes 0.047 minutes\n",
      "===== EPOCH 50 =====\n",
      "Training ...\n"
     ]
    },
    {
     "name": "stderr",
     "output_type": "stream",
     "text": [
      "100%|██████████| 19/19 [00:02<00:00,  6.50it/s, property_loss=0.02, vae_loss=0.58]\n"
     ]
    },
    {
     "name": "stdout",
     "output_type": "stream",
     "text": [
      "Validation ...\n",
      "Loss is 0.785\n",
      "Elementary quality score is 67.675 / 100\n",
      "Sequence quality score is 9.740 / 100\n",
      "EPOCH 50 takes 0.049 minutes\n",
      "===== EPOCH 51 =====\n",
      "Training ...\n"
     ]
    },
    {
     "name": "stderr",
     "output_type": "stream",
     "text": [
      "100%|██████████| 19/19 [00:02<00:00,  6.37it/s, property_loss=0.02, vae_loss=0.58]\n"
     ]
    },
    {
     "name": "stdout",
     "output_type": "stream",
     "text": [
      "Validation ...\n",
      "Loss is 0.767\n",
      "Elementary quality score is 66.903 / 100\n",
      "Sequence quality score is 9.740 / 100\n",
      "EPOCH 51 takes 0.050 minutes\n",
      "===== EPOCH 52 =====\n",
      "Training ...\n"
     ]
    },
    {
     "name": "stderr",
     "output_type": "stream",
     "text": [
      "100%|██████████| 19/19 [00:02<00:00,  6.70it/s, property_loss=0.02, vae_loss=0.57]\n"
     ]
    },
    {
     "name": "stdout",
     "output_type": "stream",
     "text": [
      "Validation ...\n",
      "Loss is 0.772\n",
      "Elementary quality score is 67.472 / 100\n",
      "Sequence quality score is 5.844 / 100\n",
      "EPOCH 52 takes 0.048 minutes\n",
      "===== EPOCH 53 =====\n",
      "Training ...\n"
     ]
    },
    {
     "name": "stderr",
     "output_type": "stream",
     "text": [
      "100%|██████████| 19/19 [00:02<00:00,  6.83it/s, property_loss=0.03, vae_loss=0.57]\n"
     ]
    },
    {
     "name": "stdout",
     "output_type": "stream",
     "text": [
      "Validation ...\n",
      "Loss is 0.765\n",
      "Elementary quality score is 67.918 / 100\n",
      "Sequence quality score is 9.091 / 100\n",
      "EPOCH 53 takes 0.047 minutes\n",
      "===== EPOCH 54 =====\n",
      "Training ...\n"
     ]
    },
    {
     "name": "stderr",
     "output_type": "stream",
     "text": [
      "100%|██████████| 19/19 [00:02<00:00,  6.48it/s, property_loss=0.02, vae_loss=0.57]\n"
     ]
    },
    {
     "name": "stdout",
     "output_type": "stream",
     "text": [
      "Validation ...\n",
      "Loss is 0.759\n",
      "Elementary quality score is 67.918 / 100\n",
      "Sequence quality score is 3.896 / 100\n",
      "EPOCH 54 takes 0.049 minutes\n",
      "===== EPOCH 55 =====\n",
      "Training ...\n"
     ]
    },
    {
     "name": "stderr",
     "output_type": "stream",
     "text": [
      "100%|██████████| 19/19 [00:02<00:00,  6.42it/s, property_loss=0.02, vae_loss=0.56]\n"
     ]
    },
    {
     "name": "stdout",
     "output_type": "stream",
     "text": [
      "Validation ...\n",
      "Loss is 0.750\n",
      "Elementary quality score is 68.060 / 100\n",
      "Sequence quality score is 9.740 / 100\n",
      "EPOCH 55 takes 0.050 minutes\n",
      "===== EPOCH 56 =====\n",
      "Training ...\n"
     ]
    },
    {
     "name": "stderr",
     "output_type": "stream",
     "text": [
      "100%|██████████| 19/19 [00:02<00:00,  6.47it/s, property_loss=0.01, vae_loss=0.56]\n"
     ]
    },
    {
     "name": "stdout",
     "output_type": "stream",
     "text": [
      "Validation ...\n",
      "Loss is 0.768\n",
      "Elementary quality score is 67.938 / 100\n",
      "Sequence quality score is 8.442 / 100\n",
      "EPOCH 56 takes 0.049 minutes\n",
      "===== EPOCH 57 =====\n",
      "Training ...\n"
     ]
    },
    {
     "name": "stderr",
     "output_type": "stream",
     "text": [
      "100%|██████████| 19/19 [00:02<00:00,  6.53it/s, property_loss=0.01, vae_loss=0.57]\n"
     ]
    },
    {
     "name": "stdout",
     "output_type": "stream",
     "text": [
      "Validation ...\n",
      "Loss is 0.762\n",
      "Elementary quality score is 68.243 / 100\n",
      "Sequence quality score is 5.195 / 100\n",
      "EPOCH 57 takes 0.049 minutes\n",
      "===== EPOCH 58 =====\n",
      "Training ...\n"
     ]
    },
    {
     "name": "stderr",
     "output_type": "stream",
     "text": [
      "100%|██████████| 19/19 [00:02<00:00,  7.65it/s, property_loss=0.01, vae_loss=0.56]\n"
     ]
    },
    {
     "name": "stdout",
     "output_type": "stream",
     "text": [
      "Validation ...\n",
      "Loss is 0.749\n",
      "Elementary quality score is 68.304 / 100\n",
      "Sequence quality score is 7.792 / 100\n",
      "EPOCH 58 takes 0.042 minutes\n",
      "===== EPOCH 59 =====\n",
      "Training ...\n"
     ]
    },
    {
     "name": "stderr",
     "output_type": "stream",
     "text": [
      "100%|██████████| 19/19 [00:02<00:00,  7.49it/s, property_loss=0.01, vae_loss=0.56]\n"
     ]
    },
    {
     "name": "stdout",
     "output_type": "stream",
     "text": [
      "Validation ...\n",
      "Loss is 0.755\n",
      "Elementary quality score is 69.399 / 100\n",
      "Sequence quality score is 7.143 / 100\n",
      "EPOCH 59 takes 0.043 minutes\n",
      "===== EPOCH 60 =====\n",
      "Training ...\n"
     ]
    },
    {
     "name": "stderr",
     "output_type": "stream",
     "text": [
      "100%|██████████| 19/19 [00:02<00:00,  7.71it/s, property_loss=0.01, vae_loss=0.55]\n"
     ]
    },
    {
     "name": "stdout",
     "output_type": "stream",
     "text": [
      "Validation ...\n",
      "Loss is 0.749\n",
      "Elementary quality score is 69.136 / 100\n",
      "Sequence quality score is 6.494 / 100\n",
      "EPOCH 60 takes 0.041 minutes\n",
      "===== EPOCH 61 =====\n",
      "Training ...\n"
     ]
    },
    {
     "name": "stderr",
     "output_type": "stream",
     "text": [
      "100%|██████████| 19/19 [00:02<00:00,  7.73it/s, property_loss=0.01, vae_loss=0.56]\n"
     ]
    },
    {
     "name": "stdout",
     "output_type": "stream",
     "text": [
      "Validation ...\n",
      "Loss is 0.753\n",
      "Elementary quality score is 69.359 / 100\n",
      "Sequence quality score is 6.494 / 100\n",
      "EPOCH 61 takes 0.041 minutes\n",
      "===== EPOCH 62 =====\n",
      "Training ...\n"
     ]
    },
    {
     "name": "stderr",
     "output_type": "stream",
     "text": [
      "100%|██████████| 19/19 [00:02<00:00,  7.72it/s, property_loss=0.01, vae_loss=0.55]\n"
     ]
    },
    {
     "name": "stdout",
     "output_type": "stream",
     "text": [
      "Validation ...\n",
      "Loss is 0.747\n",
      "Elementary quality score is 69.623 / 100\n",
      "Sequence quality score is 5.195 / 100\n",
      "EPOCH 62 takes 0.041 minutes\n",
      "===== EPOCH 63 =====\n",
      "Training ...\n"
     ]
    },
    {
     "name": "stderr",
     "output_type": "stream",
     "text": [
      "100%|██████████| 19/19 [00:02<00:00,  6.70it/s, property_loss=0.01, vae_loss=0.55]\n"
     ]
    },
    {
     "name": "stdout",
     "output_type": "stream",
     "text": [
      "Validation ...\n",
      "Loss is 0.734\n",
      "Elementary quality score is 69.724 / 100\n",
      "Sequence quality score is 7.792 / 100\n",
      "EPOCH 63 takes 0.048 minutes\n",
      "===== EPOCH 64 =====\n",
      "Training ...\n"
     ]
    },
    {
     "name": "stderr",
     "output_type": "stream",
     "text": [
      "100%|██████████| 19/19 [00:02<00:00,  6.66it/s, property_loss=0.02, vae_loss=0.55]\n"
     ]
    },
    {
     "name": "stdout",
     "output_type": "stream",
     "text": [
      "Validation ...\n",
      "Loss is 0.742\n",
      "Elementary quality score is 69.907 / 100\n",
      "Sequence quality score is 5.195 / 100\n",
      "EPOCH 64 takes 0.048 minutes\n",
      "===== EPOCH 65 =====\n",
      "Training ...\n"
     ]
    },
    {
     "name": "stderr",
     "output_type": "stream",
     "text": [
      "100%|██████████| 19/19 [00:02<00:00,  6.63it/s, property_loss=0.02, vae_loss=0.55]\n"
     ]
    },
    {
     "name": "stdout",
     "output_type": "stream",
     "text": [
      "Validation ...\n",
      "Loss is 0.741\n",
      "Elementary quality score is 69.866 / 100\n",
      "Sequence quality score is 10.390 / 100\n",
      "EPOCH 65 takes 0.048 minutes\n",
      "===== EPOCH 66 =====\n",
      "Training ...\n"
     ]
    },
    {
     "name": "stderr",
     "output_type": "stream",
     "text": [
      "100%|██████████| 19/19 [00:02<00:00,  6.45it/s, property_loss=0.02, vae_loss=0.55]\n"
     ]
    },
    {
     "name": "stdout",
     "output_type": "stream",
     "text": [
      "Validation ...\n",
      "Loss is 0.730\n",
      "Elementary quality score is 69.724 / 100\n",
      "Sequence quality score is 4.545 / 100\n",
      "EPOCH 66 takes 0.050 minutes\n",
      "===== EPOCH 67 =====\n",
      "Training ...\n"
     ]
    },
    {
     "name": "stderr",
     "output_type": "stream",
     "text": [
      "100%|██████████| 19/19 [00:02<00:00,  6.53it/s, property_loss=0.01, vae_loss=0.54]\n"
     ]
    },
    {
     "name": "stdout",
     "output_type": "stream",
     "text": [
      "Validation ...\n",
      "Loss is 0.738\n",
      "Elementary quality score is 70.901 / 100\n",
      "Sequence quality score is 6.494 / 100\n",
      "EPOCH 67 takes 0.049 minutes\n",
      "===== EPOCH 68 =====\n",
      "Training ...\n"
     ]
    },
    {
     "name": "stderr",
     "output_type": "stream",
     "text": [
      "100%|██████████| 19/19 [00:02<00:00,  6.59it/s, property_loss=0.01, vae_loss=0.54]\n"
     ]
    },
    {
     "name": "stdout",
     "output_type": "stream",
     "text": [
      "Validation ...\n",
      "Loss is 0.729\n",
      "Elementary quality score is 70.252 / 100\n",
      "Sequence quality score is 7.792 / 100\n",
      "EPOCH 68 takes 0.049 minutes\n",
      "===== EPOCH 69 =====\n",
      "Training ...\n"
     ]
    },
    {
     "name": "stderr",
     "output_type": "stream",
     "text": [
      "100%|██████████| 19/19 [00:02<00:00,  7.04it/s, property_loss=0.01, vae_loss=0.54]\n"
     ]
    },
    {
     "name": "stdout",
     "output_type": "stream",
     "text": [
      "Validation ...\n",
      "Loss is 0.738\n",
      "Elementary quality score is 70.049 / 100\n",
      "Sequence quality score is 5.195 / 100\n",
      "EPOCH 69 takes 0.046 minutes\n",
      "===== EPOCH 70 =====\n",
      "Training ...\n"
     ]
    },
    {
     "name": "stderr",
     "output_type": "stream",
     "text": [
      "100%|██████████| 19/19 [00:02<00:00,  6.94it/s, property_loss=0.01, vae_loss=0.54]\n"
     ]
    },
    {
     "name": "stdout",
     "output_type": "stream",
     "text": [
      "Validation ...\n",
      "Loss is 0.738\n",
      "Elementary quality score is 70.394 / 100\n",
      "Sequence quality score is 3.896 / 100\n",
      "EPOCH 70 takes 0.046 minutes\n",
      "===== EPOCH 71 =====\n",
      "Training ...\n"
     ]
    },
    {
     "name": "stderr",
     "output_type": "stream",
     "text": [
      "100%|██████████| 19/19 [00:02<00:00,  6.74it/s, property_loss=0.01, vae_loss=0.53]\n"
     ]
    },
    {
     "name": "stdout",
     "output_type": "stream",
     "text": [
      "Validation ...\n",
      "Loss is 0.733\n",
      "Elementary quality score is 70.292 / 100\n",
      "Sequence quality score is 5.844 / 100\n",
      "EPOCH 71 takes 0.047 minutes\n",
      "===== EPOCH 72 =====\n",
      "Training ...\n"
     ]
    },
    {
     "name": "stderr",
     "output_type": "stream",
     "text": [
      "100%|██████████| 19/19 [00:02<00:00,  6.40it/s, property_loss=0.01, vae_loss=0.53]\n"
     ]
    },
    {
     "name": "stdout",
     "output_type": "stream",
     "text": [
      "Validation ...\n",
      "Loss is 0.742\n",
      "Elementary quality score is 70.089 / 100\n",
      "Sequence quality score is 1.299 / 100\n",
      "EPOCH 72 takes 0.050 minutes\n",
      "===== EPOCH 73 =====\n",
      "Training ...\n"
     ]
    },
    {
     "name": "stderr",
     "output_type": "stream",
     "text": [
      "100%|██████████| 19/19 [00:02<00:00,  6.76it/s, property_loss=0.01, vae_loss=0.53]\n"
     ]
    },
    {
     "name": "stdout",
     "output_type": "stream",
     "text": [
      "Validation ...\n",
      "Loss is 0.733\n",
      "Elementary quality score is 70.942 / 100\n",
      "Sequence quality score is 6.494 / 100\n",
      "EPOCH 73 takes 0.047 minutes\n",
      "===== EPOCH 74 =====\n",
      "Training ...\n"
     ]
    },
    {
     "name": "stderr",
     "output_type": "stream",
     "text": [
      "100%|██████████| 19/19 [00:02<00:00,  6.63it/s, property_loss=0.02, vae_loss=0.54]\n"
     ]
    },
    {
     "name": "stdout",
     "output_type": "stream",
     "text": [
      "Validation ...\n",
      "Loss is 0.739\n",
      "Elementary quality score is 70.515 / 100\n",
      "Sequence quality score is 7.792 / 100\n",
      "EPOCH 74 takes 0.048 minutes\n",
      "===== EPOCH 75 =====\n",
      "Training ...\n"
     ]
    },
    {
     "name": "stderr",
     "output_type": "stream",
     "text": [
      "100%|██████████| 19/19 [00:02<00:00,  6.83it/s, property_loss=0.02, vae_loss=0.53]\n"
     ]
    },
    {
     "name": "stdout",
     "output_type": "stream",
     "text": [
      "Validation ...\n",
      "Loss is 0.749\n",
      "Elementary quality score is 70.657 / 100\n",
      "Sequence quality score is 3.896 / 100\n",
      "EPOCH 75 takes 0.047 minutes\n",
      "===== EPOCH 76 =====\n",
      "Training ...\n"
     ]
    },
    {
     "name": "stderr",
     "output_type": "stream",
     "text": [
      "100%|██████████| 19/19 [00:02<00:00,  6.68it/s, property_loss=0.01, vae_loss=0.53]\n"
     ]
    },
    {
     "name": "stdout",
     "output_type": "stream",
     "text": [
      "Validation ...\n",
      "Loss is 0.735\n",
      "Elementary quality score is 70.657 / 100\n",
      "Sequence quality score is 7.143 / 100\n",
      "EPOCH 76 takes 0.048 minutes\n",
      "===== EPOCH 77 =====\n",
      "Training ...\n"
     ]
    },
    {
     "name": "stderr",
     "output_type": "stream",
     "text": [
      "100%|██████████| 19/19 [00:03<00:00,  6.30it/s, property_loss=0.01, vae_loss=0.52]\n"
     ]
    },
    {
     "name": "stdout",
     "output_type": "stream",
     "text": [
      "Validation ...\n",
      "Loss is 0.732\n",
      "Elementary quality score is 70.718 / 100\n",
      "Sequence quality score is 6.494 / 100\n",
      "EPOCH 77 takes 0.051 minutes\n",
      "===== EPOCH 78 =====\n",
      "Training ...\n"
     ]
    },
    {
     "name": "stderr",
     "output_type": "stream",
     "text": [
      "100%|██████████| 19/19 [00:02<00:00,  6.67it/s, property_loss=0.01, vae_loss=0.53]\n"
     ]
    },
    {
     "name": "stdout",
     "output_type": "stream",
     "text": [
      "Validation ...\n",
      "Loss is 0.741\n",
      "Elementary quality score is 71.246 / 100\n",
      "Sequence quality score is 9.091 / 100\n",
      "EPOCH 78 takes 0.048 minutes\n",
      "===== EPOCH 79 =====\n",
      "Training ...\n"
     ]
    },
    {
     "name": "stderr",
     "output_type": "stream",
     "text": [
      "100%|██████████| 19/19 [00:02<00:00,  6.66it/s, property_loss=0.01, vae_loss=0.53]\n"
     ]
    },
    {
     "name": "stdout",
     "output_type": "stream",
     "text": [
      "Validation ...\n",
      "Loss is 0.749\n",
      "Elementary quality score is 70.982 / 100\n",
      "Sequence quality score is 11.039 / 100\n",
      "EPOCH 79 takes 0.048 minutes\n",
      "===== EPOCH 80 =====\n",
      "Training ...\n"
     ]
    },
    {
     "name": "stderr",
     "output_type": "stream",
     "text": [
      "100%|██████████| 19/19 [00:02<00:00,  6.61it/s, property_loss=0.01, vae_loss=0.53]\n"
     ]
    },
    {
     "name": "stdout",
     "output_type": "stream",
     "text": [
      "Validation ...\n",
      "Loss is 0.744\n",
      "Elementary quality score is 70.414 / 100\n",
      "Sequence quality score is 10.390 / 100\n",
      "EPOCH 80 takes 0.048 minutes\n",
      "===== EPOCH 81 =====\n",
      "Training ...\n"
     ]
    },
    {
     "name": "stderr",
     "output_type": "stream",
     "text": [
      "100%|██████████| 19/19 [00:02<00:00,  7.02it/s, property_loss=0.02, vae_loss=0.54]\n"
     ]
    },
    {
     "name": "stdout",
     "output_type": "stream",
     "text": [
      "Validation ...\n",
      "Loss is 0.731\n",
      "Elementary quality score is 70.739 / 100\n",
      "Sequence quality score is 11.039 / 100\n",
      "EPOCH 81 takes 0.046 minutes\n",
      "===== EPOCH 82 =====\n",
      "Training ...\n"
     ]
    },
    {
     "name": "stderr",
     "output_type": "stream",
     "text": [
      "100%|██████████| 19/19 [00:02<00:00,  6.43it/s, property_loss=0.02, vae_loss=0.52]\n"
     ]
    },
    {
     "name": "stdout",
     "output_type": "stream",
     "text": [
      "Validation ...\n",
      "Loss is 0.737\n",
      "Elementary quality score is 70.556 / 100\n",
      "Sequence quality score is 7.792 / 100\n",
      "EPOCH 82 takes 0.050 minutes\n",
      "===== EPOCH 83 =====\n",
      "Training ...\n"
     ]
    },
    {
     "name": "stderr",
     "output_type": "stream",
     "text": [
      "100%|██████████| 19/19 [00:02<00:00,  6.80it/s, property_loss=0.02, vae_loss=0.53]\n"
     ]
    },
    {
     "name": "stdout",
     "output_type": "stream",
     "text": [
      "Validation ...\n",
      "Loss is 0.735\n",
      "Elementary quality score is 70.617 / 100\n",
      "Sequence quality score is 7.792 / 100\n",
      "EPOCH 83 takes 0.047 minutes\n",
      "===== EPOCH 84 =====\n",
      "Training ...\n"
     ]
    },
    {
     "name": "stderr",
     "output_type": "stream",
     "text": [
      "100%|██████████| 19/19 [00:02<00:00,  6.90it/s, property_loss=0.02, vae_loss=0.53]\n"
     ]
    },
    {
     "name": "stdout",
     "output_type": "stream",
     "text": [
      "Validation ...\n",
      "Loss is 0.732\n",
      "Elementary quality score is 70.881 / 100\n",
      "Sequence quality score is 8.442 / 100\n",
      "EPOCH 84 takes 0.046 minutes\n",
      "===== EPOCH 85 =====\n",
      "Training ...\n"
     ]
    },
    {
     "name": "stderr",
     "output_type": "stream",
     "text": [
      "100%|██████████| 19/19 [00:02<00:00,  6.49it/s, property_loss=0.02, vae_loss=0.53]\n"
     ]
    },
    {
     "name": "stdout",
     "output_type": "stream",
     "text": [
      "Validation ...\n",
      "Loss is 0.742\n",
      "Elementary quality score is 71.043 / 100\n",
      "Sequence quality score is 12.987 / 100\n",
      "EPOCH 85 takes 0.050 minutes\n",
      "===== EPOCH 86 =====\n",
      "Training ...\n"
     ]
    },
    {
     "name": "stderr",
     "output_type": "stream",
     "text": [
      "100%|██████████| 19/19 [00:02<00:00,  6.73it/s, property_loss=0.01, vae_loss=0.53]\n"
     ]
    },
    {
     "name": "stdout",
     "output_type": "stream",
     "text": [
      "Validation ...\n",
      "Loss is 0.749\n",
      "Elementary quality score is 71.205 / 100\n",
      "Sequence quality score is 11.039 / 100\n",
      "EPOCH 86 takes 0.047 minutes\n",
      "===== EPOCH 87 =====\n",
      "Training ...\n"
     ]
    },
    {
     "name": "stderr",
     "output_type": "stream",
     "text": [
      "100%|██████████| 19/19 [00:02<00:00,  6.91it/s, property_loss=0.01, vae_loss=0.53]\n"
     ]
    },
    {
     "name": "stdout",
     "output_type": "stream",
     "text": [
      "Validation ...\n",
      "Loss is 0.731\n",
      "Elementary quality score is 70.962 / 100\n",
      "Sequence quality score is 7.792 / 100\n",
      "EPOCH 87 takes 0.046 minutes\n",
      "===== EPOCH 88 =====\n",
      "Training ...\n"
     ]
    },
    {
     "name": "stderr",
     "output_type": "stream",
     "text": [
      "100%|██████████| 19/19 [00:02<00:00,  6.72it/s, property_loss=0.01, vae_loss=0.52]\n"
     ]
    },
    {
     "name": "stdout",
     "output_type": "stream",
     "text": [
      "Validation ...\n",
      "Loss is 0.729\n",
      "Elementary quality score is 71.185 / 100\n",
      "Sequence quality score is 7.143 / 100\n",
      "EPOCH 88 takes 0.048 minutes\n",
      "===== EPOCH 89 =====\n",
      "Training ...\n"
     ]
    },
    {
     "name": "stderr",
     "output_type": "stream",
     "text": [
      "100%|██████████| 19/19 [00:03<00:00,  6.24it/s, property_loss=0.01, vae_loss=0.52]\n"
     ]
    },
    {
     "name": "stdout",
     "output_type": "stream",
     "text": [
      "Validation ...\n",
      "Loss is 0.728\n",
      "Elementary quality score is 71.510 / 100\n",
      "Sequence quality score is 12.338 / 100\n",
      "EPOCH 89 takes 0.052 minutes\n",
      "===== EPOCH 90 =====\n",
      "Training ...\n"
     ]
    },
    {
     "name": "stderr",
     "output_type": "stream",
     "text": [
      "100%|██████████| 19/19 [00:02<00:00,  6.49it/s, property_loss=0.01, vae_loss=0.52]\n"
     ]
    },
    {
     "name": "stdout",
     "output_type": "stream",
     "text": [
      "Validation ...\n",
      "Loss is 0.733\n",
      "Elementary quality score is 71.023 / 100\n",
      "Sequence quality score is 11.039 / 100\n",
      "EPOCH 90 takes 0.049 minutes\n",
      "===== EPOCH 91 =====\n",
      "Training ...\n"
     ]
    },
    {
     "name": "stderr",
     "output_type": "stream",
     "text": [
      "100%|██████████| 19/19 [00:02<00:00,  6.57it/s, property_loss=0.01, vae_loss=0.51]\n"
     ]
    },
    {
     "name": "stdout",
     "output_type": "stream",
     "text": [
      "Validation ...\n",
      "Loss is 0.734\n",
      "Elementary quality score is 71.875 / 100\n",
      "Sequence quality score is 9.091 / 100\n",
      "EPOCH 91 takes 0.049 minutes\n",
      "===== EPOCH 92 =====\n",
      "Training ...\n"
     ]
    },
    {
     "name": "stderr",
     "output_type": "stream",
     "text": [
      "100%|██████████| 19/19 [00:02<00:00,  6.99it/s, property_loss=0.01, vae_loss=0.51]\n"
     ]
    },
    {
     "name": "stdout",
     "output_type": "stream",
     "text": [
      "Validation ...\n",
      "Loss is 0.737\n",
      "Elementary quality score is 71.956 / 100\n",
      "Sequence quality score is 12.338 / 100\n",
      "EPOCH 92 takes 0.046 minutes\n",
      "===== EPOCH 93 =====\n",
      "Training ...\n"
     ]
    },
    {
     "name": "stderr",
     "output_type": "stream",
     "text": [
      "100%|██████████| 19/19 [00:03<00:00,  6.30it/s, property_loss=0.01, vae_loss=0.51]\n"
     ]
    },
    {
     "name": "stdout",
     "output_type": "stream",
     "text": [
      "Validation ...\n",
      "Loss is 0.728\n",
      "Elementary quality score is 72.565 / 100\n",
      "Sequence quality score is 11.688 / 100\n",
      "EPOCH 93 takes 0.051 minutes\n",
      "===== EPOCH 94 =====\n",
      "Training ...\n"
     ]
    },
    {
     "name": "stderr",
     "output_type": "stream",
     "text": [
      "100%|██████████| 19/19 [00:02<00:00,  6.50it/s, property_loss=0.01, vae_loss=0.51]\n"
     ]
    },
    {
     "name": "stdout",
     "output_type": "stream",
     "text": [
      "Validation ...\n",
      "Loss is 0.738\n",
      "Elementary quality score is 72.281 / 100\n",
      "Sequence quality score is 13.636 / 100\n",
      "EPOCH 94 takes 0.049 minutes\n",
      "===== EPOCH 95 =====\n",
      "Training ...\n"
     ]
    },
    {
     "name": "stderr",
     "output_type": "stream",
     "text": [
      "100%|██████████| 19/19 [00:02<00:00,  6.67it/s, property_loss=0.01, vae_loss=0.52]\n"
     ]
    },
    {
     "name": "stdout",
     "output_type": "stream",
     "text": [
      "Validation ...\n",
      "Loss is 0.734\n",
      "Elementary quality score is 71.834 / 100\n",
      "Sequence quality score is 13.636 / 100\n",
      "EPOCH 95 takes 0.048 minutes\n",
      "===== EPOCH 96 =====\n",
      "Training ...\n"
     ]
    },
    {
     "name": "stderr",
     "output_type": "stream",
     "text": [
      "100%|██████████| 19/19 [00:02<00:00,  6.54it/s, property_loss=0.01, vae_loss=0.51]\n"
     ]
    },
    {
     "name": "stdout",
     "output_type": "stream",
     "text": [
      "Validation ...\n",
      "Loss is 0.734\n",
      "Elementary quality score is 72.037 / 100\n",
      "Sequence quality score is 18.182 / 100\n",
      "EPOCH 96 takes 0.049 minutes\n",
      "===== EPOCH 97 =====\n",
      "Training ...\n"
     ]
    },
    {
     "name": "stderr",
     "output_type": "stream",
     "text": [
      "100%|██████████| 19/19 [00:03<00:00,  6.07it/s, property_loss=0.02, vae_loss=0.52]\n"
     ]
    },
    {
     "name": "stdout",
     "output_type": "stream",
     "text": [
      "Validation ...\n",
      "Loss is 0.728\n",
      "Elementary quality score is 71.692 / 100\n",
      "Sequence quality score is 10.390 / 100\n",
      "EPOCH 97 takes 0.053 minutes\n",
      "===== EPOCH 98 =====\n",
      "Training ...\n"
     ]
    },
    {
     "name": "stderr",
     "output_type": "stream",
     "text": [
      "100%|██████████| 19/19 [00:02<00:00,  6.40it/s, property_loss=0.03, vae_loss=0.52]\n"
     ]
    },
    {
     "name": "stdout",
     "output_type": "stream",
     "text": [
      "Validation ...\n",
      "Loss is 0.731\n",
      "Elementary quality score is 71.510 / 100\n",
      "Sequence quality score is 10.390 / 100\n",
      "EPOCH 98 takes 0.051 minutes\n",
      "===== EPOCH 99 =====\n",
      "Training ...\n"
     ]
    },
    {
     "name": "stderr",
     "output_type": "stream",
     "text": [
      "100%|██████████| 19/19 [00:02<00:00,  6.99it/s, property_loss=0.02, vae_loss=0.52]\n"
     ]
    },
    {
     "name": "stdout",
     "output_type": "stream",
     "text": [
      "Validation ...\n",
      "Loss is 0.735\n",
      "Elementary quality score is 71.733 / 100\n",
      "Sequence quality score is 8.442 / 100\n",
      "EPOCH 99 takes 0.046 minutes\n",
      "===== EPOCH 100 =====\n",
      "Training ...\n"
     ]
    },
    {
     "name": "stderr",
     "output_type": "stream",
     "text": [
      "100%|██████████| 19/19 [00:02<00:00,  6.89it/s, property_loss=0.01, vae_loss=0.52]\n"
     ]
    },
    {
     "name": "stdout",
     "output_type": "stream",
     "text": [
      "Validation ...\n",
      "Loss is 0.728\n",
      "Elementary quality score is 71.997 / 100\n",
      "Sequence quality score is 7.792 / 100\n",
      "EPOCH 100 takes 0.047 minutes\n",
      "===== EPOCH 101 =====\n",
      "Training ...\n"
     ]
    },
    {
     "name": "stderr",
     "output_type": "stream",
     "text": [
      "100%|██████████| 19/19 [00:02<00:00,  6.35it/s, property_loss=0.01, vae_loss=0.52]\n"
     ]
    },
    {
     "name": "stdout",
     "output_type": "stream",
     "text": [
      "Validation ...\n",
      "Loss is 0.724\n",
      "Elementary quality score is 71.936 / 100\n",
      "Sequence quality score is 11.039 / 100\n",
      "EPOCH 101 takes 0.050 minutes\n",
      "===== EPOCH 102 =====\n",
      "Training ...\n"
     ]
    },
    {
     "name": "stderr",
     "output_type": "stream",
     "text": [
      "100%|██████████| 19/19 [00:02<00:00,  6.64it/s, property_loss=0.01, vae_loss=0.51]\n"
     ]
    },
    {
     "name": "stdout",
     "output_type": "stream",
     "text": [
      "Validation ...\n",
      "Loss is 0.722\n",
      "Elementary quality score is 72.159 / 100\n",
      "Sequence quality score is 7.792 / 100\n",
      "EPOCH 102 takes 0.048 minutes\n",
      "===== EPOCH 103 =====\n",
      "Training ...\n"
     ]
    },
    {
     "name": "stderr",
     "output_type": "stream",
     "text": [
      "100%|██████████| 19/19 [00:03<00:00,  6.24it/s, property_loss=0.01, vae_loss=0.51]\n"
     ]
    },
    {
     "name": "stdout",
     "output_type": "stream",
     "text": [
      "Validation ...\n",
      "Loss is 0.721\n",
      "Elementary quality score is 72.281 / 100\n",
      "Sequence quality score is 8.442 / 100\n",
      "EPOCH 103 takes 0.051 minutes\n",
      "===== EPOCH 104 =====\n",
      "Training ...\n"
     ]
    },
    {
     "name": "stderr",
     "output_type": "stream",
     "text": [
      "100%|██████████| 19/19 [00:02<00:00,  6.87it/s, property_loss=0.01, vae_loss=0.51]\n"
     ]
    },
    {
     "name": "stdout",
     "output_type": "stream",
     "text": [
      "Validation ...\n",
      "Loss is 0.733\n",
      "Elementary quality score is 72.078 / 100\n",
      "Sequence quality score is 14.935 / 100\n",
      "EPOCH 104 takes 0.046 minutes\n",
      "===== EPOCH 105 =====\n",
      "Training ...\n"
     ]
    },
    {
     "name": "stderr",
     "output_type": "stream",
     "text": [
      "100%|██████████| 19/19 [00:02<00:00,  6.87it/s, property_loss=0.01, vae_loss=0.51]\n"
     ]
    },
    {
     "name": "stdout",
     "output_type": "stream",
     "text": [
      "Validation ...\n",
      "Loss is 0.744\n",
      "Elementary quality score is 71.794 / 100\n",
      "Sequence quality score is 9.091 / 100\n",
      "EPOCH 105 takes 0.047 minutes\n",
      "===== EPOCH 106 =====\n",
      "Training ...\n"
     ]
    },
    {
     "name": "stderr",
     "output_type": "stream",
     "text": [
      "100%|██████████| 19/19 [00:02<00:00,  6.61it/s, property_loss=0.01, vae_loss=0.51]\n"
     ]
    },
    {
     "name": "stdout",
     "output_type": "stream",
     "text": [
      "Validation ...\n",
      "Loss is 0.739\n",
      "Elementary quality score is 72.159 / 100\n",
      "Sequence quality score is 14.286 / 100\n",
      "EPOCH 106 takes 0.049 minutes\n",
      "===== EPOCH 107 =====\n",
      "Training ...\n"
     ]
    },
    {
     "name": "stderr",
     "output_type": "stream",
     "text": [
      "100%|██████████| 19/19 [00:02<00:00,  6.58it/s, property_loss=0.02, vae_loss=0.51]\n"
     ]
    },
    {
     "name": "stdout",
     "output_type": "stream",
     "text": [
      "Validation ...\n",
      "Loss is 0.733\n",
      "Elementary quality score is 71.956 / 100\n",
      "Sequence quality score is 12.987 / 100\n",
      "EPOCH 107 takes 0.049 minutes\n",
      "===== EPOCH 108 =====\n",
      "Training ...\n"
     ]
    },
    {
     "name": "stderr",
     "output_type": "stream",
     "text": [
      "100%|██████████| 19/19 [00:02<00:00,  6.94it/s, property_loss=0.01, vae_loss=0.51]\n"
     ]
    },
    {
     "name": "stdout",
     "output_type": "stream",
     "text": [
      "Validation ...\n",
      "Loss is 0.731\n",
      "Elementary quality score is 72.443 / 100\n",
      "Sequence quality score is 11.688 / 100\n",
      "EPOCH 108 takes 0.046 minutes\n",
      "===== EPOCH 109 =====\n",
      "Training ...\n"
     ]
    },
    {
     "name": "stderr",
     "output_type": "stream",
     "text": [
      "100%|██████████| 19/19 [00:02<00:00,  6.36it/s, property_loss=0.01, vae_loss=0.51]\n"
     ]
    },
    {
     "name": "stdout",
     "output_type": "stream",
     "text": [
      "Validation ...\n",
      "Loss is 0.732\n",
      "Elementary quality score is 72.626 / 100\n",
      "Sequence quality score is 11.688 / 100\n",
      "EPOCH 109 takes 0.050 minutes\n",
      "===== EPOCH 110 =====\n",
      "Training ...\n"
     ]
    },
    {
     "name": "stderr",
     "output_type": "stream",
     "text": [
      "100%|██████████| 19/19 [00:03<00:00,  6.19it/s, property_loss=0.02, vae_loss=0.50]\n"
     ]
    },
    {
     "name": "stdout",
     "output_type": "stream",
     "text": [
      "Validation ...\n",
      "Loss is 0.739\n",
      "Elementary quality score is 72.463 / 100\n",
      "Sequence quality score is 11.039 / 100\n",
      "EPOCH 110 takes 0.052 minutes\n",
      "===== EPOCH 111 =====\n",
      "Training ...\n"
     ]
    },
    {
     "name": "stderr",
     "output_type": "stream",
     "text": [
      "100%|██████████| 19/19 [00:03<00:00,  6.22it/s, property_loss=0.01, vae_loss=0.51]\n"
     ]
    },
    {
     "name": "stdout",
     "output_type": "stream",
     "text": [
      "Validation ...\n",
      "Loss is 0.737\n",
      "Elementary quality score is 72.342 / 100\n",
      "Sequence quality score is 13.636 / 100\n",
      "EPOCH 111 takes 0.052 minutes\n",
      "===== EPOCH 112 =====\n",
      "Training ...\n"
     ]
    },
    {
     "name": "stderr",
     "output_type": "stream",
     "text": [
      "100%|██████████| 19/19 [00:02<00:00,  6.48it/s, property_loss=0.01, vae_loss=0.51]\n"
     ]
    },
    {
     "name": "stdout",
     "output_type": "stream",
     "text": [
      "Validation ...\n",
      "Loss is 0.732\n",
      "Elementary quality score is 72.200 / 100\n",
      "Sequence quality score is 7.792 / 100\n",
      "EPOCH 112 takes 0.050 minutes\n",
      "===== EPOCH 113 =====\n",
      "Training ...\n"
     ]
    },
    {
     "name": "stderr",
     "output_type": "stream",
     "text": [
      "100%|██████████| 19/19 [00:03<00:00,  6.31it/s, property_loss=0.01, vae_loss=0.50]\n"
     ]
    },
    {
     "name": "stdout",
     "output_type": "stream",
     "text": [
      "Validation ...\n",
      "Loss is 0.721\n",
      "Elementary quality score is 72.484 / 100\n",
      "Sequence quality score is 13.636 / 100\n",
      "EPOCH 113 takes 0.051 minutes\n",
      "===== EPOCH 114 =====\n",
      "Training ...\n"
     ]
    },
    {
     "name": "stderr",
     "output_type": "stream",
     "text": [
      "100%|██████████| 19/19 [00:02<00:00,  6.46it/s, property_loss=0.01, vae_loss=0.50]\n"
     ]
    },
    {
     "name": "stdout",
     "output_type": "stream",
     "text": [
      "Validation ...\n",
      "Loss is 0.724\n",
      "Elementary quality score is 72.382 / 100\n",
      "Sequence quality score is 10.390 / 100\n",
      "EPOCH 114 takes 0.050 minutes\n",
      "===== EPOCH 115 =====\n",
      "Training ...\n"
     ]
    },
    {
     "name": "stderr",
     "output_type": "stream",
     "text": [
      "100%|██████████| 19/19 [00:02<00:00,  6.66it/s, property_loss=0.01, vae_loss=0.51]\n"
     ]
    },
    {
     "name": "stdout",
     "output_type": "stream",
     "text": [
      "Validation ...\n",
      "Loss is 0.737\n",
      "Elementary quality score is 72.240 / 100\n",
      "Sequence quality score is 14.935 / 100\n",
      "EPOCH 115 takes 0.048 minutes\n",
      "===== EPOCH 116 =====\n",
      "Training ...\n"
     ]
    },
    {
     "name": "stderr",
     "output_type": "stream",
     "text": [
      "100%|██████████| 19/19 [00:03<00:00,  6.23it/s, property_loss=0.01, vae_loss=0.50]\n"
     ]
    },
    {
     "name": "stdout",
     "output_type": "stream",
     "text": [
      "Validation ...\n",
      "Loss is 0.732\n",
      "Elementary quality score is 72.524 / 100\n",
      "Sequence quality score is 9.740 / 100\n",
      "EPOCH 116 takes 0.051 minutes\n",
      "===== EPOCH 117 =====\n",
      "Training ...\n"
     ]
    },
    {
     "name": "stderr",
     "output_type": "stream",
     "text": [
      "100%|██████████| 19/19 [00:02<00:00,  6.53it/s, property_loss=0.01, vae_loss=0.51]\n"
     ]
    },
    {
     "name": "stdout",
     "output_type": "stream",
     "text": [
      "Validation ...\n",
      "Loss is 0.739\n",
      "Elementary quality score is 72.504 / 100\n",
      "Sequence quality score is 8.442 / 100\n",
      "EPOCH 117 takes 0.049 minutes\n",
      "===== EPOCH 118 =====\n",
      "Training ...\n"
     ]
    },
    {
     "name": "stderr",
     "output_type": "stream",
     "text": [
      "100%|██████████| 19/19 [00:02<00:00,  6.82it/s, property_loss=0.01, vae_loss=0.51]\n"
     ]
    },
    {
     "name": "stdout",
     "output_type": "stream",
     "text": [
      "Validation ...\n",
      "Loss is 0.732\n",
      "Elementary quality score is 72.748 / 100\n",
      "Sequence quality score is 11.688 / 100\n",
      "EPOCH 118 takes 0.047 minutes\n",
      "===== EPOCH 119 =====\n",
      "Training ...\n"
     ]
    },
    {
     "name": "stderr",
     "output_type": "stream",
     "text": [
      "100%|██████████| 19/19 [00:02<00:00,  6.66it/s, property_loss=0.01, vae_loss=0.49]\n"
     ]
    },
    {
     "name": "stdout",
     "output_type": "stream",
     "text": [
      "Validation ...\n",
      "Loss is 0.743\n",
      "Elementary quality score is 72.565 / 100\n",
      "Sequence quality score is 7.143 / 100\n",
      "EPOCH 119 takes 0.048 minutes\n",
      "===== EPOCH 120 =====\n",
      "Training ...\n"
     ]
    },
    {
     "name": "stderr",
     "output_type": "stream",
     "text": [
      "100%|██████████| 19/19 [00:02<00:00,  6.35it/s, property_loss=0.01, vae_loss=0.51]\n"
     ]
    },
    {
     "name": "stdout",
     "output_type": "stream",
     "text": [
      "Validation ...\n",
      "Loss is 0.749\n",
      "Elementary quality score is 72.240 / 100\n",
      "Sequence quality score is 12.338 / 100\n",
      "EPOCH 120 takes 0.050 minutes\n",
      "===== EPOCH 121 =====\n",
      "Training ...\n"
     ]
    },
    {
     "name": "stderr",
     "output_type": "stream",
     "text": [
      "100%|██████████| 19/19 [00:03<00:00,  6.16it/s, property_loss=0.01, vae_loss=0.50]\n"
     ]
    },
    {
     "name": "stdout",
     "output_type": "stream",
     "text": [
      "Validation ...\n",
      "Loss is 0.735\n",
      "Elementary quality score is 72.545 / 100\n",
      "Sequence quality score is 14.286 / 100\n",
      "EPOCH 121 takes 0.052 minutes\n",
      "===== EPOCH 122 =====\n",
      "Training ...\n"
     ]
    },
    {
     "name": "stderr",
     "output_type": "stream",
     "text": [
      "100%|██████████| 19/19 [00:02<00:00,  6.55it/s, property_loss=0.02, vae_loss=0.50]\n"
     ]
    },
    {
     "name": "stdout",
     "output_type": "stream",
     "text": [
      "Validation ...\n",
      "Loss is 0.730\n",
      "Elementary quality score is 72.342 / 100\n",
      "Sequence quality score is 12.987 / 100\n",
      "EPOCH 122 takes 0.049 minutes\n",
      "===== EPOCH 123 =====\n",
      "Training ...\n"
     ]
    },
    {
     "name": "stderr",
     "output_type": "stream",
     "text": [
      "100%|██████████| 19/19 [00:02<00:00,  6.45it/s, property_loss=0.02, vae_loss=0.50]\n"
     ]
    },
    {
     "name": "stdout",
     "output_type": "stream",
     "text": [
      "Validation ...\n",
      "Loss is 0.740\n",
      "Elementary quality score is 72.321 / 100\n",
      "Sequence quality score is 15.584 / 100\n",
      "EPOCH 123 takes 0.050 minutes\n",
      "===== EPOCH 124 =====\n",
      "Training ...\n"
     ]
    },
    {
     "name": "stderr",
     "output_type": "stream",
     "text": [
      "100%|██████████| 19/19 [00:02<00:00,  6.66it/s, property_loss=0.01, vae_loss=0.49]\n"
     ]
    },
    {
     "name": "stdout",
     "output_type": "stream",
     "text": [
      "Validation ...\n",
      "Loss is 0.743\n",
      "Elementary quality score is 72.646 / 100\n",
      "Sequence quality score is 11.688 / 100\n",
      "EPOCH 124 takes 0.048 minutes\n",
      "===== EPOCH 125 =====\n",
      "Training ...\n"
     ]
    },
    {
     "name": "stderr",
     "output_type": "stream",
     "text": [
      "100%|██████████| 19/19 [00:02<00:00,  6.49it/s, property_loss=0.01, vae_loss=0.50]\n"
     ]
    },
    {
     "name": "stdout",
     "output_type": "stream",
     "text": [
      "Validation ...\n",
      "Loss is 0.741\n",
      "Elementary quality score is 72.423 / 100\n",
      "Sequence quality score is 11.688 / 100\n",
      "EPOCH 125 takes 0.050 minutes\n",
      "===== EPOCH 126 =====\n",
      "Training ...\n"
     ]
    },
    {
     "name": "stderr",
     "output_type": "stream",
     "text": [
      "100%|██████████| 19/19 [00:02<00:00,  6.95it/s, property_loss=0.01, vae_loss=0.50]\n"
     ]
    },
    {
     "name": "stdout",
     "output_type": "stream",
     "text": [
      "Validation ...\n",
      "Loss is 0.739\n",
      "Elementary quality score is 72.463 / 100\n",
      "Sequence quality score is 8.442 / 100\n",
      "EPOCH 126 takes 0.046 minutes\n",
      "===== EPOCH 127 =====\n",
      "Training ...\n"
     ]
    },
    {
     "name": "stderr",
     "output_type": "stream",
     "text": [
      "100%|██████████| 19/19 [00:02<00:00,  7.23it/s, property_loss=0.01, vae_loss=0.50]\n"
     ]
    },
    {
     "name": "stdout",
     "output_type": "stream",
     "text": [
      "Validation ...\n",
      "Loss is 0.737\n",
      "Elementary quality score is 72.585 / 100\n",
      "Sequence quality score is 12.987 / 100\n",
      "EPOCH 127 takes 0.044 minutes\n",
      "===== EPOCH 128 =====\n",
      "Training ...\n"
     ]
    },
    {
     "name": "stderr",
     "output_type": "stream",
     "text": [
      "100%|██████████| 19/19 [00:02<00:00,  6.82it/s, property_loss=0.01, vae_loss=0.50]\n"
     ]
    },
    {
     "name": "stdout",
     "output_type": "stream",
     "text": [
      "Validation ...\n",
      "Loss is 0.741\n",
      "Elementary quality score is 72.119 / 100\n",
      "Sequence quality score is 11.688 / 100\n",
      "EPOCH 128 takes 0.047 minutes\n",
      "===== EPOCH 129 =====\n",
      "Training ...\n"
     ]
    },
    {
     "name": "stderr",
     "output_type": "stream",
     "text": [
      "100%|██████████| 19/19 [00:02<00:00,  6.87it/s, property_loss=0.01, vae_loss=0.50]\n"
     ]
    },
    {
     "name": "stdout",
     "output_type": "stream",
     "text": [
      "Validation ...\n",
      "Loss is 0.739\n",
      "Elementary quality score is 72.463 / 100\n",
      "Sequence quality score is 14.286 / 100\n",
      "EPOCH 129 takes 0.046 minutes\n",
      "===== EPOCH 130 =====\n",
      "Training ...\n"
     ]
    },
    {
     "name": "stderr",
     "output_type": "stream",
     "text": [
      "100%|██████████| 19/19 [00:02<00:00,  6.51it/s, property_loss=0.00, vae_loss=0.50]\n"
     ]
    },
    {
     "name": "stdout",
     "output_type": "stream",
     "text": [
      "Validation ...\n",
      "Loss is 0.747\n",
      "Elementary quality score is 72.382 / 100\n",
      "Sequence quality score is 7.143 / 100\n",
      "EPOCH 130 takes 0.049 minutes\n",
      "===== EPOCH 131 =====\n",
      "Training ...\n"
     ]
    },
    {
     "name": "stderr",
     "output_type": "stream",
     "text": [
      "100%|██████████| 19/19 [00:02<00:00,  6.92it/s, property_loss=0.01, vae_loss=0.49]\n"
     ]
    },
    {
     "name": "stdout",
     "output_type": "stream",
     "text": [
      "Validation ...\n",
      "Loss is 0.760\n",
      "Elementary quality score is 72.098 / 100\n",
      "Sequence quality score is 9.740 / 100\n",
      "EPOCH 131 takes 0.046 minutes\n",
      "===== EPOCH 132 =====\n",
      "Training ...\n"
     ]
    },
    {
     "name": "stderr",
     "output_type": "stream",
     "text": [
      "100%|██████████| 19/19 [00:02<00:00,  6.45it/s, property_loss=0.01, vae_loss=0.50]\n"
     ]
    },
    {
     "name": "stdout",
     "output_type": "stream",
     "text": [
      "Validation ...\n",
      "Loss is 0.748\n",
      "Elementary quality score is 72.362 / 100\n",
      "Sequence quality score is 14.286 / 100\n",
      "EPOCH 132 takes 0.050 minutes\n",
      "===== EPOCH 133 =====\n",
      "Training ...\n"
     ]
    },
    {
     "name": "stderr",
     "output_type": "stream",
     "text": [
      "100%|██████████| 19/19 [00:02<00:00,  6.98it/s, property_loss=0.01, vae_loss=0.49]\n"
     ]
    },
    {
     "name": "stdout",
     "output_type": "stream",
     "text": [
      "Validation ...\n",
      "Loss is 0.737\n",
      "Elementary quality score is 72.484 / 100\n",
      "Sequence quality score is 9.740 / 100\n",
      "EPOCH 133 takes 0.046 minutes\n",
      "===== EPOCH 134 =====\n",
      "Training ...\n"
     ]
    },
    {
     "name": "stderr",
     "output_type": "stream",
     "text": [
      "100%|██████████| 19/19 [00:02<00:00,  6.48it/s, property_loss=0.01, vae_loss=0.50]\n"
     ]
    },
    {
     "name": "stdout",
     "output_type": "stream",
     "text": [
      "Validation ...\n",
      "Loss is 0.742\n",
      "Elementary quality score is 72.524 / 100\n",
      "Sequence quality score is 11.688 / 100\n",
      "EPOCH 134 takes 0.049 minutes\n",
      "===== EPOCH 135 =====\n",
      "Training ...\n"
     ]
    },
    {
     "name": "stderr",
     "output_type": "stream",
     "text": [
      "100%|██████████| 19/19 [00:02<00:00,  6.67it/s, property_loss=0.01, vae_loss=0.51]\n"
     ]
    },
    {
     "name": "stdout",
     "output_type": "stream",
     "text": [
      "Validation ...\n",
      "Loss is 0.748\n",
      "Elementary quality score is 72.524 / 100\n",
      "Sequence quality score is 12.987 / 100\n",
      "EPOCH 135 takes 0.048 minutes\n",
      "===== EPOCH 136 =====\n",
      "Training ...\n"
     ]
    },
    {
     "name": "stderr",
     "output_type": "stream",
     "text": [
      "100%|██████████| 19/19 [00:03<00:00,  6.33it/s, property_loss=0.01, vae_loss=0.50]\n"
     ]
    },
    {
     "name": "stdout",
     "output_type": "stream",
     "text": [
      "Validation ...\n",
      "Loss is 0.750\n",
      "Elementary quality score is 72.098 / 100\n",
      "Sequence quality score is 6.494 / 100\n",
      "EPOCH 136 takes 0.051 minutes\n",
      "===== EPOCH 137 =====\n",
      "Training ...\n"
     ]
    },
    {
     "name": "stderr",
     "output_type": "stream",
     "text": [
      "100%|██████████| 19/19 [00:02<00:00,  6.64it/s, property_loss=0.01, vae_loss=0.50]\n"
     ]
    },
    {
     "name": "stdout",
     "output_type": "stream",
     "text": [
      "Validation ...\n",
      "Loss is 0.745\n",
      "Elementary quality score is 72.463 / 100\n",
      "Sequence quality score is 8.442 / 100\n",
      "EPOCH 137 takes 0.048 minutes\n",
      "===== EPOCH 138 =====\n",
      "Training ...\n"
     ]
    },
    {
     "name": "stderr",
     "output_type": "stream",
     "text": [
      "100%|██████████| 19/19 [00:02<00:00,  6.69it/s, property_loss=0.01, vae_loss=0.50]\n"
     ]
    },
    {
     "name": "stdout",
     "output_type": "stream",
     "text": [
      "Validation ...\n",
      "Loss is 0.738\n",
      "Elementary quality score is 72.281 / 100\n",
      "Sequence quality score is 11.039 / 100\n",
      "EPOCH 138 takes 0.048 minutes\n",
      "===== EPOCH 139 =====\n",
      "Training ...\n"
     ]
    },
    {
     "name": "stderr",
     "output_type": "stream",
     "text": [
      "100%|██████████| 19/19 [00:03<00:00,  6.30it/s, property_loss=0.01, vae_loss=0.49]\n"
     ]
    },
    {
     "name": "stdout",
     "output_type": "stream",
     "text": [
      "Validation ...\n",
      "Loss is 0.733\n",
      "Elementary quality score is 72.443 / 100\n",
      "Sequence quality score is 9.740 / 100\n",
      "EPOCH 139 takes 0.051 minutes\n",
      "===== EPOCH 140 =====\n",
      "Training ...\n"
     ]
    },
    {
     "name": "stderr",
     "output_type": "stream",
     "text": [
      "100%|██████████| 19/19 [00:02<00:00,  6.68it/s, property_loss=0.01, vae_loss=0.50]\n"
     ]
    },
    {
     "name": "stdout",
     "output_type": "stream",
     "text": [
      "Validation ...\n",
      "Loss is 0.741\n",
      "Elementary quality score is 72.098 / 100\n",
      "Sequence quality score is 14.935 / 100\n",
      "EPOCH 140 takes 0.048 minutes\n",
      "===== EPOCH 141 =====\n",
      "Training ...\n"
     ]
    },
    {
     "name": "stderr",
     "output_type": "stream",
     "text": [
      "100%|██████████| 19/19 [00:02<00:00,  6.42it/s, property_loss=0.01, vae_loss=0.49]\n"
     ]
    },
    {
     "name": "stdout",
     "output_type": "stream",
     "text": [
      "Validation ...\n",
      "Loss is 0.747\n",
      "Elementary quality score is 72.545 / 100\n",
      "Sequence quality score is 18.182 / 100\n",
      "EPOCH 141 takes 0.050 minutes\n",
      "===== EPOCH 142 =====\n",
      "Training ...\n"
     ]
    },
    {
     "name": "stderr",
     "output_type": "stream",
     "text": [
      "100%|██████████| 19/19 [00:02<00:00,  6.66it/s, property_loss=0.01, vae_loss=0.49]\n"
     ]
    },
    {
     "name": "stdout",
     "output_type": "stream",
     "text": [
      "Validation ...\n",
      "Loss is 0.755\n",
      "Elementary quality score is 71.936 / 100\n",
      "Sequence quality score is 14.935 / 100\n",
      "EPOCH 142 takes 0.048 minutes\n",
      "===== EPOCH 143 =====\n",
      "Training ...\n"
     ]
    },
    {
     "name": "stderr",
     "output_type": "stream",
     "text": [
      "100%|██████████| 19/19 [00:02<00:00,  6.72it/s, property_loss=0.01, vae_loss=0.49]\n"
     ]
    },
    {
     "name": "stdout",
     "output_type": "stream",
     "text": [
      "Validation ...\n",
      "Loss is 0.761\n",
      "Elementary quality score is 71.997 / 100\n",
      "Sequence quality score is 11.039 / 100\n",
      "EPOCH 143 takes 0.048 minutes\n",
      "===== EPOCH 144 =====\n",
      "Training ...\n"
     ]
    },
    {
     "name": "stderr",
     "output_type": "stream",
     "text": [
      "100%|██████████| 19/19 [00:02<00:00,  6.72it/s, property_loss=0.01, vae_loss=0.48]\n"
     ]
    },
    {
     "name": "stdout",
     "output_type": "stream",
     "text": [
      "Validation ...\n",
      "Loss is 0.762\n",
      "Elementary quality score is 72.565 / 100\n",
      "Sequence quality score is 12.338 / 100\n",
      "EPOCH 144 takes 0.048 minutes\n",
      "===== EPOCH 145 =====\n",
      "Training ...\n"
     ]
    },
    {
     "name": "stderr",
     "output_type": "stream",
     "text": [
      "100%|██████████| 19/19 [00:02<00:00,  7.04it/s, property_loss=0.00, vae_loss=0.50]\n"
     ]
    },
    {
     "name": "stdout",
     "output_type": "stream",
     "text": [
      "Validation ...\n",
      "Loss is 0.754\n",
      "Elementary quality score is 72.342 / 100\n",
      "Sequence quality score is 7.792 / 100\n",
      "EPOCH 145 takes 0.046 minutes\n",
      "===== EPOCH 146 =====\n",
      "Training ...\n"
     ]
    },
    {
     "name": "stderr",
     "output_type": "stream",
     "text": [
      "100%|██████████| 19/19 [00:02<00:00,  7.07it/s, property_loss=0.00, vae_loss=0.49]\n"
     ]
    },
    {
     "name": "stdout",
     "output_type": "stream",
     "text": [
      "Validation ...\n",
      "Loss is 0.754\n",
      "Elementary quality score is 72.159 / 100\n",
      "Sequence quality score is 11.039 / 100\n",
      "EPOCH 146 takes 0.045 minutes\n",
      "===== EPOCH 147 =====\n",
      "Training ...\n"
     ]
    },
    {
     "name": "stderr",
     "output_type": "stream",
     "text": [
      "100%|██████████| 19/19 [00:02<00:00,  6.87it/s, property_loss=0.02, vae_loss=0.49]\n"
     ]
    },
    {
     "name": "stdout",
     "output_type": "stream",
     "text": [
      "Validation ...\n",
      "Loss is 0.745\n",
      "Elementary quality score is 72.545 / 100\n",
      "Sequence quality score is 10.390 / 100\n",
      "EPOCH 147 takes 0.047 minutes\n",
      "===== EPOCH 148 =====\n",
      "Training ...\n"
     ]
    },
    {
     "name": "stderr",
     "output_type": "stream",
     "text": [
      "100%|██████████| 19/19 [00:02<00:00,  6.52it/s, property_loss=0.02, vae_loss=0.49]\n"
     ]
    },
    {
     "name": "stdout",
     "output_type": "stream",
     "text": [
      "Validation ...\n",
      "Loss is 0.751\n",
      "Elementary quality score is 72.301 / 100\n",
      "Sequence quality score is 9.740 / 100\n",
      "EPOCH 148 takes 0.049 minutes\n",
      "===== EPOCH 149 =====\n",
      "Training ...\n"
     ]
    },
    {
     "name": "stderr",
     "output_type": "stream",
     "text": [
      "100%|██████████| 19/19 [00:02<00:00,  6.60it/s, property_loss=0.01, vae_loss=0.48]\n"
     ]
    },
    {
     "name": "stdout",
     "output_type": "stream",
     "text": [
      "Validation ...\n",
      "Loss is 0.755\n",
      "Elementary quality score is 72.484 / 100\n",
      "Sequence quality score is 15.584 / 100\n",
      "EPOCH 149 takes 0.049 minutes\n",
      "===== EPOCH 150 =====\n",
      "Training ...\n"
     ]
    },
    {
     "name": "stderr",
     "output_type": "stream",
     "text": [
      "100%|██████████| 19/19 [00:02<00:00,  6.82it/s, property_loss=0.01, vae_loss=0.48]\n"
     ]
    },
    {
     "name": "stdout",
     "output_type": "stream",
     "text": [
      "Validation ...\n",
      "Loss is 0.761\n",
      "Elementary quality score is 71.834 / 100\n",
      "Sequence quality score is 9.091 / 100\n",
      "EPOCH 150 takes 0.047 minutes\n",
      "===== EPOCH 151 =====\n",
      "Training ...\n"
     ]
    },
    {
     "name": "stderr",
     "output_type": "stream",
     "text": [
      "100%|██████████| 19/19 [00:03<00:00,  6.32it/s, property_loss=0.01, vae_loss=0.49]\n"
     ]
    },
    {
     "name": "stdout",
     "output_type": "stream",
     "text": [
      "Validation ...\n",
      "Loss is 0.753\n",
      "Elementary quality score is 72.687 / 100\n",
      "Sequence quality score is 14.935 / 100\n",
      "EPOCH 151 takes 0.051 minutes\n",
      "===== EPOCH 152 =====\n",
      "Training ...\n"
     ]
    },
    {
     "name": "stderr",
     "output_type": "stream",
     "text": [
      "100%|██████████| 19/19 [00:02<00:00,  6.43it/s, property_loss=0.01, vae_loss=0.49]\n"
     ]
    },
    {
     "name": "stdout",
     "output_type": "stream",
     "text": [
      "Validation ...\n",
      "Loss is 0.743\n",
      "Elementary quality score is 72.443 / 100\n",
      "Sequence quality score is 11.688 / 100\n",
      "EPOCH 152 takes 0.050 minutes\n",
      "===== EPOCH 153 =====\n",
      "Training ...\n"
     ]
    },
    {
     "name": "stderr",
     "output_type": "stream",
     "text": [
      "100%|██████████| 19/19 [00:02<00:00,  6.72it/s, property_loss=0.01, vae_loss=0.48]\n"
     ]
    },
    {
     "name": "stdout",
     "output_type": "stream",
     "text": [
      "Validation ...\n",
      "Loss is 0.761\n",
      "Elementary quality score is 72.362 / 100\n",
      "Sequence quality score is 15.584 / 100\n",
      "EPOCH 153 takes 0.048 minutes\n",
      "===== EPOCH 154 =====\n",
      "Training ...\n"
     ]
    },
    {
     "name": "stderr",
     "output_type": "stream",
     "text": [
      "100%|██████████| 19/19 [00:02<00:00,  6.45it/s, property_loss=0.01, vae_loss=0.48]\n"
     ]
    },
    {
     "name": "stdout",
     "output_type": "stream",
     "text": [
      "Validation ...\n",
      "Loss is 0.761\n",
      "Elementary quality score is 72.443 / 100\n",
      "Sequence quality score is 12.338 / 100\n",
      "EPOCH 154 takes 0.050 minutes\n",
      "===== EPOCH 155 =====\n",
      "Training ...\n"
     ]
    },
    {
     "name": "stderr",
     "output_type": "stream",
     "text": [
      "100%|██████████| 19/19 [00:02<00:00,  6.79it/s, property_loss=0.01, vae_loss=0.49]\n"
     ]
    },
    {
     "name": "stdout",
     "output_type": "stream",
     "text": [
      "Validation ...\n",
      "Loss is 0.771\n",
      "Elementary quality score is 72.078 / 100\n",
      "Sequence quality score is 12.987 / 100\n",
      "EPOCH 155 takes 0.047 minutes\n",
      "===== EPOCH 156 =====\n",
      "Training ...\n"
     ]
    },
    {
     "name": "stderr",
     "output_type": "stream",
     "text": [
      "100%|██████████| 19/19 [00:03<00:00,  6.33it/s, property_loss=0.01, vae_loss=0.48]\n"
     ]
    },
    {
     "name": "stdout",
     "output_type": "stream",
     "text": [
      "Validation ...\n",
      "Loss is 0.755\n",
      "Elementary quality score is 72.179 / 100\n",
      "Sequence quality score is 11.688 / 100\n",
      "EPOCH 156 takes 0.051 minutes\n",
      "===== EPOCH 157 =====\n",
      "Training ...\n"
     ]
    },
    {
     "name": "stderr",
     "output_type": "stream",
     "text": [
      "100%|██████████| 19/19 [00:02<00:00,  6.53it/s, property_loss=0.02, vae_loss=0.48]\n"
     ]
    },
    {
     "name": "stdout",
     "output_type": "stream",
     "text": [
      "Validation ...\n",
      "Loss is 0.749\n",
      "Elementary quality score is 72.058 / 100\n",
      "Sequence quality score is 11.039 / 100\n",
      "EPOCH 157 takes 0.049 minutes\n",
      "===== EPOCH 158 =====\n",
      "Training ...\n"
     ]
    },
    {
     "name": "stderr",
     "output_type": "stream",
     "text": [
      "100%|██████████| 19/19 [00:02<00:00,  6.45it/s, property_loss=0.01, vae_loss=0.49]\n"
     ]
    },
    {
     "name": "stdout",
     "output_type": "stream",
     "text": [
      "Validation ...\n",
      "Loss is 0.748\n",
      "Elementary quality score is 72.119 / 100\n",
      "Sequence quality score is 12.338 / 100\n",
      "EPOCH 158 takes 0.050 minutes\n",
      "===== EPOCH 159 =====\n",
      "Training ...\n"
     ]
    },
    {
     "name": "stderr",
     "output_type": "stream",
     "text": [
      "100%|██████████| 19/19 [00:02<00:00,  6.60it/s, property_loss=0.01, vae_loss=0.49]\n"
     ]
    },
    {
     "name": "stdout",
     "output_type": "stream",
     "text": [
      "Validation ...\n",
      "Loss is 0.760\n",
      "Elementary quality score is 72.058 / 100\n",
      "Sequence quality score is 13.636 / 100\n",
      "EPOCH 159 takes 0.049 minutes\n",
      "===== EPOCH 160 =====\n",
      "Training ...\n"
     ]
    },
    {
     "name": "stderr",
     "output_type": "stream",
     "text": [
      "100%|██████████| 19/19 [00:02<00:00,  7.05it/s, property_loss=0.01, vae_loss=0.48]\n"
     ]
    },
    {
     "name": "stdout",
     "output_type": "stream",
     "text": [
      "Validation ...\n",
      "Loss is 0.767\n",
      "Elementary quality score is 72.078 / 100\n",
      "Sequence quality score is 12.987 / 100\n",
      "EPOCH 160 takes 0.045 minutes\n",
      "===== EPOCH 161 =====\n",
      "Training ...\n"
     ]
    },
    {
     "name": "stderr",
     "output_type": "stream",
     "text": [
      "100%|██████████| 19/19 [00:02<00:00,  6.81it/s, property_loss=0.00, vae_loss=0.49]\n"
     ]
    },
    {
     "name": "stdout",
     "output_type": "stream",
     "text": [
      "Validation ...\n",
      "Loss is 0.763\n",
      "Elementary quality score is 72.200 / 100\n",
      "Sequence quality score is 12.338 / 100\n",
      "EPOCH 161 takes 0.047 minutes\n",
      "===== EPOCH 162 =====\n",
      "Training ...\n"
     ]
    },
    {
     "name": "stderr",
     "output_type": "stream",
     "text": [
      "100%|██████████| 19/19 [00:02<00:00,  6.91it/s, property_loss=0.00, vae_loss=0.50]\n"
     ]
    },
    {
     "name": "stdout",
     "output_type": "stream",
     "text": [
      "Validation ...\n",
      "Loss is 0.756\n",
      "Elementary quality score is 71.976 / 100\n",
      "Sequence quality score is 12.987 / 100\n",
      "EPOCH 162 takes 0.046 minutes\n",
      "===== EPOCH 163 =====\n",
      "Training ...\n"
     ]
    },
    {
     "name": "stderr",
     "output_type": "stream",
     "text": [
      "100%|██████████| 19/19 [00:03<00:00,  6.31it/s, property_loss=0.01, vae_loss=0.49]\n"
     ]
    },
    {
     "name": "stdout",
     "output_type": "stream",
     "text": [
      "Validation ...\n",
      "Loss is 0.758\n",
      "Elementary quality score is 71.774 / 100\n",
      "Sequence quality score is 10.390 / 100\n",
      "EPOCH 163 takes 0.051 minutes\n",
      "===== EPOCH 164 =====\n",
      "Training ...\n"
     ]
    },
    {
     "name": "stderr",
     "output_type": "stream",
     "text": [
      "100%|██████████| 19/19 [00:03<00:00,  6.20it/s, property_loss=0.01, vae_loss=0.50]\n"
     ]
    },
    {
     "name": "stdout",
     "output_type": "stream",
     "text": [
      "Validation ...\n",
      "Loss is 0.763\n",
      "Elementary quality score is 72.058 / 100\n",
      "Sequence quality score is 11.688 / 100\n",
      "EPOCH 164 takes 0.052 minutes\n",
      "===== EPOCH 165 =====\n",
      "Training ...\n"
     ]
    },
    {
     "name": "stderr",
     "output_type": "stream",
     "text": [
      "100%|██████████| 19/19 [00:02<00:00,  6.80it/s, property_loss=0.01, vae_loss=0.50]\n"
     ]
    },
    {
     "name": "stdout",
     "output_type": "stream",
     "text": [
      "Validation ...\n",
      "Loss is 0.763\n",
      "Elementary quality score is 72.200 / 100\n",
      "Sequence quality score is 11.688 / 100\n",
      "EPOCH 165 takes 0.047 minutes\n",
      "===== EPOCH 166 =====\n",
      "Training ...\n"
     ]
    },
    {
     "name": "stderr",
     "output_type": "stream",
     "text": [
      "100%|██████████| 19/19 [00:02<00:00,  6.94it/s, property_loss=0.01, vae_loss=0.49]\n"
     ]
    },
    {
     "name": "stdout",
     "output_type": "stream",
     "text": [
      "Validation ...\n",
      "Loss is 0.767\n",
      "Elementary quality score is 71.692 / 100\n",
      "Sequence quality score is 12.987 / 100\n",
      "EPOCH 166 takes 0.046 minutes\n",
      "===== EPOCH 167 =====\n",
      "Training ...\n"
     ]
    },
    {
     "name": "stderr",
     "output_type": "stream",
     "text": [
      "100%|██████████| 19/19 [00:02<00:00,  6.89it/s, property_loss=0.01, vae_loss=0.48]\n"
     ]
    },
    {
     "name": "stdout",
     "output_type": "stream",
     "text": [
      "Validation ...\n",
      "Loss is 0.764\n",
      "Elementary quality score is 72.504 / 100\n",
      "Sequence quality score is 12.338 / 100\n",
      "EPOCH 167 takes 0.046 minutes\n",
      "===== EPOCH 168 =====\n",
      "Training ...\n"
     ]
    },
    {
     "name": "stderr",
     "output_type": "stream",
     "text": [
      "100%|██████████| 19/19 [00:02<00:00,  6.56it/s, property_loss=0.01, vae_loss=0.48]\n"
     ]
    },
    {
     "name": "stdout",
     "output_type": "stream",
     "text": [
      "Validation ...\n",
      "Loss is 0.761\n",
      "Elementary quality score is 72.808 / 100\n",
      "Sequence quality score is 12.987 / 100\n",
      "EPOCH 168 takes 0.049 minutes\n",
      "===== EPOCH 169 =====\n",
      "Training ...\n"
     ]
    },
    {
     "name": "stderr",
     "output_type": "stream",
     "text": [
      "100%|██████████| 19/19 [00:02<00:00,  6.59it/s, property_loss=0.01, vae_loss=0.48]\n"
     ]
    },
    {
     "name": "stdout",
     "output_type": "stream",
     "text": [
      "Validation ...\n",
      "Loss is 0.770\n",
      "Elementary quality score is 72.342 / 100\n",
      "Sequence quality score is 12.338 / 100\n",
      "EPOCH 169 takes 0.049 minutes\n",
      "===== EPOCH 170 =====\n",
      "Training ...\n"
     ]
    },
    {
     "name": "stderr",
     "output_type": "stream",
     "text": [
      "100%|██████████| 19/19 [00:02<00:00,  6.83it/s, property_loss=0.00, vae_loss=0.48]\n"
     ]
    },
    {
     "name": "stdout",
     "output_type": "stream",
     "text": [
      "Validation ...\n",
      "Loss is 0.771\n",
      "Elementary quality score is 72.606 / 100\n",
      "Sequence quality score is 11.688 / 100\n",
      "EPOCH 170 takes 0.047 minutes\n",
      "===== EPOCH 171 =====\n",
      "Training ...\n"
     ]
    },
    {
     "name": "stderr",
     "output_type": "stream",
     "text": [
      "100%|██████████| 19/19 [00:02<00:00,  6.90it/s, property_loss=0.01, vae_loss=0.48]\n"
     ]
    },
    {
     "name": "stdout",
     "output_type": "stream",
     "text": [
      "Validation ...\n",
      "Loss is 0.755\n",
      "Elementary quality score is 72.585 / 100\n",
      "Sequence quality score is 15.584 / 100\n",
      "EPOCH 171 takes 0.046 minutes\n",
      "===== EPOCH 172 =====\n",
      "Training ...\n"
     ]
    },
    {
     "name": "stderr",
     "output_type": "stream",
     "text": [
      "100%|██████████| 19/19 [00:02<00:00,  7.09it/s, property_loss=0.01, vae_loss=0.47]\n"
     ]
    },
    {
     "name": "stdout",
     "output_type": "stream",
     "text": [
      "Validation ...\n",
      "Loss is 0.764\n",
      "Elementary quality score is 72.606 / 100\n",
      "Sequence quality score is 16.883 / 100\n",
      "EPOCH 172 takes 0.045 minutes\n",
      "===== EPOCH 173 =====\n",
      "Training ...\n"
     ]
    },
    {
     "name": "stderr",
     "output_type": "stream",
     "text": [
      "100%|██████████| 19/19 [00:02<00:00,  6.83it/s, property_loss=0.01, vae_loss=0.48]\n"
     ]
    },
    {
     "name": "stdout",
     "output_type": "stream",
     "text": [
      "Validation ...\n",
      "Loss is 0.761\n",
      "Elementary quality score is 72.808 / 100\n",
      "Sequence quality score is 14.935 / 100\n",
      "EPOCH 173 takes 0.047 minutes\n",
      "===== EPOCH 174 =====\n",
      "Training ...\n"
     ]
    },
    {
     "name": "stderr",
     "output_type": "stream",
     "text": [
      "100%|██████████| 19/19 [00:02<00:00,  6.83it/s, property_loss=0.01, vae_loss=0.48]\n"
     ]
    },
    {
     "name": "stdout",
     "output_type": "stream",
     "text": [
      "Validation ...\n",
      "Loss is 0.775\n",
      "Elementary quality score is 72.524 / 100\n",
      "Sequence quality score is 9.740 / 100\n",
      "EPOCH 174 takes 0.047 minutes\n",
      "===== EPOCH 175 =====\n",
      "Training ...\n"
     ]
    },
    {
     "name": "stderr",
     "output_type": "stream",
     "text": [
      "100%|██████████| 19/19 [00:02<00:00,  6.61it/s, property_loss=0.01, vae_loss=0.47]\n"
     ]
    },
    {
     "name": "stdout",
     "output_type": "stream",
     "text": [
      "Validation ...\n",
      "Loss is 0.773\n",
      "Elementary quality score is 72.220 / 100\n",
      "Sequence quality score is 8.442 / 100\n",
      "EPOCH 175 takes 0.048 minutes\n",
      "===== EPOCH 176 =====\n",
      "Training ...\n"
     ]
    },
    {
     "name": "stderr",
     "output_type": "stream",
     "text": [
      "100%|██████████| 19/19 [00:02<00:00,  6.83it/s, property_loss=0.01, vae_loss=0.49]\n"
     ]
    },
    {
     "name": "stdout",
     "output_type": "stream",
     "text": [
      "Validation ...\n",
      "Loss is 0.784\n",
      "Elementary quality score is 72.240 / 100\n",
      "Sequence quality score is 15.584 / 100\n",
      "EPOCH 176 takes 0.047 minutes\n",
      "===== EPOCH 177 =====\n",
      "Training ...\n"
     ]
    },
    {
     "name": "stderr",
     "output_type": "stream",
     "text": [
      "100%|██████████| 19/19 [00:02<00:00,  6.65it/s, property_loss=0.01, vae_loss=0.49]\n"
     ]
    },
    {
     "name": "stdout",
     "output_type": "stream",
     "text": [
      "Validation ...\n",
      "Loss is 0.779\n",
      "Elementary quality score is 72.179 / 100\n",
      "Sequence quality score is 9.740 / 100\n",
      "EPOCH 177 takes 0.048 minutes\n",
      "===== EPOCH 178 =====\n",
      "Training ...\n"
     ]
    },
    {
     "name": "stderr",
     "output_type": "stream",
     "text": [
      "100%|██████████| 19/19 [00:02<00:00,  7.04it/s, property_loss=0.01, vae_loss=0.48]\n"
     ]
    },
    {
     "name": "stdout",
     "output_type": "stream",
     "text": [
      "Validation ...\n",
      "Loss is 0.768\n",
      "Elementary quality score is 72.748 / 100\n",
      "Sequence quality score is 9.740 / 100\n",
      "EPOCH 178 takes 0.045 minutes\n",
      "===== EPOCH 179 =====\n",
      "Training ...\n"
     ]
    },
    {
     "name": "stderr",
     "output_type": "stream",
     "text": [
      "100%|██████████| 19/19 [00:02<00:00,  6.93it/s, property_loss=0.01, vae_loss=0.49]\n"
     ]
    },
    {
     "name": "stdout",
     "output_type": "stream",
     "text": [
      "Validation ...\n",
      "Loss is 0.765\n",
      "Elementary quality score is 72.342 / 100\n",
      "Sequence quality score is 11.039 / 100\n",
      "EPOCH 179 takes 0.046 minutes\n",
      "===== EPOCH 180 =====\n",
      "Training ...\n"
     ]
    },
    {
     "name": "stderr",
     "output_type": "stream",
     "text": [
      "100%|██████████| 19/19 [00:02<00:00,  6.60it/s, property_loss=0.01, vae_loss=0.48]\n"
     ]
    },
    {
     "name": "stdout",
     "output_type": "stream",
     "text": [
      "Validation ...\n",
      "Loss is 0.769\n",
      "Elementary quality score is 72.362 / 100\n",
      "Sequence quality score is 11.688 / 100\n",
      "EPOCH 180 takes 0.048 minutes\n",
      "===== EPOCH 181 =====\n",
      "Training ...\n"
     ]
    },
    {
     "name": "stderr",
     "output_type": "stream",
     "text": [
      "100%|██████████| 19/19 [00:02<00:00,  6.78it/s, property_loss=0.01, vae_loss=0.48]\n"
     ]
    },
    {
     "name": "stdout",
     "output_type": "stream",
     "text": [
      "Validation ...\n",
      "Loss is 0.791\n",
      "Elementary quality score is 72.159 / 100\n",
      "Sequence quality score is 8.442 / 100\n",
      "EPOCH 181 takes 0.047 minutes\n",
      "===== EPOCH 182 =====\n",
      "Training ...\n"
     ]
    },
    {
     "name": "stderr",
     "output_type": "stream",
     "text": [
      "100%|██████████| 19/19 [00:02<00:00,  6.50it/s, property_loss=0.00, vae_loss=0.48]\n"
     ]
    },
    {
     "name": "stdout",
     "output_type": "stream",
     "text": [
      "Validation ...\n",
      "Loss is 0.789\n",
      "Elementary quality score is 72.139 / 100\n",
      "Sequence quality score is 11.039 / 100\n",
      "EPOCH 182 takes 0.049 minutes\n",
      "===== EPOCH 183 =====\n",
      "Training ...\n"
     ]
    },
    {
     "name": "stderr",
     "output_type": "stream",
     "text": [
      "100%|██████████| 19/19 [00:02<00:00,  6.94it/s, property_loss=0.01, vae_loss=0.48]\n"
     ]
    },
    {
     "name": "stdout",
     "output_type": "stream",
     "text": [
      "Validation ...\n",
      "Loss is 0.784\n",
      "Elementary quality score is 72.504 / 100\n",
      "Sequence quality score is 12.987 / 100\n",
      "EPOCH 183 takes 0.046 minutes\n",
      "===== EPOCH 184 =====\n",
      "Training ...\n"
     ]
    },
    {
     "name": "stderr",
     "output_type": "stream",
     "text": [
      "100%|██████████| 19/19 [00:02<00:00,  7.10it/s, property_loss=0.01, vae_loss=0.49]\n"
     ]
    },
    {
     "name": "stdout",
     "output_type": "stream",
     "text": [
      "Validation ...\n",
      "Loss is 0.791\n",
      "Elementary quality score is 72.362 / 100\n",
      "Sequence quality score is 13.636 / 100\n",
      "EPOCH 184 takes 0.045 minutes\n",
      "===== EPOCH 185 =====\n",
      "Training ...\n"
     ]
    },
    {
     "name": "stderr",
     "output_type": "stream",
     "text": [
      "100%|██████████| 19/19 [00:02<00:00,  6.97it/s, property_loss=0.00, vae_loss=0.47]\n"
     ]
    },
    {
     "name": "stdout",
     "output_type": "stream",
     "text": [
      "Validation ...\n",
      "Loss is 0.780\n",
      "Elementary quality score is 72.524 / 100\n",
      "Sequence quality score is 12.987 / 100\n",
      "EPOCH 185 takes 0.046 minutes\n",
      "===== EPOCH 186 =====\n",
      "Training ...\n"
     ]
    },
    {
     "name": "stderr",
     "output_type": "stream",
     "text": [
      "100%|██████████| 19/19 [00:02<00:00,  6.90it/s, property_loss=0.01, vae_loss=0.47]\n"
     ]
    },
    {
     "name": "stdout",
     "output_type": "stream",
     "text": [
      "Validation ...\n",
      "Loss is 0.767\n",
      "Elementary quality score is 72.362 / 100\n",
      "Sequence quality score is 11.039 / 100\n",
      "EPOCH 186 takes 0.046 minutes\n",
      "===== EPOCH 187 =====\n",
      "Training ...\n"
     ]
    },
    {
     "name": "stderr",
     "output_type": "stream",
     "text": [
      "100%|██████████| 19/19 [00:02<00:00,  6.48it/s, property_loss=0.02, vae_loss=0.47]\n"
     ]
    },
    {
     "name": "stdout",
     "output_type": "stream",
     "text": [
      "Validation ...\n",
      "Loss is 0.763\n",
      "Elementary quality score is 72.687 / 100\n",
      "Sequence quality score is 11.688 / 100\n",
      "EPOCH 187 takes 0.049 minutes\n",
      "===== EPOCH 188 =====\n",
      "Training ...\n"
     ]
    },
    {
     "name": "stderr",
     "output_type": "stream",
     "text": [
      "100%|██████████| 19/19 [00:02<00:00,  7.05it/s, property_loss=0.01, vae_loss=0.48]\n"
     ]
    },
    {
     "name": "stdout",
     "output_type": "stream",
     "text": [
      "Validation ...\n",
      "Loss is 0.763\n",
      "Elementary quality score is 72.240 / 100\n",
      "Sequence quality score is 11.039 / 100\n",
      "EPOCH 188 takes 0.046 minutes\n",
      "===== EPOCH 189 =====\n",
      "Training ...\n"
     ]
    },
    {
     "name": "stderr",
     "output_type": "stream",
     "text": [
      "100%|██████████| 19/19 [00:02<00:00,  6.50it/s, property_loss=0.01, vae_loss=0.47]\n"
     ]
    },
    {
     "name": "stdout",
     "output_type": "stream",
     "text": [
      "Validation ...\n",
      "Loss is 0.775\n",
      "Elementary quality score is 71.895 / 100\n",
      "Sequence quality score is 12.987 / 100\n",
      "EPOCH 189 takes 0.049 minutes\n",
      "===== EPOCH 190 =====\n",
      "Training ...\n"
     ]
    },
    {
     "name": "stderr",
     "output_type": "stream",
     "text": [
      "100%|██████████| 19/19 [00:02<00:00,  6.81it/s, property_loss=0.00, vae_loss=0.47]\n"
     ]
    },
    {
     "name": "stdout",
     "output_type": "stream",
     "text": [
      "Validation ...\n",
      "Loss is 0.776\n",
      "Elementary quality score is 72.261 / 100\n",
      "Sequence quality score is 9.740 / 100\n",
      "EPOCH 190 takes 0.047 minutes\n",
      "===== EPOCH 191 =====\n",
      "Training ...\n"
     ]
    },
    {
     "name": "stderr",
     "output_type": "stream",
     "text": [
      "100%|██████████| 19/19 [00:02<00:00,  6.49it/s, property_loss=0.01, vae_loss=0.47]\n"
     ]
    },
    {
     "name": "stdout",
     "output_type": "stream",
     "text": [
      "Validation ...\n",
      "Loss is 0.785\n",
      "Elementary quality score is 72.159 / 100\n",
      "Sequence quality score is 7.143 / 100\n",
      "EPOCH 191 takes 0.049 minutes\n",
      "===== EPOCH 192 =====\n",
      "Training ...\n"
     ]
    },
    {
     "name": "stderr",
     "output_type": "stream",
     "text": [
      "100%|██████████| 19/19 [00:02<00:00,  6.55it/s, property_loss=0.01, vae_loss=0.47]\n"
     ]
    },
    {
     "name": "stdout",
     "output_type": "stream",
     "text": [
      "Validation ...\n",
      "Loss is 0.788\n",
      "Elementary quality score is 72.220 / 100\n",
      "Sequence quality score is 10.390 / 100\n",
      "EPOCH 192 takes 0.049 minutes\n",
      "===== EPOCH 193 =====\n",
      "Training ...\n"
     ]
    },
    {
     "name": "stderr",
     "output_type": "stream",
     "text": [
      "100%|██████████| 19/19 [00:02<00:00,  6.92it/s, property_loss=0.00, vae_loss=0.47]\n"
     ]
    },
    {
     "name": "stdout",
     "output_type": "stream",
     "text": [
      "Validation ...\n",
      "Loss is 0.779\n",
      "Elementary quality score is 72.504 / 100\n",
      "Sequence quality score is 12.338 / 100\n",
      "EPOCH 193 takes 0.046 minutes\n",
      "===== EPOCH 194 =====\n",
      "Training ...\n"
     ]
    },
    {
     "name": "stderr",
     "output_type": "stream",
     "text": [
      "100%|██████████| 19/19 [00:03<00:00,  6.29it/s, property_loss=0.00, vae_loss=0.48]\n"
     ]
    },
    {
     "name": "stdout",
     "output_type": "stream",
     "text": [
      "Validation ...\n",
      "Loss is 0.783\n",
      "Elementary quality score is 72.179 / 100\n",
      "Sequence quality score is 14.935 / 100\n",
      "EPOCH 194 takes 0.051 minutes\n",
      "===== EPOCH 195 =====\n",
      "Training ...\n"
     ]
    },
    {
     "name": "stderr",
     "output_type": "stream",
     "text": [
      "100%|██████████| 19/19 [00:02<00:00,  6.97it/s, property_loss=0.01, vae_loss=0.48]\n"
     ]
    },
    {
     "name": "stdout",
     "output_type": "stream",
     "text": [
      "Validation ...\n",
      "Loss is 0.774\n",
      "Elementary quality score is 72.930 / 100\n",
      "Sequence quality score is 15.584 / 100\n",
      "EPOCH 195 takes 0.046 minutes\n",
      "===== EPOCH 196 =====\n",
      "Training ...\n"
     ]
    },
    {
     "name": "stderr",
     "output_type": "stream",
     "text": [
      "100%|██████████| 19/19 [00:02<00:00,  6.99it/s, property_loss=0.01, vae_loss=0.47]\n"
     ]
    },
    {
     "name": "stdout",
     "output_type": "stream",
     "text": [
      "Validation ...\n",
      "Loss is 0.787\n",
      "Elementary quality score is 72.565 / 100\n",
      "Sequence quality score is 12.987 / 100\n",
      "EPOCH 196 takes 0.046 minutes\n",
      "===== EPOCH 197 =====\n",
      "Training ...\n"
     ]
    },
    {
     "name": "stderr",
     "output_type": "stream",
     "text": [
      "100%|██████████| 19/19 [00:02<00:00,  6.88it/s, property_loss=0.01, vae_loss=0.47]\n"
     ]
    },
    {
     "name": "stdout",
     "output_type": "stream",
     "text": [
      "Validation ...\n",
      "Loss is 0.799\n",
      "Elementary quality score is 71.936 / 100\n",
      "Sequence quality score is 11.688 / 100\n",
      "EPOCH 197 takes 0.046 minutes\n",
      "===== EPOCH 198 =====\n",
      "Training ...\n"
     ]
    },
    {
     "name": "stderr",
     "output_type": "stream",
     "text": [
      "100%|██████████| 19/19 [00:02<00:00,  6.84it/s, property_loss=0.00, vae_loss=0.47]\n"
     ]
    },
    {
     "name": "stdout",
     "output_type": "stream",
     "text": [
      "Validation ...\n",
      "Loss is 0.788\n",
      "Elementary quality score is 72.220 / 100\n",
      "Sequence quality score is 9.740 / 100\n",
      "EPOCH 198 takes 0.047 minutes\n",
      "===== EPOCH 199 =====\n",
      "Training ...\n"
     ]
    },
    {
     "name": "stderr",
     "output_type": "stream",
     "text": [
      "100%|██████████| 19/19 [00:02<00:00,  6.67it/s, property_loss=0.00, vae_loss=0.47]\n"
     ]
    },
    {
     "name": "stdout",
     "output_type": "stream",
     "text": [
      "Validation ...\n",
      "Loss is 0.796\n",
      "Elementary quality score is 71.814 / 100\n",
      "Sequence quality score is 14.935 / 100\n",
      "EPOCH 199 takes 0.048 minutes\n",
      "===== EPOCH 200 =====\n",
      "Training ...\n"
     ]
    },
    {
     "name": "stderr",
     "output_type": "stream",
     "text": [
      "100%|██████████| 19/19 [00:02<00:00,  7.06it/s, property_loss=0.00, vae_loss=0.46]\n"
     ]
    },
    {
     "name": "stdout",
     "output_type": "stream",
     "text": [
      "Validation ...\n",
      "Loss is 0.793\n",
      "Elementary quality score is 72.240 / 100\n",
      "Sequence quality score is 9.091 / 100\n",
      "EPOCH 200 takes 0.045 minutes\n",
      "===== EPOCH 201 =====\n",
      "Training ...\n"
     ]
    },
    {
     "name": "stderr",
     "output_type": "stream",
     "text": [
      "100%|██████████| 19/19 [00:02<00:00,  6.51it/s, property_loss=0.01, vae_loss=0.47]\n"
     ]
    },
    {
     "name": "stdout",
     "output_type": "stream",
     "text": [
      "Validation ...\n",
      "Loss is 0.792\n",
      "Elementary quality score is 72.098 / 100\n",
      "Sequence quality score is 12.338 / 100\n",
      "EPOCH 201 takes 0.049 minutes\n",
      "===== EPOCH 202 =====\n",
      "Training ...\n"
     ]
    },
    {
     "name": "stderr",
     "output_type": "stream",
     "text": [
      "100%|██████████| 19/19 [00:02<00:00,  6.51it/s, property_loss=0.01, vae_loss=0.47]\n"
     ]
    },
    {
     "name": "stdout",
     "output_type": "stream",
     "text": [
      "Validation ...\n",
      "Loss is 0.783\n",
      "Elementary quality score is 72.463 / 100\n",
      "Sequence quality score is 7.792 / 100\n",
      "EPOCH 202 takes 0.050 minutes\n",
      "===== EPOCH 203 =====\n",
      "Training ...\n"
     ]
    },
    {
     "name": "stderr",
     "output_type": "stream",
     "text": [
      "100%|██████████| 19/19 [00:02<00:00,  6.68it/s, property_loss=0.01, vae_loss=0.49]\n"
     ]
    },
    {
     "name": "stdout",
     "output_type": "stream",
     "text": [
      "Validation ...\n",
      "Loss is 0.784\n",
      "Elementary quality score is 72.301 / 100\n",
      "Sequence quality score is 12.987 / 100\n",
      "EPOCH 203 takes 0.048 minutes\n",
      "===== EPOCH 204 =====\n",
      "Training ...\n"
     ]
    },
    {
     "name": "stderr",
     "output_type": "stream",
     "text": [
      "100%|██████████| 19/19 [00:02<00:00,  6.43it/s, property_loss=0.01, vae_loss=0.48]\n"
     ]
    },
    {
     "name": "stdout",
     "output_type": "stream",
     "text": [
      "Validation ...\n",
      "Loss is 0.792\n",
      "Elementary quality score is 72.321 / 100\n",
      "Sequence quality score is 9.091 / 100\n",
      "EPOCH 204 takes 0.050 minutes\n",
      "===== EPOCH 205 =====\n",
      "Training ...\n"
     ]
    },
    {
     "name": "stderr",
     "output_type": "stream",
     "text": [
      "100%|██████████| 19/19 [00:02<00:00,  6.63it/s, property_loss=0.01, vae_loss=0.48]\n"
     ]
    },
    {
     "name": "stdout",
     "output_type": "stream",
     "text": [
      "Validation ...\n",
      "Loss is 0.786\n",
      "Elementary quality score is 72.524 / 100\n",
      "Sequence quality score is 12.987 / 100\n",
      "EPOCH 205 takes 0.048 minutes\n",
      "===== EPOCH 206 =====\n",
      "Training ...\n"
     ]
    },
    {
     "name": "stderr",
     "output_type": "stream",
     "text": [
      "100%|██████████| 19/19 [00:02<00:00,  6.88it/s, property_loss=0.01, vae_loss=0.47]\n"
     ]
    },
    {
     "name": "stdout",
     "output_type": "stream",
     "text": [
      "Validation ...\n",
      "Loss is 0.780\n",
      "Elementary quality score is 72.463 / 100\n",
      "Sequence quality score is 9.740 / 100\n",
      "EPOCH 206 takes 0.047 minutes\n",
      "===== EPOCH 207 =====\n",
      "Training ...\n"
     ]
    },
    {
     "name": "stderr",
     "output_type": "stream",
     "text": [
      "100%|██████████| 19/19 [00:02<00:00,  6.78it/s, property_loss=0.01, vae_loss=0.47]\n"
     ]
    },
    {
     "name": "stdout",
     "output_type": "stream",
     "text": [
      "Validation ...\n",
      "Loss is 0.780\n",
      "Elementary quality score is 72.707 / 100\n",
      "Sequence quality score is 12.338 / 100\n",
      "EPOCH 207 takes 0.047 minutes\n",
      "===== EPOCH 208 =====\n",
      "Training ...\n"
     ]
    },
    {
     "name": "stderr",
     "output_type": "stream",
     "text": [
      "100%|██████████| 19/19 [00:02<00:00,  6.88it/s, property_loss=0.01, vae_loss=0.47]\n"
     ]
    },
    {
     "name": "stdout",
     "output_type": "stream",
     "text": [
      "Validation ...\n",
      "Loss is 0.782\n",
      "Elementary quality score is 72.646 / 100\n",
      "Sequence quality score is 12.338 / 100\n",
      "EPOCH 208 takes 0.046 minutes\n",
      "===== EPOCH 209 =====\n",
      "Training ...\n"
     ]
    },
    {
     "name": "stderr",
     "output_type": "stream",
     "text": [
      "100%|██████████| 19/19 [00:02<00:00,  6.77it/s, property_loss=0.00, vae_loss=0.47]\n"
     ]
    },
    {
     "name": "stdout",
     "output_type": "stream",
     "text": [
      "Validation ...\n",
      "Loss is 0.789\n",
      "Elementary quality score is 72.220 / 100\n",
      "Sequence quality score is 13.636 / 100\n",
      "EPOCH 209 takes 0.047 minutes\n",
      "===== EPOCH 210 =====\n",
      "Training ...\n"
     ]
    },
    {
     "name": "stderr",
     "output_type": "stream",
     "text": [
      "100%|██████████| 19/19 [00:02<00:00,  6.87it/s, property_loss=0.00, vae_loss=0.48]\n"
     ]
    },
    {
     "name": "stdout",
     "output_type": "stream",
     "text": [
      "Validation ...\n",
      "Loss is 0.785\n",
      "Elementary quality score is 72.545 / 100\n",
      "Sequence quality score is 14.935 / 100\n",
      "EPOCH 210 takes 0.047 minutes\n",
      "===== EPOCH 211 =====\n",
      "Training ...\n"
     ]
    },
    {
     "name": "stderr",
     "output_type": "stream",
     "text": [
      "100%|██████████| 19/19 [00:02<00:00,  6.82it/s, property_loss=0.01, vae_loss=0.46]\n"
     ]
    },
    {
     "name": "stdout",
     "output_type": "stream",
     "text": [
      "Validation ...\n",
      "Loss is 0.797\n",
      "Elementary quality score is 72.078 / 100\n",
      "Sequence quality score is 9.091 / 100\n",
      "EPOCH 211 takes 0.047 minutes\n",
      "===== EPOCH 212 =====\n",
      "Training ...\n"
     ]
    },
    {
     "name": "stderr",
     "output_type": "stream",
     "text": [
      "100%|██████████| 19/19 [00:02<00:00,  6.64it/s, property_loss=0.01, vae_loss=0.47]\n"
     ]
    },
    {
     "name": "stdout",
     "output_type": "stream",
     "text": [
      "Validation ...\n",
      "Loss is 0.798\n",
      "Elementary quality score is 72.849 / 100\n",
      "Sequence quality score is 14.935 / 100\n",
      "EPOCH 212 takes 0.048 minutes\n",
      "===== EPOCH 213 =====\n",
      "Training ...\n"
     ]
    },
    {
     "name": "stderr",
     "output_type": "stream",
     "text": [
      "100%|██████████| 19/19 [00:02<00:00,  6.60it/s, property_loss=0.01, vae_loss=0.47]\n"
     ]
    },
    {
     "name": "stdout",
     "output_type": "stream",
     "text": [
      "Validation ...\n",
      "Loss is 0.805\n",
      "Elementary quality score is 72.768 / 100\n",
      "Sequence quality score is 9.740 / 100\n",
      "EPOCH 213 takes 0.049 minutes\n",
      "===== EPOCH 214 =====\n",
      "Training ...\n"
     ]
    },
    {
     "name": "stderr",
     "output_type": "stream",
     "text": [
      "100%|██████████| 19/19 [00:02<00:00,  6.91it/s, property_loss=0.00, vae_loss=0.46]\n"
     ]
    },
    {
     "name": "stdout",
     "output_type": "stream",
     "text": [
      "Validation ...\n",
      "Loss is 0.795\n",
      "Elementary quality score is 72.829 / 100\n",
      "Sequence quality score is 7.143 / 100\n",
      "EPOCH 214 takes 0.046 minutes\n",
      "===== EPOCH 215 =====\n",
      "Training ...\n"
     ]
    },
    {
     "name": "stderr",
     "output_type": "stream",
     "text": [
      "100%|██████████| 19/19 [00:02<00:00,  6.88it/s, property_loss=0.00, vae_loss=0.46]\n"
     ]
    },
    {
     "name": "stdout",
     "output_type": "stream",
     "text": [
      "Validation ...\n",
      "Loss is 0.797\n",
      "Elementary quality score is 72.585 / 100\n",
      "Sequence quality score is 9.740 / 100\n",
      "EPOCH 215 takes 0.047 minutes\n",
      "===== EPOCH 216 =====\n",
      "Training ...\n"
     ]
    },
    {
     "name": "stderr",
     "output_type": "stream",
     "text": [
      "100%|██████████| 19/19 [00:02<00:00,  6.42it/s, property_loss=0.00, vae_loss=0.46]\n"
     ]
    },
    {
     "name": "stdout",
     "output_type": "stream",
     "text": [
      "Validation ...\n",
      "Loss is 0.804\n",
      "Elementary quality score is 72.342 / 100\n",
      "Sequence quality score is 9.740 / 100\n",
      "EPOCH 216 takes 0.050 minutes\n",
      "===== EPOCH 217 =====\n",
      "Training ...\n"
     ]
    },
    {
     "name": "stderr",
     "output_type": "stream",
     "text": [
      "100%|██████████| 19/19 [00:02<00:00,  6.67it/s, property_loss=0.00, vae_loss=0.46]\n"
     ]
    },
    {
     "name": "stdout",
     "output_type": "stream",
     "text": [
      "Validation ...\n",
      "Loss is 0.801\n",
      "Elementary quality score is 72.443 / 100\n",
      "Sequence quality score is 8.442 / 100\n",
      "EPOCH 217 takes 0.048 minutes\n",
      "===== EPOCH 218 =====\n",
      "Training ...\n"
     ]
    },
    {
     "name": "stderr",
     "output_type": "stream",
     "text": [
      "100%|██████████| 19/19 [00:02<00:00,  7.04it/s, property_loss=0.01, vae_loss=0.48]\n"
     ]
    },
    {
     "name": "stdout",
     "output_type": "stream",
     "text": [
      "Validation ...\n",
      "Loss is 0.796\n",
      "Elementary quality score is 72.768 / 100\n",
      "Sequence quality score is 12.987 / 100\n",
      "EPOCH 218 takes 0.046 minutes\n",
      "===== EPOCH 219 =====\n",
      "Training ...\n"
     ]
    },
    {
     "name": "stderr",
     "output_type": "stream",
     "text": [
      "100%|██████████| 19/19 [00:02<00:00,  7.68it/s, property_loss=0.01, vae_loss=0.48]\n"
     ]
    },
    {
     "name": "stdout",
     "output_type": "stream",
     "text": [
      "Validation ...\n",
      "Loss is 0.810\n",
      "Elementary quality score is 72.403 / 100\n",
      "Sequence quality score is 10.390 / 100\n",
      "EPOCH 219 takes 0.042 minutes\n",
      "===== EPOCH 220 =====\n",
      "Training ...\n"
     ]
    },
    {
     "name": "stderr",
     "output_type": "stream",
     "text": [
      "100%|██████████| 19/19 [00:02<00:00,  7.64it/s, property_loss=0.01, vae_loss=0.47]\n"
     ]
    },
    {
     "name": "stdout",
     "output_type": "stream",
     "text": [
      "Validation ...\n",
      "Loss is 0.783\n",
      "Elementary quality score is 72.403 / 100\n",
      "Sequence quality score is 12.987 / 100\n",
      "EPOCH 220 takes 0.042 minutes\n",
      "===== EPOCH 221 =====\n",
      "Training ...\n"
     ]
    },
    {
     "name": "stderr",
     "output_type": "stream",
     "text": [
      "100%|██████████| 19/19 [00:02<00:00,  7.74it/s, property_loss=0.01, vae_loss=0.46]\n"
     ]
    },
    {
     "name": "stdout",
     "output_type": "stream",
     "text": [
      "Validation ...\n",
      "Loss is 0.788\n",
      "Elementary quality score is 72.687 / 100\n",
      "Sequence quality score is 11.039 / 100\n",
      "EPOCH 221 takes 0.041 minutes\n",
      "===== EPOCH 222 =====\n",
      "Training ...\n"
     ]
    },
    {
     "name": "stderr",
     "output_type": "stream",
     "text": [
      "100%|██████████| 19/19 [00:02<00:00,  7.66it/s, property_loss=0.01, vae_loss=0.47]\n"
     ]
    },
    {
     "name": "stdout",
     "output_type": "stream",
     "text": [
      "Validation ...\n",
      "Loss is 0.800\n",
      "Elementary quality score is 72.585 / 100\n",
      "Sequence quality score is 14.286 / 100\n",
      "EPOCH 222 takes 0.042 minutes\n",
      "===== EPOCH 223 =====\n",
      "Training ...\n"
     ]
    },
    {
     "name": "stderr",
     "output_type": "stream",
     "text": [
      "100%|██████████| 19/19 [00:02<00:00,  7.70it/s, property_loss=0.01, vae_loss=0.46]\n"
     ]
    },
    {
     "name": "stdout",
     "output_type": "stream",
     "text": [
      "Validation ...\n",
      "Loss is 0.805\n",
      "Elementary quality score is 72.687 / 100\n",
      "Sequence quality score is 11.039 / 100\n",
      "EPOCH 223 takes 0.041 minutes\n",
      "===== EPOCH 224 =====\n",
      "Training ...\n"
     ]
    },
    {
     "name": "stderr",
     "output_type": "stream",
     "text": [
      "100%|██████████| 19/19 [00:02<00:00,  7.72it/s, property_loss=0.01, vae_loss=0.46]\n"
     ]
    },
    {
     "name": "stdout",
     "output_type": "stream",
     "text": [
      "Validation ...\n",
      "Loss is 0.800\n",
      "Elementary quality score is 72.788 / 100\n",
      "Sequence quality score is 7.143 / 100\n",
      "EPOCH 224 takes 0.041 minutes\n",
      "===== EPOCH 225 =====\n",
      "Training ...\n"
     ]
    },
    {
     "name": "stderr",
     "output_type": "stream",
     "text": [
      "100%|██████████| 19/19 [00:02<00:00,  7.73it/s, property_loss=0.01, vae_loss=0.47]\n"
     ]
    },
    {
     "name": "stdout",
     "output_type": "stream",
     "text": [
      "Validation ...\n",
      "Loss is 0.800\n",
      "Elementary quality score is 72.382 / 100\n",
      "Sequence quality score is 11.688 / 100\n",
      "EPOCH 225 takes 0.041 minutes\n",
      "===== EPOCH 226 =====\n",
      "Training ...\n"
     ]
    },
    {
     "name": "stderr",
     "output_type": "stream",
     "text": [
      "100%|██████████| 19/19 [00:02<00:00,  7.60it/s, property_loss=0.02, vae_loss=0.46]\n"
     ]
    },
    {
     "name": "stdout",
     "output_type": "stream",
     "text": [
      "Validation ...\n",
      "Loss is 0.808\n",
      "Elementary quality score is 72.463 / 100\n",
      "Sequence quality score is 14.935 / 100\n",
      "EPOCH 226 takes 0.042 minutes\n",
      "===== EPOCH 227 =====\n",
      "Training ...\n"
     ]
    },
    {
     "name": "stderr",
     "output_type": "stream",
     "text": [
      "100%|██████████| 19/19 [00:02<00:00,  7.22it/s, property_loss=0.00, vae_loss=0.47]\n"
     ]
    },
    {
     "name": "stdout",
     "output_type": "stream",
     "text": [
      "Validation ...\n",
      "Loss is 0.809\n",
      "Elementary quality score is 72.098 / 100\n",
      "Sequence quality score is 11.688 / 100\n",
      "EPOCH 227 takes 0.044 minutes\n",
      "===== EPOCH 228 =====\n",
      "Training ...\n"
     ]
    },
    {
     "name": "stderr",
     "output_type": "stream",
     "text": [
      "100%|██████████| 19/19 [00:02<00:00,  7.47it/s, property_loss=0.01, vae_loss=0.47]\n"
     ]
    },
    {
     "name": "stdout",
     "output_type": "stream",
     "text": [
      "Validation ...\n",
      "Loss is 0.807\n",
      "Elementary quality score is 72.443 / 100\n",
      "Sequence quality score is 8.442 / 100\n",
      "EPOCH 228 takes 0.043 minutes\n",
      "===== EPOCH 229 =====\n",
      "Training ...\n"
     ]
    },
    {
     "name": "stderr",
     "output_type": "stream",
     "text": [
      "100%|██████████| 19/19 [00:02<00:00,  7.43it/s, property_loss=0.01, vae_loss=0.45]\n"
     ]
    },
    {
     "name": "stdout",
     "output_type": "stream",
     "text": [
      "Validation ...\n",
      "Loss is 0.804\n",
      "Elementary quality score is 72.119 / 100\n",
      "Sequence quality score is 9.740 / 100\n",
      "EPOCH 229 takes 0.043 minutes\n",
      "===== EPOCH 230 =====\n",
      "Training ...\n"
     ]
    },
    {
     "name": "stderr",
     "output_type": "stream",
     "text": [
      "100%|██████████| 19/19 [00:02<00:00,  7.57it/s, property_loss=0.01, vae_loss=0.46]\n"
     ]
    },
    {
     "name": "stdout",
     "output_type": "stream",
     "text": [
      "Validation ...\n",
      "Loss is 0.802\n",
      "Elementary quality score is 72.139 / 100\n",
      "Sequence quality score is 9.091 / 100\n",
      "EPOCH 230 takes 0.042 minutes\n",
      "===== EPOCH 231 =====\n",
      "Training ...\n"
     ]
    },
    {
     "name": "stderr",
     "output_type": "stream",
     "text": [
      "100%|██████████| 19/19 [00:02<00:00,  7.69it/s, property_loss=0.01, vae_loss=0.45]\n"
     ]
    },
    {
     "name": "stdout",
     "output_type": "stream",
     "text": [
      "Validation ...\n",
      "Loss is 0.806\n",
      "Elementary quality score is 72.443 / 100\n",
      "Sequence quality score is 7.143 / 100\n",
      "EPOCH 231 takes 0.041 minutes\n",
      "===== EPOCH 232 =====\n",
      "Training ...\n"
     ]
    },
    {
     "name": "stderr",
     "output_type": "stream",
     "text": [
      "100%|██████████| 19/19 [00:02<00:00,  7.64it/s, property_loss=0.00, vae_loss=0.46]\n"
     ]
    },
    {
     "name": "stdout",
     "output_type": "stream",
     "text": [
      "Validation ...\n",
      "Loss is 0.817\n",
      "Elementary quality score is 72.545 / 100\n",
      "Sequence quality score is 11.688 / 100\n",
      "EPOCH 232 takes 0.042 minutes\n",
      "===== EPOCH 233 =====\n",
      "Training ...\n"
     ]
    },
    {
     "name": "stderr",
     "output_type": "stream",
     "text": [
      "100%|██████████| 19/19 [00:02<00:00,  7.77it/s, property_loss=0.00, vae_loss=0.49]\n"
     ]
    },
    {
     "name": "stdout",
     "output_type": "stream",
     "text": [
      "Validation ...\n",
      "Loss is 0.820\n",
      "Elementary quality score is 72.585 / 100\n",
      "Sequence quality score is 11.039 / 100\n",
      "EPOCH 233 takes 0.041 minutes\n",
      "===== EPOCH 234 =====\n",
      "Training ...\n"
     ]
    },
    {
     "name": "stderr",
     "output_type": "stream",
     "text": [
      "100%|██████████| 19/19 [00:02<00:00,  7.60it/s, property_loss=0.01, vae_loss=0.48]\n"
     ]
    },
    {
     "name": "stdout",
     "output_type": "stream",
     "text": [
      "Validation ...\n",
      "Loss is 0.813\n",
      "Elementary quality score is 72.748 / 100\n",
      "Sequence quality score is 15.584 / 100\n",
      "EPOCH 234 takes 0.042 minutes\n",
      "===== EPOCH 235 =====\n",
      "Training ...\n"
     ]
    },
    {
     "name": "stderr",
     "output_type": "stream",
     "text": [
      "100%|██████████| 19/19 [00:02<00:00,  7.69it/s, property_loss=0.01, vae_loss=0.47]\n"
     ]
    },
    {
     "name": "stdout",
     "output_type": "stream",
     "text": [
      "Validation ...\n",
      "Loss is 0.812\n",
      "Elementary quality score is 72.545 / 100\n",
      "Sequence quality score is 11.039 / 100\n",
      "EPOCH 235 takes 0.041 minutes\n",
      "===== EPOCH 236 =====\n",
      "Training ...\n"
     ]
    },
    {
     "name": "stderr",
     "output_type": "stream",
     "text": [
      "100%|██████████| 19/19 [00:02<00:00,  7.70it/s, property_loss=0.01, vae_loss=0.47]\n"
     ]
    },
    {
     "name": "stdout",
     "output_type": "stream",
     "text": [
      "Validation ...\n",
      "Loss is 0.789\n",
      "Elementary quality score is 72.808 / 100\n",
      "Sequence quality score is 14.286 / 100\n",
      "EPOCH 236 takes 0.041 minutes\n",
      "===== EPOCH 237 =====\n",
      "Training ...\n"
     ]
    },
    {
     "name": "stderr",
     "output_type": "stream",
     "text": [
      "100%|██████████| 19/19 [00:02<00:00,  7.61it/s, property_loss=0.01, vae_loss=0.46]\n"
     ]
    },
    {
     "name": "stdout",
     "output_type": "stream",
     "text": [
      "Validation ...\n",
      "Loss is 0.796\n",
      "Elementary quality score is 72.545 / 100\n",
      "Sequence quality score is 7.792 / 100\n",
      "EPOCH 237 takes 0.042 minutes\n",
      "===== EPOCH 238 =====\n",
      "Training ...\n"
     ]
    },
    {
     "name": "stderr",
     "output_type": "stream",
     "text": [
      "100%|██████████| 19/19 [00:02<00:00,  7.65it/s, property_loss=0.01, vae_loss=0.45]\n"
     ]
    },
    {
     "name": "stdout",
     "output_type": "stream",
     "text": [
      "Validation ...\n",
      "Loss is 0.783\n",
      "Elementary quality score is 72.829 / 100\n",
      "Sequence quality score is 9.091 / 100\n",
      "EPOCH 238 takes 0.042 minutes\n",
      "===== EPOCH 239 =====\n",
      "Training ...\n"
     ]
    },
    {
     "name": "stderr",
     "output_type": "stream",
     "text": [
      "100%|██████████| 19/19 [00:02<00:00,  7.72it/s, property_loss=0.01, vae_loss=0.45]\n"
     ]
    },
    {
     "name": "stdout",
     "output_type": "stream",
     "text": [
      "Validation ...\n",
      "Loss is 0.792\n",
      "Elementary quality score is 73.032 / 100\n",
      "Sequence quality score is 9.740 / 100\n",
      "EPOCH 239 takes 0.041 minutes\n",
      "===== EPOCH 240 =====\n",
      "Training ...\n"
     ]
    },
    {
     "name": "stderr",
     "output_type": "stream",
     "text": [
      "100%|██████████| 19/19 [00:02<00:00,  7.63it/s, property_loss=0.01, vae_loss=0.46]\n"
     ]
    },
    {
     "name": "stdout",
     "output_type": "stream",
     "text": [
      "Validation ...\n",
      "Loss is 0.810\n",
      "Elementary quality score is 72.626 / 100\n",
      "Sequence quality score is 7.792 / 100\n",
      "EPOCH 240 takes 0.042 minutes\n",
      "===== EPOCH 241 =====\n",
      "Training ...\n"
     ]
    },
    {
     "name": "stderr",
     "output_type": "stream",
     "text": [
      "100%|██████████| 19/19 [00:02<00:00,  7.66it/s, property_loss=0.00, vae_loss=0.47]\n"
     ]
    },
    {
     "name": "stdout",
     "output_type": "stream",
     "text": [
      "Validation ...\n",
      "Loss is 0.815\n",
      "Elementary quality score is 72.443 / 100\n",
      "Sequence quality score is 11.688 / 100\n",
      "EPOCH 241 takes 0.042 minutes\n",
      "===== EPOCH 242 =====\n",
      "Training ...\n"
     ]
    },
    {
     "name": "stderr",
     "output_type": "stream",
     "text": [
      "100%|██████████| 19/19 [00:02<00:00,  7.69it/s, property_loss=0.01, vae_loss=0.46]\n"
     ]
    },
    {
     "name": "stdout",
     "output_type": "stream",
     "text": [
      "Validation ...\n",
      "Loss is 0.831\n",
      "Elementary quality score is 72.017 / 100\n",
      "Sequence quality score is 10.390 / 100\n",
      "EPOCH 242 takes 0.042 minutes\n",
      "===== EPOCH 243 =====\n",
      "Training ...\n"
     ]
    },
    {
     "name": "stderr",
     "output_type": "stream",
     "text": [
      "100%|██████████| 19/19 [00:02<00:00,  7.73it/s, property_loss=0.01, vae_loss=0.46]\n"
     ]
    },
    {
     "name": "stdout",
     "output_type": "stream",
     "text": [
      "Validation ...\n",
      "Loss is 0.828\n",
      "Elementary quality score is 72.362 / 100\n",
      "Sequence quality score is 10.390 / 100\n",
      "EPOCH 243 takes 0.041 minutes\n",
      "===== EPOCH 244 =====\n",
      "Training ...\n"
     ]
    },
    {
     "name": "stderr",
     "output_type": "stream",
     "text": [
      "100%|██████████| 19/19 [00:02<00:00,  7.65it/s, property_loss=0.00, vae_loss=0.45]\n"
     ]
    },
    {
     "name": "stdout",
     "output_type": "stream",
     "text": [
      "Validation ...\n",
      "Loss is 0.814\n",
      "Elementary quality score is 72.585 / 100\n",
      "Sequence quality score is 10.390 / 100\n",
      "EPOCH 244 takes 0.042 minutes\n",
      "===== EPOCH 245 =====\n",
      "Training ...\n"
     ]
    },
    {
     "name": "stderr",
     "output_type": "stream",
     "text": [
      "100%|██████████| 19/19 [00:02<00:00,  7.58it/s, property_loss=0.01, vae_loss=0.46]\n"
     ]
    },
    {
     "name": "stdout",
     "output_type": "stream",
     "text": [
      "Validation ...\n",
      "Loss is 0.815\n",
      "Elementary quality score is 72.606 / 100\n",
      "Sequence quality score is 9.740 / 100\n",
      "EPOCH 245 takes 0.042 minutes\n",
      "===== EPOCH 246 =====\n",
      "Training ...\n"
     ]
    },
    {
     "name": "stderr",
     "output_type": "stream",
     "text": [
      "100%|██████████| 19/19 [00:02<00:00,  7.65it/s, property_loss=0.01, vae_loss=0.46]\n"
     ]
    },
    {
     "name": "stdout",
     "output_type": "stream",
     "text": [
      "Validation ...\n",
      "Loss is 0.817\n",
      "Elementary quality score is 72.585 / 100\n",
      "Sequence quality score is 9.091 / 100\n",
      "EPOCH 246 takes 0.042 minutes\n",
      "===== EPOCH 247 =====\n",
      "Training ...\n"
     ]
    },
    {
     "name": "stderr",
     "output_type": "stream",
     "text": [
      "100%|██████████| 19/19 [00:02<00:00,  7.65it/s, property_loss=0.01, vae_loss=0.47]\n"
     ]
    },
    {
     "name": "stdout",
     "output_type": "stream",
     "text": [
      "Validation ...\n",
      "Loss is 0.819\n",
      "Elementary quality score is 72.950 / 100\n",
      "Sequence quality score is 9.740 / 100\n",
      "EPOCH 247 takes 0.042 minutes\n",
      "===== EPOCH 248 =====\n",
      "Training ...\n"
     ]
    },
    {
     "name": "stderr",
     "output_type": "stream",
     "text": [
      "100%|██████████| 19/19 [00:02<00:00,  7.75it/s, property_loss=0.00, vae_loss=0.47]\n"
     ]
    },
    {
     "name": "stdout",
     "output_type": "stream",
     "text": [
      "Validation ...\n",
      "Loss is 0.825\n",
      "Elementary quality score is 73.011 / 100\n",
      "Sequence quality score is 9.091 / 100\n",
      "EPOCH 248 takes 0.041 minutes\n",
      "===== EPOCH 249 =====\n",
      "Training ...\n"
     ]
    },
    {
     "name": "stderr",
     "output_type": "stream",
     "text": [
      "100%|██████████| 19/19 [00:02<00:00,  7.75it/s, property_loss=0.00, vae_loss=0.47]\n"
     ]
    },
    {
     "name": "stdout",
     "output_type": "stream",
     "text": [
      "Validation ...\n",
      "Loss is 0.837\n",
      "Elementary quality score is 72.524 / 100\n",
      "Sequence quality score is 12.987 / 100\n",
      "EPOCH 249 takes 0.041 minutes\n",
      "===== EPOCH 250 =====\n",
      "Training ...\n"
     ]
    },
    {
     "name": "stderr",
     "output_type": "stream",
     "text": [
      "100%|██████████| 19/19 [00:02<00:00,  7.62it/s, property_loss=0.01, vae_loss=0.47]\n"
     ]
    },
    {
     "name": "stdout",
     "output_type": "stream",
     "text": [
      "Validation ...\n",
      "Loss is 0.818\n",
      "Elementary quality score is 72.321 / 100\n",
      "Sequence quality score is 11.688 / 100\n",
      "EPOCH 250 takes 0.042 minutes\n",
      "===== EPOCH 251 =====\n",
      "Training ...\n"
     ]
    },
    {
     "name": "stderr",
     "output_type": "stream",
     "text": [
      "100%|██████████| 19/19 [00:02<00:00,  7.70it/s, property_loss=0.01, vae_loss=0.47]\n"
     ]
    },
    {
     "name": "stdout",
     "output_type": "stream",
     "text": [
      "Validation ...\n",
      "Loss is 0.799\n",
      "Elementary quality score is 72.443 / 100\n",
      "Sequence quality score is 7.143 / 100\n",
      "EPOCH 251 takes 0.041 minutes\n",
      "===== EPOCH 252 =====\n",
      "Training ...\n"
     ]
    },
    {
     "name": "stderr",
     "output_type": "stream",
     "text": [
      "100%|██████████| 19/19 [00:02<00:00,  7.66it/s, property_loss=0.01, vae_loss=0.46]\n"
     ]
    },
    {
     "name": "stdout",
     "output_type": "stream",
     "text": [
      "Validation ...\n",
      "Loss is 0.798\n",
      "Elementary quality score is 72.545 / 100\n",
      "Sequence quality score is 11.688 / 100\n",
      "EPOCH 252 takes 0.042 minutes\n",
      "===== EPOCH 253 =====\n",
      "Training ...\n"
     ]
    },
    {
     "name": "stderr",
     "output_type": "stream",
     "text": [
      "100%|██████████| 19/19 [00:02<00:00,  7.64it/s, property_loss=0.01, vae_loss=0.45]\n"
     ]
    },
    {
     "name": "stdout",
     "output_type": "stream",
     "text": [
      "Validation ...\n",
      "Loss is 0.801\n",
      "Elementary quality score is 72.646 / 100\n",
      "Sequence quality score is 13.636 / 100\n",
      "EPOCH 253 takes 0.042 minutes\n",
      "===== EPOCH 254 =====\n",
      "Training ...\n"
     ]
    },
    {
     "name": "stderr",
     "output_type": "stream",
     "text": [
      "100%|██████████| 19/19 [00:02<00:00,  7.76it/s, property_loss=0.01, vae_loss=0.45]\n"
     ]
    },
    {
     "name": "stdout",
     "output_type": "stream",
     "text": [
      "Validation ...\n",
      "Loss is 0.808\n",
      "Elementary quality score is 72.768 / 100\n",
      "Sequence quality score is 12.338 / 100\n",
      "EPOCH 254 takes 0.041 minutes\n",
      "===== EPOCH 255 =====\n",
      "Training ...\n"
     ]
    },
    {
     "name": "stderr",
     "output_type": "stream",
     "text": [
      "100%|██████████| 19/19 [00:02<00:00,  7.67it/s, property_loss=0.01, vae_loss=0.45]\n"
     ]
    },
    {
     "name": "stdout",
     "output_type": "stream",
     "text": [
      "Validation ...\n",
      "Loss is 0.818\n",
      "Elementary quality score is 72.666 / 100\n",
      "Sequence quality score is 9.091 / 100\n",
      "EPOCH 255 takes 0.042 minutes\n",
      "===== EPOCH 256 =====\n",
      "Training ...\n"
     ]
    },
    {
     "name": "stderr",
     "output_type": "stream",
     "text": [
      "100%|██████████| 19/19 [00:02<00:00,  7.64it/s, property_loss=0.01, vae_loss=0.46]\n"
     ]
    },
    {
     "name": "stdout",
     "output_type": "stream",
     "text": [
      "Validation ...\n",
      "Loss is 0.828\n",
      "Elementary quality score is 71.976 / 100\n",
      "Sequence quality score is 7.792 / 100\n",
      "EPOCH 256 takes 0.042 minutes\n",
      "===== EPOCH 257 =====\n",
      "Training ...\n"
     ]
    },
    {
     "name": "stderr",
     "output_type": "stream",
     "text": [
      "100%|██████████| 19/19 [00:02<00:00,  7.69it/s, property_loss=0.02, vae_loss=0.45]\n"
     ]
    },
    {
     "name": "stdout",
     "output_type": "stream",
     "text": [
      "Validation ...\n",
      "Loss is 0.832\n",
      "Elementary quality score is 72.829 / 100\n",
      "Sequence quality score is 11.688 / 100\n",
      "EPOCH 257 takes 0.041 minutes\n",
      "===== EPOCH 258 =====\n",
      "Training ...\n"
     ]
    },
    {
     "name": "stderr",
     "output_type": "stream",
     "text": [
      "100%|██████████| 19/19 [00:02<00:00,  7.70it/s, property_loss=0.01, vae_loss=0.45]\n"
     ]
    },
    {
     "name": "stdout",
     "output_type": "stream",
     "text": [
      "Validation ...\n",
      "Loss is 0.833\n",
      "Elementary quality score is 72.382 / 100\n",
      "Sequence quality score is 7.143 / 100\n",
      "EPOCH 258 takes 0.042 minutes\n",
      "===== EPOCH 259 =====\n",
      "Training ...\n"
     ]
    },
    {
     "name": "stderr",
     "output_type": "stream",
     "text": [
      "100%|██████████| 19/19 [00:02<00:00,  7.66it/s, property_loss=0.00, vae_loss=0.45]\n"
     ]
    },
    {
     "name": "stdout",
     "output_type": "stream",
     "text": [
      "Validation ...\n",
      "Loss is 0.817\n",
      "Elementary quality score is 72.139 / 100\n",
      "Sequence quality score is 9.091 / 100\n",
      "EPOCH 259 takes 0.042 minutes\n",
      "===== EPOCH 260 =====\n",
      "Training ...\n"
     ]
    },
    {
     "name": "stderr",
     "output_type": "stream",
     "text": [
      "100%|██████████| 19/19 [00:02<00:00,  7.75it/s, property_loss=0.00, vae_loss=0.46]\n"
     ]
    },
    {
     "name": "stdout",
     "output_type": "stream",
     "text": [
      "Validation ...\n",
      "Loss is 0.811\n",
      "Elementary quality score is 72.261 / 100\n",
      "Sequence quality score is 12.338 / 100\n",
      "EPOCH 260 takes 0.041 minutes\n",
      "===== EPOCH 261 =====\n",
      "Training ...\n"
     ]
    },
    {
     "name": "stderr",
     "output_type": "stream",
     "text": [
      "100%|██████████| 19/19 [00:02<00:00,  7.67it/s, property_loss=0.00, vae_loss=0.46]\n"
     ]
    },
    {
     "name": "stdout",
     "output_type": "stream",
     "text": [
      "Validation ...\n",
      "Loss is 0.810\n",
      "Elementary quality score is 72.666 / 100\n",
      "Sequence quality score is 9.740 / 100\n",
      "EPOCH 261 takes 0.042 minutes\n",
      "===== EPOCH 262 =====\n",
      "Training ...\n"
     ]
    },
    {
     "name": "stderr",
     "output_type": "stream",
     "text": [
      "100%|██████████| 19/19 [00:02<00:00,  7.60it/s, property_loss=0.01, vae_loss=0.46]\n"
     ]
    },
    {
     "name": "stdout",
     "output_type": "stream",
     "text": [
      "Validation ...\n",
      "Loss is 0.820\n",
      "Elementary quality score is 72.606 / 100\n",
      "Sequence quality score is 11.039 / 100\n",
      "EPOCH 262 takes 0.042 minutes\n",
      "===== EPOCH 263 =====\n",
      "Training ...\n"
     ]
    },
    {
     "name": "stderr",
     "output_type": "stream",
     "text": [
      "100%|██████████| 19/19 [00:02<00:00,  7.71it/s, property_loss=0.01, vae_loss=0.46]\n"
     ]
    },
    {
     "name": "stdout",
     "output_type": "stream",
     "text": [
      "Validation ...\n",
      "Loss is 0.843\n",
      "Elementary quality score is 72.585 / 100\n",
      "Sequence quality score is 12.987 / 100\n",
      "EPOCH 263 takes 0.041 minutes\n",
      "===== EPOCH 264 =====\n",
      "Training ...\n"
     ]
    },
    {
     "name": "stderr",
     "output_type": "stream",
     "text": [
      "100%|██████████| 19/19 [00:02<00:00,  7.66it/s, property_loss=0.01, vae_loss=0.45]\n"
     ]
    },
    {
     "name": "stdout",
     "output_type": "stream",
     "text": [
      "Validation ...\n",
      "Loss is 0.837\n",
      "Elementary quality score is 72.443 / 100\n",
      "Sequence quality score is 9.740 / 100\n",
      "EPOCH 264 takes 0.042 minutes\n",
      "===== EPOCH 265 =====\n",
      "Training ...\n"
     ]
    },
    {
     "name": "stderr",
     "output_type": "stream",
     "text": [
      "100%|██████████| 19/19 [00:02<00:00,  7.61it/s, property_loss=0.01, vae_loss=0.45]\n"
     ]
    },
    {
     "name": "stdout",
     "output_type": "stream",
     "text": [
      "Validation ...\n",
      "Loss is 0.827\n",
      "Elementary quality score is 72.403 / 100\n",
      "Sequence quality score is 11.039 / 100\n",
      "EPOCH 265 takes 0.042 minutes\n",
      "===== EPOCH 266 =====\n",
      "Training ...\n"
     ]
    },
    {
     "name": "stderr",
     "output_type": "stream",
     "text": [
      "100%|██████████| 19/19 [00:02<00:00,  7.68it/s, property_loss=0.00, vae_loss=0.45]\n"
     ]
    },
    {
     "name": "stdout",
     "output_type": "stream",
     "text": [
      "Validation ...\n",
      "Loss is 0.810\n",
      "Elementary quality score is 72.443 / 100\n",
      "Sequence quality score is 12.987 / 100\n",
      "EPOCH 266 takes 0.042 minutes\n",
      "===== EPOCH 267 =====\n",
      "Training ...\n"
     ]
    },
    {
     "name": "stderr",
     "output_type": "stream",
     "text": [
      "100%|██████████| 19/19 [00:02<00:00,  7.67it/s, property_loss=0.01, vae_loss=0.46]\n"
     ]
    },
    {
     "name": "stdout",
     "output_type": "stream",
     "text": [
      "Validation ...\n",
      "Loss is 0.817\n",
      "Elementary quality score is 72.382 / 100\n",
      "Sequence quality score is 8.442 / 100\n",
      "EPOCH 267 takes 0.042 minutes\n",
      "===== EPOCH 268 =====\n",
      "Training ...\n"
     ]
    },
    {
     "name": "stderr",
     "output_type": "stream",
     "text": [
      "100%|██████████| 19/19 [00:02<00:00,  7.62it/s, property_loss=0.01, vae_loss=0.44]\n"
     ]
    },
    {
     "name": "stdout",
     "output_type": "stream",
     "text": [
      "Validation ...\n",
      "Loss is 0.814\n",
      "Elementary quality score is 72.261 / 100\n",
      "Sequence quality score is 9.091 / 100\n",
      "EPOCH 268 takes 0.042 minutes\n",
      "===== EPOCH 269 =====\n",
      "Training ...\n"
     ]
    },
    {
     "name": "stderr",
     "output_type": "stream",
     "text": [
      "100%|██████████| 19/19 [00:02<00:00,  7.62it/s, property_loss=0.01, vae_loss=0.45]\n"
     ]
    },
    {
     "name": "stdout",
     "output_type": "stream",
     "text": [
      "Validation ...\n",
      "Loss is 0.816\n",
      "Elementary quality score is 72.362 / 100\n",
      "Sequence quality score is 9.091 / 100\n",
      "EPOCH 269 takes 0.042 minutes\n",
      "===== EPOCH 270 =====\n",
      "Training ...\n"
     ]
    },
    {
     "name": "stderr",
     "output_type": "stream",
     "text": [
      "100%|██████████| 19/19 [00:02<00:00,  7.58it/s, property_loss=0.01, vae_loss=0.45]\n"
     ]
    },
    {
     "name": "stdout",
     "output_type": "stream",
     "text": [
      "Validation ...\n",
      "Loss is 0.836\n",
      "Elementary quality score is 72.037 / 100\n",
      "Sequence quality score is 12.338 / 100\n",
      "EPOCH 270 takes 0.042 minutes\n",
      "===== EPOCH 271 =====\n",
      "Training ...\n"
     ]
    },
    {
     "name": "stderr",
     "output_type": "stream",
     "text": [
      "100%|██████████| 19/19 [00:02<00:00,  7.72it/s, property_loss=0.00, vae_loss=0.45]\n"
     ]
    },
    {
     "name": "stdout",
     "output_type": "stream",
     "text": [
      "Validation ...\n",
      "Loss is 0.838\n",
      "Elementary quality score is 72.687 / 100\n",
      "Sequence quality score is 9.091 / 100\n",
      "EPOCH 271 takes 0.041 minutes\n",
      "===== EPOCH 272 =====\n",
      "Training ...\n"
     ]
    },
    {
     "name": "stderr",
     "output_type": "stream",
     "text": [
      "100%|██████████| 19/19 [00:02<00:00,  7.67it/s, property_loss=0.00, vae_loss=0.46]\n"
     ]
    },
    {
     "name": "stdout",
     "output_type": "stream",
     "text": [
      "Validation ...\n",
      "Loss is 0.833\n",
      "Elementary quality score is 73.011 / 100\n",
      "Sequence quality score is 9.091 / 100\n",
      "EPOCH 272 takes 0.042 minutes\n",
      "===== EPOCH 273 =====\n",
      "Training ...\n"
     ]
    },
    {
     "name": "stderr",
     "output_type": "stream",
     "text": [
      "100%|██████████| 19/19 [00:02<00:00,  7.63it/s, property_loss=0.00, vae_loss=0.46]\n"
     ]
    },
    {
     "name": "stdout",
     "output_type": "stream",
     "text": [
      "Validation ...\n",
      "Loss is 0.823\n",
      "Elementary quality score is 72.890 / 100\n",
      "Sequence quality score is 12.338 / 100\n",
      "EPOCH 273 takes 0.042 minutes\n",
      "===== EPOCH 274 =====\n",
      "Training ...\n"
     ]
    },
    {
     "name": "stderr",
     "output_type": "stream",
     "text": [
      "100%|██████████| 19/19 [00:02<00:00,  7.71it/s, property_loss=0.01, vae_loss=0.46]\n"
     ]
    },
    {
     "name": "stdout",
     "output_type": "stream",
     "text": [
      "Validation ...\n",
      "Loss is 0.821\n",
      "Elementary quality score is 72.707 / 100\n",
      "Sequence quality score is 11.688 / 100\n",
      "EPOCH 274 takes 0.041 minutes\n",
      "===== EPOCH 275 =====\n",
      "Training ...\n"
     ]
    },
    {
     "name": "stderr",
     "output_type": "stream",
     "text": [
      "100%|██████████| 19/19 [00:02<00:00,  7.58it/s, property_loss=0.00, vae_loss=0.45]\n"
     ]
    },
    {
     "name": "stdout",
     "output_type": "stream",
     "text": [
      "Validation ...\n",
      "Loss is 0.832\n",
      "Elementary quality score is 72.504 / 100\n",
      "Sequence quality score is 12.987 / 100\n",
      "EPOCH 275 takes 0.042 minutes\n",
      "===== EPOCH 276 =====\n",
      "Training ...\n"
     ]
    },
    {
     "name": "stderr",
     "output_type": "stream",
     "text": [
      "100%|██████████| 19/19 [00:02<00:00,  7.64it/s, property_loss=0.00, vae_loss=0.45]\n"
     ]
    },
    {
     "name": "stdout",
     "output_type": "stream",
     "text": [
      "Validation ...\n",
      "Loss is 0.822\n",
      "Elementary quality score is 72.342 / 100\n",
      "Sequence quality score is 9.091 / 100\n",
      "EPOCH 276 takes 0.042 minutes\n",
      "===== EPOCH 277 =====\n",
      "Training ...\n"
     ]
    },
    {
     "name": "stderr",
     "output_type": "stream",
     "text": [
      "100%|██████████| 19/19 [00:02<00:00,  7.67it/s, property_loss=0.01, vae_loss=0.45]\n"
     ]
    },
    {
     "name": "stdout",
     "output_type": "stream",
     "text": [
      "Validation ...\n",
      "Loss is 0.831\n",
      "Elementary quality score is 72.342 / 100\n",
      "Sequence quality score is 9.091 / 100\n",
      "EPOCH 277 takes 0.042 minutes\n",
      "===== EPOCH 278 =====\n",
      "Training ...\n"
     ]
    },
    {
     "name": "stderr",
     "output_type": "stream",
     "text": [
      "100%|██████████| 19/19 [00:02<00:00,  7.68it/s, property_loss=0.01, vae_loss=0.45]\n"
     ]
    },
    {
     "name": "stdout",
     "output_type": "stream",
     "text": [
      "Validation ...\n",
      "Loss is 0.827\n",
      "Elementary quality score is 72.545 / 100\n",
      "Sequence quality score is 10.390 / 100\n",
      "EPOCH 278 takes 0.042 minutes\n",
      "===== EPOCH 279 =====\n",
      "Training ...\n"
     ]
    },
    {
     "name": "stderr",
     "output_type": "stream",
     "text": [
      "100%|██████████| 19/19 [00:02<00:00,  7.70it/s, property_loss=0.01, vae_loss=0.45]\n"
     ]
    },
    {
     "name": "stdout",
     "output_type": "stream",
     "text": [
      "Validation ...\n",
      "Loss is 0.840\n",
      "Elementary quality score is 72.139 / 100\n",
      "Sequence quality score is 9.740 / 100\n",
      "EPOCH 279 takes 0.041 minutes\n",
      "===== EPOCH 280 =====\n",
      "Training ...\n"
     ]
    },
    {
     "name": "stderr",
     "output_type": "stream",
     "text": [
      "100%|██████████| 19/19 [00:02<00:00,  7.72it/s, property_loss=0.00, vae_loss=0.44]\n"
     ]
    },
    {
     "name": "stdout",
     "output_type": "stream",
     "text": [
      "Validation ...\n",
      "Loss is 0.853\n",
      "Elementary quality score is 72.098 / 100\n",
      "Sequence quality score is 5.844 / 100\n",
      "EPOCH 280 takes 0.041 minutes\n",
      "===== EPOCH 281 =====\n",
      "Training ...\n"
     ]
    },
    {
     "name": "stderr",
     "output_type": "stream",
     "text": [
      "100%|██████████| 19/19 [00:02<00:00,  7.66it/s, property_loss=0.01, vae_loss=0.46]\n"
     ]
    },
    {
     "name": "stdout",
     "output_type": "stream",
     "text": [
      "Validation ...\n",
      "Loss is 0.857\n",
      "Elementary quality score is 72.321 / 100\n",
      "Sequence quality score is 14.935 / 100\n",
      "EPOCH 281 takes 0.042 minutes\n",
      "===== EPOCH 282 =====\n",
      "Training ...\n"
     ]
    },
    {
     "name": "stderr",
     "output_type": "stream",
     "text": [
      "100%|██████████| 19/19 [00:02<00:00,  7.72it/s, property_loss=0.01, vae_loss=0.45]\n"
     ]
    },
    {
     "name": "stdout",
     "output_type": "stream",
     "text": [
      "Validation ...\n",
      "Loss is 0.852\n",
      "Elementary quality score is 72.159 / 100\n",
      "Sequence quality score is 8.442 / 100\n",
      "EPOCH 282 takes 0.041 minutes\n",
      "===== EPOCH 283 =====\n",
      "Training ...\n"
     ]
    },
    {
     "name": "stderr",
     "output_type": "stream",
     "text": [
      "100%|██████████| 19/19 [00:02<00:00,  7.70it/s, property_loss=0.01, vae_loss=0.46]\n"
     ]
    },
    {
     "name": "stdout",
     "output_type": "stream",
     "text": [
      "Validation ...\n",
      "Loss is 0.840\n",
      "Elementary quality score is 71.976 / 100\n",
      "Sequence quality score is 9.740 / 100\n",
      "EPOCH 283 takes 0.041 minutes\n",
      "===== EPOCH 284 =====\n",
      "Training ...\n"
     ]
    },
    {
     "name": "stderr",
     "output_type": "stream",
     "text": [
      "100%|██████████| 19/19 [00:02<00:00,  7.67it/s, property_loss=0.00, vae_loss=0.46]\n"
     ]
    },
    {
     "name": "stdout",
     "output_type": "stream",
     "text": [
      "Validation ...\n",
      "Loss is 0.839\n",
      "Elementary quality score is 72.321 / 100\n",
      "Sequence quality score is 9.091 / 100\n",
      "EPOCH 284 takes 0.042 minutes\n",
      "===== EPOCH 285 =====\n",
      "Training ...\n"
     ]
    },
    {
     "name": "stderr",
     "output_type": "stream",
     "text": [
      "100%|██████████| 19/19 [00:02<00:00,  7.62it/s, property_loss=0.00, vae_loss=0.45]\n"
     ]
    },
    {
     "name": "stdout",
     "output_type": "stream",
     "text": [
      "Validation ...\n",
      "Loss is 0.844\n",
      "Elementary quality score is 72.078 / 100\n",
      "Sequence quality score is 13.636 / 100\n",
      "EPOCH 285 takes 0.042 minutes\n",
      "===== EPOCH 286 =====\n",
      "Training ...\n"
     ]
    },
    {
     "name": "stderr",
     "output_type": "stream",
     "text": [
      "100%|██████████| 19/19 [00:02<00:00,  7.76it/s, property_loss=0.00, vae_loss=0.45]\n"
     ]
    },
    {
     "name": "stdout",
     "output_type": "stream",
     "text": [
      "Validation ...\n",
      "Loss is 0.837\n",
      "Elementary quality score is 72.524 / 100\n",
      "Sequence quality score is 11.688 / 100\n",
      "EPOCH 286 takes 0.041 minutes\n",
      "===== EPOCH 287 =====\n",
      "Training ...\n"
     ]
    },
    {
     "name": "stderr",
     "output_type": "stream",
     "text": [
      "100%|██████████| 19/19 [00:02<00:00,  7.68it/s, property_loss=0.01, vae_loss=0.44]\n"
     ]
    },
    {
     "name": "stdout",
     "output_type": "stream",
     "text": [
      "Validation ...\n",
      "Loss is 0.849\n",
      "Elementary quality score is 72.484 / 100\n",
      "Sequence quality score is 10.390 / 100\n",
      "EPOCH 287 takes 0.042 minutes\n",
      "===== EPOCH 288 =====\n",
      "Training ...\n"
     ]
    },
    {
     "name": "stderr",
     "output_type": "stream",
     "text": [
      "100%|██████████| 19/19 [00:02<00:00,  7.62it/s, property_loss=0.01, vae_loss=0.46]\n"
     ]
    },
    {
     "name": "stdout",
     "output_type": "stream",
     "text": [
      "Validation ...\n",
      "Loss is 0.863\n",
      "Elementary quality score is 72.565 / 100\n",
      "Sequence quality score is 11.688 / 100\n",
      "EPOCH 288 takes 0.042 minutes\n",
      "===== EPOCH 289 =====\n",
      "Training ...\n"
     ]
    },
    {
     "name": "stderr",
     "output_type": "stream",
     "text": [
      "100%|██████████| 19/19 [00:02<00:00,  7.73it/s, property_loss=0.01, vae_loss=0.46]\n"
     ]
    },
    {
     "name": "stdout",
     "output_type": "stream",
     "text": [
      "Validation ...\n",
      "Loss is 0.876\n",
      "Elementary quality score is 72.646 / 100\n",
      "Sequence quality score is 12.338 / 100\n",
      "EPOCH 289 takes 0.041 minutes\n",
      "===== EPOCH 290 =====\n",
      "Training ...\n"
     ]
    },
    {
     "name": "stderr",
     "output_type": "stream",
     "text": [
      "100%|██████████| 19/19 [00:02<00:00,  7.60it/s, property_loss=0.01, vae_loss=0.46]\n"
     ]
    },
    {
     "name": "stdout",
     "output_type": "stream",
     "text": [
      "Validation ...\n",
      "Loss is 0.838\n",
      "Elementary quality score is 72.748 / 100\n",
      "Sequence quality score is 9.740 / 100\n",
      "EPOCH 290 takes 0.042 minutes\n",
      "===== EPOCH 291 =====\n",
      "Training ...\n"
     ]
    },
    {
     "name": "stderr",
     "output_type": "stream",
     "text": [
      "100%|██████████| 19/19 [00:02<00:00,  7.63it/s, property_loss=0.01, vae_loss=0.45]\n"
     ]
    },
    {
     "name": "stdout",
     "output_type": "stream",
     "text": [
      "Validation ...\n",
      "Loss is 0.834\n",
      "Elementary quality score is 72.626 / 100\n",
      "Sequence quality score is 7.792 / 100\n",
      "EPOCH 291 takes 0.042 minutes\n",
      "===== EPOCH 292 =====\n",
      "Training ...\n"
     ]
    },
    {
     "name": "stderr",
     "output_type": "stream",
     "text": [
      "100%|██████████| 19/19 [00:02<00:00,  6.87it/s, property_loss=0.01, vae_loss=0.45]\n"
     ]
    },
    {
     "name": "stdout",
     "output_type": "stream",
     "text": [
      "Validation ...\n",
      "Loss is 0.833\n",
      "Elementary quality score is 72.301 / 100\n",
      "Sequence quality score is 11.688 / 100\n",
      "EPOCH 292 takes 0.047 minutes\n",
      "===== EPOCH 293 =====\n",
      "Training ...\n"
     ]
    },
    {
     "name": "stderr",
     "output_type": "stream",
     "text": [
      "100%|██████████| 19/19 [00:02<00:00,  6.90it/s, property_loss=0.01, vae_loss=0.44]\n"
     ]
    },
    {
     "name": "stdout",
     "output_type": "stream",
     "text": [
      "Validation ...\n",
      "Loss is 0.841\n",
      "Elementary quality score is 72.423 / 100\n",
      "Sequence quality score is 11.688 / 100\n",
      "EPOCH 293 takes 0.046 minutes\n",
      "===== EPOCH 294 =====\n",
      "Training ...\n"
     ]
    },
    {
     "name": "stderr",
     "output_type": "stream",
     "text": [
      "100%|██████████| 19/19 [00:02<00:00,  7.68it/s, property_loss=0.01, vae_loss=0.44]\n"
     ]
    },
    {
     "name": "stdout",
     "output_type": "stream",
     "text": [
      "Validation ...\n",
      "Loss is 0.853\n",
      "Elementary quality score is 72.545 / 100\n",
      "Sequence quality score is 6.494 / 100\n",
      "EPOCH 294 takes 0.042 minutes\n",
      "===== EPOCH 295 =====\n",
      "Training ...\n"
     ]
    },
    {
     "name": "stderr",
     "output_type": "stream",
     "text": [
      "100%|██████████| 19/19 [00:02<00:00,  7.59it/s, property_loss=0.01, vae_loss=0.44]\n"
     ]
    },
    {
     "name": "stdout",
     "output_type": "stream",
     "text": [
      "Validation ...\n",
      "Loss is 0.853\n",
      "Elementary quality score is 72.626 / 100\n",
      "Sequence quality score is 9.740 / 100\n",
      "EPOCH 295 takes 0.042 minutes\n",
      "===== EPOCH 296 =====\n",
      "Training ...\n"
     ]
    },
    {
     "name": "stderr",
     "output_type": "stream",
     "text": [
      "100%|██████████| 19/19 [00:02<00:00,  7.63it/s, property_loss=0.00, vae_loss=0.45]\n"
     ]
    },
    {
     "name": "stdout",
     "output_type": "stream",
     "text": [
      "Validation ...\n",
      "Loss is 0.853\n",
      "Elementary quality score is 72.078 / 100\n",
      "Sequence quality score is 14.286 / 100\n",
      "EPOCH 296 takes 0.042 minutes\n",
      "===== EPOCH 297 =====\n",
      "Training ...\n"
     ]
    },
    {
     "name": "stderr",
     "output_type": "stream",
     "text": [
      "100%|██████████| 19/19 [00:02<00:00,  7.70it/s, property_loss=0.00, vae_loss=0.45]\n"
     ]
    },
    {
     "name": "stdout",
     "output_type": "stream",
     "text": [
      "Validation ...\n",
      "Loss is 0.859\n",
      "Elementary quality score is 72.058 / 100\n",
      "Sequence quality score is 10.390 / 100\n",
      "EPOCH 297 takes 0.041 minutes\n",
      "===== EPOCH 298 =====\n",
      "Training ...\n"
     ]
    },
    {
     "name": "stderr",
     "output_type": "stream",
     "text": [
      "100%|██████████| 19/19 [00:02<00:00,  7.66it/s, property_loss=0.01, vae_loss=0.45]\n"
     ]
    },
    {
     "name": "stdout",
     "output_type": "stream",
     "text": [
      "Validation ...\n",
      "Loss is 0.850\n",
      "Elementary quality score is 72.423 / 100\n",
      "Sequence quality score is 10.390 / 100\n",
      "EPOCH 298 takes 0.042 minutes\n",
      "===== EPOCH 299 =====\n",
      "Training ...\n"
     ]
    },
    {
     "name": "stderr",
     "output_type": "stream",
     "text": [
      "100%|██████████| 19/19 [00:02<00:00,  7.76it/s, property_loss=0.01, vae_loss=0.45]\n"
     ]
    },
    {
     "name": "stdout",
     "output_type": "stream",
     "text": [
      "Validation ...\n",
      "Loss is 0.874\n",
      "Elementary quality score is 72.565 / 100\n",
      "Sequence quality score is 11.039 / 100\n",
      "EPOCH 299 takes 0.041 minutes\n",
      "===== EPOCH 300 =====\n",
      "Training ...\n"
     ]
    },
    {
     "name": "stderr",
     "output_type": "stream",
     "text": [
      "100%|██████████| 19/19 [00:02<00:00,  7.66it/s, property_loss=0.00, vae_loss=0.46]\n"
     ]
    },
    {
     "name": "stdout",
     "output_type": "stream",
     "text": [
      "Validation ...\n",
      "Loss is 0.866\n",
      "Elementary quality score is 72.119 / 100\n",
      "Sequence quality score is 11.039 / 100\n",
      "EPOCH 300 takes 0.042 minutes\n",
      "===== EPOCH 301 =====\n",
      "Training ...\n"
     ]
    },
    {
     "name": "stderr",
     "output_type": "stream",
     "text": [
      "100%|██████████| 19/19 [00:02<00:00,  7.44it/s, property_loss=0.01, vae_loss=0.46]\n"
     ]
    },
    {
     "name": "stdout",
     "output_type": "stream",
     "text": [
      "Validation ...\n",
      "Loss is 0.844\n",
      "Elementary quality score is 72.768 / 100\n",
      "Sequence quality score is 9.740 / 100\n",
      "EPOCH 301 takes 0.043 minutes\n",
      "===== EPOCH 302 =====\n",
      "Training ...\n"
     ]
    },
    {
     "name": "stderr",
     "output_type": "stream",
     "text": [
      "100%|██████████| 19/19 [00:02<00:00,  7.64it/s, property_loss=0.01, vae_loss=0.45]\n"
     ]
    },
    {
     "name": "stdout",
     "output_type": "stream",
     "text": [
      "Validation ...\n",
      "Loss is 0.839\n",
      "Elementary quality score is 72.971 / 100\n",
      "Sequence quality score is 9.740 / 100\n",
      "EPOCH 302 takes 0.042 minutes\n",
      "===== EPOCH 303 =====\n",
      "Training ...\n"
     ]
    },
    {
     "name": "stderr",
     "output_type": "stream",
     "text": [
      "100%|██████████| 19/19 [00:02<00:00,  7.67it/s, property_loss=0.01, vae_loss=0.45]\n"
     ]
    },
    {
     "name": "stdout",
     "output_type": "stream",
     "text": [
      "Validation ...\n",
      "Loss is 0.850\n",
      "Elementary quality score is 72.362 / 100\n",
      "Sequence quality score is 7.143 / 100\n",
      "EPOCH 303 takes 0.042 minutes\n",
      "===== EPOCH 304 =====\n",
      "Training ...\n"
     ]
    },
    {
     "name": "stderr",
     "output_type": "stream",
     "text": [
      "100%|██████████| 19/19 [00:02<00:00,  7.73it/s, property_loss=0.00, vae_loss=0.44]\n"
     ]
    },
    {
     "name": "stdout",
     "output_type": "stream",
     "text": [
      "Validation ...\n",
      "Loss is 0.860\n",
      "Elementary quality score is 72.890 / 100\n",
      "Sequence quality score is 12.338 / 100\n",
      "EPOCH 304 takes 0.041 minutes\n",
      "===== EPOCH 305 =====\n",
      "Training ...\n"
     ]
    },
    {
     "name": "stderr",
     "output_type": "stream",
     "text": [
      "100%|██████████| 19/19 [00:02<00:00,  7.70it/s, property_loss=0.00, vae_loss=0.44]\n"
     ]
    },
    {
     "name": "stdout",
     "output_type": "stream",
     "text": [
      "Validation ...\n",
      "Loss is 0.865\n",
      "Elementary quality score is 71.997 / 100\n",
      "Sequence quality score is 11.039 / 100\n",
      "EPOCH 305 takes 0.041 minutes\n",
      "===== EPOCH 306 =====\n",
      "Training ...\n"
     ]
    },
    {
     "name": "stderr",
     "output_type": "stream",
     "text": [
      "100%|██████████| 19/19 [00:02<00:00,  7.74it/s, property_loss=0.01, vae_loss=0.43]\n"
     ]
    },
    {
     "name": "stdout",
     "output_type": "stream",
     "text": [
      "Validation ...\n",
      "Loss is 0.871\n",
      "Elementary quality score is 72.037 / 100\n",
      "Sequence quality score is 11.688 / 100\n",
      "EPOCH 306 takes 0.041 minutes\n",
      "===== EPOCH 307 =====\n",
      "Training ...\n"
     ]
    },
    {
     "name": "stderr",
     "output_type": "stream",
     "text": [
      "100%|██████████| 19/19 [00:02<00:00,  7.78it/s, property_loss=0.01, vae_loss=0.45]\n"
     ]
    },
    {
     "name": "stdout",
     "output_type": "stream",
     "text": [
      "Validation ...\n",
      "Loss is 0.861\n",
      "Elementary quality score is 71.571 / 100\n",
      "Sequence quality score is 12.987 / 100\n",
      "EPOCH 307 takes 0.041 minutes\n",
      "===== EPOCH 308 =====\n",
      "Training ...\n"
     ]
    },
    {
     "name": "stderr",
     "output_type": "stream",
     "text": [
      "100%|██████████| 19/19 [00:02<00:00,  7.67it/s, property_loss=0.01, vae_loss=0.44]\n"
     ]
    },
    {
     "name": "stdout",
     "output_type": "stream",
     "text": [
      "Validation ...\n",
      "Loss is 0.850\n",
      "Elementary quality score is 72.768 / 100\n",
      "Sequence quality score is 13.636 / 100\n",
      "EPOCH 308 takes 0.042 minutes\n",
      "===== EPOCH 309 =====\n",
      "Training ...\n"
     ]
    },
    {
     "name": "stderr",
     "output_type": "stream",
     "text": [
      "100%|██████████| 19/19 [00:02<00:00,  7.65it/s, property_loss=0.01, vae_loss=0.44]\n"
     ]
    },
    {
     "name": "stdout",
     "output_type": "stream",
     "text": [
      "Validation ...\n",
      "Loss is 0.848\n",
      "Elementary quality score is 72.484 / 100\n",
      "Sequence quality score is 12.338 / 100\n",
      "EPOCH 309 takes 0.042 minutes\n",
      "===== EPOCH 310 =====\n",
      "Training ...\n"
     ]
    },
    {
     "name": "stderr",
     "output_type": "stream",
     "text": [
      "100%|██████████| 19/19 [00:02<00:00,  7.29it/s, property_loss=0.01, vae_loss=0.43]\n"
     ]
    },
    {
     "name": "stdout",
     "output_type": "stream",
     "text": [
      "Validation ...\n",
      "Loss is 0.891\n",
      "Elementary quality score is 71.895 / 100\n",
      "Sequence quality score is 9.740 / 100\n",
      "EPOCH 310 takes 0.044 minutes\n",
      "===== EPOCH 311 =====\n",
      "Training ...\n"
     ]
    },
    {
     "name": "stderr",
     "output_type": "stream",
     "text": [
      "100%|██████████| 19/19 [00:02<00:00,  7.37it/s, property_loss=0.00, vae_loss=0.44]\n"
     ]
    },
    {
     "name": "stdout",
     "output_type": "stream",
     "text": [
      "Validation ...\n",
      "Loss is 0.875\n",
      "Elementary quality score is 71.834 / 100\n",
      "Sequence quality score is 7.792 / 100\n",
      "EPOCH 311 takes 0.043 minutes\n",
      "===== EPOCH 312 =====\n",
      "Training ...\n"
     ]
    },
    {
     "name": "stderr",
     "output_type": "stream",
     "text": [
      "100%|██████████| 19/19 [00:02<00:00,  7.62it/s, property_loss=0.00, vae_loss=0.44]\n"
     ]
    },
    {
     "name": "stdout",
     "output_type": "stream",
     "text": [
      "Validation ...\n",
      "Loss is 0.872\n",
      "Elementary quality score is 72.220 / 100\n",
      "Sequence quality score is 10.390 / 100\n",
      "EPOCH 312 takes 0.042 minutes\n",
      "===== EPOCH 313 =====\n",
      "Training ...\n"
     ]
    },
    {
     "name": "stderr",
     "output_type": "stream",
     "text": [
      "100%|██████████| 19/19 [00:02<00:00,  7.27it/s, property_loss=0.00, vae_loss=0.45]\n"
     ]
    },
    {
     "name": "stdout",
     "output_type": "stream",
     "text": [
      "Validation ...\n",
      "Loss is 0.886\n",
      "Elementary quality score is 72.037 / 100\n",
      "Sequence quality score is 9.740 / 100\n",
      "EPOCH 313 takes 0.044 minutes\n",
      "===== EPOCH 314 =====\n",
      "Training ...\n"
     ]
    },
    {
     "name": "stderr",
     "output_type": "stream",
     "text": [
      "100%|██████████| 19/19 [00:02<00:00,  7.37it/s, property_loss=0.00, vae_loss=0.44]\n"
     ]
    },
    {
     "name": "stdout",
     "output_type": "stream",
     "text": [
      "Validation ...\n",
      "Loss is 0.870\n",
      "Elementary quality score is 71.692 / 100\n",
      "Sequence quality score is 9.740 / 100\n",
      "EPOCH 314 takes 0.043 minutes\n",
      "===== EPOCH 315 =====\n",
      "Training ...\n"
     ]
    },
    {
     "name": "stderr",
     "output_type": "stream",
     "text": [
      "100%|██████████| 19/19 [00:02<00:00,  7.43it/s, property_loss=0.01, vae_loss=0.44]\n"
     ]
    },
    {
     "name": "stdout",
     "output_type": "stream",
     "text": [
      "Validation ...\n",
      "Loss is 0.872\n",
      "Elementary quality score is 72.423 / 100\n",
      "Sequence quality score is 12.987 / 100\n",
      "EPOCH 315 takes 0.043 minutes\n",
      "===== EPOCH 316 =====\n",
      "Training ...\n"
     ]
    },
    {
     "name": "stderr",
     "output_type": "stream",
     "text": [
      "100%|██████████| 19/19 [00:02<00:00,  7.44it/s, property_loss=0.01, vae_loss=0.45]\n"
     ]
    },
    {
     "name": "stdout",
     "output_type": "stream",
     "text": [
      "Validation ...\n",
      "Loss is 0.873\n",
      "Elementary quality score is 72.666 / 100\n",
      "Sequence quality score is 11.688 / 100\n",
      "EPOCH 316 takes 0.043 minutes\n",
      "===== EPOCH 317 =====\n",
      "Training ...\n"
     ]
    },
    {
     "name": "stderr",
     "output_type": "stream",
     "text": [
      "100%|██████████| 19/19 [00:02<00:00,  7.41it/s, property_loss=0.01, vae_loss=0.45]\n"
     ]
    },
    {
     "name": "stdout",
     "output_type": "stream",
     "text": [
      "Validation ...\n",
      "Loss is 0.881\n",
      "Elementary quality score is 72.666 / 100\n",
      "Sequence quality score is 11.688 / 100\n",
      "EPOCH 317 takes 0.043 minutes\n",
      "===== EPOCH 318 =====\n",
      "Training ...\n"
     ]
    },
    {
     "name": "stderr",
     "output_type": "stream",
     "text": [
      "100%|██████████| 19/19 [00:02<00:00,  7.61it/s, property_loss=0.01, vae_loss=0.44]\n"
     ]
    },
    {
     "name": "stdout",
     "output_type": "stream",
     "text": [
      "Validation ...\n",
      "Loss is 0.877\n",
      "Elementary quality score is 72.423 / 100\n",
      "Sequence quality score is 8.442 / 100\n",
      "EPOCH 318 takes 0.042 minutes\n",
      "===== EPOCH 319 =====\n",
      "Training ...\n"
     ]
    },
    {
     "name": "stderr",
     "output_type": "stream",
     "text": [
      "100%|██████████| 19/19 [00:02<00:00,  7.73it/s, property_loss=0.00, vae_loss=0.44]\n"
     ]
    },
    {
     "name": "stdout",
     "output_type": "stream",
     "text": [
      "Validation ...\n",
      "Loss is 0.874\n",
      "Elementary quality score is 71.834 / 100\n",
      "Sequence quality score is 13.636 / 100\n",
      "EPOCH 319 takes 0.041 minutes\n",
      "===== EPOCH 320 =====\n",
      "Training ...\n"
     ]
    },
    {
     "name": "stderr",
     "output_type": "stream",
     "text": [
      "100%|██████████| 19/19 [00:02<00:00,  7.64it/s, property_loss=0.00, vae_loss=0.43]\n"
     ]
    },
    {
     "name": "stdout",
     "output_type": "stream",
     "text": [
      "Validation ...\n",
      "Loss is 0.866\n",
      "Elementary quality score is 72.240 / 100\n",
      "Sequence quality score is 13.636 / 100\n",
      "EPOCH 320 takes 0.042 minutes\n",
      "===== EPOCH 321 =====\n",
      "Training ...\n"
     ]
    },
    {
     "name": "stderr",
     "output_type": "stream",
     "text": [
      "100%|██████████| 19/19 [00:02<00:00,  7.74it/s, property_loss=0.00, vae_loss=0.43]\n"
     ]
    },
    {
     "name": "stdout",
     "output_type": "stream",
     "text": [
      "Validation ...\n",
      "Loss is 0.877\n",
      "Elementary quality score is 72.524 / 100\n",
      "Sequence quality score is 9.091 / 100\n",
      "EPOCH 321 takes 0.041 minutes\n",
      "===== EPOCH 322 =====\n",
      "Training ...\n"
     ]
    },
    {
     "name": "stderr",
     "output_type": "stream",
     "text": [
      "100%|██████████| 19/19 [00:02<00:00,  7.71it/s, property_loss=0.00, vae_loss=0.43]\n"
     ]
    },
    {
     "name": "stdout",
     "output_type": "stream",
     "text": [
      "Validation ...\n",
      "Loss is 0.888\n",
      "Elementary quality score is 71.997 / 100\n",
      "Sequence quality score is 9.740 / 100\n",
      "EPOCH 322 takes 0.041 minutes\n",
      "===== EPOCH 323 =====\n",
      "Training ...\n"
     ]
    },
    {
     "name": "stderr",
     "output_type": "stream",
     "text": [
      "100%|██████████| 19/19 [00:02<00:00,  7.60it/s, property_loss=0.00, vae_loss=0.43]\n"
     ]
    },
    {
     "name": "stdout",
     "output_type": "stream",
     "text": [
      "Validation ...\n",
      "Loss is 0.884\n",
      "Elementary quality score is 72.139 / 100\n",
      "Sequence quality score is 11.688 / 100\n",
      "EPOCH 323 takes 0.042 minutes\n",
      "===== EPOCH 324 =====\n",
      "Training ...\n"
     ]
    },
    {
     "name": "stderr",
     "output_type": "stream",
     "text": [
      "100%|██████████| 19/19 [00:02<00:00,  7.63it/s, property_loss=0.00, vae_loss=0.45]\n"
     ]
    },
    {
     "name": "stdout",
     "output_type": "stream",
     "text": [
      "Validation ...\n",
      "Loss is 0.878\n",
      "Elementary quality score is 72.768 / 100\n",
      "Sequence quality score is 9.091 / 100\n",
      "EPOCH 324 takes 0.042 minutes\n",
      "===== EPOCH 325 =====\n",
      "Training ...\n"
     ]
    },
    {
     "name": "stderr",
     "output_type": "stream",
     "text": [
      "100%|██████████| 19/19 [00:02<00:00,  7.71it/s, property_loss=0.01, vae_loss=0.45]\n"
     ]
    },
    {
     "name": "stdout",
     "output_type": "stream",
     "text": [
      "Validation ...\n",
      "Loss is 0.878\n",
      "Elementary quality score is 72.606 / 100\n",
      "Sequence quality score is 6.494 / 100\n",
      "EPOCH 325 takes 0.041 minutes\n",
      "===== EPOCH 326 =====\n",
      "Training ...\n"
     ]
    },
    {
     "name": "stderr",
     "output_type": "stream",
     "text": [
      "100%|██████████| 19/19 [00:02<00:00,  7.68it/s, property_loss=0.00, vae_loss=0.43]\n"
     ]
    },
    {
     "name": "stdout",
     "output_type": "stream",
     "text": [
      "Validation ...\n",
      "Loss is 0.870\n",
      "Elementary quality score is 72.565 / 100\n",
      "Sequence quality score is 8.442 / 100\n",
      "EPOCH 326 takes 0.042 minutes\n",
      "===== EPOCH 327 =====\n",
      "Training ...\n"
     ]
    },
    {
     "name": "stderr",
     "output_type": "stream",
     "text": [
      "100%|██████████| 19/19 [00:02<00:00,  7.66it/s, property_loss=0.01, vae_loss=0.44]\n"
     ]
    },
    {
     "name": "stdout",
     "output_type": "stream",
     "text": [
      "Validation ...\n",
      "Loss is 0.870\n",
      "Elementary quality score is 72.687 / 100\n",
      "Sequence quality score is 11.039 / 100\n",
      "EPOCH 327 takes 0.042 minutes\n",
      "===== EPOCH 328 =====\n",
      "Training ...\n"
     ]
    },
    {
     "name": "stderr",
     "output_type": "stream",
     "text": [
      "100%|██████████| 19/19 [00:02<00:00,  7.69it/s, property_loss=0.01, vae_loss=0.43]\n"
     ]
    },
    {
     "name": "stdout",
     "output_type": "stream",
     "text": [
      "Validation ...\n",
      "Loss is 0.877\n",
      "Elementary quality score is 72.463 / 100\n",
      "Sequence quality score is 9.091 / 100\n",
      "EPOCH 328 takes 0.041 minutes\n",
      "===== EPOCH 329 =====\n",
      "Training ...\n"
     ]
    },
    {
     "name": "stderr",
     "output_type": "stream",
     "text": [
      "100%|██████████| 19/19 [00:02<00:00,  7.72it/s, property_loss=0.01, vae_loss=0.43]\n"
     ]
    },
    {
     "name": "stdout",
     "output_type": "stream",
     "text": [
      "Validation ...\n",
      "Loss is 0.867\n",
      "Elementary quality score is 72.240 / 100\n",
      "Sequence quality score is 10.390 / 100\n",
      "EPOCH 329 takes 0.041 minutes\n",
      "===== EPOCH 330 =====\n",
      "Training ...\n"
     ]
    },
    {
     "name": "stderr",
     "output_type": "stream",
     "text": [
      "100%|██████████| 19/19 [00:02<00:00,  7.72it/s, property_loss=0.01, vae_loss=0.43]\n"
     ]
    },
    {
     "name": "stdout",
     "output_type": "stream",
     "text": [
      "Validation ...\n",
      "Loss is 0.876\n",
      "Elementary quality score is 72.423 / 100\n",
      "Sequence quality score is 7.143 / 100\n",
      "EPOCH 330 takes 0.041 minutes\n",
      "===== EPOCH 331 =====\n",
      "Training ...\n"
     ]
    },
    {
     "name": "stderr",
     "output_type": "stream",
     "text": [
      "100%|██████████| 19/19 [00:02<00:00,  7.67it/s, property_loss=0.01, vae_loss=0.43]\n"
     ]
    },
    {
     "name": "stdout",
     "output_type": "stream",
     "text": [
      "Validation ...\n",
      "Loss is 0.865\n",
      "Elementary quality score is 72.301 / 100\n",
      "Sequence quality score is 8.442 / 100\n",
      "EPOCH 331 takes 0.042 minutes\n",
      "===== EPOCH 332 =====\n",
      "Training ...\n"
     ]
    },
    {
     "name": "stderr",
     "output_type": "stream",
     "text": [
      "100%|██████████| 19/19 [00:02<00:00,  7.57it/s, property_loss=0.01, vae_loss=0.43]\n"
     ]
    },
    {
     "name": "stdout",
     "output_type": "stream",
     "text": [
      "Validation ...\n",
      "Loss is 0.879\n",
      "Elementary quality score is 72.119 / 100\n",
      "Sequence quality score is 8.442 / 100\n",
      "EPOCH 332 takes 0.042 minutes\n",
      "===== EPOCH 333 =====\n",
      "Training ...\n"
     ]
    },
    {
     "name": "stderr",
     "output_type": "stream",
     "text": [
      "100%|██████████| 19/19 [00:02<00:00,  7.70it/s, property_loss=0.01, vae_loss=0.44]\n"
     ]
    },
    {
     "name": "stdout",
     "output_type": "stream",
     "text": [
      "Validation ...\n",
      "Loss is 0.879\n",
      "Elementary quality score is 71.834 / 100\n",
      "Sequence quality score is 12.987 / 100\n",
      "EPOCH 333 takes 0.041 minutes\n",
      "===== EPOCH 334 =====\n",
      "Training ...\n"
     ]
    },
    {
     "name": "stderr",
     "output_type": "stream",
     "text": [
      "100%|██████████| 19/19 [00:02<00:00,  7.67it/s, property_loss=0.01, vae_loss=0.44]\n"
     ]
    },
    {
     "name": "stdout",
     "output_type": "stream",
     "text": [
      "Validation ...\n",
      "Loss is 0.898\n",
      "Elementary quality score is 71.713 / 100\n",
      "Sequence quality score is 12.338 / 100\n",
      "EPOCH 334 takes 0.042 minutes\n",
      "===== EPOCH 335 =====\n",
      "Training ...\n"
     ]
    },
    {
     "name": "stderr",
     "output_type": "stream",
     "text": [
      "100%|██████████| 19/19 [00:02<00:00,  7.62it/s, property_loss=0.01, vae_loss=0.43]\n"
     ]
    },
    {
     "name": "stdout",
     "output_type": "stream",
     "text": [
      "Validation ...\n",
      "Loss is 0.898\n",
      "Elementary quality score is 71.631 / 100\n",
      "Sequence quality score is 9.091 / 100\n",
      "EPOCH 335 takes 0.042 minutes\n",
      "===== EPOCH 336 =====\n",
      "Training ...\n"
     ]
    },
    {
     "name": "stderr",
     "output_type": "stream",
     "text": [
      "100%|██████████| 19/19 [00:02<00:00,  7.74it/s, property_loss=0.01, vae_loss=0.43]\n"
     ]
    },
    {
     "name": "stdout",
     "output_type": "stream",
     "text": [
      "Validation ...\n",
      "Loss is 0.902\n",
      "Elementary quality score is 72.139 / 100\n",
      "Sequence quality score is 8.442 / 100\n",
      "EPOCH 336 takes 0.041 minutes\n",
      "===== EPOCH 337 =====\n",
      "Training ...\n"
     ]
    },
    {
     "name": "stderr",
     "output_type": "stream",
     "text": [
      "100%|██████████| 19/19 [00:02<00:00,  7.68it/s, property_loss=0.00, vae_loss=0.43]\n"
     ]
    },
    {
     "name": "stdout",
     "output_type": "stream",
     "text": [
      "Validation ...\n",
      "Loss is 0.885\n",
      "Elementary quality score is 72.078 / 100\n",
      "Sequence quality score is 14.286 / 100\n",
      "EPOCH 337 takes 0.042 minutes\n",
      "===== EPOCH 338 =====\n",
      "Training ...\n"
     ]
    },
    {
     "name": "stderr",
     "output_type": "stream",
     "text": [
      "100%|██████████| 19/19 [00:02<00:00,  7.75it/s, property_loss=0.00, vae_loss=0.44]\n"
     ]
    },
    {
     "name": "stdout",
     "output_type": "stream",
     "text": [
      "Validation ...\n",
      "Loss is 0.885\n",
      "Elementary quality score is 72.362 / 100\n",
      "Sequence quality score is 12.987 / 100\n",
      "EPOCH 338 takes 0.041 minutes\n",
      "===== EPOCH 339 =====\n",
      "Training ...\n"
     ]
    },
    {
     "name": "stderr",
     "output_type": "stream",
     "text": [
      "100%|██████████| 19/19 [00:02<00:00,  7.58it/s, property_loss=0.00, vae_loss=0.44]\n"
     ]
    },
    {
     "name": "stdout",
     "output_type": "stream",
     "text": [
      "Validation ...\n",
      "Loss is 0.883\n",
      "Elementary quality score is 72.382 / 100\n",
      "Sequence quality score is 9.740 / 100\n",
      "EPOCH 339 takes 0.042 minutes\n",
      "===== EPOCH 340 =====\n",
      "Training ...\n"
     ]
    },
    {
     "name": "stderr",
     "output_type": "stream",
     "text": [
      "100%|██████████| 19/19 [00:02<00:00,  7.61it/s, property_loss=0.00, vae_loss=0.44]\n"
     ]
    },
    {
     "name": "stdout",
     "output_type": "stream",
     "text": [
      "Validation ...\n",
      "Loss is 0.896\n",
      "Elementary quality score is 72.585 / 100\n",
      "Sequence quality score is 12.987 / 100\n",
      "EPOCH 340 takes 0.042 minutes\n",
      "===== EPOCH 341 =====\n",
      "Training ...\n"
     ]
    },
    {
     "name": "stderr",
     "output_type": "stream",
     "text": [
      "100%|██████████| 19/19 [00:02<00:00,  7.77it/s, property_loss=0.01, vae_loss=0.44]\n"
     ]
    },
    {
     "name": "stdout",
     "output_type": "stream",
     "text": [
      "Validation ...\n",
      "Loss is 0.897\n",
      "Elementary quality score is 72.626 / 100\n",
      "Sequence quality score is 7.792 / 100\n",
      "EPOCH 341 takes 0.041 minutes\n",
      "===== EPOCH 342 =====\n",
      "Training ...\n"
     ]
    },
    {
     "name": "stderr",
     "output_type": "stream",
     "text": [
      "100%|██████████| 19/19 [00:02<00:00,  7.58it/s, property_loss=0.00, vae_loss=0.44]\n"
     ]
    },
    {
     "name": "stdout",
     "output_type": "stream",
     "text": [
      "Validation ...\n",
      "Loss is 0.913\n",
      "Elementary quality score is 72.200 / 100\n",
      "Sequence quality score is 11.688 / 100\n",
      "EPOCH 342 takes 0.042 minutes\n",
      "===== EPOCH 343 =====\n",
      "Training ...\n"
     ]
    },
    {
     "name": "stderr",
     "output_type": "stream",
     "text": [
      "100%|██████████| 19/19 [00:02<00:00,  7.71it/s, property_loss=0.00, vae_loss=0.43]\n"
     ]
    },
    {
     "name": "stdout",
     "output_type": "stream",
     "text": [
      "Validation ...\n",
      "Loss is 0.902\n",
      "Elementary quality score is 72.139 / 100\n",
      "Sequence quality score is 9.091 / 100\n",
      "EPOCH 343 takes 0.041 minutes\n",
      "===== EPOCH 344 =====\n",
      "Training ...\n"
     ]
    },
    {
     "name": "stderr",
     "output_type": "stream",
     "text": [
      "100%|██████████| 19/19 [00:02<00:00,  7.63it/s, property_loss=0.00, vae_loss=0.45]\n"
     ]
    },
    {
     "name": "stdout",
     "output_type": "stream",
     "text": [
      "Validation ...\n",
      "Loss is 0.870\n",
      "Elementary quality score is 72.443 / 100\n",
      "Sequence quality score is 12.338 / 100\n",
      "EPOCH 344 takes 0.042 minutes\n",
      "===== EPOCH 345 =====\n",
      "Training ...\n"
     ]
    },
    {
     "name": "stderr",
     "output_type": "stream",
     "text": [
      "100%|██████████| 19/19 [00:02<00:00,  7.65it/s, property_loss=0.01, vae_loss=0.44]\n"
     ]
    },
    {
     "name": "stdout",
     "output_type": "stream",
     "text": [
      "Validation ...\n",
      "Loss is 0.866\n",
      "Elementary quality score is 72.098 / 100\n",
      "Sequence quality score is 12.338 / 100\n",
      "EPOCH 345 takes 0.042 minutes\n",
      "===== EPOCH 346 =====\n",
      "Training ...\n"
     ]
    },
    {
     "name": "stderr",
     "output_type": "stream",
     "text": [
      "100%|██████████| 19/19 [00:02<00:00,  7.64it/s, property_loss=0.01, vae_loss=0.43]\n"
     ]
    },
    {
     "name": "stdout",
     "output_type": "stream",
     "text": [
      "Validation ...\n",
      "Loss is 0.876\n",
      "Elementary quality score is 72.139 / 100\n",
      "Sequence quality score is 12.338 / 100\n",
      "EPOCH 346 takes 0.042 minutes\n",
      "===== EPOCH 347 =====\n",
      "Training ...\n"
     ]
    },
    {
     "name": "stderr",
     "output_type": "stream",
     "text": [
      "100%|██████████| 19/19 [00:02<00:00,  7.71it/s, property_loss=0.00, vae_loss=0.43]\n"
     ]
    },
    {
     "name": "stdout",
     "output_type": "stream",
     "text": [
      "Validation ...\n",
      "Loss is 0.892\n",
      "Elementary quality score is 71.733 / 100\n",
      "Sequence quality score is 10.390 / 100\n",
      "EPOCH 347 takes 0.041 minutes\n",
      "===== EPOCH 348 =====\n",
      "Training ...\n"
     ]
    },
    {
     "name": "stderr",
     "output_type": "stream",
     "text": [
      "100%|██████████| 19/19 [00:02<00:00,  7.61it/s, property_loss=0.00, vae_loss=0.43]\n"
     ]
    },
    {
     "name": "stdout",
     "output_type": "stream",
     "text": [
      "Validation ...\n",
      "Loss is 0.898\n",
      "Elementary quality score is 72.037 / 100\n",
      "Sequence quality score is 14.935 / 100\n",
      "EPOCH 348 takes 0.042 minutes\n",
      "===== EPOCH 349 =====\n",
      "Training ...\n"
     ]
    },
    {
     "name": "stderr",
     "output_type": "stream",
     "text": [
      "100%|██████████| 19/19 [00:02<00:00,  7.66it/s, property_loss=0.00, vae_loss=0.43]\n"
     ]
    },
    {
     "name": "stdout",
     "output_type": "stream",
     "text": [
      "Validation ...\n",
      "Loss is 0.916\n",
      "Elementary quality score is 71.976 / 100\n",
      "Sequence quality score is 10.390 / 100\n",
      "EPOCH 349 takes 0.042 minutes\n",
      "===== EPOCH 350 =====\n",
      "Training ...\n"
     ]
    },
    {
     "name": "stderr",
     "output_type": "stream",
     "text": [
      "100%|██████████| 19/19 [00:02<00:00,  7.64it/s, property_loss=0.00, vae_loss=0.45]\n"
     ]
    },
    {
     "name": "stdout",
     "output_type": "stream",
     "text": [
      "Validation ...\n",
      "Loss is 0.907\n",
      "Elementary quality score is 72.240 / 100\n",
      "Sequence quality score is 8.442 / 100\n",
      "EPOCH 350 takes 0.042 minutes\n",
      "===== EPOCH 351 =====\n",
      "Training ...\n"
     ]
    },
    {
     "name": "stderr",
     "output_type": "stream",
     "text": [
      "100%|██████████| 19/19 [00:02<00:00,  7.62it/s, property_loss=0.00, vae_loss=0.44]\n"
     ]
    },
    {
     "name": "stdout",
     "output_type": "stream",
     "text": [
      "Validation ...\n",
      "Loss is 0.901\n",
      "Elementary quality score is 72.220 / 100\n",
      "Sequence quality score is 9.740 / 100\n",
      "EPOCH 351 takes 0.042 minutes\n",
      "===== EPOCH 352 =====\n",
      "Training ...\n"
     ]
    },
    {
     "name": "stderr",
     "output_type": "stream",
     "text": [
      "100%|██████████| 19/19 [00:02<00:00,  7.76it/s, property_loss=0.00, vae_loss=0.45]\n"
     ]
    },
    {
     "name": "stdout",
     "output_type": "stream",
     "text": [
      "Validation ...\n",
      "Loss is 0.909\n",
      "Elementary quality score is 72.403 / 100\n",
      "Sequence quality score is 7.792 / 100\n",
      "EPOCH 352 takes 0.041 minutes\n",
      "===== EPOCH 353 =====\n",
      "Training ...\n"
     ]
    },
    {
     "name": "stderr",
     "output_type": "stream",
     "text": [
      "100%|██████████| 19/19 [00:02<00:00,  7.66it/s, property_loss=0.01, vae_loss=0.43]\n"
     ]
    },
    {
     "name": "stdout",
     "output_type": "stream",
     "text": [
      "Validation ...\n",
      "Loss is 0.910\n",
      "Elementary quality score is 72.078 / 100\n",
      "Sequence quality score is 9.740 / 100\n",
      "EPOCH 353 takes 0.042 minutes\n",
      "===== EPOCH 354 =====\n",
      "Training ...\n"
     ]
    },
    {
     "name": "stderr",
     "output_type": "stream",
     "text": [
      "100%|██████████| 19/19 [00:02<00:00,  7.38it/s, property_loss=0.01, vae_loss=0.43]\n"
     ]
    },
    {
     "name": "stdout",
     "output_type": "stream",
     "text": [
      "Validation ...\n",
      "Loss is 0.889\n",
      "Elementary quality score is 72.524 / 100\n",
      "Sequence quality score is 8.442 / 100\n",
      "EPOCH 354 takes 0.043 minutes\n",
      "===== EPOCH 355 =====\n",
      "Training ...\n"
     ]
    },
    {
     "name": "stderr",
     "output_type": "stream",
     "text": [
      "100%|██████████| 19/19 [00:02<00:00,  7.49it/s, property_loss=0.00, vae_loss=0.44]\n"
     ]
    },
    {
     "name": "stdout",
     "output_type": "stream",
     "text": [
      "Validation ...\n",
      "Loss is 0.891\n",
      "Elementary quality score is 72.626 / 100\n",
      "Sequence quality score is 14.286 / 100\n",
      "EPOCH 355 takes 0.043 minutes\n",
      "===== EPOCH 356 =====\n",
      "Training ...\n"
     ]
    },
    {
     "name": "stderr",
     "output_type": "stream",
     "text": [
      "100%|██████████| 19/19 [00:02<00:00,  7.59it/s, property_loss=0.01, vae_loss=0.43]\n"
     ]
    },
    {
     "name": "stdout",
     "output_type": "stream",
     "text": [
      "Validation ...\n",
      "Loss is 0.890\n",
      "Elementary quality score is 72.565 / 100\n",
      "Sequence quality score is 8.442 / 100\n",
      "EPOCH 356 takes 0.042 minutes\n",
      "===== EPOCH 357 =====\n",
      "Training ...\n"
     ]
    },
    {
     "name": "stderr",
     "output_type": "stream",
     "text": [
      "100%|██████████| 19/19 [00:02<00:00,  7.65it/s, property_loss=0.01, vae_loss=0.43]\n"
     ]
    },
    {
     "name": "stdout",
     "output_type": "stream",
     "text": [
      "Validation ...\n",
      "Loss is 0.875\n",
      "Elementary quality score is 72.240 / 100\n",
      "Sequence quality score is 9.740 / 100\n",
      "EPOCH 357 takes 0.042 minutes\n",
      "===== EPOCH 358 =====\n",
      "Training ...\n"
     ]
    },
    {
     "name": "stderr",
     "output_type": "stream",
     "text": [
      "100%|██████████| 19/19 [00:02<00:00,  7.60it/s, property_loss=0.01, vae_loss=0.43]\n"
     ]
    },
    {
     "name": "stdout",
     "output_type": "stream",
     "text": [
      "Validation ...\n",
      "Loss is 0.868\n",
      "Elementary quality score is 72.220 / 100\n",
      "Sequence quality score is 12.338 / 100\n",
      "EPOCH 358 takes 0.042 minutes\n",
      "===== EPOCH 359 =====\n",
      "Training ...\n"
     ]
    },
    {
     "name": "stderr",
     "output_type": "stream",
     "text": [
      "100%|██████████| 19/19 [00:02<00:00,  7.51it/s, property_loss=0.01, vae_loss=0.42]\n"
     ]
    },
    {
     "name": "stdout",
     "output_type": "stream",
     "text": [
      "Validation ...\n",
      "Loss is 0.879\n",
      "Elementary quality score is 72.504 / 100\n",
      "Sequence quality score is 10.390 / 100\n",
      "EPOCH 359 takes 0.043 minutes\n",
      "===== EPOCH 360 =====\n",
      "Training ...\n"
     ]
    },
    {
     "name": "stderr",
     "output_type": "stream",
     "text": [
      "100%|██████████| 19/19 [00:02<00:00,  7.58it/s, property_loss=0.01, vae_loss=0.42]\n"
     ]
    },
    {
     "name": "stdout",
     "output_type": "stream",
     "text": [
      "Validation ...\n",
      "Loss is 0.893\n",
      "Elementary quality score is 72.342 / 100\n",
      "Sequence quality score is 11.039 / 100\n",
      "EPOCH 360 takes 0.042 minutes\n",
      "===== EPOCH 361 =====\n",
      "Training ...\n"
     ]
    },
    {
     "name": "stderr",
     "output_type": "stream",
     "text": [
      "100%|██████████| 19/19 [00:02<00:00,  7.62it/s, property_loss=0.00, vae_loss=0.44]\n"
     ]
    },
    {
     "name": "stdout",
     "output_type": "stream",
     "text": [
      "Validation ...\n",
      "Loss is 0.913\n",
      "Elementary quality score is 71.733 / 100\n",
      "Sequence quality score is 13.636 / 100\n",
      "EPOCH 361 takes 0.042 minutes\n",
      "===== EPOCH 362 =====\n",
      "Training ...\n"
     ]
    },
    {
     "name": "stderr",
     "output_type": "stream",
     "text": [
      "100%|██████████| 19/19 [00:02<00:00,  7.67it/s, property_loss=0.01, vae_loss=0.44]\n"
     ]
    },
    {
     "name": "stdout",
     "output_type": "stream",
     "text": [
      "Validation ...\n",
      "Loss is 0.912\n",
      "Elementary quality score is 71.631 / 100\n",
      "Sequence quality score is 11.039 / 100\n",
      "EPOCH 362 takes 0.042 minutes\n",
      "===== EPOCH 363 =====\n",
      "Training ...\n"
     ]
    },
    {
     "name": "stderr",
     "output_type": "stream",
     "text": [
      "100%|██████████| 19/19 [00:03<00:00,  6.27it/s, property_loss=0.01, vae_loss=0.44]\n"
     ]
    },
    {
     "name": "stdout",
     "output_type": "stream",
     "text": [
      "Validation ...\n",
      "Loss is 0.921\n",
      "Elementary quality score is 71.287 / 100\n",
      "Sequence quality score is 12.338 / 100\n",
      "EPOCH 363 takes 0.051 minutes\n",
      "===== EPOCH 364 =====\n",
      "Training ...\n"
     ]
    },
    {
     "name": "stderr",
     "output_type": "stream",
     "text": [
      "100%|██████████| 19/19 [00:02<00:00,  7.61it/s, property_loss=0.01, vae_loss=0.43]\n"
     ]
    },
    {
     "name": "stdout",
     "output_type": "stream",
     "text": [
      "Validation ...\n",
      "Loss is 0.921\n",
      "Elementary quality score is 71.347 / 100\n",
      "Sequence quality score is 11.039 / 100\n",
      "EPOCH 364 takes 0.042 minutes\n",
      "===== EPOCH 365 =====\n",
      "Training ...\n"
     ]
    },
    {
     "name": "stderr",
     "output_type": "stream",
     "text": [
      "100%|██████████| 19/19 [00:02<00:00,  6.50it/s, property_loss=0.00, vae_loss=0.43]\n"
     ]
    },
    {
     "name": "stdout",
     "output_type": "stream",
     "text": [
      "Validation ...\n",
      "Loss is 0.928\n",
      "Elementary quality score is 71.753 / 100\n",
      "Sequence quality score is 11.688 / 100\n",
      "EPOCH 365 takes 0.049 minutes\n",
      "===== EPOCH 366 =====\n",
      "Training ...\n"
     ]
    },
    {
     "name": "stderr",
     "output_type": "stream",
     "text": [
      "100%|██████████| 19/19 [00:02<00:00,  6.61it/s, property_loss=0.00, vae_loss=0.43]\n"
     ]
    },
    {
     "name": "stdout",
     "output_type": "stream",
     "text": [
      "Validation ...\n",
      "Loss is 0.917\n",
      "Elementary quality score is 72.342 / 100\n",
      "Sequence quality score is 10.390 / 100\n",
      "EPOCH 366 takes 0.048 minutes\n",
      "===== EPOCH 367 =====\n",
      "Training ...\n"
     ]
    },
    {
     "name": "stderr",
     "output_type": "stream",
     "text": [
      "100%|██████████| 19/19 [00:02<00:00,  6.68it/s, property_loss=0.00, vae_loss=0.45]\n"
     ]
    },
    {
     "name": "stdout",
     "output_type": "stream",
     "text": [
      "Validation ...\n",
      "Loss is 0.873\n",
      "Elementary quality score is 72.869 / 100\n",
      "Sequence quality score is 9.740 / 100\n",
      "EPOCH 367 takes 0.048 minutes\n",
      "===== EPOCH 368 =====\n",
      "Training ...\n"
     ]
    },
    {
     "name": "stderr",
     "output_type": "stream",
     "text": [
      "100%|██████████| 19/19 [00:02<00:00,  6.64it/s, property_loss=0.00, vae_loss=0.43]\n"
     ]
    },
    {
     "name": "stdout",
     "output_type": "stream",
     "text": [
      "Validation ...\n",
      "Loss is 0.867\n",
      "Elementary quality score is 72.606 / 100\n",
      "Sequence quality score is 11.688 / 100\n",
      "EPOCH 368 takes 0.048 minutes\n",
      "===== EPOCH 369 =====\n",
      "Training ...\n"
     ]
    },
    {
     "name": "stderr",
     "output_type": "stream",
     "text": [
      "100%|██████████| 19/19 [00:02<00:00,  6.85it/s, property_loss=0.00, vae_loss=0.42]\n"
     ]
    },
    {
     "name": "stdout",
     "output_type": "stream",
     "text": [
      "Validation ...\n",
      "Loss is 0.892\n",
      "Elementary quality score is 72.382 / 100\n",
      "Sequence quality score is 13.636 / 100\n",
      "EPOCH 369 takes 0.047 minutes\n",
      "===== EPOCH 370 =====\n",
      "Training ...\n"
     ]
    },
    {
     "name": "stderr",
     "output_type": "stream",
     "text": [
      "100%|██████████| 19/19 [00:02<00:00,  6.87it/s, property_loss=0.01, vae_loss=0.43]\n"
     ]
    },
    {
     "name": "stdout",
     "output_type": "stream",
     "text": [
      "Validation ...\n",
      "Loss is 0.914\n",
      "Elementary quality score is 71.814 / 100\n",
      "Sequence quality score is 12.338 / 100\n",
      "EPOCH 370 takes 0.047 minutes\n",
      "===== EPOCH 371 =====\n",
      "Training ...\n"
     ]
    },
    {
     "name": "stderr",
     "output_type": "stream",
     "text": [
      "100%|██████████| 19/19 [00:02<00:00,  6.88it/s, property_loss=0.00, vae_loss=0.43]\n"
     ]
    },
    {
     "name": "stdout",
     "output_type": "stream",
     "text": [
      "Validation ...\n",
      "Loss is 0.896\n",
      "Elementary quality score is 71.936 / 100\n",
      "Sequence quality score is 12.338 / 100\n",
      "EPOCH 371 takes 0.046 minutes\n",
      "===== EPOCH 372 =====\n",
      "Training ...\n"
     ]
    },
    {
     "name": "stderr",
     "output_type": "stream",
     "text": [
      "100%|██████████| 19/19 [00:02<00:00,  6.50it/s, property_loss=0.00, vae_loss=0.43]\n"
     ]
    },
    {
     "name": "stdout",
     "output_type": "stream",
     "text": [
      "Validation ...\n",
      "Loss is 0.892\n",
      "Elementary quality score is 72.139 / 100\n",
      "Sequence quality score is 10.390 / 100\n",
      "EPOCH 372 takes 0.049 minutes\n",
      "===== EPOCH 373 =====\n",
      "Training ...\n"
     ]
    },
    {
     "name": "stderr",
     "output_type": "stream",
     "text": [
      "100%|██████████| 19/19 [00:02<00:00,  6.81it/s, property_loss=0.00, vae_loss=0.44]\n"
     ]
    },
    {
     "name": "stdout",
     "output_type": "stream",
     "text": [
      "Validation ...\n",
      "Loss is 0.912\n",
      "Elementary quality score is 71.916 / 100\n",
      "Sequence quality score is 11.039 / 100\n",
      "EPOCH 373 takes 0.047 minutes\n",
      "===== EPOCH 374 =====\n",
      "Training ...\n"
     ]
    },
    {
     "name": "stderr",
     "output_type": "stream",
     "text": [
      "100%|██████████| 19/19 [00:03<00:00,  6.19it/s, property_loss=0.00, vae_loss=0.44]\n"
     ]
    },
    {
     "name": "stdout",
     "output_type": "stream",
     "text": [
      "Validation ...\n",
      "Loss is 0.922\n",
      "Elementary quality score is 71.916 / 100\n",
      "Sequence quality score is 9.740 / 100\n",
      "EPOCH 374 takes 0.052 minutes\n",
      "===== EPOCH 375 =====\n",
      "Training ...\n"
     ]
    },
    {
     "name": "stderr",
     "output_type": "stream",
     "text": [
      "100%|██████████| 19/19 [00:02<00:00,  6.71it/s, property_loss=0.00, vae_loss=0.45]\n"
     ]
    },
    {
     "name": "stdout",
     "output_type": "stream",
     "text": [
      "Validation ...\n",
      "Loss is 0.914\n",
      "Elementary quality score is 72.585 / 100\n",
      "Sequence quality score is 9.740 / 100\n",
      "EPOCH 375 takes 0.048 minutes\n",
      "===== EPOCH 376 =====\n",
      "Training ...\n"
     ]
    },
    {
     "name": "stderr",
     "output_type": "stream",
     "text": [
      "100%|██████████| 19/19 [00:02<00:00,  6.76it/s, property_loss=0.00, vae_loss=0.45]\n"
     ]
    },
    {
     "name": "stdout",
     "output_type": "stream",
     "text": [
      "Validation ...\n",
      "Loss is 0.912\n",
      "Elementary quality score is 72.646 / 100\n",
      "Sequence quality score is 9.091 / 100\n",
      "EPOCH 376 takes 0.047 minutes\n",
      "===== EPOCH 377 =====\n",
      "Training ...\n"
     ]
    },
    {
     "name": "stderr",
     "output_type": "stream",
     "text": [
      "100%|██████████| 19/19 [00:02<00:00,  6.66it/s, property_loss=0.00, vae_loss=0.43]\n"
     ]
    },
    {
     "name": "stdout",
     "output_type": "stream",
     "text": [
      "Validation ...\n",
      "Loss is 0.911\n",
      "Elementary quality score is 72.240 / 100\n",
      "Sequence quality score is 10.390 / 100\n",
      "EPOCH 377 takes 0.048 minutes\n",
      "===== EPOCH 378 =====\n",
      "Training ...\n"
     ]
    },
    {
     "name": "stderr",
     "output_type": "stream",
     "text": [
      "100%|██████████| 19/19 [00:03<00:00,  6.14it/s, property_loss=0.00, vae_loss=0.42]\n"
     ]
    },
    {
     "name": "stdout",
     "output_type": "stream",
     "text": [
      "Validation ...\n",
      "Loss is 0.915\n",
      "Elementary quality score is 72.220 / 100\n",
      "Sequence quality score is 14.286 / 100\n",
      "EPOCH 378 takes 0.052 minutes\n",
      "===== EPOCH 379 =====\n",
      "Training ...\n"
     ]
    },
    {
     "name": "stderr",
     "output_type": "stream",
     "text": [
      "100%|██████████| 19/19 [00:02<00:00,  6.61it/s, property_loss=0.00, vae_loss=0.42]\n"
     ]
    },
    {
     "name": "stdout",
     "output_type": "stream",
     "text": [
      "Validation ...\n",
      "Loss is 0.907\n",
      "Elementary quality score is 72.403 / 100\n",
      "Sequence quality score is 10.390 / 100\n",
      "EPOCH 379 takes 0.049 minutes\n",
      "===== EPOCH 380 =====\n",
      "Training ...\n"
     ]
    },
    {
     "name": "stderr",
     "output_type": "stream",
     "text": [
      "100%|██████████| 19/19 [00:02<00:00,  6.97it/s, property_loss=0.01, vae_loss=0.43]\n"
     ]
    },
    {
     "name": "stdout",
     "output_type": "stream",
     "text": [
      "Validation ...\n",
      "Loss is 0.904\n",
      "Elementary quality score is 72.646 / 100\n",
      "Sequence quality score is 8.442 / 100\n",
      "EPOCH 380 takes 0.046 minutes\n",
      "===== EPOCH 381 =====\n",
      "Training ...\n"
     ]
    },
    {
     "name": "stderr",
     "output_type": "stream",
     "text": [
      "100%|██████████| 19/19 [00:02<00:00,  7.15it/s, property_loss=0.01, vae_loss=0.42]\n"
     ]
    },
    {
     "name": "stdout",
     "output_type": "stream",
     "text": [
      "Validation ...\n",
      "Loss is 0.894\n",
      "Elementary quality score is 72.179 / 100\n",
      "Sequence quality score is 11.039 / 100\n",
      "EPOCH 381 takes 0.045 minutes\n",
      "===== EPOCH 382 =====\n",
      "Training ...\n"
     ]
    },
    {
     "name": "stderr",
     "output_type": "stream",
     "text": [
      "100%|██████████| 19/19 [00:02<00:00,  6.94it/s, property_loss=0.00, vae_loss=0.43]\n"
     ]
    },
    {
     "name": "stdout",
     "output_type": "stream",
     "text": [
      "Validation ...\n",
      "Loss is 0.898\n",
      "Elementary quality score is 72.037 / 100\n",
      "Sequence quality score is 12.987 / 100\n",
      "EPOCH 382 takes 0.046 minutes\n",
      "===== EPOCH 383 =====\n",
      "Training ...\n"
     ]
    },
    {
     "name": "stderr",
     "output_type": "stream",
     "text": [
      "100%|██████████| 19/19 [00:02<00:00,  6.59it/s, property_loss=0.00, vae_loss=0.43]\n"
     ]
    },
    {
     "name": "stdout",
     "output_type": "stream",
     "text": [
      "Validation ...\n",
      "Loss is 0.922\n",
      "Elementary quality score is 71.611 / 100\n",
      "Sequence quality score is 10.390 / 100\n",
      "EPOCH 383 takes 0.049 minutes\n",
      "===== EPOCH 384 =====\n",
      "Training ...\n"
     ]
    },
    {
     "name": "stderr",
     "output_type": "stream",
     "text": [
      "100%|██████████| 19/19 [00:02<00:00,  6.73it/s, property_loss=0.00, vae_loss=0.43]\n"
     ]
    },
    {
     "name": "stdout",
     "output_type": "stream",
     "text": [
      "Validation ...\n",
      "Loss is 0.941\n",
      "Elementary quality score is 71.347 / 100\n",
      "Sequence quality score is 16.234 / 100\n",
      "EPOCH 384 takes 0.047 minutes\n",
      "===== EPOCH 385 =====\n",
      "Training ...\n"
     ]
    },
    {
     "name": "stderr",
     "output_type": "stream",
     "text": [
      "100%|██████████| 19/19 [00:02<00:00,  6.85it/s, property_loss=0.00, vae_loss=0.44]\n"
     ]
    },
    {
     "name": "stdout",
     "output_type": "stream",
     "text": [
      "Validation ...\n",
      "Loss is 0.935\n",
      "Elementary quality score is 71.895 / 100\n",
      "Sequence quality score is 12.338 / 100\n",
      "EPOCH 385 takes 0.047 minutes\n",
      "===== EPOCH 386 =====\n",
      "Training ...\n"
     ]
    },
    {
     "name": "stderr",
     "output_type": "stream",
     "text": [
      "100%|██████████| 19/19 [00:02<00:00,  6.70it/s, property_loss=0.00, vae_loss=0.44]\n"
     ]
    },
    {
     "name": "stdout",
     "output_type": "stream",
     "text": [
      "Validation ...\n",
      "Loss is 0.921\n",
      "Elementary quality score is 72.301 / 100\n",
      "Sequence quality score is 11.039 / 100\n",
      "EPOCH 386 takes 0.048 minutes\n",
      "===== EPOCH 387 =====\n",
      "Training ...\n"
     ]
    },
    {
     "name": "stderr",
     "output_type": "stream",
     "text": [
      "100%|██████████| 19/19 [00:02<00:00,  6.92it/s, property_loss=0.00, vae_loss=0.44]\n"
     ]
    },
    {
     "name": "stdout",
     "output_type": "stream",
     "text": [
      "Validation ...\n",
      "Loss is 0.885\n",
      "Elementary quality score is 72.707 / 100\n",
      "Sequence quality score is 9.740 / 100\n",
      "EPOCH 387 takes 0.046 minutes\n",
      "===== EPOCH 388 =====\n",
      "Training ...\n"
     ]
    },
    {
     "name": "stderr",
     "output_type": "stream",
     "text": [
      "100%|██████████| 19/19 [00:02<00:00,  6.55it/s, property_loss=0.00, vae_loss=0.43]\n"
     ]
    },
    {
     "name": "stdout",
     "output_type": "stream",
     "text": [
      "Validation ...\n",
      "Loss is 0.895\n",
      "Elementary quality score is 72.220 / 100\n",
      "Sequence quality score is 11.688 / 100\n",
      "EPOCH 388 takes 0.049 minutes\n",
      "===== EPOCH 389 =====\n",
      "Training ...\n"
     ]
    },
    {
     "name": "stderr",
     "output_type": "stream",
     "text": [
      "100%|██████████| 19/19 [00:02<00:00,  6.35it/s, property_loss=0.01, vae_loss=0.42]\n"
     ]
    },
    {
     "name": "stdout",
     "output_type": "stream",
     "text": [
      "Validation ...\n",
      "Loss is 0.923\n",
      "Elementary quality score is 72.342 / 100\n",
      "Sequence quality score is 14.935 / 100\n",
      "EPOCH 389 takes 0.051 minutes\n",
      "===== EPOCH 390 =====\n",
      "Training ...\n"
     ]
    },
    {
     "name": "stderr",
     "output_type": "stream",
     "text": [
      "100%|██████████| 19/19 [00:02<00:00,  6.86it/s, property_loss=0.01, vae_loss=0.42]\n"
     ]
    },
    {
     "name": "stdout",
     "output_type": "stream",
     "text": [
      "Validation ...\n",
      "Loss is 0.920\n",
      "Elementary quality score is 71.956 / 100\n",
      "Sequence quality score is 10.390 / 100\n",
      "EPOCH 390 takes 0.047 minutes\n",
      "===== EPOCH 391 =====\n",
      "Training ...\n"
     ]
    },
    {
     "name": "stderr",
     "output_type": "stream",
     "text": [
      "100%|██████████| 19/19 [00:02<00:00,  6.56it/s, property_loss=0.00, vae_loss=0.43]\n"
     ]
    },
    {
     "name": "stdout",
     "output_type": "stream",
     "text": [
      "Validation ...\n",
      "Loss is 0.903\n",
      "Elementary quality score is 72.261 / 100\n",
      "Sequence quality score is 14.286 / 100\n",
      "EPOCH 391 takes 0.049 minutes\n",
      "===== EPOCH 392 =====\n",
      "Training ...\n"
     ]
    },
    {
     "name": "stderr",
     "output_type": "stream",
     "text": [
      "100%|██████████| 19/19 [00:02<00:00,  6.82it/s, property_loss=0.00, vae_loss=0.42]\n"
     ]
    },
    {
     "name": "stdout",
     "output_type": "stream",
     "text": [
      "Validation ...\n",
      "Loss is 0.908\n",
      "Elementary quality score is 72.098 / 100\n",
      "Sequence quality score is 11.039 / 100\n",
      "EPOCH 392 takes 0.047 minutes\n",
      "===== EPOCH 393 =====\n",
      "Training ...\n"
     ]
    },
    {
     "name": "stderr",
     "output_type": "stream",
     "text": [
      "100%|██████████| 19/19 [00:02<00:00,  6.80it/s, property_loss=0.00, vae_loss=0.42]\n"
     ]
    },
    {
     "name": "stdout",
     "output_type": "stream",
     "text": [
      "Validation ...\n",
      "Loss is 0.913\n",
      "Elementary quality score is 71.916 / 100\n",
      "Sequence quality score is 12.338 / 100\n",
      "EPOCH 393 takes 0.047 minutes\n",
      "===== EPOCH 394 =====\n",
      "Training ...\n"
     ]
    },
    {
     "name": "stderr",
     "output_type": "stream",
     "text": [
      "100%|██████████| 19/19 [00:02<00:00,  6.85it/s, property_loss=0.00, vae_loss=0.43]\n"
     ]
    },
    {
     "name": "stdout",
     "output_type": "stream",
     "text": [
      "Validation ...\n",
      "Loss is 0.912\n",
      "Elementary quality score is 72.098 / 100\n",
      "Sequence quality score is 12.338 / 100\n",
      "EPOCH 394 takes 0.047 minutes\n",
      "===== EPOCH 395 =====\n",
      "Training ...\n"
     ]
    },
    {
     "name": "stderr",
     "output_type": "stream",
     "text": [
      "100%|██████████| 19/19 [00:02<00:00,  6.87it/s, property_loss=0.00, vae_loss=0.44]\n"
     ]
    },
    {
     "name": "stdout",
     "output_type": "stream",
     "text": [
      "Validation ...\n",
      "Loss is 0.930\n",
      "Elementary quality score is 71.895 / 100\n",
      "Sequence quality score is 11.039 / 100\n",
      "EPOCH 395 takes 0.047 minutes\n",
      "===== EPOCH 396 =====\n",
      "Training ...\n"
     ]
    },
    {
     "name": "stderr",
     "output_type": "stream",
     "text": [
      "100%|██████████| 19/19 [00:02<00:00,  6.74it/s, property_loss=0.01, vae_loss=0.45]\n"
     ]
    },
    {
     "name": "stdout",
     "output_type": "stream",
     "text": [
      "Validation ...\n",
      "Loss is 0.934\n",
      "Elementary quality score is 71.510 / 100\n",
      "Sequence quality score is 8.442 / 100\n",
      "EPOCH 396 takes 0.048 minutes\n",
      "===== EPOCH 397 =====\n",
      "Training ...\n"
     ]
    },
    {
     "name": "stderr",
     "output_type": "stream",
     "text": [
      "100%|██████████| 19/19 [00:02<00:00,  6.75it/s, property_loss=0.00, vae_loss=0.44]\n"
     ]
    },
    {
     "name": "stdout",
     "output_type": "stream",
     "text": [
      "Validation ...\n",
      "Loss is 0.928\n",
      "Elementary quality score is 72.200 / 100\n",
      "Sequence quality score is 11.688 / 100\n",
      "EPOCH 397 takes 0.048 minutes\n",
      "===== EPOCH 398 =====\n",
      "Training ...\n"
     ]
    },
    {
     "name": "stderr",
     "output_type": "stream",
     "text": [
      "100%|██████████| 19/19 [00:02<00:00,  6.91it/s, property_loss=0.00, vae_loss=0.43]\n"
     ]
    },
    {
     "name": "stdout",
     "output_type": "stream",
     "text": [
      "Validation ...\n",
      "Loss is 0.906\n",
      "Elementary quality score is 72.403 / 100\n",
      "Sequence quality score is 11.688 / 100\n",
      "EPOCH 398 takes 0.046 minutes\n",
      "===== EPOCH 399 =====\n",
      "Training ...\n"
     ]
    },
    {
     "name": "stderr",
     "output_type": "stream",
     "text": [
      "100%|██████████| 19/19 [00:02<00:00,  6.90it/s, property_loss=0.00, vae_loss=0.41]\n"
     ]
    },
    {
     "name": "stdout",
     "output_type": "stream",
     "text": [
      "Validation ...\n",
      "Loss is 0.906\n",
      "Elementary quality score is 72.403 / 100\n",
      "Sequence quality score is 11.688 / 100\n",
      "EPOCH 399 takes 0.046 minutes\n",
      "===== EPOCH 400 =====\n",
      "Training ...\n"
     ]
    },
    {
     "name": "stderr",
     "output_type": "stream",
     "text": [
      "100%|██████████| 19/19 [00:02<00:00,  6.97it/s, property_loss=0.00, vae_loss=0.43]\n"
     ]
    },
    {
     "name": "stdout",
     "output_type": "stream",
     "text": [
      "Validation ...\n",
      "Loss is 0.921\n",
      "Elementary quality score is 72.119 / 100\n",
      "Sequence quality score is 10.390 / 100\n",
      "EPOCH 400 takes 0.046 minutes\n",
      "===== EPOCH 401 =====\n",
      "Training ...\n"
     ]
    },
    {
     "name": "stderr",
     "output_type": "stream",
     "text": [
      "100%|██████████| 19/19 [00:02<00:00,  7.09it/s, property_loss=0.00, vae_loss=0.42]\n"
     ]
    },
    {
     "name": "stdout",
     "output_type": "stream",
     "text": [
      "Validation ...\n",
      "Loss is 0.925\n",
      "Elementary quality score is 72.281 / 100\n",
      "Sequence quality score is 9.740 / 100\n",
      "EPOCH 401 takes 0.045 minutes\n",
      "===== EPOCH 402 =====\n",
      "Training ...\n"
     ]
    },
    {
     "name": "stderr",
     "output_type": "stream",
     "text": [
      "100%|██████████| 19/19 [00:02<00:00,  6.62it/s, property_loss=0.00, vae_loss=0.43]\n"
     ]
    },
    {
     "name": "stdout",
     "output_type": "stream",
     "text": [
      "Validation ...\n",
      "Loss is 0.916\n",
      "Elementary quality score is 72.463 / 100\n",
      "Sequence quality score is 11.039 / 100\n",
      "EPOCH 402 takes 0.048 minutes\n",
      "===== EPOCH 403 =====\n",
      "Training ...\n"
     ]
    },
    {
     "name": "stderr",
     "output_type": "stream",
     "text": [
      "100%|██████████| 19/19 [00:02<00:00,  6.80it/s, property_loss=0.00, vae_loss=0.42]\n"
     ]
    },
    {
     "name": "stdout",
     "output_type": "stream",
     "text": [
      "Validation ...\n",
      "Loss is 0.911\n",
      "Elementary quality score is 72.281 / 100\n",
      "Sequence quality score is 10.390 / 100\n",
      "EPOCH 403 takes 0.047 minutes\n",
      "===== EPOCH 404 =====\n",
      "Training ...\n"
     ]
    },
    {
     "name": "stderr",
     "output_type": "stream",
     "text": [
      "100%|██████████| 19/19 [00:02<00:00,  6.80it/s, property_loss=0.01, vae_loss=0.42]\n"
     ]
    },
    {
     "name": "stdout",
     "output_type": "stream",
     "text": [
      "Validation ...\n",
      "Loss is 0.925\n",
      "Elementary quality score is 71.956 / 100\n",
      "Sequence quality score is 12.338 / 100\n",
      "EPOCH 404 takes 0.047 minutes\n",
      "===== EPOCH 405 =====\n",
      "Training ...\n"
     ]
    },
    {
     "name": "stderr",
     "output_type": "stream",
     "text": [
      "100%|██████████| 19/19 [00:02<00:00,  6.42it/s, property_loss=0.00, vae_loss=0.43]\n"
     ]
    },
    {
     "name": "stdout",
     "output_type": "stream",
     "text": [
      "Validation ...\n",
      "Loss is 0.907\n",
      "Elementary quality score is 72.524 / 100\n",
      "Sequence quality score is 8.442 / 100\n",
      "EPOCH 405 takes 0.050 minutes\n",
      "===== EPOCH 406 =====\n",
      "Training ...\n"
     ]
    },
    {
     "name": "stderr",
     "output_type": "stream",
     "text": [
      "100%|██████████| 19/19 [00:02<00:00,  6.59it/s, property_loss=0.00, vae_loss=0.43]\n"
     ]
    },
    {
     "name": "stdout",
     "output_type": "stream",
     "text": [
      "Validation ...\n",
      "Loss is 0.924\n",
      "Elementary quality score is 71.976 / 100\n",
      "Sequence quality score is 14.286 / 100\n",
      "EPOCH 406 takes 0.049 minutes\n",
      "===== EPOCH 407 =====\n",
      "Training ...\n"
     ]
    },
    {
     "name": "stderr",
     "output_type": "stream",
     "text": [
      "100%|██████████| 19/19 [00:02<00:00,  6.47it/s, property_loss=0.01, vae_loss=0.43]\n"
     ]
    },
    {
     "name": "stdout",
     "output_type": "stream",
     "text": [
      "Validation ...\n",
      "Loss is 0.936\n",
      "Elementary quality score is 71.733 / 100\n",
      "Sequence quality score is 7.143 / 100\n",
      "EPOCH 407 takes 0.050 minutes\n",
      "===== EPOCH 408 =====\n",
      "Training ...\n"
     ]
    },
    {
     "name": "stderr",
     "output_type": "stream",
     "text": [
      "100%|██████████| 19/19 [00:02<00:00,  6.90it/s, property_loss=0.01, vae_loss=0.42]\n"
     ]
    },
    {
     "name": "stdout",
     "output_type": "stream",
     "text": [
      "Validation ...\n",
      "Loss is 0.949\n",
      "Elementary quality score is 71.733 / 100\n",
      "Sequence quality score is 11.039 / 100\n",
      "EPOCH 408 takes 0.046 minutes\n",
      "===== EPOCH 409 =====\n",
      "Training ...\n"
     ]
    },
    {
     "name": "stderr",
     "output_type": "stream",
     "text": [
      "100%|██████████| 19/19 [00:02<00:00,  7.01it/s, property_loss=0.00, vae_loss=0.43]\n"
     ]
    },
    {
     "name": "stdout",
     "output_type": "stream",
     "text": [
      "Validation ...\n",
      "Loss is 0.939\n",
      "Elementary quality score is 71.672 / 100\n",
      "Sequence quality score is 7.792 / 100\n",
      "EPOCH 409 takes 0.046 minutes\n",
      "===== EPOCH 410 =====\n",
      "Training ...\n"
     ]
    },
    {
     "name": "stderr",
     "output_type": "stream",
     "text": [
      "100%|██████████| 19/19 [00:02<00:00,  6.42it/s, property_loss=0.00, vae_loss=0.44]\n"
     ]
    },
    {
     "name": "stdout",
     "output_type": "stream",
     "text": [
      "Validation ...\n",
      "Loss is 0.923\n",
      "Elementary quality score is 71.956 / 100\n",
      "Sequence quality score is 10.390 / 100\n",
      "EPOCH 410 takes 0.050 minutes\n",
      "===== EPOCH 411 =====\n",
      "Training ...\n"
     ]
    },
    {
     "name": "stderr",
     "output_type": "stream",
     "text": [
      "100%|██████████| 19/19 [00:03<00:00,  6.28it/s, property_loss=0.01, vae_loss=0.43]\n"
     ]
    },
    {
     "name": "stdout",
     "output_type": "stream",
     "text": [
      "Validation ...\n",
      "Loss is 0.903\n",
      "Elementary quality score is 71.997 / 100\n",
      "Sequence quality score is 11.039 / 100\n",
      "EPOCH 411 takes 0.051 minutes\n",
      "===== EPOCH 412 =====\n",
      "Training ...\n"
     ]
    },
    {
     "name": "stderr",
     "output_type": "stream",
     "text": [
      "100%|██████████| 19/19 [00:02<00:00,  6.93it/s, property_loss=0.00, vae_loss=0.42]\n"
     ]
    },
    {
     "name": "stdout",
     "output_type": "stream",
     "text": [
      "Validation ...\n",
      "Loss is 0.900\n",
      "Elementary quality score is 72.808 / 100\n",
      "Sequence quality score is 11.039 / 100\n",
      "EPOCH 412 takes 0.046 minutes\n",
      "===== EPOCH 413 =====\n",
      "Training ...\n"
     ]
    },
    {
     "name": "stderr",
     "output_type": "stream",
     "text": [
      "100%|██████████| 19/19 [00:02<00:00,  7.14it/s, property_loss=0.00, vae_loss=0.41]\n"
     ]
    },
    {
     "name": "stdout",
     "output_type": "stream",
     "text": [
      "Validation ...\n",
      "Loss is 0.913\n",
      "Elementary quality score is 72.524 / 100\n",
      "Sequence quality score is 10.390 / 100\n",
      "EPOCH 413 takes 0.045 minutes\n",
      "===== EPOCH 414 =====\n",
      "Training ...\n"
     ]
    },
    {
     "name": "stderr",
     "output_type": "stream",
     "text": [
      "100%|██████████| 19/19 [00:02<00:00,  6.76it/s, property_loss=0.00, vae_loss=0.42]\n"
     ]
    },
    {
     "name": "stdout",
     "output_type": "stream",
     "text": [
      "Validation ...\n",
      "Loss is 0.944\n",
      "Elementary quality score is 72.017 / 100\n",
      "Sequence quality score is 10.390 / 100\n",
      "EPOCH 414 takes 0.047 minutes\n",
      "===== EPOCH 415 =====\n",
      "Training ...\n"
     ]
    },
    {
     "name": "stderr",
     "output_type": "stream",
     "text": [
      "100%|██████████| 19/19 [00:02<00:00,  6.58it/s, property_loss=0.00, vae_loss=0.43]\n"
     ]
    },
    {
     "name": "stdout",
     "output_type": "stream",
     "text": [
      "Validation ...\n",
      "Loss is 0.956\n",
      "Elementary quality score is 71.550 / 100\n",
      "Sequence quality score is 14.935 / 100\n",
      "EPOCH 415 takes 0.049 minutes\n",
      "===== EPOCH 416 =====\n",
      "Training ...\n"
     ]
    },
    {
     "name": "stderr",
     "output_type": "stream",
     "text": [
      "100%|██████████| 19/19 [00:02<00:00,  6.93it/s, property_loss=0.00, vae_loss=0.43]\n"
     ]
    },
    {
     "name": "stdout",
     "output_type": "stream",
     "text": [
      "Validation ...\n",
      "Loss is 0.940\n",
      "Elementary quality score is 71.287 / 100\n",
      "Sequence quality score is 11.688 / 100\n",
      "EPOCH 416 takes 0.046 minutes\n",
      "===== EPOCH 417 =====\n",
      "Training ...\n"
     ]
    },
    {
     "name": "stderr",
     "output_type": "stream",
     "text": [
      "100%|██████████| 19/19 [00:02<00:00,  7.10it/s, property_loss=0.00, vae_loss=0.42]\n"
     ]
    },
    {
     "name": "stdout",
     "output_type": "stream",
     "text": [
      "Validation ...\n",
      "Loss is 0.924\n",
      "Elementary quality score is 71.916 / 100\n",
      "Sequence quality score is 14.286 / 100\n",
      "EPOCH 417 takes 0.045 minutes\n",
      "===== EPOCH 418 =====\n",
      "Training ...\n"
     ]
    },
    {
     "name": "stderr",
     "output_type": "stream",
     "text": [
      "100%|██████████| 19/19 [00:02<00:00,  6.93it/s, property_loss=0.00, vae_loss=0.44]\n"
     ]
    },
    {
     "name": "stdout",
     "output_type": "stream",
     "text": [
      "Validation ...\n",
      "Loss is 0.913\n",
      "Elementary quality score is 72.504 / 100\n",
      "Sequence quality score is 8.442 / 100\n",
      "EPOCH 418 takes 0.046 minutes\n",
      "===== EPOCH 419 =====\n",
      "Training ...\n"
     ]
    },
    {
     "name": "stderr",
     "output_type": "stream",
     "text": [
      "100%|██████████| 19/19 [00:02<00:00,  6.80it/s, property_loss=0.00, vae_loss=0.44]\n"
     ]
    },
    {
     "name": "stdout",
     "output_type": "stream",
     "text": [
      "Validation ...\n",
      "Loss is 0.918\n",
      "Elementary quality score is 72.504 / 100\n",
      "Sequence quality score is 10.390 / 100\n",
      "EPOCH 419 takes 0.047 minutes\n",
      "===== EPOCH 420 =====\n",
      "Training ...\n"
     ]
    },
    {
     "name": "stderr",
     "output_type": "stream",
     "text": [
      "100%|██████████| 19/19 [00:02<00:00,  6.71it/s, property_loss=0.00, vae_loss=0.42]\n"
     ]
    },
    {
     "name": "stdout",
     "output_type": "stream",
     "text": [
      "Validation ...\n",
      "Loss is 0.920\n",
      "Elementary quality score is 72.423 / 100\n",
      "Sequence quality score is 6.494 / 100\n",
      "EPOCH 420 takes 0.048 minutes\n",
      "===== EPOCH 421 =====\n",
      "Training ...\n"
     ]
    },
    {
     "name": "stderr",
     "output_type": "stream",
     "text": [
      "100%|██████████| 19/19 [00:02<00:00,  6.95it/s, property_loss=0.00, vae_loss=0.43]\n"
     ]
    },
    {
     "name": "stdout",
     "output_type": "stream",
     "text": [
      "Validation ...\n",
      "Loss is 0.917\n",
      "Elementary quality score is 72.585 / 100\n",
      "Sequence quality score is 10.390 / 100\n",
      "EPOCH 421 takes 0.046 minutes\n",
      "===== EPOCH 422 =====\n",
      "Training ...\n"
     ]
    },
    {
     "name": "stderr",
     "output_type": "stream",
     "text": [
      "100%|██████████| 19/19 [00:02<00:00,  6.88it/s, property_loss=0.00, vae_loss=0.42]\n"
     ]
    },
    {
     "name": "stdout",
     "output_type": "stream",
     "text": [
      "Validation ...\n",
      "Loss is 0.907\n",
      "Elementary quality score is 72.058 / 100\n",
      "Sequence quality score is 10.390 / 100\n",
      "EPOCH 422 takes 0.047 minutes\n",
      "===== EPOCH 423 =====\n",
      "Training ...\n"
     ]
    },
    {
     "name": "stderr",
     "output_type": "stream",
     "text": [
      "100%|██████████| 19/19 [00:02<00:00,  6.74it/s, property_loss=0.00, vae_loss=0.43]\n"
     ]
    },
    {
     "name": "stdout",
     "output_type": "stream",
     "text": [
      "Validation ...\n",
      "Loss is 0.938\n",
      "Elementary quality score is 71.226 / 100\n",
      "Sequence quality score is 7.143 / 100\n",
      "EPOCH 423 takes 0.047 minutes\n",
      "===== EPOCH 424 =====\n",
      "Training ...\n"
     ]
    },
    {
     "name": "stderr",
     "output_type": "stream",
     "text": [
      "100%|██████████| 19/19 [00:02<00:00,  6.77it/s, property_loss=0.01, vae_loss=0.42]\n"
     ]
    },
    {
     "name": "stdout",
     "output_type": "stream",
     "text": [
      "Validation ...\n",
      "Loss is 0.924\n",
      "Elementary quality score is 72.017 / 100\n",
      "Sequence quality score is 9.091 / 100\n",
      "EPOCH 424 takes 0.047 minutes\n",
      "===== EPOCH 425 =====\n",
      "Training ...\n"
     ]
    },
    {
     "name": "stderr",
     "output_type": "stream",
     "text": [
      "100%|██████████| 19/19 [00:02<00:00,  6.72it/s, property_loss=0.00, vae_loss=0.42]\n"
     ]
    },
    {
     "name": "stdout",
     "output_type": "stream",
     "text": [
      "Validation ...\n",
      "Loss is 0.932\n",
      "Elementary quality score is 72.017 / 100\n",
      "Sequence quality score is 10.390 / 100\n",
      "EPOCH 425 takes 0.048 minutes\n",
      "===== EPOCH 426 =====\n",
      "Training ...\n"
     ]
    },
    {
     "name": "stderr",
     "output_type": "stream",
     "text": [
      "100%|██████████| 19/19 [00:02<00:00,  6.89it/s, property_loss=0.00, vae_loss=0.43]\n"
     ]
    },
    {
     "name": "stdout",
     "output_type": "stream",
     "text": [
      "Validation ...\n",
      "Loss is 0.939\n",
      "Elementary quality score is 72.220 / 100\n",
      "Sequence quality score is 8.442 / 100\n",
      "EPOCH 426 takes 0.046 minutes\n",
      "===== EPOCH 427 =====\n",
      "Training ...\n"
     ]
    },
    {
     "name": "stderr",
     "output_type": "stream",
     "text": [
      "100%|██████████| 19/19 [00:02<00:00,  6.83it/s, property_loss=0.00, vae_loss=0.44]\n"
     ]
    },
    {
     "name": "stdout",
     "output_type": "stream",
     "text": [
      "Validation ...\n",
      "Loss is 0.917\n",
      "Elementary quality score is 72.443 / 100\n",
      "Sequence quality score is 8.442 / 100\n",
      "EPOCH 427 takes 0.047 minutes\n",
      "===== EPOCH 428 =====\n",
      "Training ...\n"
     ]
    },
    {
     "name": "stderr",
     "output_type": "stream",
     "text": [
      "100%|██████████| 19/19 [00:02<00:00,  6.86it/s, property_loss=0.01, vae_loss=0.42]\n"
     ]
    },
    {
     "name": "stdout",
     "output_type": "stream",
     "text": [
      "Validation ...\n",
      "Loss is 0.915\n",
      "Elementary quality score is 72.342 / 100\n",
      "Sequence quality score is 12.987 / 100\n",
      "EPOCH 428 takes 0.047 minutes\n",
      "===== EPOCH 429 =====\n",
      "Training ...\n"
     ]
    },
    {
     "name": "stderr",
     "output_type": "stream",
     "text": [
      "100%|██████████| 19/19 [00:02<00:00,  7.08it/s, property_loss=0.00, vae_loss=0.42]\n"
     ]
    },
    {
     "name": "stdout",
     "output_type": "stream",
     "text": [
      "Validation ...\n",
      "Loss is 0.914\n",
      "Elementary quality score is 72.240 / 100\n",
      "Sequence quality score is 10.390 / 100\n",
      "EPOCH 429 takes 0.045 minutes\n",
      "===== EPOCH 430 =====\n",
      "Training ...\n"
     ]
    },
    {
     "name": "stderr",
     "output_type": "stream",
     "text": [
      "100%|██████████| 19/19 [00:02<00:00,  6.82it/s, property_loss=0.00, vae_loss=0.42]\n"
     ]
    },
    {
     "name": "stdout",
     "output_type": "stream",
     "text": [
      "Validation ...\n",
      "Loss is 0.937\n",
      "Elementary quality score is 72.037 / 100\n",
      "Sequence quality score is 9.740 / 100\n",
      "EPOCH 430 takes 0.047 minutes\n",
      "===== EPOCH 431 =====\n",
      "Training ...\n"
     ]
    },
    {
     "name": "stderr",
     "output_type": "stream",
     "text": [
      "100%|██████████| 19/19 [00:02<00:00,  6.74it/s, property_loss=0.00, vae_loss=0.41]\n"
     ]
    },
    {
     "name": "stdout",
     "output_type": "stream",
     "text": [
      "Validation ...\n",
      "Loss is 0.927\n",
      "Elementary quality score is 71.753 / 100\n",
      "Sequence quality score is 11.688 / 100\n",
      "EPOCH 431 takes 0.047 minutes\n",
      "===== EPOCH 432 =====\n",
      "Training ...\n"
     ]
    },
    {
     "name": "stderr",
     "output_type": "stream",
     "text": [
      "100%|██████████| 19/19 [00:02<00:00,  6.70it/s, property_loss=0.01, vae_loss=0.41]\n"
     ]
    },
    {
     "name": "stdout",
     "output_type": "stream",
     "text": [
      "Validation ...\n",
      "Loss is 0.937\n",
      "Elementary quality score is 71.855 / 100\n",
      "Sequence quality score is 12.987 / 100\n",
      "EPOCH 432 takes 0.048 minutes\n",
      "===== EPOCH 433 =====\n",
      "Training ...\n"
     ]
    },
    {
     "name": "stderr",
     "output_type": "stream",
     "text": [
      "100%|██████████| 19/19 [00:02<00:00,  6.92it/s, property_loss=0.00, vae_loss=0.42]\n"
     ]
    },
    {
     "name": "stdout",
     "output_type": "stream",
     "text": [
      "Validation ...\n",
      "Loss is 0.940\n",
      "Elementary quality score is 71.794 / 100\n",
      "Sequence quality score is 14.935 / 100\n",
      "EPOCH 433 takes 0.046 minutes\n",
      "===== EPOCH 434 =====\n",
      "Training ...\n"
     ]
    },
    {
     "name": "stderr",
     "output_type": "stream",
     "text": [
      "100%|██████████| 19/19 [00:02<00:00,  6.67it/s, property_loss=0.00, vae_loss=0.44]\n"
     ]
    },
    {
     "name": "stdout",
     "output_type": "stream",
     "text": [
      "Validation ...\n",
      "Loss is 0.922\n",
      "Elementary quality score is 71.976 / 100\n",
      "Sequence quality score is 9.740 / 100\n",
      "EPOCH 434 takes 0.048 minutes\n",
      "===== EPOCH 435 =====\n",
      "Training ...\n"
     ]
    },
    {
     "name": "stderr",
     "output_type": "stream",
     "text": [
      "100%|██████████| 19/19 [00:02<00:00,  6.89it/s, property_loss=0.00, vae_loss=0.43]\n"
     ]
    },
    {
     "name": "stdout",
     "output_type": "stream",
     "text": [
      "Validation ...\n",
      "Loss is 0.935\n",
      "Elementary quality score is 71.936 / 100\n",
      "Sequence quality score is 7.792 / 100\n",
      "EPOCH 435 takes 0.046 minutes\n",
      "===== EPOCH 436 =====\n",
      "Training ...\n"
     ]
    },
    {
     "name": "stderr",
     "output_type": "stream",
     "text": [
      "100%|██████████| 19/19 [00:02<00:00,  6.56it/s, property_loss=0.00, vae_loss=0.43]\n"
     ]
    },
    {
     "name": "stdout",
     "output_type": "stream",
     "text": [
      "Validation ...\n",
      "Loss is 0.932\n",
      "Elementary quality score is 72.788 / 100\n",
      "Sequence quality score is 8.442 / 100\n",
      "EPOCH 436 takes 0.049 minutes\n",
      "===== EPOCH 437 =====\n",
      "Training ...\n"
     ]
    },
    {
     "name": "stderr",
     "output_type": "stream",
     "text": [
      "100%|██████████| 19/19 [00:02<00:00,  6.86it/s, property_loss=0.00, vae_loss=0.42]\n"
     ]
    },
    {
     "name": "stdout",
     "output_type": "stream",
     "text": [
      "Validation ...\n",
      "Loss is 0.939\n",
      "Elementary quality score is 72.362 / 100\n",
      "Sequence quality score is 9.740 / 100\n",
      "EPOCH 437 takes 0.047 minutes\n",
      "===== EPOCH 438 =====\n",
      "Training ...\n"
     ]
    },
    {
     "name": "stderr",
     "output_type": "stream",
     "text": [
      "100%|██████████| 19/19 [00:02<00:00,  6.62it/s, property_loss=0.00, vae_loss=0.41]\n"
     ]
    },
    {
     "name": "stdout",
     "output_type": "stream",
     "text": [
      "Validation ...\n",
      "Loss is 0.934\n",
      "Elementary quality score is 72.200 / 100\n",
      "Sequence quality score is 9.740 / 100\n",
      "EPOCH 438 takes 0.048 minutes\n",
      "===== EPOCH 439 =====\n",
      "Training ...\n"
     ]
    },
    {
     "name": "stderr",
     "output_type": "stream",
     "text": [
      "100%|██████████| 19/19 [00:02<00:00,  6.81it/s, property_loss=0.00, vae_loss=0.41]\n"
     ]
    },
    {
     "name": "stdout",
     "output_type": "stream",
     "text": [
      "Validation ...\n",
      "Loss is 0.926\n",
      "Elementary quality score is 72.301 / 100\n",
      "Sequence quality score is 11.039 / 100\n",
      "EPOCH 439 takes 0.047 minutes\n",
      "===== EPOCH 440 =====\n",
      "Training ...\n"
     ]
    },
    {
     "name": "stderr",
     "output_type": "stream",
     "text": [
      "100%|██████████| 19/19 [00:02<00:00,  7.12it/s, property_loss=0.01, vae_loss=0.41]\n"
     ]
    },
    {
     "name": "stdout",
     "output_type": "stream",
     "text": [
      "Validation ...\n",
      "Loss is 0.934\n",
      "Elementary quality score is 71.936 / 100\n",
      "Sequence quality score is 13.636 / 100\n",
      "EPOCH 440 takes 0.045 minutes\n",
      "===== EPOCH 441 =====\n",
      "Training ...\n"
     ]
    },
    {
     "name": "stderr",
     "output_type": "stream",
     "text": [
      "100%|██████████| 19/19 [00:02<00:00,  7.13it/s, property_loss=0.00, vae_loss=0.42]\n"
     ]
    },
    {
     "name": "stdout",
     "output_type": "stream",
     "text": [
      "Validation ...\n",
      "Loss is 0.927\n",
      "Elementary quality score is 71.733 / 100\n",
      "Sequence quality score is 7.792 / 100\n",
      "EPOCH 441 takes 0.045 minutes\n",
      "===== EPOCH 442 =====\n",
      "Training ...\n"
     ]
    },
    {
     "name": "stderr",
     "output_type": "stream",
     "text": [
      "100%|██████████| 19/19 [00:02<00:00,  6.86it/s, property_loss=0.00, vae_loss=0.42]\n"
     ]
    },
    {
     "name": "stdout",
     "output_type": "stream",
     "text": [
      "Validation ...\n",
      "Loss is 0.923\n",
      "Elementary quality score is 71.976 / 100\n",
      "Sequence quality score is 9.091 / 100\n",
      "EPOCH 442 takes 0.047 minutes\n",
      "===== EPOCH 443 =====\n",
      "Training ...\n"
     ]
    },
    {
     "name": "stderr",
     "output_type": "stream",
     "text": [
      "100%|██████████| 19/19 [00:02<00:00,  6.86it/s, property_loss=0.00, vae_loss=0.43]\n"
     ]
    },
    {
     "name": "stdout",
     "output_type": "stream",
     "text": [
      "Validation ...\n",
      "Loss is 0.928\n",
      "Elementary quality score is 72.220 / 100\n",
      "Sequence quality score is 10.390 / 100\n",
      "EPOCH 443 takes 0.047 minutes\n",
      "===== EPOCH 444 =====\n",
      "Training ...\n"
     ]
    },
    {
     "name": "stderr",
     "output_type": "stream",
     "text": [
      "100%|██████████| 19/19 [00:02<00:00,  6.40it/s, property_loss=0.01, vae_loss=0.43]\n"
     ]
    },
    {
     "name": "stdout",
     "output_type": "stream",
     "text": [
      "Validation ...\n",
      "Loss is 0.936\n",
      "Elementary quality score is 72.403 / 100\n",
      "Sequence quality score is 8.442 / 100\n",
      "EPOCH 444 takes 0.050 minutes\n",
      "===== EPOCH 445 =====\n",
      "Training ...\n"
     ]
    },
    {
     "name": "stderr",
     "output_type": "stream",
     "text": [
      "100%|██████████| 19/19 [00:02<00:00,  6.90it/s, property_loss=0.00, vae_loss=0.42]\n"
     ]
    },
    {
     "name": "stdout",
     "output_type": "stream",
     "text": [
      "Validation ...\n",
      "Loss is 0.928\n",
      "Elementary quality score is 72.585 / 100\n",
      "Sequence quality score is 9.740 / 100\n",
      "EPOCH 445 takes 0.046 minutes\n",
      "===== EPOCH 446 =====\n",
      "Training ...\n"
     ]
    },
    {
     "name": "stderr",
     "output_type": "stream",
     "text": [
      "100%|██████████| 19/19 [00:02<00:00,  6.99it/s, property_loss=0.00, vae_loss=0.41]\n"
     ]
    },
    {
     "name": "stdout",
     "output_type": "stream",
     "text": [
      "Validation ...\n",
      "Loss is 0.942\n",
      "Elementary quality score is 72.606 / 100\n",
      "Sequence quality score is 12.987 / 100\n",
      "EPOCH 446 takes 0.046 minutes\n",
      "===== EPOCH 447 =====\n",
      "Training ...\n"
     ]
    },
    {
     "name": "stderr",
     "output_type": "stream",
     "text": [
      "100%|██████████| 19/19 [00:02<00:00,  7.04it/s, property_loss=0.00, vae_loss=0.41]\n"
     ]
    },
    {
     "name": "stdout",
     "output_type": "stream",
     "text": [
      "Validation ...\n",
      "Loss is 0.926\n",
      "Elementary quality score is 72.342 / 100\n",
      "Sequence quality score is 9.740 / 100\n",
      "EPOCH 447 takes 0.045 minutes\n",
      "===== EPOCH 448 =====\n",
      "Training ...\n"
     ]
    },
    {
     "name": "stderr",
     "output_type": "stream",
     "text": [
      "100%|██████████| 19/19 [00:02<00:00,  6.75it/s, property_loss=0.00, vae_loss=0.41]\n"
     ]
    },
    {
     "name": "stdout",
     "output_type": "stream",
     "text": [
      "Validation ...\n",
      "Loss is 0.941\n",
      "Elementary quality score is 72.098 / 100\n",
      "Sequence quality score is 12.987 / 100\n",
      "EPOCH 448 takes 0.047 minutes\n",
      "===== EPOCH 449 =====\n",
      "Training ...\n"
     ]
    },
    {
     "name": "stderr",
     "output_type": "stream",
     "text": [
      "100%|██████████| 19/19 [00:02<00:00,  6.80it/s, property_loss=0.01, vae_loss=0.41]\n"
     ]
    },
    {
     "name": "stdout",
     "output_type": "stream",
     "text": [
      "Validation ...\n",
      "Loss is 0.928\n",
      "Elementary quality score is 72.098 / 100\n",
      "Sequence quality score is 11.039 / 100\n",
      "EPOCH 449 takes 0.047 minutes\n",
      "===== EPOCH 450 =====\n",
      "Training ...\n"
     ]
    },
    {
     "name": "stderr",
     "output_type": "stream",
     "text": [
      "100%|██████████| 19/19 [00:02<00:00,  7.00it/s, property_loss=0.00, vae_loss=0.41]\n"
     ]
    },
    {
     "name": "stdout",
     "output_type": "stream",
     "text": [
      "Validation ...\n",
      "Loss is 0.929\n",
      "Elementary quality score is 71.814 / 100\n",
      "Sequence quality score is 11.039 / 100\n",
      "EPOCH 450 takes 0.046 minutes\n",
      "===== EPOCH 451 =====\n",
      "Training ...\n"
     ]
    },
    {
     "name": "stderr",
     "output_type": "stream",
     "text": [
      "100%|██████████| 19/19 [00:02<00:00,  6.53it/s, property_loss=0.00, vae_loss=0.42]\n"
     ]
    },
    {
     "name": "stdout",
     "output_type": "stream",
     "text": [
      "Validation ...\n",
      "Loss is 0.942\n",
      "Elementary quality score is 71.794 / 100\n",
      "Sequence quality score is 11.039 / 100\n",
      "EPOCH 451 takes 0.049 minutes\n",
      "===== EPOCH 452 =====\n",
      "Training ...\n"
     ]
    },
    {
     "name": "stderr",
     "output_type": "stream",
     "text": [
      "100%|██████████| 19/19 [00:02<00:00,  6.78it/s, property_loss=0.00, vae_loss=0.42]\n"
     ]
    },
    {
     "name": "stdout",
     "output_type": "stream",
     "text": [
      "Validation ...\n",
      "Loss is 0.944\n",
      "Elementary quality score is 71.936 / 100\n",
      "Sequence quality score is 12.338 / 100\n",
      "EPOCH 452 takes 0.047 minutes\n",
      "===== EPOCH 453 =====\n",
      "Training ...\n"
     ]
    },
    {
     "name": "stderr",
     "output_type": "stream",
     "text": [
      "100%|██████████| 19/19 [00:02<00:00,  6.91it/s, property_loss=0.00, vae_loss=0.42]\n"
     ]
    },
    {
     "name": "stdout",
     "output_type": "stream",
     "text": [
      "Validation ...\n",
      "Loss is 0.945\n",
      "Elementary quality score is 72.240 / 100\n",
      "Sequence quality score is 10.390 / 100\n",
      "EPOCH 453 takes 0.046 minutes\n",
      "===== EPOCH 454 =====\n",
      "Training ...\n"
     ]
    },
    {
     "name": "stderr",
     "output_type": "stream",
     "text": [
      "100%|██████████| 19/19 [00:02<00:00,  6.88it/s, property_loss=0.00, vae_loss=0.42]\n"
     ]
    },
    {
     "name": "stdout",
     "output_type": "stream",
     "text": [
      "Validation ...\n",
      "Loss is 0.924\n",
      "Elementary quality score is 72.849 / 100\n",
      "Sequence quality score is 7.143 / 100\n",
      "EPOCH 454 takes 0.047 minutes\n",
      "===== EPOCH 455 =====\n",
      "Training ...\n"
     ]
    },
    {
     "name": "stderr",
     "output_type": "stream",
     "text": [
      "100%|██████████| 19/19 [00:02<00:00,  7.07it/s, property_loss=0.00, vae_loss=0.42]\n"
     ]
    },
    {
     "name": "stdout",
     "output_type": "stream",
     "text": [
      "Validation ...\n",
      "Loss is 0.928\n",
      "Elementary quality score is 73.032 / 100\n",
      "Sequence quality score is 7.792 / 100\n",
      "EPOCH 455 takes 0.045 minutes\n",
      "===== EPOCH 456 =====\n",
      "Training ...\n"
     ]
    },
    {
     "name": "stderr",
     "output_type": "stream",
     "text": [
      "100%|██████████| 19/19 [00:02<00:00,  7.11it/s, property_loss=0.00, vae_loss=0.42]\n"
     ]
    },
    {
     "name": "stdout",
     "output_type": "stream",
     "text": [
      "Validation ...\n",
      "Loss is 0.941\n",
      "Elementary quality score is 72.585 / 100\n",
      "Sequence quality score is 11.039 / 100\n",
      "EPOCH 456 takes 0.045 minutes\n",
      "===== EPOCH 457 =====\n",
      "Training ...\n"
     ]
    },
    {
     "name": "stderr",
     "output_type": "stream",
     "text": [
      "100%|██████████| 19/19 [00:02<00:00,  6.52it/s, property_loss=0.00, vae_loss=0.41]\n"
     ]
    },
    {
     "name": "stdout",
     "output_type": "stream",
     "text": [
      "Validation ...\n",
      "Loss is 0.942\n",
      "Elementary quality score is 72.362 / 100\n",
      "Sequence quality score is 10.390 / 100\n",
      "EPOCH 457 takes 0.049 minutes\n",
      "===== EPOCH 458 =====\n",
      "Training ...\n"
     ]
    },
    {
     "name": "stderr",
     "output_type": "stream",
     "text": [
      "100%|██████████| 19/19 [00:02<00:00,  6.49it/s, property_loss=0.00, vae_loss=0.41]\n"
     ]
    },
    {
     "name": "stdout",
     "output_type": "stream",
     "text": [
      "Validation ...\n",
      "Loss is 0.943\n",
      "Elementary quality score is 72.240 / 100\n",
      "Sequence quality score is 13.636 / 100\n",
      "EPOCH 458 takes 0.049 minutes\n",
      "===== EPOCH 459 =====\n",
      "Training ...\n"
     ]
    },
    {
     "name": "stderr",
     "output_type": "stream",
     "text": [
      "100%|██████████| 19/19 [00:02<00:00,  6.84it/s, property_loss=0.00, vae_loss=0.42]\n"
     ]
    },
    {
     "name": "stdout",
     "output_type": "stream",
     "text": [
      "Validation ...\n",
      "Loss is 0.934\n",
      "Elementary quality score is 71.875 / 100\n",
      "Sequence quality score is 9.740 / 100\n",
      "EPOCH 459 takes 0.047 minutes\n",
      "===== EPOCH 460 =====\n",
      "Training ...\n"
     ]
    },
    {
     "name": "stderr",
     "output_type": "stream",
     "text": [
      "100%|██████████| 19/19 [00:02<00:00,  6.78it/s, property_loss=0.00, vae_loss=0.42]\n"
     ]
    },
    {
     "name": "stdout",
     "output_type": "stream",
     "text": [
      "Validation ...\n",
      "Loss is 0.939\n",
      "Elementary quality score is 71.814 / 100\n",
      "Sequence quality score is 11.039 / 100\n",
      "EPOCH 460 takes 0.047 minutes\n",
      "===== EPOCH 461 =====\n",
      "Training ...\n"
     ]
    },
    {
     "name": "stderr",
     "output_type": "stream",
     "text": [
      "100%|██████████| 19/19 [00:02<00:00,  6.94it/s, property_loss=0.00, vae_loss=0.41]\n"
     ]
    },
    {
     "name": "stdout",
     "output_type": "stream",
     "text": [
      "Validation ...\n",
      "Loss is 0.944\n",
      "Elementary quality score is 71.895 / 100\n",
      "Sequence quality score is 9.091 / 100\n",
      "EPOCH 461 takes 0.046 minutes\n",
      "===== EPOCH 462 =====\n",
      "Training ...\n"
     ]
    },
    {
     "name": "stderr",
     "output_type": "stream",
     "text": [
      "100%|██████████| 19/19 [00:02<00:00,  7.06it/s, property_loss=0.01, vae_loss=0.43]\n"
     ]
    },
    {
     "name": "stdout",
     "output_type": "stream",
     "text": [
      "Validation ...\n",
      "Loss is 0.944\n",
      "Elementary quality score is 72.200 / 100\n",
      "Sequence quality score is 7.792 / 100\n",
      "EPOCH 462 takes 0.045 minutes\n",
      "===== EPOCH 463 =====\n",
      "Training ...\n"
     ]
    },
    {
     "name": "stderr",
     "output_type": "stream",
     "text": [
      "100%|██████████| 19/19 [00:02<00:00,  7.00it/s, property_loss=0.01, vae_loss=0.42]\n"
     ]
    },
    {
     "name": "stdout",
     "output_type": "stream",
     "text": [
      "Validation ...\n",
      "Loss is 0.956\n",
      "Elementary quality score is 72.463 / 100\n",
      "Sequence quality score is 8.442 / 100\n",
      "EPOCH 463 takes 0.046 minutes\n",
      "===== EPOCH 464 =====\n",
      "Training ...\n"
     ]
    },
    {
     "name": "stderr",
     "output_type": "stream",
     "text": [
      "100%|██████████| 19/19 [00:02<00:00,  7.25it/s, property_loss=0.00, vae_loss=0.41]\n"
     ]
    },
    {
     "name": "stdout",
     "output_type": "stream",
     "text": [
      "Validation ...\n",
      "Loss is 0.936\n",
      "Elementary quality score is 72.545 / 100\n",
      "Sequence quality score is 7.143 / 100\n",
      "EPOCH 464 takes 0.044 minutes\n",
      "===== EPOCH 465 =====\n",
      "Training ...\n"
     ]
    },
    {
     "name": "stderr",
     "output_type": "stream",
     "text": [
      "100%|██████████| 19/19 [00:02<00:00,  6.85it/s, property_loss=0.00, vae_loss=0.42]\n"
     ]
    },
    {
     "name": "stdout",
     "output_type": "stream",
     "text": [
      "Validation ...\n",
      "Loss is 0.939\n",
      "Elementary quality score is 72.382 / 100\n",
      "Sequence quality score is 10.390 / 100\n",
      "EPOCH 465 takes 0.047 minutes\n",
      "===== EPOCH 466 =====\n",
      "Training ...\n"
     ]
    },
    {
     "name": "stderr",
     "output_type": "stream",
     "text": [
      "100%|██████████| 19/19 [00:02<00:00,  6.70it/s, property_loss=0.00, vae_loss=0.42]\n"
     ]
    },
    {
     "name": "stdout",
     "output_type": "stream",
     "text": [
      "Validation ...\n",
      "Loss is 0.935\n",
      "Elementary quality score is 72.159 / 100\n",
      "Sequence quality score is 10.390 / 100\n",
      "EPOCH 466 takes 0.048 minutes\n",
      "===== EPOCH 467 =====\n",
      "Training ...\n"
     ]
    },
    {
     "name": "stderr",
     "output_type": "stream",
     "text": [
      "100%|██████████| 19/19 [00:02<00:00,  6.82it/s, property_loss=0.01, vae_loss=0.42]\n"
     ]
    },
    {
     "name": "stdout",
     "output_type": "stream",
     "text": [
      "Validation ...\n",
      "Loss is 0.922\n",
      "Elementary quality score is 72.240 / 100\n",
      "Sequence quality score is 12.338 / 100\n",
      "EPOCH 467 takes 0.047 minutes\n",
      "===== EPOCH 468 =====\n",
      "Training ...\n"
     ]
    },
    {
     "name": "stderr",
     "output_type": "stream",
     "text": [
      "100%|██████████| 19/19 [00:02<00:00,  7.00it/s, property_loss=0.00, vae_loss=0.41]\n"
     ]
    },
    {
     "name": "stdout",
     "output_type": "stream",
     "text": [
      "Validation ...\n",
      "Loss is 0.924\n",
      "Elementary quality score is 72.159 / 100\n",
      "Sequence quality score is 10.390 / 100\n",
      "EPOCH 468 takes 0.046 minutes\n",
      "===== EPOCH 469 =====\n",
      "Training ...\n"
     ]
    },
    {
     "name": "stderr",
     "output_type": "stream",
     "text": [
      "100%|██████████| 19/19 [00:02<00:00,  6.82it/s, property_loss=0.01, vae_loss=0.42]\n"
     ]
    },
    {
     "name": "stdout",
     "output_type": "stream",
     "text": [
      "Validation ...\n",
      "Loss is 0.946\n",
      "Elementary quality score is 71.774 / 100\n",
      "Sequence quality score is 10.390 / 100\n",
      "EPOCH 469 takes 0.047 minutes\n",
      "===== EPOCH 470 =====\n",
      "Training ...\n"
     ]
    },
    {
     "name": "stderr",
     "output_type": "stream",
     "text": [
      "100%|██████████| 19/19 [00:02<00:00,  6.71it/s, property_loss=0.00, vae_loss=0.42]\n"
     ]
    },
    {
     "name": "stdout",
     "output_type": "stream",
     "text": [
      "Validation ...\n",
      "Loss is 0.948\n",
      "Elementary quality score is 71.936 / 100\n",
      "Sequence quality score is 11.688 / 100\n",
      "EPOCH 470 takes 0.048 minutes\n",
      "===== EPOCH 471 =====\n",
      "Training ...\n"
     ]
    },
    {
     "name": "stderr",
     "output_type": "stream",
     "text": [
      "100%|██████████| 19/19 [00:02<00:00,  6.73it/s, property_loss=0.00, vae_loss=0.42]\n"
     ]
    },
    {
     "name": "stdout",
     "output_type": "stream",
     "text": [
      "Validation ...\n",
      "Loss is 0.946\n",
      "Elementary quality score is 71.976 / 100\n",
      "Sequence quality score is 11.688 / 100\n",
      "EPOCH 471 takes 0.047 minutes\n",
      "===== EPOCH 472 =====\n",
      "Training ...\n"
     ]
    },
    {
     "name": "stderr",
     "output_type": "stream",
     "text": [
      "100%|██████████| 19/19 [00:02<00:00,  6.86it/s, property_loss=0.00, vae_loss=0.42]\n"
     ]
    },
    {
     "name": "stdout",
     "output_type": "stream",
     "text": [
      "Validation ...\n",
      "Loss is 0.957\n",
      "Elementary quality score is 72.200 / 100\n",
      "Sequence quality score is 10.390 / 100\n",
      "EPOCH 472 takes 0.047 minutes\n",
      "===== EPOCH 473 =====\n",
      "Training ...\n"
     ]
    },
    {
     "name": "stderr",
     "output_type": "stream",
     "text": [
      "100%|██████████| 19/19 [00:02<00:00,  6.87it/s, property_loss=0.00, vae_loss=0.42]\n"
     ]
    },
    {
     "name": "stdout",
     "output_type": "stream",
     "text": [
      "Validation ...\n",
      "Loss is 0.965\n",
      "Elementary quality score is 72.098 / 100\n",
      "Sequence quality score is 7.143 / 100\n",
      "EPOCH 473 takes 0.047 minutes\n",
      "===== EPOCH 474 =====\n",
      "Training ...\n"
     ]
    },
    {
     "name": "stderr",
     "output_type": "stream",
     "text": [
      "100%|██████████| 19/19 [00:02<00:00,  6.95it/s, property_loss=0.00, vae_loss=0.42]\n"
     ]
    },
    {
     "name": "stdout",
     "output_type": "stream",
     "text": [
      "Validation ...\n",
      "Loss is 0.960\n",
      "Elementary quality score is 72.748 / 100\n",
      "Sequence quality score is 7.143 / 100\n",
      "EPOCH 474 takes 0.046 minutes\n",
      "===== EPOCH 475 =====\n",
      "Training ...\n"
     ]
    },
    {
     "name": "stderr",
     "output_type": "stream",
     "text": [
      "100%|██████████| 19/19 [00:02<00:00,  6.93it/s, property_loss=0.00, vae_loss=0.43]\n"
     ]
    },
    {
     "name": "stdout",
     "output_type": "stream",
     "text": [
      "Validation ...\n",
      "Loss is 0.927\n",
      "Elementary quality score is 72.768 / 100\n",
      "Sequence quality score is 9.091 / 100\n",
      "EPOCH 475 takes 0.046 minutes\n",
      "===== EPOCH 476 =====\n",
      "Training ...\n"
     ]
    },
    {
     "name": "stderr",
     "output_type": "stream",
     "text": [
      "100%|██████████| 19/19 [00:02<00:00,  6.88it/s, property_loss=0.00, vae_loss=0.42]\n"
     ]
    },
    {
     "name": "stdout",
     "output_type": "stream",
     "text": [
      "Validation ...\n",
      "Loss is 0.936\n",
      "Elementary quality score is 72.037 / 100\n",
      "Sequence quality score is 7.792 / 100\n",
      "EPOCH 476 takes 0.046 minutes\n",
      "===== EPOCH 477 =====\n",
      "Training ...\n"
     ]
    },
    {
     "name": "stderr",
     "output_type": "stream",
     "text": [
      "100%|██████████| 19/19 [00:02<00:00,  6.95it/s, property_loss=0.01, vae_loss=0.41]\n"
     ]
    },
    {
     "name": "stdout",
     "output_type": "stream",
     "text": [
      "Validation ...\n",
      "Loss is 0.937\n",
      "Elementary quality score is 72.179 / 100\n",
      "Sequence quality score is 8.442 / 100\n",
      "EPOCH 477 takes 0.046 minutes\n",
      "===== EPOCH 478 =====\n",
      "Training ...\n"
     ]
    },
    {
     "name": "stderr",
     "output_type": "stream",
     "text": [
      "100%|██████████| 19/19 [00:02<00:00,  6.93it/s, property_loss=0.01, vae_loss=0.42]\n"
     ]
    },
    {
     "name": "stdout",
     "output_type": "stream",
     "text": [
      "Validation ...\n",
      "Loss is 0.945\n",
      "Elementary quality score is 71.916 / 100\n",
      "Sequence quality score is 11.039 / 100\n",
      "EPOCH 478 takes 0.046 minutes\n",
      "===== EPOCH 479 =====\n",
      "Training ...\n"
     ]
    },
    {
     "name": "stderr",
     "output_type": "stream",
     "text": [
      "100%|██████████| 19/19 [00:02<00:00,  6.73it/s, property_loss=0.00, vae_loss=0.41]\n"
     ]
    },
    {
     "name": "stdout",
     "output_type": "stream",
     "text": [
      "Validation ...\n",
      "Loss is 0.951\n",
      "Elementary quality score is 71.997 / 100\n",
      "Sequence quality score is 18.182 / 100\n",
      "EPOCH 479 takes 0.048 minutes\n",
      "===== EPOCH 480 =====\n",
      "Training ...\n"
     ]
    },
    {
     "name": "stderr",
     "output_type": "stream",
     "text": [
      "100%|██████████| 19/19 [00:02<00:00,  6.89it/s, property_loss=0.00, vae_loss=0.42]\n"
     ]
    },
    {
     "name": "stdout",
     "output_type": "stream",
     "text": [
      "Validation ...\n",
      "Loss is 0.964\n",
      "Elementary quality score is 71.916 / 100\n",
      "Sequence quality score is 7.792 / 100\n",
      "EPOCH 480 takes 0.046 minutes\n",
      "===== EPOCH 481 =====\n",
      "Training ...\n"
     ]
    },
    {
     "name": "stderr",
     "output_type": "stream",
     "text": [
      "100%|██████████| 19/19 [00:02<00:00,  6.99it/s, property_loss=0.01, vae_loss=0.43]\n"
     ]
    },
    {
     "name": "stdout",
     "output_type": "stream",
     "text": [
      "Validation ...\n",
      "Loss is 0.971\n",
      "Elementary quality score is 72.321 / 100\n",
      "Sequence quality score is 7.792 / 100\n",
      "EPOCH 481 takes 0.046 minutes\n",
      "===== EPOCH 482 =====\n",
      "Training ...\n"
     ]
    },
    {
     "name": "stderr",
     "output_type": "stream",
     "text": [
      "100%|██████████| 19/19 [00:02<00:00,  6.77it/s, property_loss=0.00, vae_loss=0.42]\n"
     ]
    },
    {
     "name": "stdout",
     "output_type": "stream",
     "text": [
      "Validation ...\n",
      "Loss is 0.936\n",
      "Elementary quality score is 72.991 / 100\n",
      "Sequence quality score is 10.390 / 100\n",
      "EPOCH 482 takes 0.047 minutes\n",
      "===== EPOCH 483 =====\n",
      "Training ...\n"
     ]
    },
    {
     "name": "stderr",
     "output_type": "stream",
     "text": [
      "100%|██████████| 19/19 [00:02<00:00,  7.09it/s, property_loss=0.01, vae_loss=0.41]\n"
     ]
    },
    {
     "name": "stdout",
     "output_type": "stream",
     "text": [
      "Validation ...\n",
      "Loss is 0.923\n",
      "Elementary quality score is 72.626 / 100\n",
      "Sequence quality score is 6.494 / 100\n",
      "EPOCH 483 takes 0.045 minutes\n",
      "===== EPOCH 484 =====\n",
      "Training ...\n"
     ]
    },
    {
     "name": "stderr",
     "output_type": "stream",
     "text": [
      "100%|██████████| 19/19 [00:02<00:00,  7.06it/s, property_loss=0.00, vae_loss=0.41]\n"
     ]
    },
    {
     "name": "stdout",
     "output_type": "stream",
     "text": [
      "Validation ...\n",
      "Loss is 0.931\n",
      "Elementary quality score is 72.687 / 100\n",
      "Sequence quality score is 12.987 / 100\n",
      "EPOCH 484 takes 0.045 minutes\n",
      "===== EPOCH 485 =====\n",
      "Training ...\n"
     ]
    },
    {
     "name": "stderr",
     "output_type": "stream",
     "text": [
      "100%|██████████| 19/19 [00:02<00:00,  6.47it/s, property_loss=0.01, vae_loss=0.41]\n"
     ]
    },
    {
     "name": "stdout",
     "output_type": "stream",
     "text": [
      "Validation ...\n",
      "Loss is 0.945\n",
      "Elementary quality score is 72.139 / 100\n",
      "Sequence quality score is 12.338 / 100\n",
      "EPOCH 485 takes 0.049 minutes\n",
      "===== EPOCH 486 =====\n",
      "Training ...\n"
     ]
    },
    {
     "name": "stderr",
     "output_type": "stream",
     "text": [
      "100%|██████████| 19/19 [00:02<00:00,  6.99it/s, property_loss=0.01, vae_loss=0.41]\n"
     ]
    },
    {
     "name": "stdout",
     "output_type": "stream",
     "text": [
      "Validation ...\n",
      "Loss is 0.943\n",
      "Elementary quality score is 71.997 / 100\n",
      "Sequence quality score is 11.039 / 100\n",
      "EPOCH 486 takes 0.046 minutes\n",
      "===== EPOCH 487 =====\n",
      "Training ...\n"
     ]
    },
    {
     "name": "stderr",
     "output_type": "stream",
     "text": [
      "100%|██████████| 19/19 [00:02<00:00,  6.92it/s, property_loss=0.00, vae_loss=0.42]\n"
     ]
    },
    {
     "name": "stdout",
     "output_type": "stream",
     "text": [
      "Validation ...\n",
      "Loss is 0.957\n",
      "Elementary quality score is 71.631 / 100\n",
      "Sequence quality score is 13.636 / 100\n",
      "EPOCH 487 takes 0.046 minutes\n",
      "===== EPOCH 488 =====\n",
      "Training ...\n"
     ]
    },
    {
     "name": "stderr",
     "output_type": "stream",
     "text": [
      "100%|██████████| 19/19 [00:02<00:00,  6.87it/s, property_loss=0.00, vae_loss=0.42]\n"
     ]
    },
    {
     "name": "stdout",
     "output_type": "stream",
     "text": [
      "Validation ...\n",
      "Loss is 0.972\n",
      "Elementary quality score is 71.469 / 100\n",
      "Sequence quality score is 10.390 / 100\n",
      "EPOCH 488 takes 0.046 minutes\n",
      "===== EPOCH 489 =====\n",
      "Training ...\n"
     ]
    },
    {
     "name": "stderr",
     "output_type": "stream",
     "text": [
      "100%|██████████| 19/19 [00:02<00:00,  6.92it/s, property_loss=0.00, vae_loss=0.43]\n"
     ]
    },
    {
     "name": "stdout",
     "output_type": "stream",
     "text": [
      "Validation ...\n",
      "Loss is 0.964\n",
      "Elementary quality score is 72.281 / 100\n",
      "Sequence quality score is 10.390 / 100\n",
      "EPOCH 489 takes 0.046 minutes\n",
      "===== EPOCH 490 =====\n",
      "Training ...\n"
     ]
    },
    {
     "name": "stderr",
     "output_type": "stream",
     "text": [
      "100%|██████████| 19/19 [00:02<00:00,  6.89it/s, property_loss=0.00, vae_loss=0.43]\n"
     ]
    },
    {
     "name": "stdout",
     "output_type": "stream",
     "text": [
      "Validation ...\n",
      "Loss is 0.955\n",
      "Elementary quality score is 72.382 / 100\n",
      "Sequence quality score is 9.740 / 100\n",
      "EPOCH 490 takes 0.046 minutes\n",
      "===== EPOCH 491 =====\n",
      "Training ...\n"
     ]
    },
    {
     "name": "stderr",
     "output_type": "stream",
     "text": [
      "100%|██████████| 19/19 [00:02<00:00,  6.85it/s, property_loss=0.00, vae_loss=0.41]\n"
     ]
    },
    {
     "name": "stdout",
     "output_type": "stream",
     "text": [
      "Validation ...\n",
      "Loss is 0.938\n",
      "Elementary quality score is 72.707 / 100\n",
      "Sequence quality score is 9.091 / 100\n",
      "EPOCH 491 takes 0.047 minutes\n",
      "===== EPOCH 492 =====\n",
      "Training ...\n"
     ]
    },
    {
     "name": "stderr",
     "output_type": "stream",
     "text": [
      "100%|██████████| 19/19 [00:02<00:00,  6.97it/s, property_loss=0.00, vae_loss=0.41]\n"
     ]
    },
    {
     "name": "stdout",
     "output_type": "stream",
     "text": [
      "Validation ...\n",
      "Loss is 0.923\n",
      "Elementary quality score is 72.849 / 100\n",
      "Sequence quality score is 10.390 / 100\n",
      "EPOCH 492 takes 0.046 minutes\n",
      "===== EPOCH 493 =====\n",
      "Training ...\n"
     ]
    },
    {
     "name": "stderr",
     "output_type": "stream",
     "text": [
      "100%|██████████| 19/19 [00:02<00:00,  6.69it/s, property_loss=0.00, vae_loss=0.41]\n"
     ]
    },
    {
     "name": "stdout",
     "output_type": "stream",
     "text": [
      "Validation ...\n",
      "Loss is 0.949\n",
      "Elementary quality score is 72.159 / 100\n",
      "Sequence quality score is 7.143 / 100\n",
      "EPOCH 493 takes 0.048 minutes\n",
      "===== EPOCH 494 =====\n",
      "Training ...\n"
     ]
    },
    {
     "name": "stderr",
     "output_type": "stream",
     "text": [
      "100%|██████████| 19/19 [00:02<00:00,  6.89it/s, property_loss=0.00, vae_loss=0.41]\n"
     ]
    },
    {
     "name": "stdout",
     "output_type": "stream",
     "text": [
      "Validation ...\n",
      "Loss is 0.958\n",
      "Elementary quality score is 71.814 / 100\n",
      "Sequence quality score is 9.091 / 100\n",
      "EPOCH 494 takes 0.046 minutes\n",
      "===== EPOCH 495 =====\n",
      "Training ...\n"
     ]
    },
    {
     "name": "stderr",
     "output_type": "stream",
     "text": [
      "100%|██████████| 19/19 [00:02<00:00,  6.89it/s, property_loss=0.00, vae_loss=0.41]\n"
     ]
    },
    {
     "name": "stdout",
     "output_type": "stream",
     "text": [
      "Validation ...\n",
      "Loss is 0.951\n",
      "Elementary quality score is 72.240 / 100\n",
      "Sequence quality score is 9.091 / 100\n",
      "EPOCH 495 takes 0.047 minutes\n",
      "===== EPOCH 496 =====\n",
      "Training ...\n"
     ]
    },
    {
     "name": "stderr",
     "output_type": "stream",
     "text": [
      "100%|██████████| 19/19 [00:02<00:00,  6.54it/s, property_loss=0.00, vae_loss=0.43]\n"
     ]
    },
    {
     "name": "stdout",
     "output_type": "stream",
     "text": [
      "Validation ...\n",
      "Loss is 0.954\n",
      "Elementary quality score is 71.976 / 100\n",
      "Sequence quality score is 9.740 / 100\n",
      "EPOCH 496 takes 0.049 minutes\n",
      "===== EPOCH 497 =====\n",
      "Training ...\n"
     ]
    },
    {
     "name": "stderr",
     "output_type": "stream",
     "text": [
      "100%|██████████| 19/19 [00:03<00:00,  6.31it/s, property_loss=0.00, vae_loss=0.43]\n"
     ]
    },
    {
     "name": "stdout",
     "output_type": "stream",
     "text": [
      "Validation ...\n",
      "Loss is 0.971\n",
      "Elementary quality score is 72.240 / 100\n",
      "Sequence quality score is 14.286 / 100\n",
      "EPOCH 497 takes 0.051 minutes\n",
      "===== EPOCH 498 =====\n",
      "Training ...\n"
     ]
    },
    {
     "name": "stderr",
     "output_type": "stream",
     "text": [
      "100%|██████████| 19/19 [00:02<00:00,  6.68it/s, property_loss=0.00, vae_loss=0.42]\n"
     ]
    },
    {
     "name": "stdout",
     "output_type": "stream",
     "text": [
      "Validation ...\n",
      "Loss is 0.963\n",
      "Elementary quality score is 72.788 / 100\n",
      "Sequence quality score is 9.740 / 100\n",
      "EPOCH 498 takes 0.048 minutes\n",
      "===== EPOCH 499 =====\n",
      "Training ...\n"
     ]
    },
    {
     "name": "stderr",
     "output_type": "stream",
     "text": [
      "100%|██████████| 19/19 [00:02<00:00,  7.06it/s, property_loss=0.00, vae_loss=0.44]\n"
     ]
    },
    {
     "name": "stdout",
     "output_type": "stream",
     "text": [
      "Validation ...\n",
      "Loss is 0.937\n",
      "Elementary quality score is 72.626 / 100\n",
      "Sequence quality score is 9.091 / 100\n",
      "EPOCH 499 takes 0.045 minutes\n",
      "===== EPOCH 500 =====\n",
      "Training ...\n"
     ]
    },
    {
     "name": "stderr",
     "output_type": "stream",
     "text": [
      "100%|██████████| 19/19 [00:02<00:00,  6.83it/s, property_loss=0.00, vae_loss=0.42]\n"
     ]
    },
    {
     "name": "stdout",
     "output_type": "stream",
     "text": [
      "Validation ...\n",
      "Loss is 0.940\n",
      "Elementary quality score is 72.423 / 100\n",
      "Sequence quality score is 9.740 / 100\n",
      "EPOCH 500 takes 0.047 minutes\n",
      "Final elementary quality score is 75.863 / 100\n",
      "Final S=sequence quality score is 11.458 / 100\n"
     ]
    },
    {
     "data": {
      "text/plain": "<Figure size 432x288 with 1 Axes>",
      "image/png": "[encoded data removed]"
     },
     "metadata": {
      "needs_background": "light"
     },
     "output_type": "display_data"
    }
   ],
   "source": [
    "# training\n",
    "print(\"start training\", flush=True)\n",
    "trained_encoder, trained_decoder, trained_property_network = train_model(\n",
    "    vae_encoder=encoder,\n",
    "    vae_decoder=decoder,\n",
    "    property_network=property_network,\n",
    "    x_train=x_train,\n",
    "    x_test=x_test,\n",
    "    y_train=y_with_feature_train,\n",
    "    y_test=y_with_feature_test,\n",
    "    num_epochs=500,\n",
    "    batch_size=32,\n",
    "    lr_enc=0.001,\n",
    "    lr_dec=0.001,\n",
    "    lr_property=0.001,\n",
    "    KLD_alpha=1e-6,\n",
    "    sample_num=1000,\n",
    "    dtype=dtype,\n",
    "    device=device,\n",
    "    save_file_name='C_1000.png',\n",
    "    scaler_list=scaler_list\n",
    ")"
   ],
   "metadata": {
    "collapsed": false,
    "pycharm": {
     "name": "#%%\n"
    }
   }
  },
  {
   "cell_type": "code",
   "execution_count": 6,
   "outputs": [],
   "source": [
    "# save vae\n",
    "trained_vae = TrainedVAE(\n",
    "    encoder=trained_encoder,\n",
    "    decoder=trained_decoder,\n",
    "    property_network=trained_property_network,\n",
    "    scaler_list=scaler_list,\n",
    "    scaler_key=y_with_feature.columns.tolist()\n",
    ")\n",
    "torch.save(trained_vae, 'vae/trained_vae/trained_C_500.pth')"
   ],
   "metadata": {
    "collapsed": false,
    "pycharm": {
     "name": "#%%\n"
    }
   }
  },
  {
   "cell_type": "markdown",
   "source": [
    "### 2. Get reduced (16-dimensional) feature vectors using principal analysis"
   ],
   "metadata": {
    "collapsed": false,
    "pycharm": {
     "name": "#%% md\n"
    }
   }
  },
  {
   "cell_type": "code",
   "execution_count": 7,
   "outputs": [],
   "source": [
    "# principal analysis\n",
    "with torch.no_grad():\n",
    "    trained_vae = torch.load('vae/trained_vae/trained_C_500.pth')\n",
    "    total_inp_flat_one_hot = x_data.flatten(start_dim=1)  # [b, 32*2]\n",
    "    total_latent_points, mus, log_vars = trained_vae.encoder(total_inp_flat_one_hot)  # [b, latent_dimension]\n",
    "\n",
    "    # principal component analysis\n",
    "    n_components = 16\n",
    "    pca = PCA(n_components=n_components)\n",
    "    principal_components = pca.fit_transform(total_latent_points)\n",
    "    principal_df = pd.DataFrame(\n",
    "        data=principal_components,\n",
    "        columns=['principal_component_%d' % (num + 1) for num in range(n_components)]\n",
    "    )\n",
    "\n",
    "    final_df = pd.concat([principal_df, y_with_feature[['lamellar_period', 'interaction_parameter']]], axis=1)\n",
    "    final_df.to_csv('datasetC_principal_component_analysis_epochs_500.csv')"
   ],
   "metadata": {
    "collapsed": false,
    "pycharm": {
     "name": "#%%\n"
    }
   }
  },
  {
   "cell_type": "code",
   "execution_count": 8,
   "outputs": [
    {
     "data": {
      "text/plain": "<Figure size 432x288 with 1 Axes>",
      "image/png": "[encoded data removed]"
     },
     "metadata": {
      "needs_background": "light"
     },
     "output_type": "display_data"
    }
   ],
   "source": [
    "# plot explained variance by principal component analysis\n",
    "exp_var_pca = pca.explained_variance_ratio_\n",
    "\n",
    "plt.bar(range(0, len(exp_var_pca)), exp_var_pca, alpha=0.5, align='center',\n",
    "        label='Individual explained variance')\n",
    "plt.ylabel('Explained variance ratio')\n",
    "plt.xlabel('Principal component index')\n",
    "plt.legend(loc='best')\n",
    "plt.tight_layout()\n",
    "plt.show()"
   ],
   "metadata": {
    "collapsed": false,
    "pycharm": {
     "name": "#%%\n"
    }
   }
  },
  {
   "cell_type": "code",
   "execution_count": 9,
   "outputs": [
    {
     "data": {
      "text/plain": "<Figure size 576x576 with 2 Axes>",
      "image/png": "[encoded data removed]"
     },
     "metadata": {
      "needs_background": "light"
     },
     "output_type": "display_data"
    }
   ],
   "source": [
    "# plot\n",
    "# x-component (1) principal component 1\n",
    "# y-component (2) interaction parameter\n",
    "# z-component (3) lamellar period\n",
    "\n",
    "plot_two_pairs_color_map(\n",
    "    x_list=final_df['principal_component_1'].values.tolist(),\n",
    "    y_list=final_df['interaction_parameter'].values.tolist(),\n",
    "    z_list=final_df['lamellar_period'].values.tolist(),\n",
    "    x_name='principal_component_1',\n",
    "    y_name='interaction_parameter',\n",
    "    z_name='lamellar_period',\n",
    "    title='2 component PCA'\n",
    ")"
   ],
   "metadata": {
    "collapsed": false,
    "pycharm": {
     "name": "#%%\n"
    }
   }
  }
 ],
 "metadata": {
  "kernelspec": {
   "name": "pycharm-e29d3eab",
   "language": "python",
   "display_name": "PyCharm (AI_Hackathon_git)"
  },
  "language_info": {
   "codemirror_mode": {
    "name": "ipython",
    "version": 2
   },
   "file_extension": ".py",
   "mimetype": "text/x-python",
   "name": "python",
   "nbconvert_exporter": "python",
   "pygments_lexer": "ipython2",
   "version": "2.7.6"
  }
 },
 "nbformat": 4,
 "nbformat_minor": 0
}