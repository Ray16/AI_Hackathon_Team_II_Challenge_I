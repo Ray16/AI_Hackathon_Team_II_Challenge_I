{
 "cells": [
  {
   "cell_type": "markdown",
   "id": "8dfd6a66",
   "metadata": {},
   "source": [
    "# Multi-channel sliding window feature generation"
   ]
  },
  {
   "cell_type": "code",
   "execution_count": 8,
   "id": "2d9ae7c3",
   "metadata": {
    "scrolled": true
   },
   "outputs": [],
   "source": [
    "import os\n",
    "import numpy as np\n",
    "import pandas as pd\n",
    "import itertools\n",
    "import glob\n",
    "\n",
    "# Load dataset\n",
    "data = 'B' # ****** specify dataset (A / B / C / D) ******\n",
    "dataset = pd.read_csv(f'../data/data_{data}.csv')\n",
    "dataset_name='dataSet'+data\n",
    "\n",
    "min_window = 2 # ****** specify minimum window size ******\n",
    "max_window = 2 # ****** specify maximum window size ******"
   ]
  },
  {
   "cell_type": "code",
   "execution_count": 9,
   "id": "e972e4e1",
   "metadata": {},
   "outputs": [
    {
     "name": "stdout",
     "output_type": "stream",
     "text": [
      "generating features with window size 2...\n"
     ]
    }
   ],
   "source": [
    "# Generate features\n",
    "all_windows=[]\n",
    "for window_size in range(min_window,max_window+1):\n",
    "    step=1\n",
    "    ranges = [range(2)]*window_size\n",
    "    windows=[]\n",
    "    df_all = []\n",
    "    for xs in itertools.product(*ranges):\n",
    "        windows.append([*xs])\n",
    "    all_windows.append(windows)\n",
    "    print(f'generating features with window size {window_size}...')\n",
    "    for window in windows:\n",
    "        sliding_activation=[]\n",
    "        for line_n in range(len(dataset)):\n",
    "            line = list(dataset.iloc[line_n,:])\n",
    "            region_activation = []\n",
    "            for start in range(32-window_size):\n",
    "                region = list(dataset.iloc[:,1:-1].iloc[line_n,start:start+window_size])\n",
    "                if region == window:\n",
    "                    region_activation.append(1)\n",
    "                else:\n",
    "                    region_activation.append(0)\n",
    "                start+=step\n",
    "            sliding_activation.append(region_activation)\n",
    "        pd.DataFrame(sliding_activation).to_csv(f'./window_size_{window_size}_window_{window}_dataset_{data}.csv',index=False)"
   ]
  },
  {
   "cell_type": "code",
   "execution_count": 10,
   "id": "aa052e49",
   "metadata": {},
   "outputs": [],
   "source": [
    "# Combine features\n",
    "for i, window_size in enumerate(range(min_window,max_window+1)):\n",
    "    windows = all_windows[i]\n",
    "    df_all = []\n",
    "    for col in range(32-window_size):\n",
    "        all_column=[]\n",
    "        for window in windows:\n",
    "            column = list(pd.read_csv(f'./window_size_{window_size}_window_{window}_dataset_{data}.csv').iloc[:,col])\n",
    "            all_column.append(column)\n",
    "        df_all.append(list(zip(*all_column)))\n",
    "    \n",
    "    # Output features\n",
    "    transpose_m = np.transpose(np.array(df_all),(1,0,2))\n",
    "    df_save = np.reshape(transpose_m,(len(transpose_m), -1))\n",
    "    np.savetxt(f\"./sliding_window_{window_size}_dataset_{data}.txt\",df_save)\n",
    "\n",
    "    # Remove all redundant features\n",
    "    for filename in glob.glob('window_size_*'):\n",
    "        os.remove(filename)"
   ]
  }
 ],
 "metadata": {
  "kernelspec": {
   "display_name": "Python 3 (ipykernel)",
   "language": "python",
   "name": "python3"
  },
  "language_info": {
   "codemirror_mode": {
    "name": "ipython",
    "version": 3
   },
   "file_extension": ".py",
   "mimetype": "text/x-python",
   "name": "python",
   "nbconvert_exporter": "python",
   "pygments_lexer": "ipython3",
   "version": "3.9.5"
  }
 },
 "nbformat": 4,
 "nbformat_minor": 5
}
