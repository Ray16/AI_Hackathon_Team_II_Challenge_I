{
 "cells": [
  {
   "cell_type": "markdown",
   "metadata": {
    "collapsed": true,
    "pycharm": {
     "name": "#%% md\n"
    }
   },
   "source": [
    "# Variational Autoencoder (VAE)\n",
    "* #### Get reduced feature vectors (16-dimension) from monomer sequences (32-dimension) using VAE"
   ]
  },
  {
   "cell_type": "markdown",
   "metadata": {
    "pycharm": {
     "name": "#%% md\n"
    }
   },
   "source": [
    "### 1. Train VAE\n"
   ]
  },
  {
   "cell_type": "code",
   "execution_count": 1,
   "metadata": {
    "pycharm": {
     "name": "#%%\n"
    }
   },
   "outputs": [],
   "source": [
    "# import\n",
    "import torch\n",
    "import pandas as pd\n",
    "import matplotlib.pyplot as plt\n",
    "\n",
    "from sklearn.model_selection import train_test_split\n",
    "from sklearn.preprocessing import StandardScaler\n",
    "from sklearn.decomposition import PCA\n",
    "\n",
    "from vae.encoder import Encoder\n",
    "from vae.decoder import Decoder\n",
    "from vae.train import train_model\n",
    "from vae.utils.torch import FullyConnectedNeuralNetwork, TrainedVAE\n",
    "from vae.utils.function import get_blockiness, plot_two_pairs_color_map"
   ]
  },
  {
   "cell_type": "code",
   "execution_count": 12,
   "metadata": {
    "pycharm": {
     "name": "#%%\n"
    }
   },
   "outputs": [
    {
     "name": "stdout",
     "output_type": "stream",
     "text": [
      "Data processing ...\n"
     ]
    }
   ],
   "source": [
    "# prepare data\n",
    "print(\"Data processing ...\", flush=True)\n",
    "df_a = pd.read_csv('./data/dataSetA.csv', sep='  ', engine='python', header=None)\n",
    "df_b = pd.read_csv('./data/dataSetB.csv', sep='  ', engine='python', header=None)\n",
    "df_c = pd.read_csv('./data/dataSetC.csv', sep='  ', engine='python', header=None)\n",
    "df_d = pd.read_csv('./data/dataSetD.csv', sep='  ', engine='python', header=None)\n",
    "\n",
    "df_total = pd.concat([df_a, df_b, df_c, df_d], axis=0)\n",
    "\n",
    "# get volume fraction and blockiness\n",
    "sequence_list = list()\n",
    "for idx, row in df_total.iterrows():\n",
    "    sequence = ''\n",
    "    modified_row = row[1: -1]\n",
    "    for num in modified_row:\n",
    "        sequence += str(int(num))\n",
    "    sequence_list.append(sequence)\n",
    "\n",
    "df_total['sequence'] = sequence_list\n",
    "df_total['0_fraction'] = df_total['sequence'].apply(lambda x: x.count('0') / 32.0)\n",
    "df_total['1_fraction'] = df_total['sequence'].apply(lambda x: x.count('1') / 32.0)\n",
    "df_total['blockiness'] = df_total['sequence'].apply(lambda x: get_blockiness(x))\n",
    "df_total['interaction_parameter'] = df_total[0]\n",
    "df_total['lamellar_period'] = df_total[33]\n",
    "df_total = df_total.drop(labels=['sequence', 0, 33], axis=1)"
   ]
  },
  {
   "cell_type": "code",
   "execution_count": 40,
   "metadata": {
    "pycharm": {
     "name": "#%%\n"
    }
   },
   "outputs": [],
   "source": [
    "# prepare train / test dataset\n",
    "dtype = torch.float32\n",
    "device = torch.device('cuda')\n",
    "\n",
    "# preprocess sequence data\n",
    "sequence_arr = df_total.iloc[:, :32].values.tolist()\n",
    "x_data = torch.zeros(size=(len(sequence_arr), 32, 2), dtype=dtype, device=device)  # 32 (total) / only 2 beads\n",
    "# x_data.fill_(value=1.0 / (1.0 + np.exp(1.0)))\n",
    "for num in range(len(sequence_arr)):\n",
    "    for idx in range(32):  # total 32 monomers\n",
    "        if sequence_arr[num][idx] == 0:\n",
    "            # x_data[num, idx, 0] = np.exp(1.0) / (1.0 + np.exp(1.0))  # soft max\n",
    "            x_data[num, idx, 0] = 1.0\n",
    "        else:\n",
    "            # x_data[num, idx, 1] = np.exp(1.0) / (1.0 + np.exp(1.0))\n",
    "            x_data[num, idx, 1] = 1.0\n",
    "\n",
    "# preparation training data (target and features)\n",
    "y_with_feature = df_total.iloc[:, 32:]\n",
    "\n",
    "# set and fit the scalers\n",
    "scaler_list = [StandardScaler() for _ in range(y_with_feature.shape[1])]\n",
    "for idx, scaler in enumerate(scaler_list):\n",
    "    scaler.fit(y_with_feature.iloc[:, idx].values.reshape(-1, 1))\n",
    "\n",
    "x_train, x_test, y_with_feature_train, y_with_feature_test = train_test_split(x_data, y_with_feature, test_size=0.2)\n",
    "\n",
    "x_train = x_train.to('cpu')\n",
    "x_test = x_test.to('cpu')\n",
    "y_with_feature_train = torch.tensor(y_with_feature_train.values, dtype=dtype).to('cpu')\n",
    "y_with_feature_test = torch.tensor(y_with_feature_test.values, dtype=dtype).to('cpu')"
   ]
  },
  {
   "cell_type": "code",
   "execution_count": 41,
   "metadata": {
    "pycharm": {
     "name": "#%%\n"
    }
   },
   "outputs": [],
   "source": [
    "# set encoder, decoder, and property network\n",
    "encoder = Encoder(\n",
    "    in_dimension=64,  # 32 * 2\n",
    "    layer_1d=40,\n",
    "    layer_2d=32,\n",
    "    layer_3d=24,\n",
    "    latent_dimension=16\n",
    ")\n",
    "\n",
    "decoder = Decoder(\n",
    "    latent_dimension=16,\n",
    "    gru_neurons_num=16,\n",
    "    gru_stack_size=2,\n",
    "    out_dimension=2  # bead 0 or 1\n",
    ")\n",
    "\n",
    "property_network = FullyConnectedNeuralNetwork(\n",
    "    input_dim=16+4,  # latent dimension + feature dimension\n",
    "    hidden_sizes=[8],\n",
    "    output_dim=1\n",
    ")"
   ]
  },
  {
   "cell_type": "code",
   "execution_count": null,
   "metadata": {
    "pycharm": {
     "name": "#%%\n"
    }
   },
   "outputs": [
    {
     "name": "stdout",
     "output_type": "stream",
     "text": [
      "start training\n",
      "num_epochs:  1000\n",
      "===== EPOCH 1 =====\n",
      "Training ...\n"
     ]
    },
    {
     "name": "stderr",
     "output_type": "stream",
     "text": [
      "\r",
      "  0%|          | 0/80 [00:00<?, ?it/s]"
     ]
    }
   ],
   "source": [
    "# training\n",
    "print(\"start training\", flush=True)\n",
    "trained_encoder, trained_decoder, trained_property_network = train_model(\n",
    "    vae_encoder=encoder,\n",
    "    vae_decoder=decoder,\n",
    "    property_network=property_network,\n",
    "    x_train=x_train,\n",
    "    x_test=x_test,\n",
    "    y_train=y_with_feature_train,\n",
    "    y_test=y_with_feature_test,\n",
    "    num_epochs=1000,\n",
    "    batch_size=32,\n",
    "    lr_enc=0.001,\n",
    "    lr_dec=0.001,\n",
    "    lr_property=0.001,\n",
    "    KLD_alpha=1e-6,\n",
    "    sample_num=1000,\n",
    "    dtype=dtype,\n",
    "    device=device,\n",
    "    save_file_name='total_1000.png',\n",
    "    scaler_list=scaler_list\n",
    ")"
   ]
  },
  {
   "cell_type": "code",
   "execution_count": null,
   "metadata": {
    "pycharm": {
     "name": "#%%\n"
    }
   },
   "outputs": [],
   "source": [
    "# save vae\n",
    "trained_vae = TrainedVAE(\n",
    "    encoder=trained_encoder,\n",
    "    decoder=trained_decoder,\n",
    "    property_network=trained_property_network,\n",
    "    scaler_list=scaler_list,\n",
    "    scaler_key=y_with_feature.columns.tolist()\n",
    ")\n",
    "torch.save(trained_vae, 'vae/trained_vae/trained_1000.pth')"
   ]
  },
  {
   "cell_type": "markdown",
   "metadata": {
    "pycharm": {
     "name": "#%% md\n"
    }
   },
   "source": [
    "### 2. Get reduced (16-dimensional) feature vectors using principal analysis"
   ]
  },
  {
   "cell_type": "code",
   "execution_count": null,
   "metadata": {
    "pycharm": {
     "name": "#%%\n"
    }
   },
   "outputs": [],
   "source": [
    "# principal analysis\n",
    "with torch.no_grad():\n",
    "    trained_vae = torch.load('vae/trained_vae/trained_1000.pth')\n",
    "    total_inp_flat_one_hot = x_data.flatten(start_dim=1)  # [b, 32*2]\n",
    "    total_latent_points, mus, log_vars = trained_vae.encoder(total_inp_flat_one_hot)  # [b, latent_dimension]\n",
    "\n",
    "    # principal component analysis\n",
    "    n_components = 16\n",
    "    pca = PCA(n_components=n_components)\n",
    "    principal_components = pca.fit_transform(total_latent_points)\n",
    "    principal_df = pd.DataFrame(\n",
    "        data=principal_components,\n",
    "        columns=['principal_component_%d' % (num + 1) for num in range(n_components)]\n",
    "    )\n",
    "\n",
    "    final_df = pd.concat([principal_df, y_with_feature[['lamellar_period', 'interaction_parameter']]], axis=1)"
   ]
  },
  {
   "cell_type": "code",
   "execution_count": null,
   "metadata": {
    "pycharm": {
     "name": "#%%\n"
    }
   },
   "outputs": [],
   "source": [
    "# plot explained variance by principal component analysis\n",
    "exp_var_pca = pca.explained_variance_ratio_\n",
    "\n",
    "plt.bar(range(0, len(exp_var_pca)), exp_var_pca, alpha=0.5, align='center',\n",
    "        label='Individual explained variance')\n",
    "plt.ylabel('Explained variance ratio')\n",
    "plt.xlabel('Principal component index')\n",
    "plt.legend(loc='best')\n",
    "plt.tight_layout()\n",
    "plt.show()"
   ]
  },
  {
   "cell_type": "code",
   "execution_count": null,
   "metadata": {
    "pycharm": {
     "name": "#%%\n"
    }
   },
   "outputs": [],
   "source": [
    "# plot\n",
    "# x-component (1) principal component 1\n",
    "# y-component (2) interaction parameter\n",
    "# z-component (3) lamellar period\n",
    "\n",
    "plot_two_pairs_color_map(\n",
    "    x_list=final_df['principal_component_1'].values.tolist(),\n",
    "    y_list=final_df['interaction_parameter'].values.tolist(),\n",
    "    z_list=final_df['lamellar_period'].values.tolist(),\n",
    "    x_name='principal_component_1',\n",
    "    y_name='interaction_parameter',\n",
    "    z_name='lamellar_period',\n",
    "    title='2 component PCA'\n",
    ")"
   ]
  }
 ],
 "metadata": {
  "kernelspec": {
   "display_name": "conda/2021-11-30",
   "language": "python",
   "name": "conda-2021-11-30"
  },
  "language_info": {
   "codemirror_mode": {
    "name": "ipython",
    "version": 3
   },
   "file_extension": ".py",
   "mimetype": "text/x-python",
   "name": "python",
   "nbconvert_exporter": "python",
   "pygments_lexer": "ipython3",
   "version": "3.8.10"
  }
 },
 "nbformat": 4,
 "nbformat_minor": 1
}
