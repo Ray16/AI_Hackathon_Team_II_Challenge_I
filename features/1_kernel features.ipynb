{
 "cells": [
  {
   "cell_type": "code",
   "execution_count": 14,
   "id": "ff9fa970",
   "metadata": {},
   "outputs": [
    {
     "name": "stdout",
     "output_type": "stream",
     "text": [
      "Traceback (most recent call last):\n",
      "  File \"kernel_features.py\", line 197, in <module>\n",
      "    main()\n",
      "  File \"kernel_features.py\", line 20, in main\n",
      "    seqs,chis,pers = load_data()\n",
      "  File \"kernel_features.py\", line 44, in load_data\n",
      "    dat_a = np.loadtxt(d_path + \"dataSetA\")\n",
      "  File \"/lus/theta-fs0/software/thetagpu/conda/2021-11-30/mconda3/lib/python3.8/site-packages/numpy/lib/npyio.py\", line 1065, in loadtxt\n",
      "    fh = np.lib._datasource.open(fname, 'rt', encoding=encoding)\n",
      "  File \"/lus/theta-fs0/software/thetagpu/conda/2021-11-30/mconda3/lib/python3.8/site-packages/numpy/lib/_datasource.py\", line 194, in open\n",
      "    return ds.open(path, mode, encoding=encoding, newline=newline)\n",
      "  File \"/lus/theta-fs0/software/thetagpu/conda/2021-11-30/mconda3/lib/python3.8/site-packages/numpy/lib/_datasource.py\", line 531, in open\n",
      "    raise IOError(\"%s not found.\" % path)\n",
      "OSError: ./data/dataSetA not found.\n"
     ]
    }
   ],
   "source": [
    "!python kernel_features.py"
   ]
  }
 ],
 "metadata": {
  "kernelspec": {
   "display_name": "conda/2021-11-30",
   "language": "python",
   "name": "conda-2021-11-30"
  },
  "language_info": {
   "codemirror_mode": {
    "name": "ipython",
    "version": 3
   },
   "file_extension": ".py",
   "mimetype": "text/x-python",
   "name": "python",
   "nbconvert_exporter": "python",
   "pygments_lexer": "ipython3",
   "version": "3.8.10"
  }
 },
 "nbformat": 4,
 "nbformat_minor": 5
}
