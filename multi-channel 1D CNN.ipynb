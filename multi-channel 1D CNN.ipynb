{
 "cells": [
  {
   "cell_type": "markdown",
   "id": "a2291196",
   "metadata": {},
   "source": [
    "# Generate multi-channel Features"
   ]
  },
  {
   "cell_type": "code",
   "execution_count": null,
   "id": "92e6178d",
   "metadata": {},
   "outputs": [],
   "source": [
    "import pandas as pd\n",
    "import numpy as np\n",
    "import itertools\n",
    "import matplotlib.pyplot as plt\n",
    "\n",
    "# Load dataset\n",
    "data = 'D' # ****** specify dataset (A / B / C / D) ******\n",
    "dataset = pd.read_csv(f'./data/data_{data}.csv')\n",
    "dataset_name='dataSet'+data"
   ]
  },
  {
   "cell_type": "markdown",
   "id": "9f8a4a56",
   "metadata": {},
   "source": [
    "## Generate sliding window"
   ]
  },
  {
   "cell_type": "code",
   "execution_count": null,
   "id": "03397d3a",
   "metadata": {
    "scrolled": true
   },
   "outputs": [],
   "source": [
    "# Generate features\n",
    "all_windows=[]\n",
    "min_window = 2 # minimum window size\n",
    "max_window = 5 # maximum window size\n",
    "for window_size in range(min_window,max_window+1):\n",
    "    step=1\n",
    "    ranges = [range(2)]*window_size\n",
    "    windows=[]\n",
    "    for xs in itertools.product(*ranges):\n",
    "        windows.append([*xs])\n",
    "    all_windows.append(windows)\n",
    "    print(f'generating features with window size {window_size}...')\n",
    "    for window in windows:\n",
    "        print(f'window:{window}')\n",
    "        sliding_activation=[]\n",
    "        for line_n in range(len(dataset)):\n",
    "            line = list(dataset.iloc[line_n,:])\n",
    "            region_activation = []\n",
    "            for start in range(32-window_size):\n",
    "                region = list(dataset.iloc[:,1:-1].iloc[line_n,start:start+window_size])\n",
    "                if region == window:\n",
    "                    region_activation.append(1)\n",
    "                else:\n",
    "                    region_activation.append(0)\n",
    "                start+=step\n",
    "            sliding_activation.append(region_activation)\n",
    "        pd.DataFrame(sliding_activation).to_csv(f'./features/window_size_{window_size}_window_{window}.csv',index=False)"
   ]
  },
  {
   "cell_type": "code",
   "execution_count": null,
   "id": "39afa672",
   "metadata": {},
   "outputs": [],
   "source": [
    "# Combine features\n",
    "print(f'combining features ...')\n",
    "\n",
    "for i, window_size in enumerate(range(min_window,max_window+1)):\n",
    "    windows = all_windows[i]\n",
    "    df_all = []\n",
    "    for col in range(32-window_size):\n",
    "        all_column=[]\n",
    "        for window in windows:\n",
    "            column = list(pd.read_csv(f'./features/window_size_{window_size}_window_{window}.csv').iloc[:,col])\n",
    "            all_column.append(column)\n",
    "        df_all.append(list(zip(*all_column)))\n",
    "    \n",
    "    #save data\n",
    "    transpose_m = np.transpose(np.array(df_all),(1,0,2))\n",
    "    df_save = np.reshape(transpose_m,(len(transpose_m), -1))\n",
    "    np.savetxt(f\"./features/sliding_window_{window_size}.txt\",df_save)\n",
    "print('done')"
   ]
  },
  {
   "cell_type": "markdown",
   "id": "65caef3a",
   "metadata": {},
   "source": [
    "# Multi-channel 1D poly-CNN"
   ]
  },
  {
   "cell_type": "code",
   "execution_count": null,
   "id": "6bcf7156",
   "metadata": {},
   "outputs": [],
   "source": [
    "from keras.models import Sequential\n",
    "from keras import Model\n",
    "from tensorflow.keras.optimizers import Adam\n",
    "from keras.layers import Dense, Conv1D, Flatten, Concatenate, Input\n",
    "\n",
    "import pandas as pd\n",
    "import numpy as np\n",
    "import matplotlib.pyplot as plt\n",
    "from sklearn.metrics import mean_squared_error"
   ]
  },
  {
   "cell_type": "code",
   "execution_count": null,
   "id": "534e17c1",
   "metadata": {},
   "outputs": [],
   "source": [
    "#load kernels\n",
    "kernel_matrix=[]\n",
    "kernels = open(f'./features/{dataset_name}.kern').readlines()\n",
    "for i in range(len(kernels)):\n",
    "    kernel = [float(i) for i in kernels[i].strip().split()]\n",
    "    kernel_matrix.append(kernel)\n",
    "\n",
    "#load data\n",
    "window_size = 5 # ****** specify window size ******\n",
    "\n",
    "n_channel = 2**window_size\n",
    "\n",
    "X = np.loadtxt(f\"./features/sliding_window_{window_size}.txt\")\n",
    "X = X.reshape(X.shape[0], X.shape[1] // n_channel , n_channel)\n",
    "interaction_param, y = dataset['interaction_parameter'], dataset['lamellar_period']"
   ]
  },
  {
   "cell_type": "code",
   "execution_count": null,
   "id": "81ee7a21",
   "metadata": {},
   "outputs": [],
   "source": [
    "# train/test split\n",
    "train_idx = np.random.choice(range(len(X)), size=int(0.8*(len(X))), replace=False)\n",
    "X_train = X[train_idx]\n",
    "y_train = np.array([y[i] for i in train_idx])\n",
    "\n",
    "test_idx = list(set(range(len(X)))-set(train_idx))\n",
    "X_test = X[test_idx]\n",
    "y_test = np.array([y[i] for i in test_idx])\n",
    "\n",
    "# auxInputDim\n",
    "interaction_kernel_train = np.array([[interaction_param[i]]+kernel_matrix[i] for i in train_idx])\n",
    "interaction_kernel_test = np.array([[interaction_param[i]]+kernel_matrix[i] for i in test_idx])"
   ]
  },
  {
   "cell_type": "code",
   "execution_count": null,
   "id": "b7426b4c",
   "metadata": {},
   "outputs": [],
   "source": [
    "input_b = Input(shape=(auxInputDim))\n",
    "\n",
    "input = Input(shape =(32-window_size,n_channel)) \n",
    "\n",
    "x = Conv1D(29, 2, activation=\"relu\", input_shape=(29,n_channel))(input)\n",
    "x = Flatten()(x)\n",
    "\n",
    "x = Concatenate()([x,input_b])\n",
    "x = Flatten()(x)\n",
    "\n",
    "x = Dense(units = 300, activation ='relu')(x)\n",
    "x = Dense(units = 110, activation ='relu')(x)\n",
    "\n",
    "regression = Dense(units = 1, activation='relu', name='regression')(x)\n",
    "\n",
    "model = Model(inputs=[input,input_b], outputs=regression)\n",
    "\n",
    "model.compile(loss='mse', optimizer=Adam(), metrics=['mse'])\n",
    "model.summary()"
   ]
  },
  {
   "cell_type": "code",
   "execution_count": null,
   "id": "8c004b6e",
   "metadata": {},
   "outputs": [],
   "source": [
    "# model training\n",
    "epochs = 500\n",
    "model.fit([X_train, interaction_kernel_train], y_train, batch_size=12,epochs=epochs, verbose=1)"
   ]
  },
  {
   "cell_type": "code",
   "execution_count": null,
   "id": "24597033",
   "metadata": {
    "scrolled": true
   },
   "outputs": [],
   "source": [
    "# making prediction\n",
    "ypred_test = model.predict([X_test, interaction_kernel_test])\n",
    "model_mse = mean_squared_error(y_test, ypred_test)\n",
    "print(\"MSE: %.4f\" % model_mse)"
   ]
  },
  {
   "cell_type": "code",
   "execution_count": null,
   "id": "90b17aaa",
   "metadata": {},
   "outputs": [],
   "source": [
    "# calc R2\n",
    "correlation_matrix = np.corrcoef(ypred_test.flatten(), y_test)\n",
    "correlation_xy = correlation_matrix[0,1]\n",
    "r_squared = correlation_xy**2"
   ]
  },
  {
   "cell_type": "code",
   "execution_count": null,
   "id": "3d0cd56f",
   "metadata": {},
   "outputs": [],
   "source": [
    "# plot result\n",
    "fig = plt.figure()\n",
    "fig.patch.set_facecolor('white')\n",
    "fig.patch.set_alpha(1)\n",
    "ax = fig.add_subplot(111)\n",
    "\n",
    "plt.title(f'MSE = {model_mse:.4f}.  Epochs = {epochs}.  R^2 = {r_squared:.4f}') # MSE\n",
    "plt.scatter(ypred_test, y_test, s=5, color=\"blue\") # x_axis, y_axis, ...\n",
    "plt.xlabel(\"Predicted\")\n",
    "plt.ylabel(\"Actual\")\n",
    "\n",
    "lims = [\n",
    "    np.min([ax.get_xlim(), ax.get_ylim()]),  # min of both axes\n",
    "    np.max([ax.get_xlim(), ax.get_ylim()]),  # max of both axes\n",
    "]\n",
    "plt.plot(lims, lims, 'k-', alpha=0.75, zorder=0)\n",
    "plt.xlim(lims)\n",
    "plt.ylim(lims)"
   ]
  }
 ],
 "metadata": {
  "kernelspec": {
   "display_name": "conda/2021-11-30",
   "language": "python",
   "name": "conda-2021-11-30"
  },
  "language_info": {
   "codemirror_mode": {
    "name": "ipython",
    "version": 3
   },
   "file_extension": ".py",
   "mimetype": "text/x-python",
   "name": "python",
   "nbconvert_exporter": "python",
   "pygments_lexer": "ipython3",
   "version": "3.8.10"
  }
 },
 "nbformat": 4,
 "nbformat_minor": 5
}
