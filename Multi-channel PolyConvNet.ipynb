{
 "cells": [
  {
   "cell_type": "markdown",
   "id": "65caef3a",
   "metadata": {},
   "source": [
    "# Multi-channel PolyConvNet"
   ]
  },
  {
   "cell_type": "code",
   "execution_count": null,
   "id": "92e6178d",
   "metadata": {},
   "outputs": [],
   "source": [
    "import pandas as pd\n",
    "import numpy as np\n",
    "import itertools\n",
    "import matplotlib.pyplot as plt\n",
    "\n",
    "from keras import Model\n",
    "from tensorflow.keras.optimizers import Adam\n",
    "from keras.layers import Dense, Conv1D, Flatten, Concatenate, Input\n",
    "\n",
    "import pandas as pd\n",
    "import numpy as np\n",
    "import matplotlib.pyplot as plt\n",
    "from sklearn.metrics import mean_squared_error, r2_score"
   ]
  },
  {
   "cell_type": "code",
   "execution_count": null,
   "id": "6bcf7156",
   "metadata": {},
   "outputs": [],
   "source": [
    "# Load dataset\n",
    "data = 'C' # ****** specify dataset (A / B / C / D) ******\n",
    "dataset = pd.read_csv(f'./data/data_{data}.csv')\n",
    "dataset_name='dataSet'+data"
   ]
  },
  {
   "cell_type": "code",
   "execution_count": null,
   "id": "534e17c1",
   "metadata": {},
   "outputs": [],
   "source": [
    "# Load kernels\n",
    "kernel_matrix=[]\n",
    "kernels = open(f'./features/{dataset_name}.kern').readlines()\n",
    "for i in range(len(kernels)):\n",
    "    kernel = [float(i) for i in kernels[i].strip().split()]\n",
    "    kernel_matrix.append(kernel)\n",
    "    \n",
    "# Load Principle Component 1\n",
    "PC = pd.DataFrame(pd.read_csv(f'./features/dataset{data}_principal_component_analysis.csv').iloc[:,1:4])\n",
    "\n",
    "# Load sliding window features\n",
    "window_size = 2 # ****** specify window size ******\n",
    "\n",
    "n_channel = 2**window_size\n",
    "\n",
    "X = np.loadtxt(f\"./features/sliding_window_{window_size}_dataset_{data}.txt\")\n",
    "X = X.reshape(X.shape[0], X.shape[1] // n_channel , n_channel)\n",
    "interaction_param, y = dataset['interaction_parameter'], dataset['lamellar_period']"
   ]
  },
  {
   "cell_type": "code",
   "execution_count": null,
   "id": "81ee7a21",
   "metadata": {},
   "outputs": [],
   "source": [
    "# train / test split\n",
    "train_idx = np.random.choice(range(len(X)), size=int(0.8*(len(X))), replace=False)\n",
    "X_train = X[train_idx]\n",
    "y_train = np.array([y[i] for i in train_idx])\n",
    "\n",
    "test_idx = list(set(range(len(X)))-set(train_idx))\n",
    "X_test = X[test_idx]\n",
    "y_test = np.array([y[i] for i in test_idx])\n",
    "\n",
    "# auxInput\n",
    "#interaction_kernel_train = np.array([[interaction_param[i]]+kernel_matrix[i] for i in train_idx])\n",
    "#interaction_kernel_test = np.array([[interaction_param[i]]+kernel_matrix[i] for i in test_idx])\n",
    "# Add Principle Components\n",
    "interaction_kernel_train = np.array([[interaction_param[i]]+kernel_matrix[i]+list(PC.iloc[i,:]) for i in train_idx])\n",
    "interaction_kernel_test = np.array([[interaction_param[i]]+kernel_matrix[i]+list(PC.iloc[i,:]) for i in test_idx])"
   ]
  },
  {
   "cell_type": "code",
   "execution_count": null,
   "id": "b7426b4c",
   "metadata": {},
   "outputs": [],
   "source": [
    "input_b = Input(shape=(interaction_kernel_train.shape[1]))\n",
    "\n",
    "input = Input(shape =(32-window_size,n_channel)) \n",
    "\n",
    "x = Conv1D(32-window_size, 2, activation=\"relu\", input_shape=(32-window_size,n_channel))(input)\n",
    "x = Flatten()(x)\n",
    "\n",
    "x = Concatenate()([x,input_b])\n",
    "x = Flatten()(x)\n",
    "\n",
    "x = Dense(units = 300, activation ='relu')(x)\n",
    "x = Dense(units = 110, activation ='relu')(x)\n",
    "\n",
    "regression = Dense(units = 1, activation='relu', name='regression')(x)\n",
    "\n",
    "model = Model(inputs=[input,input_b], outputs=regression)\n",
    "\n",
    "model.compile(loss='mse', optimizer=Adam(lr=0.001))\n",
    "model.summary()"
   ]
  },
  {
   "cell_type": "code",
   "execution_count": null,
   "id": "8c004b6e",
   "metadata": {},
   "outputs": [],
   "source": [
    "# model training\n",
    "epochs = 500\n",
    "history = model.fit([X_train, interaction_kernel_train], y_train, batch_size=12,epochs=epochs, verbose=0)"
   ]
  },
  {
   "cell_type": "code",
   "execution_count": null,
   "id": "24597033",
   "metadata": {
    "scrolled": true
   },
   "outputs": [],
   "source": [
    "# making prediction\n",
    "ypred_test = model.predict([X_test, interaction_kernel_test])\n",
    "model_mse = mean_squared_error(y_test, ypred_test)\n",
    "print(\"MSE: %.4f\" % model_mse)"
   ]
  },
  {
   "cell_type": "code",
   "execution_count": null,
   "id": "3d0cd56f",
   "metadata": {},
   "outputs": [],
   "source": [
    "# plot result\n",
    "fig = plt.figure()\n",
    "fig.patch.set_facecolor('white')\n",
    "fig.patch.set_alpha(1)\n",
    "ax = fig.add_subplot(111)\n",
    "\n",
    "plt.title(f'MSE = {model_mse:.4f}.  Epochs = {epochs}.  R^2 = {r2_score(ypred_test.flatten(), y_test):.4f}') # MSE\n",
    "plt.scatter(ypred_test, y_test, s=5, color=\"blue\") # x_axis, y_axis, ...\n",
    "plt.xlabel(\"Predicted\")\n",
    "plt.ylabel(\"Actual\")\n",
    "\n",
    "lims = [\n",
    "    np.min([ax.get_xlim(), ax.get_ylim()]),  # min of both axes\n",
    "    np.max([ax.get_xlim(), ax.get_ylim()]),  # max of both axes\n",
    "]\n",
    "\n",
    "plt.plot(lims, lims, 'k-', alpha=0.75, zorder=0)\n",
    "plt.xlim(lims)\n",
    "plt.ylim(lims)\n",
    "plt.savefig(f'./predictions/pred_{data}')\n",
    "\n",
    "# save model\n",
    "model.save(f\"./models/multi_channel_polycovnet_{data}\")"
   ]
  }
 ],
 "metadata": {
  "kernelspec": {
   "display_name": "conda/2021-11-30",
   "language": "python",
   "name": "conda-2021-11-30"
  },
  "language_info": {
   "codemirror_mode": {
    "name": "ipython",
    "version": 3
   },
   "file_extension": ".py",
   "mimetype": "text/x-python",
   "name": "python",
   "nbconvert_exporter": "python",
   "pygments_lexer": "ipython3",
   "version": "3.8.10"
  }
 },
 "nbformat": 4,
 "nbformat_minor": 5
}
